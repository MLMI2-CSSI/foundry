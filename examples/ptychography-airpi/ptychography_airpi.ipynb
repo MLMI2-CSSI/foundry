{
  "cells": [
    {
      "cell_type": "markdown",
      "metadata": {
        "id": "7F9DUCDjnUjf"
      },
      "source": [
        "<img src=\"https://raw.githubusercontent.com/MLMI2-CSSI/foundry/main/assets/foundry-black.png\" width=450>"
      ]
    },
    {
      "cell_type": "markdown",
      "metadata": {
        "id": "5LSG4dPXnopg"
      },
      "source": [
        "# Foundry AIRPI ptychography reconstruction Tutorial for Beginners\n",
        "\n",
        "Friedrich T. 2021. Phase Object Reconstruction of 4D-STEM datasets using Deep Learning. :1–13. doi:10.22443/rms.mmc2021.200."
      ]
    },
    {
      "cell_type": "markdown",
      "metadata": {
        "id": "mPnBPVW2r5qj"
      },
      "source": [
        "[![Open In Colab](https://colab.research.google.com/assets/colab-badge.svg)](https://colab.research.google.com/github/MLMI2-CSSI/foundry/blob/main/examples/ptychography-airpi/ptychography_airpi.ipynb)"
      ]
    },
    {
      "cell_type": "markdown",
      "metadata": {
        "id": "9Ypm4X52r5qj"
      },
      "source": [
        "This introduction uses Foundry to:\n",
        "\n",
        "\n",
        "1. Load a predictive model from Foundry\n",
        "2. reconstruct phase and amplitude from an example 4D STEM dataset using the model\n",
        "This notebook is set up to run as a [Google Colaboratory](https://colab.research.google.com/notebooks/intro.ipynb#scrollTo=5fCEDCU_qrC0) notebook, which allows you to run python code in the browser, or as a [Jupyter](https://jupyter.org/) notebook, which runs locally on your machine.\n",
        "\n",
        "The code in the next cell will detect your environment to make sure that only cells that match your environment will run."
      ]
    },
    {
      "cell_type": "code",
      "execution_count": null,
      "metadata": {
        "id": "uqzPXhJZ-mjy"
      },
      "outputs": [],
      "source": [
        "try:\n",
        "    import google.colab\n",
        "    no_local_server=True\n",
        "    no_browser=True\n",
        "    globus=False\n",
        "except: # when not in google colab\n",
        "    no_local_server=False\n",
        "    no_browser=False\n",
        "    globus=True"
      ]
    },
    {
      "cell_type": "markdown",
      "metadata": {
        "id": "3Dx-9FiK-qXF"
      },
      "source": [
        "# Installing Foundry\n"
      ]
    },
    {
      "cell_type": "code",
      "execution_count": null,
      "metadata": {
        "id": "0bJUs5pJHsc4"
      },
      "outputs": [],
      "source": [
        "!pip install foundry_ml\n"
      ]
    },
    {
      "cell_type": "code",
      "execution_count": null,
      "metadata": {
        "id": "hWjnG87hgMyz"
      },
      "outputs": [],
      "source": [
        "from foundry import Foundry"
      ]
    },
    {
      "cell_type": "markdown",
      "metadata": {
        "id": "nJu1C60hA0js"
      },
      "source": [
        "# Instantiating Foundry\n",
        "To instantiate Foundry, you'll need a [Globus](https://www.globus.org) account. Once you have your account, you can instantiate Foundry using the code below. When you instantiate Foundry locally, be sure to have your Globus endpoint turned on (you can do that with [Globus Connect Personal](https://www.globus.org/globus-connect-personal)). When you instantiate Foundry on Google Colab, you'll be given a link in the cell's output and asked to enter the provided auth code.\n"
      ]
    },
    {
      "cell_type": "code",
      "execution_count": null,
      "metadata": {
        "id": "cmqehQpfA7VB",
        "outputId": "bd372759-0ef6-408e-ccad-2928d87c1b44",
        "colab": {
          "base_uri": "https://localhost:8080/"
        }
      },
      "outputs": [
        {
          "name": "stdout",
          "output_type": "stream",
          "text": [
            "Please paste the following URL in a browser:\n",
            "https://auth.globus.org/v2/oauth2/authorize?client_id=984464e2-90ab-433d-8145-ac0215d26c8e&redirect_uri=https%3A%2F%2Fauth.globus.org%2Fv2%2Fweb%2Fauth-code&scope=urn%3Aglobus%3Aauth%3Ascope%3Adata.materialsdatafacility.org%3Aall+https%3A%2F%2Fauth.globus.org%2Fscopes%2Fc17f27bb-f200-486a-b785-2a25e82af505%2Fconnect+urn%3Aglobus%3Aauth%3Ascope%3Asearch.api.globus.org%3Asearch+https%3A%2F%2Fauth.globus.org%2Fscopes%2F56ceac29-e98a-440a-a594-b41e7a084b62%2Fall+urn%3Aglobus%3Aauth%3Ascope%3Atransfer.api.globus.org%3Aall+https%3A%2F%2Fauth.globus.org%2Fscopes%2F81fc4156-a623-47f2-93ad-7184118226ba%2Fauth+https%3A%2F%2Fauth.globus.org%2Fscopes%2Ffacd7ccc-c5f4-42aa-916b-a0e270e2c2a9%2Fall+openid+https%3A%2F%2Fauth.globus.org%2Fscopes%2Ffacd7ccc-c5f4-42aa-916b-a0e270e2c2a9%2Fall&state=_default&response_type=code&code_challenge=42JJ1EwwvfzfXfgZ7olzFHjOJzKg6zFgJSkVQCt3Q8k&code_challenge_method=S256&access_type=offline&prefill_named_grant=Foundry+Login\n",
            "Please Paste your Auth Code Below: \n",
            "WgkMvu3Hme3Ze21QbqEU4QH1iUFJpV\n"
          ]
        }
      ],
      "source": [
        "f = Foundry(index=\"mdf\", no_local_server=no_local_server, no_browser=no_browser)"
      ]
    },
    {
      "cell_type": "markdown",
      "metadata": {
        "id": "jURrGTICgMy7"
      },
      "source": [
        "# Prepare the input dictionary\n"
      ]
    },
    {
      "cell_type": "code",
      "source": [
        "# download an example data from the author\n",
        "!wget https://zenodo.org/record/7034879/files/STO_small.h5?download=1"
      ],
      "metadata": {
        "colab": {
          "base_uri": "https://localhost:8080/"
        },
        "id": "fB53zS-T5F2J",
        "outputId": "507dbc44-5db2-43d5-d3e1-561b77fd9590"
      },
      "execution_count": null,
      "outputs": [
        {
          "output_type": "stream",
          "name": "stdout",
          "text": [
            "--2023-03-13 21:09:37--  https://zenodo.org/record/7034879/files/STO_small.h5?download=1\n",
            "Resolving zenodo.org (zenodo.org)... 188.185.124.72\n",
            "Connecting to zenodo.org (zenodo.org)|188.185.124.72|:443... connected.\n",
            "HTTP request sent, awaiting response... 200 OK\n",
            "Length: 117969856 (113M) [application/octet-stream]\n",
            "Saving to: ‘STO_small.h5?download=1’\n",
            "\n",
            "STO_small.h5?downlo 100%[===================>] 112.50M  5.29MB/s    in 21s     \n",
            "\n",
            "2023-03-13 21:09:59 (5.28 MB/s) - ‘STO_small.h5?download=1’ saved [117969856/117969856]\n",
            "\n"
          ]
        }
      ]
    },
    {
      "cell_type": "code",
      "source": [
        "import h5py\n",
        "import numpy as np\n",
        "data = h5py.File('/content/STO_small.h5?download=1')['ds']\n",
        "data = np.array(data).astype(np.float32)[:20,:20] # taking a small fraction of the data as example\n",
        "\n",
        "# wrap the 4DSTEM data and experimental parameters into a dictionary\n",
        "indict = {\n",
        "    \"data\": data,\n",
        "    \"batchsize\":256,\n",
        "    \"E0\": 300.0,                # Acceleration Voltage [keV]\n",
        "    \"apeture\": 20.0,            # Apeture angle [mrad]\n",
        "    \"gmax\": 1.6671,             # Maximum collection angle [1/A] (only used if probe_estimation_method = 'gene')\n",
        "    \"cbed_size\": 64,            # Size of the CBEDs in pixels\n",
        "    \"step_size\": 0.1818,        # Scan step size [A]\n",
        "    \"aberrations\": [-1, 1e-3],  # Aberrations [C1(A), C3(mm)] C1==-1 computes the Scherzer defocus for the given C3\n",
        "    \"probe_estimation_method\": 'avrg',\n",
        "    # Aperture function estimation\n",
        "    #       'gene': parameter generated(E0, apeture, gmax, aberrations) \n",
        "    #       'avrg': use PACBED to estimate a probe function (E0, apeture, aberrations) \n",
        "    \"oversample\": 2.0,          # Oversampling factor of the output reconstruction\n",
        "    \"order\": ['rx','ry']        # Specify real space order of the dataset\n",
        "}\n",
        "\n"
      ],
      "metadata": {
        "id": "65FKbeqm10XC"
      },
      "execution_count": null,
      "outputs": []
    },
    {
      "cell_type": "markdown",
      "metadata": {
        "id": "8a-4_w3ygMy_"
      },
      "source": [
        "# Run prediction"
      ]
    },
    {
      "cell_type": "code",
      "source": [
        "result = f.run(\"jwei74_wisc/Airpi_test\", indict)"
      ],
      "metadata": {
        "id": "KA9h91Zq0Fec"
      },
      "execution_count": null,
      "outputs": []
    },
    {
      "cell_type": "markdown",
      "metadata": {
        "id": "jZ70e8SPgMy_"
      },
      "source": [
        "# Virualiza the results"
      ]
    },
    {
      "cell_type": "code",
      "execution_count": null,
      "metadata": {
        "id": "0U1i3PN9gMy_",
        "outputId": "cc362970-02d3-4440-95f9-560c37fb6651",
        "colab": {
          "base_uri": "https://localhost:8080/",
          "height": 284
        }
      },
      "outputs": [
        {
          "output_type": "execute_result",
          "data": {
            "text/plain": [
              "Text(0.5, 1.0, 'Amplitude')"
            ]
          },
          "metadata": {},
          "execution_count": 13
        },
        {
          "output_type": "display_data",
          "data": {
            "text/plain": [
              "<Figure size 576x576 with 2 Axes>"
            ],
            "image/png": "[encoded data removed]"
          },
          "metadata": {
            "needs_background": "light"
          }
        }
      ],
      "source": [
        "import numpy as np\n",
        "import matplotlib.pyplot as plt\n",
        "fig, axs = plt.subplots(1,2, figsize=(8,8))\n",
        "\n",
        "axs[0].imshow(np.angle(result)/np.pi)\n",
        "axs[0].set_title('Phase')\n",
        "axs[1].imshow(np.abs(result)/np.pi)\n",
        "axs[1].set_title('Amplitude')"
      ]
    }
  ],
  "metadata": {
    "colab": {
      "provenance": []
    },
    "kernelspec": {
      "display_name": "Python 3 (ipykernel)",
      "language": "python",
      "name": "python3"
    },
    "language_info": {
      "codemirror_mode": {
        "name": "ipython",
        "version": 3
      },
      "file_extension": ".py",
      "mimetype": "text/x-python",
      "name": "python",
      "nbconvert_exporter": "python",
      "pygments_lexer": "ipython3",
      "version": "3.9.16"
    }
  },
  "nbformat": 4,
  "nbformat_minor": 0
}