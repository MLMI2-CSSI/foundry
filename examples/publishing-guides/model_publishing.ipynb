{
 "cells": [
  {
   "cell_type": "markdown",
   "metadata": {
    "id": "v0HB_l844c0M"
   },
   "source": [
    "<img src=\"https://raw.githubusercontent.com/MLMI2-CSSI/foundry/main/assets/foundry-black.png\" width=450>"
   ]
  },
  {
   "cell_type": "markdown",
   "metadata": {
    "id": "nnMsvCtb4rXT"
   },
   "source": [
    "# Foundry Model Publication Tutorial for Beginners"
   ]
  },
  {
   "cell_type": "markdown",
   "metadata": {
    "id": "0Sye62DkEKzc"
   },
   "source": [
    "[![Open In Colab](https://colab.research.google.com/assets/colab-badge.svg)](https://colab.research.google.com/github/MLMI2-CSSI/foundry/blob/main/examples/publishing-guides/model_publishing.ipynb)"
   ]
  },
  {
   "cell_type": "markdown",
   "metadata": {
    "id": "fuuGtbSDEKzc"
   },
   "source": [
    "This introduction uses Foundry to:\n",
    "\n",
    "1.   Describe a Scikit-Learn model using the correct metadata\n",
    "2.   Publish the model to Foundry\n",
    "\n",
    "\n",
    "This notebook is set up to run as a [Google Colaboratory](https://colab.research.google.com/notebooks/intro.ipynb#scrollTo=5fCEDCU_qrC0) notebook, which allows you to run python code in the browser, or as a [Jupyter](https://jupyter.org/) notebook, which runs locally on your machine.\n",
    "\n",
    "The code in the next cell will detect your environment to make sure that only cells that match your environment will run"
   ]
  },
  {
   "cell_type": "code",
   "execution_count": null,
   "metadata": {
    "id": "DOzYiUvr5LWx"
   },
   "outputs": [],
   "source": [
    "try:\n",
    "    import google.colab\n",
    "    no_local_server = True\n",
    "    no_browser = True\n",
    "    globus = False\n",
    "except:\n",
    "    no_local_server = False\n",
    "    no_browser = False\n",
    "    globus = True"
   ]
  },
  {
   "cell_type": "markdown",
   "metadata": {
    "id": "66wrNhoI5QYT"
   },
   "source": [
    "# Installing Foundry\n",
    "First we'll need to install Foundry and [MDF](https://materialsdatafacility.org/). If you already have Foundry installed in your local environment and you are running the code locally, you do not need to run this block. If you're using Google Colab or do not have Foundry installed locally, you will need to run the code below to install."
   ]
  },
  {
   "cell_type": "code",
   "execution_count": null,
   "metadata": {
    "id": "Acznzd6U5axy"
   },
   "outputs": [],
   "source": [
    "!pip install foundry_ml"
   ]
  },
  {
   "cell_type": "markdown",
   "metadata": {
    "id": "52dtEbWz5jCN"
   },
   "source": [
    "# Importing and Instantiating Foundry\n",
    "Now we can import Foundry!"
   ]
  },
  {
   "cell_type": "code",
   "execution_count": null,
   "metadata": {
    "id": "qpRlh-4NitXy"
   },
   "outputs": [],
   "source": [
    "from foundry import Foundry"
   ]
  },
  {
   "cell_type": "markdown",
   "metadata": {
    "id": "9Q_mecxF5ri-"
   },
   "source": [
    "We'll also need to instantiate it. To do so, you'll need a [Globus](https://www.globus.org) account. Once you have your account, you can instantiate Foundry using the code below. When you instantiate Foundry locally, be sure to have your Globus endpoint turned on (you can do that with [Globus Connect Personal](https://www.globus.org/globus-connect-personal)). When you instantiate Foundry on Google Colab, you'll be given a link in the cell's output and asked to enter the provided auth code (this should happen twice)."
   ]
  },
  {
   "cell_type": "code",
   "execution_count": null,
   "metadata": {
    "id": "6ncAVsjIjYt4"
   },
   "outputs": [],
   "source": [
    "f = Foundry(no_local_server=no_local_server, no_browser=no_browser)"
   ]
  },
  {
   "cell_type": "markdown",
   "metadata": {
    "id": "joQYbO1NIJUd"
   },
   "source": [
    "Before publishing, you need join the correct Globus groups so that you have the permissions to publish to Foundry! [Join this group](https://app.globus.org/groups/cc192dca-3751-11e8-90c1-0a7c735d220a/about) and [this group](https://app.globus.org/groups/42a7a77c-4789-11ea-95b7-0ef992ed7ca1/about) to get started. Follow the \n",
    "prompts to get set up."
   ]
  },
  {
   "cell_type": "markdown",
   "metadata": {
    "id": "rvkoQ0FmKR1P"
   },
   "source": [
    "# Loading Data and Training our Model\n",
    "Here we'll be training an SVM classifier from Scikit-Learn on the iris dataset. "
   ]
  },
  {
   "cell_type": "markdown",
   "metadata": {
    "id": "v1DLKuR-Kfeh"
   },
   "source": [
    "First, let's load the iris data from Foundry!"
   ]
  },
  {
   "cell_type": "code",
   "execution_count": null,
   "metadata": {
    "id": "mf1cIsJ8KpHR"
   },
   "outputs": [],
   "source": [
    "f = f.load(\"_test_foundry_iris_dev_v2.1\", globus=globus)"
   ]
  },
  {
   "cell_type": "code",
   "execution_count": null,
   "metadata": {
    "id": "tYGNu1f5K4TW"
   },
   "outputs": [],
   "source": [
    "res = f.load_data()\n",
    "X,y = res['train']"
   ]
  },
  {
   "cell_type": "markdown",
   "metadata": {
    "id": "Fdl-6gm3K_0l"
   },
   "source": [
    "Now that we've loaded the data, let's take a peek!"
   ]
  },
  {
   "cell_type": "code",
   "execution_count": null,
   "metadata": {
    "colab": {
     "base_uri": "https://localhost:8080/",
     "height": 204
    },
    "id": "ZhQjuzyRK8nH",
    "outputId": "46f8a092-5dec-4711-831d-22503a87276b"
   },
   "outputs": [
    {
     "data": {
      "text/html": [
       "<div>\n",
       "<style scoped>\n",
       "    .dataframe tbody tr th:only-of-type {\n",
       "        vertical-align: middle;\n",
       "    }\n",
       "\n",
       "    .dataframe tbody tr th {\n",
       "        vertical-align: top;\n",
       "    }\n",
       "\n",
       "    .dataframe thead th {\n",
       "        text-align: right;\n",
       "    }\n",
       "</style>\n",
       "<table border=\"1\" class=\"dataframe\">\n",
       "  <thead>\n",
       "    <tr style=\"text-align: right;\">\n",
       "      <th></th>\n",
       "      <th>sepal length (cm)</th>\n",
       "      <th>sepal width (cm)</th>\n",
       "      <th>petal length (cm)</th>\n",
       "      <th>petal width (cm)</th>\n",
       "    </tr>\n",
       "  </thead>\n",
       "  <tbody>\n",
       "    <tr>\n",
       "      <th>0</th>\n",
       "      <td>5.1</td>\n",
       "      <td>3.5</td>\n",
       "      <td>1.4</td>\n",
       "      <td>0.2</td>\n",
       "    </tr>\n",
       "    <tr>\n",
       "      <th>1</th>\n",
       "      <td>4.9</td>\n",
       "      <td>3.0</td>\n",
       "      <td>1.4</td>\n",
       "      <td>0.2</td>\n",
       "    </tr>\n",
       "    <tr>\n",
       "      <th>2</th>\n",
       "      <td>4.7</td>\n",
       "      <td>3.2</td>\n",
       "      <td>1.3</td>\n",
       "      <td>0.2</td>\n",
       "    </tr>\n",
       "    <tr>\n",
       "      <th>3</th>\n",
       "      <td>4.6</td>\n",
       "      <td>3.1</td>\n",
       "      <td>1.5</td>\n",
       "      <td>0.2</td>\n",
       "    </tr>\n",
       "    <tr>\n",
       "      <th>4</th>\n",
       "      <td>5.0</td>\n",
       "      <td>3.6</td>\n",
       "      <td>1.4</td>\n",
       "      <td>0.2</td>\n",
       "    </tr>\n",
       "  </tbody>\n",
       "</table>\n",
       "</div>"
      ],
      "text/plain": [
       "   sepal length (cm)  sepal width (cm)  petal length (cm)  petal width (cm)\n",
       "0                5.1               3.5                1.4               0.2\n",
       "1                4.9               3.0                1.4               0.2\n",
       "2                4.7               3.2                1.3               0.2\n",
       "3                4.6               3.1                1.5               0.2\n",
       "4                5.0               3.6                1.4               0.2"
      ]
     },
     "execution_count": 7,
     "metadata": {},
     "output_type": "execute_result"
    }
   ],
   "source": [
    "X.head()"
   ]
  },
  {
   "cell_type": "markdown",
   "metadata": {
    "id": "mxQvk2AGLDQJ"
   },
   "source": [
    "And the classes of interest:"
   ]
  },
  {
   "cell_type": "code",
   "execution_count": null,
   "metadata": {
    "colab": {
     "base_uri": "https://localhost:8080/",
     "height": 204
    },
    "id": "8Rzhz5j6LhmS",
    "outputId": "f1a67136-8149-4d7d-954c-cf8fcd199eab"
   },
   "outputs": [
    {
     "data": {
      "text/html": [
       "<div>\n",
       "<style scoped>\n",
       "    .dataframe tbody tr th:only-of-type {\n",
       "        vertical-align: middle;\n",
       "    }\n",
       "\n",
       "    .dataframe tbody tr th {\n",
       "        vertical-align: top;\n",
       "    }\n",
       "\n",
       "    .dataframe thead th {\n",
       "        text-align: right;\n",
       "    }\n",
       "</style>\n",
       "<table border=\"1\" class=\"dataframe\">\n",
       "  <thead>\n",
       "    <tr style=\"text-align: right;\">\n",
       "      <th></th>\n",
       "      <th>y</th>\n",
       "    </tr>\n",
       "  </thead>\n",
       "  <tbody>\n",
       "    <tr>\n",
       "      <th>0</th>\n",
       "      <td>0</td>\n",
       "    </tr>\n",
       "    <tr>\n",
       "      <th>1</th>\n",
       "      <td>0</td>\n",
       "    </tr>\n",
       "    <tr>\n",
       "      <th>2</th>\n",
       "      <td>0</td>\n",
       "    </tr>\n",
       "    <tr>\n",
       "      <th>3</th>\n",
       "      <td>0</td>\n",
       "    </tr>\n",
       "    <tr>\n",
       "      <th>4</th>\n",
       "      <td>0</td>\n",
       "    </tr>\n",
       "  </tbody>\n",
       "</table>\n",
       "</div>"
      ],
      "text/plain": [
       "   y\n",
       "0  0\n",
       "1  0\n",
       "2  0\n",
       "3  0\n",
       "4  0"
      ]
     },
     "execution_count": 8,
     "metadata": {},
     "output_type": "execute_result"
    }
   ],
   "source": [
    "# 0 - 2 represent the different iris species, setosa, versicolor, and virginica\n",
    "y.head()"
   ]
  },
  {
   "cell_type": "code",
   "execution_count": null,
   "metadata": {
    "colab": {
     "base_uri": "https://localhost:8080/"
    },
    "id": "FEwpUBrCOf5O",
    "outputId": "13d81341-2e6e-4577-98b1-7fd85307e5c7"
   },
   "outputs": [
    {
     "data": {
      "text/plain": [
       "array([0, 0, 0, 0, 0, 0, 0, 0, 0, 0, 0, 0, 0, 0, 0, 0, 0, 0, 0, 0, 0, 0,\n",
       "       0, 0, 0, 0, 0, 0, 0, 0, 0, 0, 0, 0, 0, 0, 0, 0, 0, 0, 0, 0, 0, 0,\n",
       "       0, 0, 0, 0, 0, 0, 1, 1, 1, 1, 1, 1, 1, 1, 1, 1, 1, 1, 1, 1, 1, 1,\n",
       "       1, 1, 1, 1, 1, 1, 1, 1, 1, 1, 1, 1, 1, 1, 1, 1, 1, 1, 1, 1, 1, 1,\n",
       "       1, 1, 1, 1, 1, 1, 1, 1, 1, 1, 1, 1])"
      ]
     },
     "execution_count": 9,
     "metadata": {},
     "output_type": "execute_result"
    }
   ],
   "source": [
    "import numpy as np\n",
    "\n",
    "# need to flatten to shape (n_cols, ) for sklearn\n",
    "y_flat = y['y'].ravel()\n",
    "y_flat"
   ]
  },
  {
   "cell_type": "markdown",
   "metadata": {
    "id": "qAqZT5hOL4RW"
   },
   "source": [
    "\n",
    "Now that the data are loaded, we can train our model."
   ]
  },
  {
   "cell_type": "code",
   "execution_count": null,
   "metadata": {
    "colab": {
     "base_uri": "https://localhost:8080/"
    },
    "id": "ry4mvolRNVYV",
    "outputId": "cde7a43b-667f-48a7-fe18-42a9fe883917"
   },
   "outputs": [
    {
     "name": "stdout",
     "output_type": "stream",
     "text": [
      "Loaded 100 rows with 4 columns: Index(['sepal length (cm)', 'sepal width (cm)', 'petal length (cm)',\n",
      "       'petal width (cm)'],\n",
      "      dtype='object')\n",
      "Trained a SVC model\n"
     ]
    },
    {
     "data": {
      "text/plain": [
       "SVC(C=1, kernel='linear', probability=True)"
      ]
     },
     "execution_count": 10,
     "metadata": {},
     "output_type": "execute_result"
    }
   ],
   "source": [
    "print('Loaded {} rows with {} columns:'.format(len(X), len(X.columns)),\n",
    "      X.columns)\n",
    "from sklearn.svm import SVC\n",
    "\n",
    "# Fit the model\n",
    "model = SVC(kernel='linear', C=1, probability=True)\n",
    "model.fit(X, y_flat)\n",
    "print('Trained a SVC model')\n",
    "\n",
    "model"
   ]
  },
  {
   "cell_type": "code",
   "execution_count": null,
   "metadata": {
    "colab": {
     "base_uri": "https://localhost:8080/"
    },
    "id": "fXtc3-j2N_eu",
    "outputId": "da3bc839-9784-4b4d-f844-430b14a22698"
   },
   "outputs": [
    {
     "name": "stdout",
     "output_type": "stream",
     "text": [
      "Saved model to disk\n"
     ]
    }
   ],
   "source": [
    "import pickle as pkl\n",
    "\n",
    "# Save the model using pickle\n",
    "with open('model.pkl', 'wb') as fp:\n",
    "    pkl.dump(model, fp)\n",
    "print('Saved model to disk')"
   ]
  },
  {
   "cell_type": "markdown",
   "metadata": {
    "id": "89RGzlGV86cN"
   },
   "source": [
    "# Describing our Model\n",
    "\n",
    "In Foundry, you can publish models or functions. We need to create the appropriate metadata to tell Foundry what our model or function is all about!\n",
    "\n",
    "Here we're going to use a Scikit-Learn model. "
   ]
  },
  {
   "cell_type": "markdown",
   "metadata": {
    "id": "Ao44jhgY_RsW"
   },
   "source": [
    "A few key terms are required for the metadata, here is the general format for a Scikit-Learn model: \n",
    "\n",
    "```\n",
    "title = <the full title of the model to be published>\n",
    "short_name = <the shorthand name for the model, i.e. what someone\n",
    "        uses to download your model>\n",
    "creators = [<list of author names>]\n",
    "servable_type = <one of these options: \"static_method\", \"class_method\", \"keras\", \"pytorch\", \"tensorflow\", \"sklearn\">\n",
    "servable_options = {\n",
    "        \"filepath\": <full path to saved model>,\n",
    "        \"classes\": <names of classes of interest>,\n",
    "        \"n_input_columns\": <number of training features>\n",
    "    }\n",
    "```\n",
    "\n",
    "Other model or function types include Keras, Tensorflow 1 & 2, PyTorch, and Python functions. These have slightly different options -- you can currently read more about them in the [Data and Learning Hub documentation](https://dlhub-sdk.readthedocs.io/en/latest/servable-types.html) (which Foundry builds upon). "
   ]
  },
  {
   "cell_type": "markdown",
   "metadata": {
    "id": "8n-yZXtYyCcA"
   },
   "source": [
    "Now that we have an idea of what the metadata look like, let's create the metadata for our iris model."
   ]
  },
  {
   "cell_type": "code",
   "execution_count": null,
   "metadata": {
    "id": "aM7eTjRTyIm4"
   },
   "outputs": [],
   "source": [
    "# the names of the iris species in question\n",
    "class_names = ['setosa', 'versicolor', 'virginica']\n",
    "# the number of input columns, i.e. features\n",
    "n_columns = len(X.columns)\n",
    "\n",
    "# set model options\n",
    "title = \"Iris SVM (test publication)\"\n",
    "short_name = \"everybody_iris_test_svm\"\n",
    "creators = [\"Everybody, M\"]\n",
    "servable_type = \"sklearn\"\n",
    "servable_options = {\n",
    "        \"filepath\": \"model.pkl\",\n",
    "        \"classes\": class_names,\n",
    "        \"n_input_columns\": n_columns\n",
    "    }"
   ]
  },
  {
   "cell_type": "markdown",
   "metadata": {
    "id": "YjUX9HW34cXS"
   },
   "source": [
    "# Publishing and Running Our Model\n",
    "\n",
    "Now that we have our metadata, we can publish our model on Foundry."
   ]
  },
  {
   "cell_type": "code",
   "execution_count": null,
   "metadata": {
    "colab": {
     "base_uri": "https://localhost:8080/",
     "height": 52
    },
    "id": "G8jqcynM5xO9",
    "outputId": "7aaf65ae-dacc-4a56-a4d9-c1b6d15e0823"
   },
   "outputs": [
    {
     "name": "stdout",
     "output_type": "stream",
     "text": [
      "DLHub schema successfully validated\n"
     ]
    },
    {
     "data": {
      "text/plain": [
       "'f024517e-d436-4ff9-9599-607291f006f7'"
      ]
     },
     "execution_count": 14,
     "metadata": {},
     "output_type": "execute_result"
    }
   ],
   "source": [
    "# publish our model to Foundry! that's it!\n",
    "f.publish_model(title, creators, short_name, servable_type, serv_options)"
   ]
  },
  {
   "cell_type": "markdown",
   "metadata": {
    "id": "Essz1QxGktoU"
   },
   "source": [
    "Congrats, you've published a model to Foundry! To run the model in the cloud, simply specify the model by its user and name"
   ]
  },
  {
   "cell_type": "code",
   "execution_count": null,
   "metadata": {
    "colab": {
     "base_uri": "https://localhost:8080/"
    },
    "id": "Em8ZYhRHk2rC",
    "outputId": "bfaa7876-671e-4488-8530-c03f26449de5"
   },
   "outputs": [
    {
     "data": {
      "text/plain": [
       "array([[0.00612405, 0.9855858 , 0.00829015],\n",
       "       [0.96486799, 0.02522498, 0.00990703],\n",
       "       [0.00281698, 0.00133494, 0.99584808]])"
      ]
     },
     "execution_count": 15,
     "metadata": {},
     "output_type": "execute_result"
    }
   ],
   "source": [
    "# create toy test data to run the model on\n",
    "test_data = [[6.7,3.1,4.4,1.4], [4.8,3.0,1.4,0.1], [7.2,3.6,6.1,2.5]]\n",
    "pred = f.run(\"aristana_uchicago/everybody_iris_test_svm\", test_data)\n",
    "\n",
    "# view the predictions\n",
    "pred"
   ]
  },
  {
   "cell_type": "code",
   "execution_count": null,
   "metadata": {
    "id": "6uJ5xEv8EK0B"
   },
   "outputs": [],
   "source": []
  }
 ],
 "metadata": {
  "colab": {
   "provenance": []
  },
  "kernelspec": {
   "display_name": "Python 3 (ipykernel)",
   "language": "python",
   "name": "python3"
  },
  "language_info": {
   "codemirror_mode": {
    "name": "ipython",
    "version": 3
   },
   "file_extension": ".py",
   "mimetype": "text/x-python",
   "name": "python",
   "nbconvert_exporter": "python",
   "pygments_lexer": "ipython3",
   "version": "3.9.16"
  }
 },
 "nbformat": 4,
 "nbformat_minor": 4
}
