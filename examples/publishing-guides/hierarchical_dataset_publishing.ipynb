{
 "cells": [
  {
   "cell_type": "markdown",
   "metadata": {},
   "source": [
    "![foundry_logo](../../assets/foundry.png)"
   ]
  },
  {
   "cell_type": "markdown",
   "metadata": {},
   "source": [
    "## Publishing HDF5 data to Foundry\n",
    "6/13/2022\n",
    "\n",
    "This notebook walks through:\n",
    "\n",
    "1. MISSING\n",
    "2. MISSING\n",
    "\n",
    "This code uses the latest verion of foundry (v0.2.0), if you're running locally, be sure you've updated the `foundry_ml` package.\n",
    "\n",
    "This notebook is set up to run as a [Google Colaboratory](https://colab.research.google.com/notebooks/intro.ipynb#scrollTo=5fCEDCU_qrC0) notebook, which allows you to run Python code in the browser, or as a [Jupyter](https://jupyter.org/) notebook, which runs locally on your machine."
   ]
  }
 ],
 "metadata": {
  "kernelspec": {
   "display_name": "Python 3.8.6 64-bit",
   "language": "python",
   "name": "python3"
  },
  "language_info": {
   "codemirror_mode": {
    "name": "ipython",
    "version": 3
   },
   "file_extension": ".py",
   "mimetype": "text/x-python",
   "name": "python",
   "nbconvert_exporter": "python",
   "pygments_lexer": "ipython3",
   "version": "3.8.6"
  },
  "orig_nbformat": 4,
  "vscode": {
   "interpreter": {
    "hash": "cc5f2b9981f4566821c66298bb82bd07f946212ff35c38dd2adf313c0960e0d9"
   }
  }
 },
 "nbformat": 4,
 "nbformat_minor": 2
}
