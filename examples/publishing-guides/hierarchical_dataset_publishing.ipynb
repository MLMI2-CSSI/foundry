{
 "cells": [
  {
   "cell_type": "markdown",
   "metadata": {},
   "source": [
    "![foundry_logo](../../assets/foundry.png)"
   ]
  },
  {
   "cell_type": "markdown",
   "metadata": {},
   "source": [
    "## Publishing HDF5 data to Foundry\n",
    "6/13/2022\n",
    "\n",
    "This notebook walks through:\n",
    "\n",
    "1. Creating metadata\n",
    "2. Publishing to foundry\n",
    "\n",
    "This code uses the latest verion of foundry (v0.2.0), if you're running locally, be sure you've updated the `foundry_ml` package.\n",
    "\n",
    "This notebook is set up to run as a [Google Colaboratory](https://colab.research.google.com/notebooks/intro.ipynb#scrollTo=5fCEDCU_qrC0) notebook, which allows you to run Python code in the browser, or as a [Jupyter](https://jupyter.org/) notebook, which runs locally on your machine."
   ]
  },
  {
   "cell_type": "markdown",
   "metadata": {},
   "source": [
    "For help getting started with Globus, see the [primary publishing notebook](dataset_publishing.ipynb)."
   ]
  },
  {
   "cell_type": "markdown",
   "metadata": {},
   "source": [
    "### Setup"
   ]
  },
  {
   "cell_type": "code",
   "execution_count": null,
   "metadata": {},
   "outputs": [],
   "source": [
    "%pip install --upgrade --quiet foundry_ml mdf_connect_client"
   ]
  },
  {
   "cell_type": "markdown",
   "metadata": {},
   "source": [
    "#### Data format and naming\n",
    "\n",
    "Right now Foundry only accepts HDF5 files or tabular data in JSON file format ([JSON Lines](https://jsonlines.org/) or standard multiline JSON are acceptable). JSON data files are better supported at the moment.\n",
    "\n",
    "Eventually, we will also accept tabular data in CSV format, file data (e.g. whole images, zipped archives), and other data formats.\n",
    "\n",
    "Datasets and associated metadata should follow the example in our [gitbook](https://ai-materials-and-chemistry.gitbook.io/foundry/v/docs/concepts/foundry-datasets) and the '*metadata*' section of the publishing example below. Filenames should correspond to the 'splits' as specified in the metadata to be accepted by the system.\n",
    "\n",
    "Your metadata can be a separate file (titled \"foundry_metadata.json\") or you can use a string literal (see example below under [*Arguments needed for publishing*](#arguments-needed-for-publishing))."
   ]
  },
  {
   "cell_type": "markdown",
   "metadata": {},
   "source": [
    "### Foundry instantiation\n",
    "\n",
    "We need to pass `no_browser=True` and `no_local_server=True` to the constructor in order for the code to work in Jupyter notebooks or Google Colab."
   ]
  },
  {
   "cell_type": "code",
   "execution_count": null,
   "metadata": {},
   "outputs": [],
   "source": [
    "from foundry import Foundry\n",
    "\n",
    "f = Foundry(no_browser=True, no_local_server=True)"
   ]
  },
  {
   "cell_type": "markdown",
   "metadata": {},
   "source": [
    "### Arguments needed for publishing\n",
    "\n",
    "This section describes and defines the variables for all of the possible arguments you could pass to `f.publish()`, for illustrative purposes."
   ]
  },
  {
   "cell_type": "markdown",
   "metadata": {},
   "source": [
    "#### Metadata\n",
    "\n",
    "The metadata describe the dataset inputs and outputs, along with the type of dataset (e.g. \"tabular) and other relevant info. The metadata should meet the schema defined [here](https://github.com/materials-data-facility/data-schemas/blob/master/schemas/projects.json#L111) under \"foundry\"."
   ]
  },
  {
   "cell_type": "code",
   "execution_count": null,
   "metadata": {},
   "outputs": [],
   "source": [
    "example_metadata = {\n",
    "    \"short_name\": \"segmentation-dev\",\n",
    "    \"data_type\": \"hdf5\",\n",
    "    \"task_type\": [\"unsupervised\", \"segmentation\"],\n",
    "    \"domain\": [\"materials science\", \"chemistry\"],\n",
    "    \"n_items\": 100,\n",
    "    \"splits\": [{\n",
    "        \"type\": \"train\",\n",
    "        \"path\": \"foundry.hdf5\",\n",
    "        \"label\": \"train\"\n",
    "    }],\n",
    "    \"keys\": [{\n",
    "        \"key\": [\"/data/arr1\"],\n",
    "        \"type\": \"input\",\n",
    "        \"description\": \"input, unlabeled images\"\n",
    "    }, {\n",
    "        \"key\": [\"/data/arr2\"],\n",
    "        \"type\": \"input\",\n",
    "        \"description\": \"This is an another array containing input data\"\n",
    "    }, {\n",
    "        \"key\": [\"/data/labeled\"],\n",
    "        \"type\": \"target\",\n",
    "        \"description\": \"target, labeled images\"\n",
    "    }]\n",
    "}"
   ]
  },
  {
   "cell_type": "code",
   "execution_count": null,
   "metadata": {},
   "outputs": [],
   "source": [
    "f.list()"
   ]
  },
  {
   "cell_type": "code",
   "execution_count": null,
   "metadata": {},
   "outputs": [],
   "source": [
    "f.load(\"foundry_wei_atom_locating_benchmark_v1.1\", globus=False)"
   ]
  }
 ],
 "metadata": {
  "kernelspec": {
   "display_name": "Python 3.8.6 64-bit",
   "language": "python",
   "name": "python3"
  },
  "language_info": {
   "codemirror_mode": {
    "name": "ipython",
    "version": 3
   },
   "file_extension": ".py",
   "mimetype": "text/x-python",
   "name": "python",
   "nbconvert_exporter": "python",
   "pygments_lexer": "ipython3",
   "version": "3.8.6"
  },
  "orig_nbformat": 4,
  "vscode": {
   "interpreter": {
    "hash": "cc5f2b9981f4566821c66298bb82bd07f946212ff35c38dd2adf313c0960e0d9"
   }
  }
 },
 "nbformat": 4,
 "nbformat_minor": 2
}
