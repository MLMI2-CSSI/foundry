{
 "cells": [
  {
   "cell_type": "markdown",
   "metadata": {
    "id": "4OS5glXenibP"
   },
   "source": [
    "<img src=\"https://raw.githubusercontent.com/MLMI2-CSSI/foundry/main/assets/foundry-black.png\" width=450>"
   ]
  },
  {
   "cell_type": "markdown",
   "metadata": {
    "id": "Qkly-tmRgdfZ"
   },
   "source": [
    "# Foundry OQMD Tutorial for Beginners"
   ]
  },
  {
   "cell_type": "markdown",
   "metadata": {
    "id": "8c2r7T6-MS9k"
   },
   "source": [
    "[![Open In Colab](https://colab.research.google.com/assets/colab-badge.svg)](https://colab.research.google.com/github/MLMI2-CSSI/foundry/blob/main/examples/oqmd/oqmd.ipynb)"
   ]
  },
  {
   "cell_type": "markdown",
   "metadata": {
    "id": "zD3TO_Y9MS9l"
   },
   "source": [
    "This introduction uses Foundry to:\n",
    "\n",
    "\n",
    "1.   Load a large dataset from Foundry\n",
    "\n",
    "\n",
    "This notebook is set up to run as a [Google Colaboratory](https://colab.research.google.com/notebooks/intro.ipynb#scrollTo=5fCEDCU_qrC0) notebook, which allows you to run python code in the browser, or as a [Jupyter](https://jupyter.org/) notebook, which runs locally on your machine.\n",
    "\n",
    "**Unless you have Google Colab Pro, there will be insufficient RAM and the notebook may crash; we strongly recommend running this notebook locally instead.**\n",
    "\n",
    "The code in the next cell will detect your environment to make sure that only cells that match your environment will run."
   ]
  },
  {
   "cell_type": "code",
   "execution_count": null,
   "metadata": {
    "id": "uqLL5o6Ir3b8"
   },
   "outputs": [],
   "source": [
    "try:\n",
    "    # Check to see if we are in the Google Colab environment\n",
    "    import google.colab\n",
    "    no_local_server = True\n",
    "    no_browser = True\n",
    "except: # when not in Google Colab\n",
    "    no_local_server = False\n",
    "    no_browser = False\n",
    "\n",
    "globus = False # by default, we download the data with https, which can be inefficient, but works in most locations\n",
    "\n",
    "# # To download with Globus, install a local Globus Connect Personal (GCP) endpoint, and uncomment this block\n",
    "# # GCP install instructions https://www.globus.org/globus-connect-personal\n",
    "# globus = True"
   ]
  },
  {
   "cell_type": "markdown",
   "metadata": {
    "id": "r194Bg-n_H7a"
   },
   "source": [
    "# Installing Foundry\n",
    "First we'll need to install Foundry. If you're using Google Colab, this code block will install this package into the Colab environment.\n",
    "\n",
    "\n",
    "If you are running locally, it will install this module onto your machine if you do not already have it. We also have a [requirements file](https://github.com/MLMI2-CSSI/foundry/tree/main/examples/oqmd) included with this notebook. You can run `pip install -r requirements.txt` in your terminal to set up your environment locally."
   ]
  },
  {
   "cell_type": "code",
   "execution_count": null,
   "metadata": {
    "id": "0OZafN2AFzTE"
   },
   "outputs": [],
   "source": [
    "!pip install foundry_ml"
   ]
  },
  {
   "cell_type": "markdown",
   "metadata": {
    "id": "nMLwFc2N_WzH"
   },
   "source": [
    "# Importing and Instantiating Foundry\n",
    "Now we can import Foundry!"
   ]
  },
  {
   "cell_type": "code",
   "execution_count": null,
   "metadata": {
    "id": "VbPzqDbjgdfe"
   },
   "outputs": [],
   "source": [
    "from foundry import Foundry"
   ]
  },
  {
   "cell_type": "markdown",
   "metadata": {
    "id": "alWGfDPO_b_P"
   },
   "source": [
    "We'll also need to instantiate it. To do so, you'll need a [Globus](https://www.globus.org) account. Once you have your account, you can instantiate Foundry using the code below. When you instantiate Foundry locally, be sure to have your Globus endpoint turned on (you can do that with [Globus Connect Personal](https://www.globus.org/globus-connect-personal)). When you instantiate Foundry on Google Colab, you'll be given a link in the cell's output and asked to enter the provided auth code."
   ]
  },
  {
   "cell_type": "code",
   "execution_count": null,
   "metadata": {
    "id": "lknToTpPgdff"
   },
   "outputs": [],
   "source": [
    "f = Foundry(index=\"mdf\", no_local_server=no_local_server, no_browser=no_browser)"
   ]
  },
  {
   "cell_type": "markdown",
   "metadata": {
    "id": "MjilgCtD_i7R"
   },
   "source": [
    "# Loading the Data\n",
    "We can load the data using `f.load()` and use `f.load_data()` to load the data into the client."
   ]
  },
  {
   "cell_type": "code",
   "execution_count": null,
   "metadata": {
    "colab": {
     "base_uri": "https://localhost:8080/",
     "height": 688
    },
    "id": "jdyok1vMgdff",
    "outputId": "8959afd5-9d49-48da-a183-db8fb0e83825"
   },
   "outputs": [
    {
     "data": {
      "text/html": [
       "<h2>Graph Network Based Deep Learning of Band Gaps - OQMD PBE Band Gaps</h2>Li, Xiang-Guo; Blaiszik, Ben; Schwarting, Marcus; Jacobs, Ryan; Scourtas, Aristana; Schmidt, KJ; Voyles, Paul; Morgan, Dane<p>DOI: 10.18126/w1ey-9y8b</p><h3>Dataset</h3><table><tr><th>keys</th><td><table><tr><th>key</th><th>type</th><th>classes</th><th>description</th><th>filter</th><th>units</th></tr><tr><td><ul><li>reference</li></ul></td><td>input</td><td></td><td>source publication of the band gap value</td><td></td><td></td></tr><tr><td><ul><li>icsd_id</li></ul></td><td>input</td><td></td><td>corresponding id in ICSD of this compound</td><td></td><td></td></tr><tr><td><ul><li>structure</li></ul></td><td>input</td><td></td><td>the structure of this compound</td><td></td><td></td></tr><tr><td><ul><li>composition</li></ul></td><td>input</td><td></td><td>reduced composition of this compound</td><td></td><td></td></tr><tr><td><ul><li>comments</li></ul></td><td>input</td><td></td><td>Additional information about this bandgap measurement</td><td></td><td></td></tr><tr><td><ul><li>bandgap type</li></ul></td><td>input</td><td></td><td>the type of the band gap, e.g., direct or indirect</td><td></td><td></td></tr><tr><td><ul><li>comp method</li></ul></td><td>input</td><td></td><td>functional used to calculate the band gap</td><td></td><td></td></tr><tr><td><ul><li>space group</li></ul></td><td>input</td><td></td><td>the space group of this compound</td><td></td><td></td></tr><tr><td><ul><li>bandgap value (eV)</li></ul></td><td>target</td><td></td><td>value of the band gap</td><td></td><td>eV</td></tr></table></td></tr><tr><th>splits</th><td><ul><li><table><tr><th>type</th><td>train</td></tr><tr><th>path</th><td>OQMD_PBE_new.json</td></tr><tr><th>label</th><td>train</td></tr></table></li></ul></td></tr><tr><th>data_type</th><td>tabular</td></tr><tr><th>short_name</th><td>oqmd_band_gaps</td></tr><tr><th>task_type</th><td><ul><li>supervised</li></ul></td></tr><tr><th>domain</th><td><ul><li>materials science</li></ul></td></tr><tr><th>n_items</th><td>635519</td></tr></table>"
      ],
      "text/plain": [
       "Foundry(dc={'identifier': {'identifier': '10.18126/w1ey-9y8b', 'identifierType': 'DOI'}, 'rightsList': [{'rights': 'CC-BY 4.0'}], 'creators': [{'creatorName': 'Li, Xiang-Guo', 'affiliations': ['University of Wisconsin-Madison', 'University of Chicago', 'Argonne National Laboratory'], 'familyName': 'Li', 'givenName': 'Xiang-Guo'}, {'creatorName': 'Blaiszik, Ben', 'affiliations': ['University of Wisconsin-Madison', 'University of Chicago', 'Argonne National Laboratory'], 'familyName': 'Blaiszik', 'givenName': 'Ben'}, {'creatorName': 'Schwarting, Marcus', 'affiliations': ['University of Wisconsin-Madison', 'University of Chicago', 'Argonne National Laboratory'], 'familyName': 'Schwarting', 'givenName': 'Marcus'}, {'creatorName': 'Jacobs, Ryan', 'affiliations': ['University of Wisconsin-Madison', 'University of Chicago', 'Argonne National Laboratory'], 'familyName': 'Jacobs', 'givenName': 'Ryan'}, {'creatorName': 'Scourtas, Aristana', 'affiliations': ['University of Wisconsin-Madison', 'University of Chicago', 'Argonne National Laboratory'], 'familyName': 'Scourtas', 'givenName': 'Aristana'}, {'creatorName': 'Schmidt, KJ', 'affiliations': ['University of Wisconsin-Madison', 'University of Chicago', 'Argonne National Laboratory'], 'familyName': 'Schmidt', 'givenName': 'KJ'}, {'creatorName': 'Voyles, Paul', 'affiliations': ['University of Wisconsin-Madison', 'University of Chicago', 'Argonne National Laboratory'], 'familyName': 'Voyles', 'givenName': 'Paul'}, {'creatorName': 'Morgan, Dane', 'affiliations': ['University of Wisconsin-Madison', 'University of Chicago', 'Argonne National Laboratory'], 'familyName': 'Morgan', 'givenName': 'Dane'}], 'subjects': [{'subject': 'machine learning'}, {'subject': 'foundry'}, {'subject': 'band gap'}, {'subject': 'neural network'}], 'publicationYear': 2021, 'publisher': 'Materials Data Facility', 'dates': [{'date': '2021-08-12', 'dateType': 'Accepted'}], 'titles': [{'title': 'Graph Network Based Deep Learning of Band Gaps - OQMD PBE Band Gaps'}], 'resourceType': {'resourceTypeGeneral': 'Dataset', 'resourceType': 'Dataset'}}, mdf={'resource_type': 'dataset', 'organizations': ['Foundry'], 'ingest_date': '2021-08-12T21:35:42.134865Z', 'source_id': 'foundry_oqmd_band_gaps_v1.1', 'scroll_id': 0, 'version': 1, 'source_name': 'foundry_oqmd_band_gaps'}, dataset=FoundryDataset(keys=[FoundryKey(key=['reference'], type='input', classes=None, description='source publication of the band gap value', filter=None, units=''), FoundryKey(key=['icsd_id'], type='input', classes=None, description='corresponding id in ICSD of this compound', filter=None, units=''), FoundryKey(key=['structure'], type='input', classes=None, description='the structure of this compound', filter=None, units=''), FoundryKey(key=['composition'], type='input', classes=None, description='reduced composition of this compound', filter=None, units=''), FoundryKey(key=['comments'], type='input', classes=None, description='Additional information about this bandgap measurement', filter=None, units=''), FoundryKey(key=['bandgap type'], type='input', classes=None, description='the type of the band gap, e.g., direct or indirect', filter=None, units=''), FoundryKey(key=['comp method'], type='input', classes=None, description='functional used to calculate the band gap', filter=None, units=''), FoundryKey(key=['space group'], type='input', classes=None, description='the space group of this compound', filter=None, units=''), FoundryKey(key=['bandgap value (eV)'], type='target', classes=None, description='value of the band gap', filter=None, units='eV')], splits=[FoundrySplit(type='train', path='OQMD_PBE_new.json', label='train')], data_type=<FoundryDatasetType.tabular: 'tabular'>, short_name='oqmd_band_gaps', dataframe=None, task_type=['supervised'], domain=['materials science'], n_items=635519), config=FoundryConfig(dataframe_file='foundry_dataframe.json', data_file='foundry.hdf5', metadata_file='foundry_metadata.json', destination_endpoint=None, local=False, metadata_key='foundry', organization='foundry', local_cache_dir='./data'), dlhub_client=<dlhub_sdk.client.DLHubClient object at 0x7e2af4152e90>, forge_client=<mdf_forge.forge.Forge object at 0x7e2ab65a1f90>, connect_client=<mdf_connect_client.mdfcc.MDFConnectClient object at 0x7e2ab65a3a90>, transfer_client=<globus_sdk.services.transfer.client.TransferClient object at 0x7e2ab65a2bf0>, auth_client=<globus_sdk.services.auth.client.service_client.AuthClient object at 0x7e2ab65a3af0>, auths={'openid': <globus_sdk.authorizers.refresh_token.RefreshTokenAuthorizer object at 0x7e2af4150d30>, 'data_mdf': <globus_sdk.authorizers.refresh_token.RefreshTokenAuthorizer object at 0x7e2af41510c0>, 'petrel': <globus_sdk.authorizers.refresh_token.RefreshTokenAuthorizer object at 0x7e2ae71e0f70>, 'dlhub': <globus_sdk.authorizers.refresh_token.RefreshTokenAuthorizer object at 0x7e2ab65a2440>, 'https://auth.globus.org/scopes/82f1b5c6-6e9b-11e5-ba47-22000b92c6ec/https': <globus_sdk.authorizers.refresh_token.RefreshTokenAuthorizer object at 0x7e2ab65a26b0>, 'search': <globus_sdk.services.search.client.SearchClient object at 0x7e2ae71e1690>, 'mdf_connect': <globus_sdk.authorizers.refresh_token.RefreshTokenAuthorizer object at 0x7e2ab65a25f0>, 'transfer': <globus_sdk.services.transfer.client.TransferClient object at 0x7e2ab65a2bf0>, 'https://auth.globus.org/scopes/d31d4f5d-be37-4adc-a761-2f716b7af105/action_all': <globus_sdk.authorizers.refresh_token.RefreshTokenAuthorizer object at 0x7e2ab65a2d40>, 'https://auth.globus.org/scopes/f10a69a9-338c-4e5b-baa1-0dc92359ab47/https': <globus_sdk.authorizers.refresh_token.RefreshTokenAuthorizer object at 0x7e2ab65a2b30>, 'https://auth.globus.org/scopes/facd7ccc-c5f4-42aa-916b-a0e270e2c2a9/all': <globus_sdk.authorizers.refresh_token.RefreshTokenAuthorizer object at 0x7e2ab65a2500>, 'search_authorizer': <globus_sdk.authorizers.refresh_token.RefreshTokenAuthorizer object at 0x7e2ab65a3be0>}, index='mdf')"
      ]
     },
     "execution_count": 5,
     "metadata": {},
     "output_type": "execute_result"
    }
   ],
   "source": [
    "f.load('foundry_oqmd_band_gaps_v1.1', download=True, globus=globus)"
   ]
  },
  {
   "cell_type": "code",
   "execution_count": null,
   "metadata": {
    "id": "29ugxpQlsSsY"
   },
   "outputs": [],
   "source": [
    "X,y = f.load_data()[\"train\"]"
   ]
  },
  {
   "cell_type": "code",
   "execution_count": null,
   "metadata": {
    "colab": {
     "base_uri": "https://localhost:8080/",
     "height": 206
    },
    "id": "sxZ4sgjRgdff",
    "outputId": "0b00198d-c21e-4a05-d170-18d3645f63bb"
   },
   "outputs": [
    {
     "data": {
      "text/html": [
       "\n",
       "  <div id=\"df-9f563a44-b81c-42a6-b96c-d008bd87ac5d\" class=\"colab-df-container\">\n",
       "    <div>\n",
       "<style scoped>\n",
       "    .dataframe tbody tr th:only-of-type {\n",
       "        vertical-align: middle;\n",
       "    }\n",
       "\n",
       "    .dataframe tbody tr th {\n",
       "        vertical-align: top;\n",
       "    }\n",
       "\n",
       "    .dataframe thead th {\n",
       "        text-align: right;\n",
       "    }\n",
       "</style>\n",
       "<table border=\"1\" class=\"dataframe\">\n",
       "  <thead>\n",
       "    <tr style=\"text-align: right;\">\n",
       "      <th></th>\n",
       "      <th>reference</th>\n",
       "      <th>icsd_id</th>\n",
       "      <th>structure</th>\n",
       "      <th>composition</th>\n",
       "      <th>comments</th>\n",
       "      <th>bandgap type</th>\n",
       "      <th>comp method</th>\n",
       "      <th>space group</th>\n",
       "    </tr>\n",
       "  </thead>\n",
       "  <tbody>\n",
       "    <tr>\n",
       "      <th>0</th>\n",
       "      <td>OQMD</td>\n",
       "      <td>NaN</td>\n",
       "      <td>{'@module': 'pymatgen.core.structure', '@class...</td>\n",
       "      <td>ScCoCuSb</td>\n",
       "      <td>OQMD PBE</td>\n",
       "      <td></td>\n",
       "      <td>PBE</td>\n",
       "      <td>F-43m</td>\n",
       "    </tr>\n",
       "    <tr>\n",
       "      <th>1</th>\n",
       "      <td>OQMD</td>\n",
       "      <td>NaN</td>\n",
       "      <td>{'@module': 'pymatgen.core.structure', '@class...</td>\n",
       "      <td>ScCoCuSb</td>\n",
       "      <td>OQMD PBE</td>\n",
       "      <td></td>\n",
       "      <td>PBE</td>\n",
       "      <td>F-43m</td>\n",
       "    </tr>\n",
       "    <tr>\n",
       "      <th>2</th>\n",
       "      <td>OQMD</td>\n",
       "      <td>NaN</td>\n",
       "      <td>{'@module': 'pymatgen.core.structure', '@class...</td>\n",
       "      <td>GaCoCuSb</td>\n",
       "      <td>OQMD PBE</td>\n",
       "      <td></td>\n",
       "      <td>PBE</td>\n",
       "      <td>F-43m</td>\n",
       "    </tr>\n",
       "    <tr>\n",
       "      <th>3</th>\n",
       "      <td>OQMD</td>\n",
       "      <td>NaN</td>\n",
       "      <td>{'@module': 'pymatgen.core.structure', '@class...</td>\n",
       "      <td>GaCoCuSb</td>\n",
       "      <td>OQMD PBE</td>\n",
       "      <td></td>\n",
       "      <td>PBE</td>\n",
       "      <td>F-43m</td>\n",
       "    </tr>\n",
       "    <tr>\n",
       "      <th>4</th>\n",
       "      <td>OQMD</td>\n",
       "      <td>NaN</td>\n",
       "      <td>{'@module': 'pymatgen.core.structure', '@class...</td>\n",
       "      <td>GaCoCuSb</td>\n",
       "      <td>OQMD PBE</td>\n",
       "      <td></td>\n",
       "      <td>PBE</td>\n",
       "      <td>F-43m</td>\n",
       "    </tr>\n",
       "  </tbody>\n",
       "</table>\n",
       "</div>\n",
       "    <div class=\"colab-df-buttons\">\n",
       "\n",
       "  <div class=\"colab-df-container\">\n",
       "    <button class=\"colab-df-convert\" onclick=\"convertToInteractive('df-9f563a44-b81c-42a6-b96c-d008bd87ac5d')\"\n",
       "            title=\"Convert this dataframe to an interactive table.\"\n",
       "            style=\"display:none;\">\n",
       "\n",
       "  <svg xmlns=\"http://www.w3.org/2000/svg\" height=\"24px\" viewBox=\"0 -960 960 960\">\n",
       "    <path d=\"M120-120v-720h720v720H120Zm60-500h600v-160H180v160Zm220 220h160v-160H400v160Zm0 220h160v-160H400v160ZM180-400h160v-160H180v160Zm440 0h160v-160H620v160ZM180-180h160v-160H180v160Zm440 0h160v-160H620v160Z\"/>\n",
       "  </svg>\n",
       "    </button>\n",
       "\n",
       "  <style>\n",
       "    .colab-df-container {\n",
       "      display:flex;\n",
       "      gap: 12px;\n",
       "    }\n",
       "\n",
       "    .colab-df-convert {\n",
       "      background-color: #E8F0FE;\n",
       "      border: none;\n",
       "      border-radius: 50%;\n",
       "      cursor: pointer;\n",
       "      display: none;\n",
       "      fill: #1967D2;\n",
       "      height: 32px;\n",
       "      padding: 0 0 0 0;\n",
       "      width: 32px;\n",
       "    }\n",
       "\n",
       "    .colab-df-convert:hover {\n",
       "      background-color: #E2EBFA;\n",
       "      box-shadow: 0px 1px 2px rgba(60, 64, 67, 0.3), 0px 1px 3px 1px rgba(60, 64, 67, 0.15);\n",
       "      fill: #174EA6;\n",
       "    }\n",
       "\n",
       "    .colab-df-buttons div {\n",
       "      margin-bottom: 4px;\n",
       "    }\n",
       "\n",
       "    [theme=dark] .colab-df-convert {\n",
       "      background-color: #3B4455;\n",
       "      fill: #D2E3FC;\n",
       "    }\n",
       "\n",
       "    [theme=dark] .colab-df-convert:hover {\n",
       "      background-color: #434B5C;\n",
       "      box-shadow: 0px 1px 3px 1px rgba(0, 0, 0, 0.15);\n",
       "      filter: drop-shadow(0px 1px 2px rgba(0, 0, 0, 0.3));\n",
       "      fill: #FFFFFF;\n",
       "    }\n",
       "  </style>\n",
       "\n",
       "    <script>\n",
       "      const buttonEl =\n",
       "        document.querySelector('#df-9f563a44-b81c-42a6-b96c-d008bd87ac5d button.colab-df-convert');\n",
       "      buttonEl.style.display =\n",
       "        google.colab.kernel.accessAllowed ? 'block' : 'none';\n",
       "\n",
       "      async function convertToInteractive(key) {\n",
       "        const element = document.querySelector('#df-9f563a44-b81c-42a6-b96c-d008bd87ac5d');\n",
       "        const dataTable =\n",
       "          await google.colab.kernel.invokeFunction('convertToInteractive',\n",
       "                                                    [key], {});\n",
       "        if (!dataTable) return;\n",
       "\n",
       "        const docLinkHtml = 'Like what you see? Visit the ' +\n",
       "          '<a target=\"_blank\" href=https://colab.research.google.com/notebooks/data_table.ipynb>data table notebook</a>'\n",
       "          + ' to learn more about interactive tables.';\n",
       "        element.innerHTML = '';\n",
       "        dataTable['output_type'] = 'display_data';\n",
       "        await google.colab.output.renderOutput(dataTable, element);\n",
       "        const docLink = document.createElement('div');\n",
       "        docLink.innerHTML = docLinkHtml;\n",
       "        element.appendChild(docLink);\n",
       "      }\n",
       "    </script>\n",
       "  </div>\n",
       "\n",
       "\n",
       "<div id=\"df-cd7123e2-52e2-44b2-ab5e-39fa1652e36d\">\n",
       "  <button class=\"colab-df-quickchart\" onclick=\"quickchart('df-cd7123e2-52e2-44b2-ab5e-39fa1652e36d')\"\n",
       "            title=\"Suggest charts\"\n",
       "            style=\"display:none;\">\n",
       "\n",
       "<svg xmlns=\"http://www.w3.org/2000/svg\" height=\"24px\"viewBox=\"0 0 24 24\"\n",
       "     width=\"24px\">\n",
       "    <g>\n",
       "        <path d=\"M19 3H5c-1.1 0-2 .9-2 2v14c0 1.1.9 2 2 2h14c1.1 0 2-.9 2-2V5c0-1.1-.9-2-2-2zM9 17H7v-7h2v7zm4 0h-2V7h2v10zm4 0h-2v-4h2v4z\"/>\n",
       "    </g>\n",
       "</svg>\n",
       "  </button>\n",
       "\n",
       "<style>\n",
       "  .colab-df-quickchart {\n",
       "      --bg-color: #E8F0FE;\n",
       "      --fill-color: #1967D2;\n",
       "      --hover-bg-color: #E2EBFA;\n",
       "      --hover-fill-color: #174EA6;\n",
       "      --disabled-fill-color: #AAA;\n",
       "      --disabled-bg-color: #DDD;\n",
       "  }\n",
       "\n",
       "  [theme=dark] .colab-df-quickchart {\n",
       "      --bg-color: #3B4455;\n",
       "      --fill-color: #D2E3FC;\n",
       "      --hover-bg-color: #434B5C;\n",
       "      --hover-fill-color: #FFFFFF;\n",
       "      --disabled-bg-color: #3B4455;\n",
       "      --disabled-fill-color: #666;\n",
       "  }\n",
       "\n",
       "  .colab-df-quickchart {\n",
       "    background-color: var(--bg-color);\n",
       "    border: none;\n",
       "    border-radius: 50%;\n",
       "    cursor: pointer;\n",
       "    display: none;\n",
       "    fill: var(--fill-color);\n",
       "    height: 32px;\n",
       "    padding: 0;\n",
       "    width: 32px;\n",
       "  }\n",
       "\n",
       "  .colab-df-quickchart:hover {\n",
       "    background-color: var(--hover-bg-color);\n",
       "    box-shadow: 0 1px 2px rgba(60, 64, 67, 0.3), 0 1px 3px 1px rgba(60, 64, 67, 0.15);\n",
       "    fill: var(--button-hover-fill-color);\n",
       "  }\n",
       "\n",
       "  .colab-df-quickchart-complete:disabled,\n",
       "  .colab-df-quickchart-complete:disabled:hover {\n",
       "    background-color: var(--disabled-bg-color);\n",
       "    fill: var(--disabled-fill-color);\n",
       "    box-shadow: none;\n",
       "  }\n",
       "\n",
       "  .colab-df-spinner {\n",
       "    border: 2px solid var(--fill-color);\n",
       "    border-color: transparent;\n",
       "    border-bottom-color: var(--fill-color);\n",
       "    animation:\n",
       "      spin 1s steps(1) infinite;\n",
       "  }\n",
       "\n",
       "  @keyframes spin {\n",
       "    0% {\n",
       "      border-color: transparent;\n",
       "      border-bottom-color: var(--fill-color);\n",
       "      border-left-color: var(--fill-color);\n",
       "    }\n",
       "    20% {\n",
       "      border-color: transparent;\n",
       "      border-left-color: var(--fill-color);\n",
       "      border-top-color: var(--fill-color);\n",
       "    }\n",
       "    30% {\n",
       "      border-color: transparent;\n",
       "      border-left-color: var(--fill-color);\n",
       "      border-top-color: var(--fill-color);\n",
       "      border-right-color: var(--fill-color);\n",
       "    }\n",
       "    40% {\n",
       "      border-color: transparent;\n",
       "      border-right-color: var(--fill-color);\n",
       "      border-top-color: var(--fill-color);\n",
       "    }\n",
       "    60% {\n",
       "      border-color: transparent;\n",
       "      border-right-color: var(--fill-color);\n",
       "    }\n",
       "    80% {\n",
       "      border-color: transparent;\n",
       "      border-right-color: var(--fill-color);\n",
       "      border-bottom-color: var(--fill-color);\n",
       "    }\n",
       "    90% {\n",
       "      border-color: transparent;\n",
       "      border-bottom-color: var(--fill-color);\n",
       "    }\n",
       "  }\n",
       "</style>\n",
       "\n",
       "  <script>\n",
       "    async function quickchart(key) {\n",
       "      const quickchartButtonEl =\n",
       "        document.querySelector('#' + key + ' button');\n",
       "      quickchartButtonEl.disabled = true;  // To prevent multiple clicks.\n",
       "      quickchartButtonEl.classList.add('colab-df-spinner');\n",
       "      try {\n",
       "        const charts = await google.colab.kernel.invokeFunction(\n",
       "            'suggestCharts', [key], {});\n",
       "      } catch (error) {\n",
       "        console.error('Error during call to suggestCharts:', error);\n",
       "      }\n",
       "      quickchartButtonEl.classList.remove('colab-df-spinner');\n",
       "      quickchartButtonEl.classList.add('colab-df-quickchart-complete');\n",
       "    }\n",
       "    (() => {\n",
       "      let quickchartButtonEl =\n",
       "        document.querySelector('#df-cd7123e2-52e2-44b2-ab5e-39fa1652e36d button');\n",
       "      quickchartButtonEl.style.display =\n",
       "        google.colab.kernel.accessAllowed ? 'block' : 'none';\n",
       "    })();\n",
       "  </script>\n",
       "</div>\n",
       "\n",
       "    </div>\n",
       "  </div>\n"
      ],
      "text/plain": [
       "  reference  icsd_id                                          structure  \\\n",
       "0      OQMD      NaN  {'@module': 'pymatgen.core.structure', '@class...   \n",
       "1      OQMD      NaN  {'@module': 'pymatgen.core.structure', '@class...   \n",
       "2      OQMD      NaN  {'@module': 'pymatgen.core.structure', '@class...   \n",
       "3      OQMD      NaN  {'@module': 'pymatgen.core.structure', '@class...   \n",
       "4      OQMD      NaN  {'@module': 'pymatgen.core.structure', '@class...   \n",
       "\n",
       "  composition  comments bandgap type comp method space group  \n",
       "0    ScCoCuSb  OQMD PBE                      PBE       F-43m  \n",
       "1    ScCoCuSb  OQMD PBE                      PBE       F-43m  \n",
       "2    GaCoCuSb  OQMD PBE                      PBE       F-43m  \n",
       "3    GaCoCuSb  OQMD PBE                      PBE       F-43m  \n",
       "4    GaCoCuSb  OQMD PBE                      PBE       F-43m  "
      ]
     },
     "execution_count": 7,
     "metadata": {},
     "output_type": "execute_result"
    }
   ],
   "source": [
    "X.head()"
   ]
  }
 ],
 "metadata": {
  "colab": {
   "provenance": []
  },
  "kernelspec": {
   "display_name": "Python 3 (ipykernel)",
   "language": "python",
   "name": "python3"
  },
  "language_info": {
   "codemirror_mode": {
    "name": "ipython",
    "version": 3
   },
   "file_extension": ".py",
   "mimetype": "text/x-python",
   "name": "python",
   "nbconvert_exporter": "python",
   "pygments_lexer": "ipython3",
   "version": "3.10.13"
  }
 },
 "nbformat": 4,
 "nbformat_minor": 4
}
