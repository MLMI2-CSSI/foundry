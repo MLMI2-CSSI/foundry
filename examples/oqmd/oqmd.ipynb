{
 "cells": [
  {
   "cell_type": "markdown",
   "metadata": {
    "id": "4OS5glXenibP"
   },
   "source": [
    "<img src=\"https://raw.githubusercontent.com/MLMI2-CSSI/foundry/main/assets/foundry-black.png\" width=450>"
   ]
  },
  {
   "cell_type": "markdown",
   "metadata": {
    "id": "Qkly-tmRgdfZ"
   },
   "source": [
    "# Foundry OQMD Tutorial for Beginners"
   ]
  },
  {
   "cell_type": "markdown",
   "metadata": {},
   "source": [
    "[![Open In Colab](https://colab.research.google.com/assets/colab-badge.svg)](https://colab.research.google.com/github/MLMI2-CSSI/foundry/blob/main/examples/oqmd/oqmd.ipynb)"
   ]
  },
  {
   "cell_type": "markdown",
   "metadata": {},
   "source": [
    "This introduction uses Foundry to:\n",
    "\n",
    "\n",
    "1.   Load a large dataset from Foundry\n",
    "\n",
    "\n",
    "This notebook is set up to run as a [Google Colaboratory](https://colab.research.google.com/notebooks/intro.ipynb#scrollTo=5fCEDCU_qrC0) notebook, which allows you to run python code in the browser, or as a [Jupyter](https://jupyter.org/) notebook, which runs locally on your machine.\n",
    "\n",
    "**Unless you have Google Colab Pro, there will be insufficient RAM and the notebook may crash; we strongly recommend running this notebook locally instead.**\n",
    "\n",
    "The code in the next cell will detect your environment to make sure that only cells that match your environment will run."
   ]
  },
  {
   "cell_type": "code",
   "execution_count": null,
   "metadata": {
    "id": "uqLL5o6Ir3b8"
   },
   "outputs": [],
   "source": [
    "try:\n",
    "    import google.colab\n",
    "    no_local_server=True\n",
    "    no_browser=True\n",
    "    globus=False\n",
    "except: # when not in google colab\n",
    "    no_local_server=False\n",
    "    no_browser=False\n",
    "    globus=True"
   ]
  },
  {
   "cell_type": "markdown",
   "metadata": {
    "id": "r194Bg-n_H7a"
   },
   "source": [
    "# Installing Foundry\n",
    "First we'll need to install Foundry. If you're using Google Colab, this code block will install this package into the Colab environment.\n",
    "\n",
    "\n",
    "If you are running locally, it will install this module onto your machine if you do not already have it. We also have a [requirements file](https://github.com/MLMI2-CSSI/foundry/tree/main/examples/oqmd) included with this notebook. You can run `pip install -r requirements.txt` in your terminal to set up your environment locally."
   ]
  },
  {
   "cell_type": "code",
   "execution_count": null,
   "metadata": {
    "id": "0OZafN2AFzTE"
   },
   "outputs": [],
   "source": [
    "!pip install foundry_ml\n",
    "\n",
    "#if in Google Colab, install these pinned versions\n",
    "#since Colab keeps theirs a few verions behind\n",
    "!pip install pandas==1.2.2 tables==3.6.1"
   ]
  },
  {
   "cell_type": "markdown",
   "metadata": {
    "id": "nMLwFc2N_WzH"
   },
   "source": [
    "# Importing and Instantiating Foundry\n",
    "Now we can import Foundry!"
   ]
  },
  {
   "cell_type": "code",
   "execution_count": null,
   "metadata": {
    "id": "VbPzqDbjgdfe"
   },
   "outputs": [],
   "source": [
    "from foundry import Foundry"
   ]
  },
  {
   "cell_type": "markdown",
   "metadata": {
    "id": "alWGfDPO_b_P"
   },
   "source": [
    "We'll also need to instantiate it. To do so, you'll need a [Globus](https://www.globus.org) account. Once you have your account, you can instantiate Foundry using the code below. When you instantiate Foundry locally, be sure to have your Globus endpoint turned on (you can do that with [Globus Connect Personal](https://www.globus.org/globus-connect-personal)). When you instantiate Foundry on Google Colab, you'll be given a link in the cell's output and asked to enter the provided auth code."
   ]
  },
  {
   "cell_type": "code",
   "execution_count": null,
   "metadata": {
    "id": "lknToTpPgdff"
   },
   "outputs": [],
   "source": [
    "f = Foundry(index=\"mdf\", no_local_server=no_local_server, no_browser=no_browser)"
   ]
  },
  {
   "cell_type": "markdown",
   "metadata": {
    "id": "MjilgCtD_i7R"
   },
   "source": [
    "# Loading the Data\n",
    "We can load the data using `f.load()` and use `f.load_data()` to load the data into the client."
   ]
  },
  {
   "cell_type": "code",
   "execution_count": null,
   "metadata": {
    "id": "jdyok1vMgdff",
    "outputId": "de9f015c-3466-4d88-b5fb-41228c650eac"
   },
   "outputs": [
    {
     "data": {
      "text/html": [
       "<h2>Graph Network Based Deep Learning of Band Gaps - OQMD PBE Band Gaps</h2>Li, Xiang-Guo; Blaiszik, Ben; Schwarting, Marcus; Jacobs, Ryan; Scourtas, Aristana; Schmidt, KJ; Voyles, Paul; Morgan, Dane<h3>Dataset</h3><table><tr><th>keys</th><td><table><tr><th>key</th><th>type</th><th>filter</th><th>units</th><th>description</th><th>classes</th></tr><tr><td><ul><li>reference</li></ul></td><td>input</td><td></td><td></td><td>source publication of the band gap value</td><td></td></tr><tr><td><ul><li>icsd_id</li></ul></td><td>input</td><td></td><td></td><td>corresponding id in ICSD of this compound</td><td></td></tr><tr><td><ul><li>structure</li></ul></td><td>input</td><td></td><td></td><td>the structure of this compound</td><td></td></tr><tr><td><ul><li>composition</li></ul></td><td>input</td><td></td><td></td><td>reduced composition of this compound</td><td></td></tr><tr><td><ul><li>comments</li></ul></td><td>input</td><td></td><td></td><td>Additional information about this bandgap measurement</td><td></td></tr><tr><td><ul><li>bandgap type</li></ul></td><td>input</td><td></td><td></td><td>the type of the band gap, e.g., direct or indirect</td><td></td></tr><tr><td><ul><li>comp method</li></ul></td><td>input</td><td></td><td></td><td>functional used to calculate the band gap</td><td></td></tr><tr><td><ul><li>space group</li></ul></td><td>input</td><td></td><td></td><td>the space group of this compound</td><td></td></tr><tr><td><ul><li>bandgap value (eV)</li></ul></td><td>target</td><td></td><td>eV</td><td>value of the band gap</td><td></td></tr></table></td></tr><tr><th>splits</th><td><ul><li><table><tr><th>type</th><td>train</td></tr><tr><th>path</th><td>OQMD_PBE_new.json</td></tr><tr><th>label</th><td>train</td></tr></table></li></ul></td></tr><tr><th>data_type</th><td>tabular</td></tr><tr><th>short_name</th><td>oqmd_band_gaps</td></tr><tr><th>task_type</th><td><ul><li>supervised</li></ul></td></tr><tr><th>domain</th><td><ul><li>materials science</li></ul></td></tr><tr><th>n_items</th><td>635519</td></tr></table>"
      ],
      "text/plain": [
       "Foundry(dc={'creators': [{'affiliations': ['University of Wisconsin-Madison', 'University of Chicago', 'Argonne National Laboratory'], 'creatorName': 'Li, Xiang-Guo', 'familyName': 'Li', 'givenName': 'Xiang-Guo'}, {'affiliations': ['University of Wisconsin-Madison', 'University of Chicago', 'Argonne National Laboratory'], 'creatorName': 'Blaiszik, Ben', 'familyName': 'Blaiszik', 'givenName': 'Ben'}, {'affiliations': ['University of Wisconsin-Madison', 'University of Chicago', 'Argonne National Laboratory'], 'creatorName': 'Schwarting, Marcus', 'familyName': 'Schwarting', 'givenName': 'Marcus'}, {'affiliations': ['University of Wisconsin-Madison', 'University of Chicago', 'Argonne National Laboratory'], 'creatorName': 'Jacobs, Ryan', 'familyName': 'Jacobs', 'givenName': 'Ryan'}, {'affiliations': ['University of Wisconsin-Madison', 'University of Chicago', 'Argonne National Laboratory'], 'creatorName': 'Scourtas, Aristana', 'familyName': 'Scourtas', 'givenName': 'Aristana'}, {'affiliations': ['University of Wisconsin-Madison', 'University of Chicago', 'Argonne National Laboratory'], 'creatorName': 'Schmidt, KJ', 'familyName': 'Schmidt', 'givenName': 'KJ'}, {'affiliations': ['University of Wisconsin-Madison', 'University of Chicago', 'Argonne National Laboratory'], 'creatorName': 'Voyles, Paul', 'familyName': 'Voyles', 'givenName': 'Paul'}, {'affiliations': ['University of Wisconsin-Madison', 'University of Chicago', 'Argonne National Laboratory'], 'creatorName': 'Morgan, Dane', 'familyName': 'Morgan', 'givenName': 'Dane'}], 'dates': [{'date': '2021-08-12', 'dateType': 'Accepted'}], 'identifier': {'identifier': '10.18126/w1ey-9y8b', 'identifierType': 'DOI'}, 'publicationYear': 2021, 'publisher': 'Materials Data Facility', 'resourceType': {'resourceType': 'Dataset', 'resourceTypeGeneral': 'Dataset'}, 'subjects': [{'subject': 'machine learning'}, {'subject': 'foundry'}, {'subject': 'band gap'}, {'subject': 'neural network'}], 'titles': [{'title': 'Graph Network Based Deep Learning of Band Gaps - OQMD PBE Band Gaps'}]}, mdf={'ingest_date': '2021-08-12T21:35:42.134865Z', 'organizations': ['Foundry'], 'resource_type': 'dataset', 'scroll_id': 0, 'source_id': 'foundry_oqmd_band_gaps_v1.1', 'source_name': 'foundry_oqmd_band_gaps', 'version': 1}, dataset=FoundryDataset(keys=[FoundryKey(key=['reference'], type='input', filter='', units='', description='source publication of the band gap value', classes=None), FoundryKey(key=['icsd_id'], type='input', filter='', units='', description='corresponding id in ICSD of this compound', classes=None), FoundryKey(key=['structure'], type='input', filter='', units='', description='the structure of this compound', classes=None), FoundryKey(key=['composition'], type='input', filter='', units='', description='reduced composition of this compound', classes=None), FoundryKey(key=['comments'], type='input', filter='', units='', description='Additional information about this bandgap measurement', classes=None), FoundryKey(key=['bandgap type'], type='input', filter='', units='', description='the type of the band gap, e.g., direct or indirect', classes=None), FoundryKey(key=['comp method'], type='input', filter='', units='', description='functional used to calculate the band gap', classes=None), FoundryKey(key=['space group'], type='input', filter='', units='', description='the space group of this compound', classes=None), FoundryKey(key=['bandgap value (eV)'], type='target', filter='', units='eV', description='value of the band gap', classes=None)], splits=[FoundrySplit(type='train', path='OQMD_PBE_new.json', label='train')], data_type=<FoundryDatasetType.tabular: 'tabular'>, short_name='oqmd_band_gaps', dataframe=None, task_type=['supervised'], domain=['materials science'], n_items=635519), config=FoundryConfig(dataframe_file='foundry_dataframe.json', data_file='foundry.hdf5', metadata_file='foundry_metadata.json', destination_endpoint=None, local=False, metadata_key='foundry', organization='foundry', local_cache_dir='./data'), forge_client=<mdf_forge.forge.Forge object at 0x7fdfa24d4c10>, connect_client=<mdf_connect_client.mdfcc.MDFConnectClient object at 0x7fdf700dbca0>, xtract_tokens={'auth_token': 'Ag6g8YQ6n9noOxNzVoDBN5PWMllvKDbXvGmVBBd8j5yOmYqEa2c2CvyBnywaWK3ow8WKk8ed2zvdvEu16EYpnuJjMv', 'transfer_token': 'Aglv5MDXP5N0eE0pvkJok6GrxbjwDJQXWm9GQn5oa4gXO2BWklH8CBwQN7z1pBBkO3owDWwwE6dwgKtJQrbKOIJ8z4', 'funcx_token': 'AgGYXpqVbG3vDENq2o8Xb5kejOD1nka2jl54GvYk6k17BaWM4kI7CvXgo37n29m9QOV95MeY4lYqEyiQX7VerhnpM7'}, index='mdf')"
      ]
     },
     "execution_count": 7,
     "metadata": {},
     "output_type": "execute_result"
    }
   ],
   "source": [
    "f.load('foundry_oqmd_band_gaps_v1.1', download=True, globus=globus)"
   ]
  },
  {
   "cell_type": "code",
   "execution_count": null,
   "metadata": {
    "id": "29ugxpQlsSsY",
    "outputId": "a1f61919-e3c3-41a3-9e3f-ed2500b5e805"
   },
   "outputs": [
    {
     "name": "stdout",
     "output_type": "stream",
     "text": [
      "Reading OQMD_PBE_new.json as JSON failed: Trailing data \n",
      " Now attempting to read as JSONL\n"
     ]
    }
   ],
   "source": [
    "X,y = f.load_data()[\"train\"]"
   ]
  },
  {
   "cell_type": "code",
   "execution_count": null,
   "metadata": {
    "colab": {
     "base_uri": "https://localhost:8080/",
     "height": 224
    },
    "id": "sxZ4sgjRgdff",
    "outputId": "56df4b20-ce86-4853-a1b1-b9c35223e686"
   },
   "outputs": [
    {
     "data": {
      "text/html": [
       "<div>\n",
       "<style scoped>\n",
       "    .dataframe tbody tr th:only-of-type {\n",
       "        vertical-align: middle;\n",
       "    }\n",
       "\n",
       "    .dataframe tbody tr th {\n",
       "        vertical-align: top;\n",
       "    }\n",
       "\n",
       "    .dataframe thead th {\n",
       "        text-align: right;\n",
       "    }\n",
       "</style>\n",
       "<table border=\"1\" class=\"dataframe\">\n",
       "  <thead>\n",
       "    <tr style=\"text-align: right;\">\n",
       "      <th></th>\n",
       "      <th>reference</th>\n",
       "      <th>icsd_id</th>\n",
       "      <th>structure</th>\n",
       "      <th>composition</th>\n",
       "      <th>comments</th>\n",
       "      <th>bandgap type</th>\n",
       "      <th>comp method</th>\n",
       "      <th>space group</th>\n",
       "    </tr>\n",
       "  </thead>\n",
       "  <tbody>\n",
       "    <tr>\n",
       "      <th>0</th>\n",
       "      <td>OQMD</td>\n",
       "      <td>NaN</td>\n",
       "      <td>{'@module': 'pymatgen.core.structure', '@class...</td>\n",
       "      <td>ScCoCuSb</td>\n",
       "      <td>OQMD PBE</td>\n",
       "      <td></td>\n",
       "      <td>PBE</td>\n",
       "      <td>F-43m</td>\n",
       "    </tr>\n",
       "    <tr>\n",
       "      <th>1</th>\n",
       "      <td>OQMD</td>\n",
       "      <td>NaN</td>\n",
       "      <td>{'@module': 'pymatgen.core.structure', '@class...</td>\n",
       "      <td>ScCoCuSb</td>\n",
       "      <td>OQMD PBE</td>\n",
       "      <td></td>\n",
       "      <td>PBE</td>\n",
       "      <td>F-43m</td>\n",
       "    </tr>\n",
       "    <tr>\n",
       "      <th>2</th>\n",
       "      <td>OQMD</td>\n",
       "      <td>NaN</td>\n",
       "      <td>{'@module': 'pymatgen.core.structure', '@class...</td>\n",
       "      <td>GaCoCuSb</td>\n",
       "      <td>OQMD PBE</td>\n",
       "      <td></td>\n",
       "      <td>PBE</td>\n",
       "      <td>F-43m</td>\n",
       "    </tr>\n",
       "    <tr>\n",
       "      <th>3</th>\n",
       "      <td>OQMD</td>\n",
       "      <td>NaN</td>\n",
       "      <td>{'@module': 'pymatgen.core.structure', '@class...</td>\n",
       "      <td>GaCoCuSb</td>\n",
       "      <td>OQMD PBE</td>\n",
       "      <td></td>\n",
       "      <td>PBE</td>\n",
       "      <td>F-43m</td>\n",
       "    </tr>\n",
       "    <tr>\n",
       "      <th>4</th>\n",
       "      <td>OQMD</td>\n",
       "      <td>NaN</td>\n",
       "      <td>{'@module': 'pymatgen.core.structure', '@class...</td>\n",
       "      <td>GaCoCuSb</td>\n",
       "      <td>OQMD PBE</td>\n",
       "      <td></td>\n",
       "      <td>PBE</td>\n",
       "      <td>F-43m</td>\n",
       "    </tr>\n",
       "  </tbody>\n",
       "</table>\n",
       "</div>"
      ],
      "text/plain": [
       "  reference  icsd_id                                          structure  \\\n",
       "0      OQMD      NaN  {'@module': 'pymatgen.core.structure', '@class...   \n",
       "1      OQMD      NaN  {'@module': 'pymatgen.core.structure', '@class...   \n",
       "2      OQMD      NaN  {'@module': 'pymatgen.core.structure', '@class...   \n",
       "3      OQMD      NaN  {'@module': 'pymatgen.core.structure', '@class...   \n",
       "4      OQMD      NaN  {'@module': 'pymatgen.core.structure', '@class...   \n",
       "\n",
       "  composition  comments bandgap type comp method space group  \n",
       "0    ScCoCuSb  OQMD PBE                      PBE       F-43m  \n",
       "1    ScCoCuSb  OQMD PBE                      PBE       F-43m  \n",
       "2    GaCoCuSb  OQMD PBE                      PBE       F-43m  \n",
       "3    GaCoCuSb  OQMD PBE                      PBE       F-43m  \n",
       "4    GaCoCuSb  OQMD PBE                      PBE       F-43m  "
      ]
     },
     "execution_count": 10,
     "metadata": {},
     "output_type": "execute_result"
    }
   ],
   "source": [
    "X.head()"
   ]
  }
 ],
 "metadata": {
  "colab": {
   "collapsed_sections": [],
   "name": "oqmd.ipynb",
   "provenance": []
  },
  "kernelspec": {
   "display_name": "Python 3 (ipykernel)",
   "language": "python",
   "name": "python3"
  },
  "language_info": {
   "codemirror_mode": {
    "name": "ipython",
    "version": 3
   },
   "file_extension": ".py",
   "mimetype": "text/x-python",
   "name": "python",
   "nbconvert_exporter": "python",
   "pygments_lexer": "ipython3",
   "version": "3.9.16"
  }
 },
 "nbformat": 4,
 "nbformat_minor": 4
}
