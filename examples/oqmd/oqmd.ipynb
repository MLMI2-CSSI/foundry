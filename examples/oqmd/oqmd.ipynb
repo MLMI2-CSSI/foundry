{
 "cells": [
  {
   "cell_type": "markdown",
   "metadata": {},
   "source": [
    "# OQMD Mini Example"
   ]
  },
  {
   "cell_type": "code",
   "execution_count": 6,
   "metadata": {},
   "outputs": [],
   "source": [
    "from foundry import Foundry"
   ]
  },
  {
   "cell_type": "markdown",
   "metadata": {},
   "source": [
    "# Instantiate Foundry from local file and load data from remote"
   ]
  },
  {
   "cell_type": "code",
   "execution_count": 7,
   "metadata": {},
   "outputs": [],
   "source": [
    "f = Foundry()"
   ]
  },
  {
   "cell_type": "code",
   "execution_count": 8,
   "metadata": {},
   "outputs": [],
   "source": [
    "f = f.from_file()\n",
    "X,y = f.load_data()"
   ]
  },
  {
   "cell_type": "code",
   "execution_count": 9,
   "metadata": {},
   "outputs": [
    {
     "data": {
      "text/html": [
       "<div>\n",
       "<style scoped>\n",
       "    .dataframe tbody tr th:only-of-type {\n",
       "        vertical-align: middle;\n",
       "    }\n",
       "\n",
       "    .dataframe tbody tr th {\n",
       "        vertical-align: top;\n",
       "    }\n",
       "\n",
       "    .dataframe thead th {\n",
       "        text-align: right;\n",
       "    }\n",
       "</style>\n",
       "<table border=\"1\" class=\"dataframe\">\n",
       "  <thead>\n",
       "    <tr style=\"text-align: right;\">\n",
       "      <th></th>\n",
       "      <th>configuration</th>\n",
       "      <th>magnetic_moment</th>\n",
       "      <th>stability</th>\n",
       "      <th>delta_e</th>\n",
       "      <th>total_energy</th>\n",
       "      <th>volume_pa</th>\n",
       "      <th>composition</th>\n",
       "      <th>dft_converged</th>\n",
       "      <th>dft_cutoff_energy</th>\n",
       "      <th>dft_exchange_correlation_functional</th>\n",
       "      <th>crystal_structure_number_of_atoms</th>\n",
       "      <th>crystal_structure_space_group</th>\n",
       "      <th>crystal_structure_volume</th>\n",
       "    </tr>\n",
       "  </thead>\n",
       "  <tbody>\n",
       "    <tr>\n",
       "      <th>0</th>\n",
       "      <td>fine_relax</td>\n",
       "      <td>NaN</td>\n",
       "      <td>NaN</td>\n",
       "      <td>NaN</td>\n",
       "      <td>-6.721376</td>\n",
       "      <td>14.4033</td>\n",
       "      <td>Be2Ir1Pa1</td>\n",
       "      <td>True</td>\n",
       "      <td>252.3</td>\n",
       "      <td>PBE</td>\n",
       "      <td>4</td>\n",
       "      <td>NaN</td>\n",
       "      <td>57.6133</td>\n",
       "    </tr>\n",
       "    <tr>\n",
       "      <th>1</th>\n",
       "      <td>standard</td>\n",
       "      <td>NaN</td>\n",
       "      <td>0.060465</td>\n",
       "      <td>-0.618895</td>\n",
       "      <td>-6.536939</td>\n",
       "      <td>20.4781</td>\n",
       "      <td>Ni1Pd1Y2</td>\n",
       "      <td>True</td>\n",
       "      <td>520.0</td>\n",
       "      <td>PBE</td>\n",
       "      <td>4</td>\n",
       "      <td>NaN</td>\n",
       "      <td>81.9125</td>\n",
       "    </tr>\n",
       "    <tr>\n",
       "      <th>2</th>\n",
       "      <td>fine_relax</td>\n",
       "      <td>0.412761</td>\n",
       "      <td>NaN</td>\n",
       "      <td>NaN</td>\n",
       "      <td>-5.988129</td>\n",
       "      <td>26.3910</td>\n",
       "      <td>Er2Ta1Tb1</td>\n",
       "      <td>True</td>\n",
       "      <td>223.7</td>\n",
       "      <td>PBE</td>\n",
       "      <td>4</td>\n",
       "      <td>NaN</td>\n",
       "      <td>105.5640</td>\n",
       "    </tr>\n",
       "    <tr>\n",
       "      <th>3</th>\n",
       "      <td>standard</td>\n",
       "      <td>1.603898</td>\n",
       "      <td>0.936115</td>\n",
       "      <td>0.936115</td>\n",
       "      <td>-5.704766</td>\n",
       "      <td>24.5555</td>\n",
       "      <td>K1Mn2Th1</td>\n",
       "      <td>True</td>\n",
       "      <td>520.0</td>\n",
       "      <td>PBE</td>\n",
       "      <td>4</td>\n",
       "      <td>NaN</td>\n",
       "      <td>98.2219</td>\n",
       "    </tr>\n",
       "    <tr>\n",
       "      <th>4</th>\n",
       "      <td>fine_relax</td>\n",
       "      <td>0.457712</td>\n",
       "      <td>NaN</td>\n",
       "      <td>NaN</td>\n",
       "      <td>-6.387080</td>\n",
       "      <td>25.4143</td>\n",
       "      <td>Pr2Si1Ta1</td>\n",
       "      <td>True</td>\n",
       "      <td>245.3</td>\n",
       "      <td>PBE</td>\n",
       "      <td>4</td>\n",
       "      <td>NaN</td>\n",
       "      <td>101.6570</td>\n",
       "    </tr>\n",
       "  </tbody>\n",
       "</table>\n",
       "</div>"
      ],
      "text/plain": [
       "  configuration  magnetic_moment  stability   delta_e  total_energy  \\\n",
       "0    fine_relax              NaN        NaN       NaN     -6.721376   \n",
       "1      standard              NaN   0.060465 -0.618895     -6.536939   \n",
       "2    fine_relax         0.412761        NaN       NaN     -5.988129   \n",
       "3      standard         1.603898   0.936115  0.936115     -5.704766   \n",
       "4    fine_relax         0.457712        NaN       NaN     -6.387080   \n",
       "\n",
       "   volume_pa composition  dft_converged  dft_cutoff_energy  \\\n",
       "0    14.4033   Be2Ir1Pa1           True              252.3   \n",
       "1    20.4781    Ni1Pd1Y2           True              520.0   \n",
       "2    26.3910   Er2Ta1Tb1           True              223.7   \n",
       "3    24.5555    K1Mn2Th1           True              520.0   \n",
       "4    25.4143   Pr2Si1Ta1           True              245.3   \n",
       "\n",
       "  dft_exchange_correlation_functional  crystal_structure_number_of_atoms  \\\n",
       "0                                 PBE                                  4   \n",
       "1                                 PBE                                  4   \n",
       "2                                 PBE                                  4   \n",
       "3                                 PBE                                  4   \n",
       "4                                 PBE                                  4   \n",
       "\n",
       "   crystal_structure_space_group  crystal_structure_volume  \n",
       "0                            NaN                   57.6133  \n",
       "1                            NaN                   81.9125  \n",
       "2                            NaN                  105.5640  \n",
       "3                            NaN                   98.2219  \n",
       "4                            NaN                  101.6570  "
      ]
     },
     "execution_count": 9,
     "metadata": {},
     "output_type": "execute_result"
    }
   ],
   "source": [
    "X.head()"
   ]
  },
  {
   "cell_type": "code",
   "execution_count": 10,
   "metadata": {},
   "outputs": [
    {
     "name": "stdout",
     "output_type": "stream",
     "text": [
      "DC:{}\n",
      "Dataset:{\"inputs\": [\"configuration\", \"magnetic_moment\", \"stability\", \"delta_e\", \"total_energy\", \"volume_pa\", \"composition\", \"dft_converged\", \"dft_cutoff_energy\", \"dft_exchange_correlation_functional\", \"crystal_structure_number_of_atoms\", \"crystal_structure_space_group\", \"crystal_structure_volume\"], \"outputs\": [\"bandgap\"], \"input_descriptions\": [], \"output_descriptions\": [], \"type\": \"tabular\", \"hash\": [], \"version\": \"0.1\", \"references\": [], \"sources\": [\"https://data.materialsdatafacility.org/public/foundry_dataframe.json\"]}\n"
     ]
    }
   ],
   "source": [
    "f.describe()"
   ]
  },
  {
   "cell_type": "markdown",
   "metadata": {},
   "source": [
    "# See Foundry clients"
   ]
  },
  {
   "cell_type": "code",
   "execution_count": 11,
   "metadata": {},
   "outputs": [
    {
     "data": {
      "text/plain": [
       "<dlhub_sdk.client.DLHubClient at 0x118982da0>"
      ]
     },
     "execution_count": 11,
     "metadata": {},
     "output_type": "execute_result"
    }
   ],
   "source": [
    "f.dlhub_client"
   ]
  },
  {
   "cell_type": "code",
   "execution_count": 12,
   "metadata": {},
   "outputs": [
    {
     "data": {
      "text/plain": [
       "<mdf_forge.forge.Forge at 0x1189816d8>"
      ]
     },
     "execution_count": 12,
     "metadata": {},
     "output_type": "execute_result"
    }
   ],
   "source": [
    "f.forge_client"
   ]
  },
  {
   "cell_type": "code",
   "execution_count": 13,
   "metadata": {},
   "outputs": [
    {
     "data": {
      "text/plain": [
       "<globus_sdk.transfer.client.TransferClient at 0x118965630>"
      ]
     },
     "execution_count": 13,
     "metadata": {},
     "output_type": "execute_result"
    }
   ],
   "source": [
    "f.transfer_client"
   ]
  },
  {
   "cell_type": "markdown",
   "metadata": {},
   "source": [
    "# Run to Create Dataframe and Metadata Locally without Fetch"
   ]
  },
  {
   "cell_type": "code",
   "execution_count": null,
   "metadata": {},
   "outputs": [],
   "source": [
    "mdf = Forge()\n",
    "r = mdf.match_source_names(\"oqmd\").match_resource_types(\"record\").search(limit=200)"
   ]
  },
  {
   "cell_type": "code",
   "execution_count": null,
   "metadata": {},
   "outputs": [],
   "source": [
    "def oqmd_to_df(res):\n",
    "    frame = []\n",
    "    \n",
    "    for r in res:\n",
    "        record = {}\n",
    "        \n",
    "        # OQMD Block\n",
    "        record['bandgap'] = r['oqmd'].get('band_gap', {}).get('value', None)\n",
    "        record['configuration'] = r['oqmd'].get('configuration', None)\n",
    "        record['magnetic_moment'] = r['oqmd'].get('magnetic_moment',{}).get('value', None)\n",
    "        record['stability'] = r['oqmd'].get('stability', {}).get('value', None)\n",
    "        record['delta_e'] = r['oqmd'].get('delta_e', {}).get('value', None)\n",
    "        record['total_energy'] = r['oqmd'].get('total_energy', {}).get('value', None)\n",
    "        record['volume_pa'] = r['oqmd'].get('volume_pa', {}).get('value', None)\n",
    "        \n",
    "        # Material Block\n",
    "        record['composition'] = r.get('material', {}).get('composition',\"\")\n",
    "        \n",
    "        #DFT Block\n",
    "        prefix = \"dft_\"\n",
    "        record[prefix+'converged'] = r['dft'].get('converged', None)\n",
    "        record[prefix+'cutoff_energy'] = r['dft'].get('cutoff_energy', None)\n",
    "        record[prefix+'exchange_correlation_functional'] = r['dft'].get('exchange_correlation_functional', None)\n",
    "        \n",
    "        # Crystal Structure Block\n",
    "        prefix = \"crystal_structure_\"\n",
    "        record[prefix+'number_of_atoms'] = r['crystal_structure'].get('number_of_atoms', None)\n",
    "        record[prefix+'space_group'] = r['crystal_structure'].get('space_group', None)\n",
    "        record[prefix+'volume'] = r['crystal_structure'].get('volume', None)\n",
    "\n",
    "        frame.append(record)\n",
    "    return frame"
   ]
  },
  {
   "cell_type": "code",
   "execution_count": null,
   "metadata": {},
   "outputs": [],
   "source": [
    "df = pd.DataFrame(oqmd_to_df(r))\n",
    "df"
   ]
  },
  {
   "cell_type": "code",
   "execution_count": null,
   "metadata": {},
   "outputs": [],
   "source": [
    "oqmd_dict = {\n",
    "    \"dc\":{},\n",
    "    \"mdf\":{},\n",
    "    \"foundry\":{\n",
    "        \"inputs\":['configuration',\n",
    "             'magnetic_moment',\n",
    "             'stability',\n",
    "             'delta_e',\n",
    "             'total_energy',\n",
    "             'volume_pa',\n",
    "             'composition',\n",
    "             'dft_converged',\n",
    "             'dft_cutoff_energy',\n",
    "             'dft_exchange_correlation_functional',\n",
    "             'crystal_structure_number_of_atoms',\n",
    "             'crystal_structure_space_group',\n",
    "             'crystal_structure_volume'],\n",
    "        \"outputs\":\"bandgap\",\n",
    "        \"type\":\"tabular\"\n",
    "    }\n",
    "}"
   ]
  }
 ],
 "metadata": {
  "kernelspec": {
   "display_name": "Python 3",
   "language": "python",
   "name": "python3"
  },
  "language_info": {
   "codemirror_mode": {
    "name": "ipython",
    "version": 3
   },
   "file_extension": ".py",
   "mimetype": "text/x-python",
   "name": "python",
   "nbconvert_exporter": "python",
   "pygments_lexer": "ipython3",
   "version": "3.7.3"
  }
 },
 "nbformat": 4,
 "nbformat_minor": 4
}
