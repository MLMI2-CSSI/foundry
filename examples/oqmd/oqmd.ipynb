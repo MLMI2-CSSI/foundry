{
 "cells": [
  {
   "cell_type": "markdown",
   "metadata": {
    "id": "4OS5glXenibP"
   },
   "source": [
    "<img src=\"https://raw.githubusercontent.com/MLMI2-CSSI/foundry/main/assets/foundry-black.png\" width=450>"
   ]
  },
  {
   "cell_type": "markdown",
   "metadata": {
    "id": "Qkly-tmRgdfZ"
   },
   "source": [
    "# Foundry OQMD Tutorial for Beginners"
   ]
  },
  {
   "cell_type": "markdown",
   "metadata": {},
   "source": [
    "[![Open In Colab](https://colab.research.google.com/assets/colab-badge.svg)](https://colab.research.google.com/github/MLMI2-CSSI/foundry/blob/main/examples/oqmd/oqmd.ipynb)"
   ]
  },
  {
   "cell_type": "markdown",
   "metadata": {},
   "source": [
    "This introduction uses Foundry to:\n",
    "\n",
    "\n",
    "1.   Load a large dataset from Foundry\n",
    "\n",
    "\n",
    "This notebook is set up to run as a [Google Colaboratory](https://colab.research.google.com/notebooks/intro.ipynb#scrollTo=5fCEDCU_qrC0) notebook, which allows you to run python code in the browser, or as a [Jupyter](https://jupyter.org/) notebook, which runs locally on your machine.\n",
    "\n",
    "**Unless you have Google Colab Pro, there will be insufficient RAM and the notebook may crash; we strongly recommend running this notebook locally instead.**\n",
    "\n",
    "The code in the next cell will detect your environment to make sure that only cells that match your environment will run."
   ]
  },
  {
   "cell_type": "code",
   "execution_count": null,
   "metadata": {
    "id": "uqLL5o6Ir3b8"
   },
   "outputs": [],
   "source": [
    "try:\n",
    "    import google.colab\n",
    "    no_local_server=True\n",
    "    no_browser=True\n",
    "    globus=False\n",
    "except: # when not in google colab\n",
    "    no_local_server=False\n",
    "    no_browser=False\n",
    "    globus=True"
   ]
  },
  {
   "cell_type": "markdown",
   "metadata": {
    "id": "r194Bg-n_H7a"
   },
   "source": [
    "# Installing Foundry\n",
    "First we'll need to install Foundry. If you're using Google Colab, this code block will install this package into the Colab environment.\n",
    "\n",
    "\n",
    "If you are running locally, it will install this module onto your machine if you do not already have it. We also have a [requirements file](https://github.com/MLMI2-CSSI/foundry/tree/main/examples/oqmd) included with this notebook. You can run `pip install -r requirements.txt` in your terminal to set up your environment locally."
   ]
  },
  {
   "cell_type": "code",
   "execution_count": 6,
   "metadata": {
    "id": "0OZafN2AFzTE"
   },
   "outputs": [
    {
     "name": "stdout",
     "output_type": "stream",
     "text": [
      "Collecting foundry_ml\n",
      "  Downloading foundry_ml-0.7.1-py3-none-any.whl.metadata (6.5 kB)\n",
      "Requirement already satisfied: mdf-forge>=0.8.0 in /Library/Frameworks/Python.framework/Versions/3.10/lib/python3.10/site-packages (from foundry_ml) (0.8.0)\n",
      "Requirement already satisfied: globus-sdk<4,>=3 in /Library/Frameworks/Python.framework/Versions/3.10/lib/python3.10/site-packages (from foundry_ml) (3.32.0)\n",
      "Requirement already satisfied: dlhub-sdk>=1.0.0 in /Library/Frameworks/Python.framework/Versions/3.10/lib/python3.10/site-packages (from foundry_ml) (2.1.0)\n",
      "Requirement already satisfied: numpy>=1.15.4 in /Library/Frameworks/Python.framework/Versions/3.10/lib/python3.10/site-packages (from foundry_ml) (1.26.2)\n",
      "Requirement already satisfied: pandas>=0.23.4 in /Library/Frameworks/Python.framework/Versions/3.10/lib/python3.10/site-packages (from foundry_ml) (1.5.3)\n",
      "Requirement already satisfied: pydantic>=1.4 in /Library/Frameworks/Python.framework/Versions/3.10/lib/python3.10/site-packages (from foundry_ml) (1.10.13)\n",
      "Requirement already satisfied: mdf-connect-client>=0.4.0 in /Library/Frameworks/Python.framework/Versions/3.10/lib/python3.10/site-packages (from foundry_ml) (0.4.1)\n",
      "Requirement already satisfied: h5py>=2.10.0 in /Library/Frameworks/Python.framework/Versions/3.10/lib/python3.10/site-packages (from foundry_ml) (3.10.0)\n",
      "Requirement already satisfied: json2table in /Library/Frameworks/Python.framework/Versions/3.10/lib/python3.10/site-packages (from foundry_ml) (1.1.5)\n",
      "Requirement already satisfied: requests>=2.24.0 in /Library/Frameworks/Python.framework/Versions/3.10/lib/python3.10/site-packages (from dlhub-sdk>=1.0.0->foundry_ml) (2.31.0)\n",
      "Requirement already satisfied: mdf-toolbox>=0.5.4 in /Library/Frameworks/Python.framework/Versions/3.10/lib/python3.10/site-packages (from dlhub-sdk>=1.0.0->foundry_ml) (0.6.0)\n",
      "Requirement already satisfied: jsonschema>=3.2.0 in /Library/Frameworks/Python.framework/Versions/3.10/lib/python3.10/site-packages (from dlhub-sdk>=1.0.0->foundry_ml) (4.20.0)\n",
      "Requirement already satisfied: globus-compute-sdk>=2.0.0 in /Library/Frameworks/Python.framework/Versions/3.10/lib/python3.10/site-packages (from dlhub-sdk>=1.0.0->foundry_ml) (2.7.0)\n",
      "Requirement already satisfied: PyGithub in /Library/Frameworks/Python.framework/Versions/3.10/lib/python3.10/site-packages (from dlhub-sdk>=1.0.0->foundry_ml) (2.1.1)\n",
      "Requirement already satisfied: pyjwt<3.0.0,>=2.0.0 in /Library/Frameworks/Python.framework/Versions/3.10/lib/python3.10/site-packages (from pyjwt[crypto]<3.0.0,>=2.0.0->globus-sdk<4,>=3->foundry_ml) (2.8.0)\n",
      "Requirement already satisfied: cryptography!=3.4.0,>=3.3.1 in /Library/Frameworks/Python.framework/Versions/3.10/lib/python3.10/site-packages (from globus-sdk<4,>=3->foundry_ml) (41.0.7)\n",
      "Requirement already satisfied: nameparser>=1.0.4 in /Library/Frameworks/Python.framework/Versions/3.10/lib/python3.10/site-packages (from mdf-connect-client>=0.4.0->foundry_ml) (1.1.3)\n",
      "Requirement already satisfied: tqdm>=4.19.4 in /Library/Frameworks/Python.framework/Versions/3.10/lib/python3.10/site-packages (from mdf-forge>=0.8.0->foundry_ml) (4.66.1)\n",
      "Requirement already satisfied: python-dateutil>=2.8.1 in /Library/Frameworks/Python.framework/Versions/3.10/lib/python3.10/site-packages (from pandas>=0.23.4->foundry_ml) (2.8.2)\n",
      "Requirement already satisfied: pytz>=2020.1 in /Library/Frameworks/Python.framework/Versions/3.10/lib/python3.10/site-packages (from pandas>=0.23.4->foundry_ml) (2023.3.post1)\n",
      "Requirement already satisfied: typing-extensions>=4.2.0 in /Library/Frameworks/Python.framework/Versions/3.10/lib/python3.10/site-packages (from pydantic>=1.4->foundry_ml) (4.8.0)\n",
      "Requirement already satisfied: cffi>=1.12 in /Library/Frameworks/Python.framework/Versions/3.10/lib/python3.10/site-packages (from cryptography!=3.4.0,>=3.3.1->globus-sdk<4,>=3->foundry_ml) (1.16.0)\n",
      "Requirement already satisfied: globus-compute-common==0.3.0 in /Library/Frameworks/Python.framework/Versions/3.10/lib/python3.10/site-packages (from globus-compute-sdk>=2.0.0->dlhub-sdk>=1.0.0->foundry_ml) (0.3.0)\n",
      "Requirement already satisfied: websockets==10.3 in /Library/Frameworks/Python.framework/Versions/3.10/lib/python3.10/site-packages (from globus-compute-sdk>=2.0.0->dlhub-sdk>=1.0.0->foundry_ml) (10.3)\n",
      "Requirement already satisfied: packaging>=21.1 in /Library/Frameworks/Python.framework/Versions/3.10/lib/python3.10/site-packages (from globus-compute-sdk>=2.0.0->dlhub-sdk>=1.0.0->foundry_ml) (23.2)\n",
      "Requirement already satisfied: pika>=1.2 in /Library/Frameworks/Python.framework/Versions/3.10/lib/python3.10/site-packages (from globus-compute-sdk>=2.0.0->dlhub-sdk>=1.0.0->foundry_ml) (1.3.2)\n",
      "Requirement already satisfied: tblib==1.7.0 in /Library/Frameworks/Python.framework/Versions/3.10/lib/python3.10/site-packages (from globus-compute-sdk>=2.0.0->dlhub-sdk>=1.0.0->foundry_ml) (1.7.0)\n",
      "Requirement already satisfied: texttable>=1.6.7 in /Library/Frameworks/Python.framework/Versions/3.10/lib/python3.10/site-packages (from globus-compute-sdk>=2.0.0->dlhub-sdk>=1.0.0->foundry_ml) (1.7.0)\n",
      "Requirement already satisfied: dill==0.3.5.1 in /Library/Frameworks/Python.framework/Versions/3.10/lib/python3.10/site-packages (from globus-compute-sdk>=2.0.0->dlhub-sdk>=1.0.0->foundry_ml) (0.3.5.1)\n",
      "Requirement already satisfied: attrs>=22.2.0 in /Library/Frameworks/Python.framework/Versions/3.10/lib/python3.10/site-packages (from jsonschema>=3.2.0->dlhub-sdk>=1.0.0->foundry_ml) (23.1.0)\n",
      "Requirement already satisfied: jsonschema-specifications>=2023.03.6 in /Library/Frameworks/Python.framework/Versions/3.10/lib/python3.10/site-packages (from jsonschema>=3.2.0->dlhub-sdk>=1.0.0->foundry_ml) (2023.11.1)\n",
      "Requirement already satisfied: referencing>=0.28.4 in /Library/Frameworks/Python.framework/Versions/3.10/lib/python3.10/site-packages (from jsonschema>=3.2.0->dlhub-sdk>=1.0.0->foundry_ml) (0.31.0)\n",
      "Requirement already satisfied: rpds-py>=0.7.1 in /Library/Frameworks/Python.framework/Versions/3.10/lib/python3.10/site-packages (from jsonschema>=3.2.0->dlhub-sdk>=1.0.0->foundry_ml) (0.13.1)\n",
      "Requirement already satisfied: fair-research-login>=0.2.4 in /Library/Frameworks/Python.framework/Versions/3.10/lib/python3.10/site-packages (from mdf-toolbox>=0.5.4->dlhub-sdk>=1.0.0->foundry_ml) (0.3.1)\n",
      "Requirement already satisfied: globus-nexus-client>=0.4.1 in /Library/Frameworks/Python.framework/Versions/3.10/lib/python3.10/site-packages (from mdf-toolbox>=0.5.4->dlhub-sdk>=1.0.0->foundry_ml) (0.4.1)\n",
      "Collecting jsonschema>=3.2.0 (from dlhub-sdk>=1.0.0->foundry_ml)\n",
      "  Using cached jsonschema-4.3.0-py3-none-any.whl (71 kB)\n",
      "Requirement already satisfied: pyrsistent!=0.17.0,!=0.17.1,!=0.17.2,>=0.14.0 in /Library/Frameworks/Python.framework/Versions/3.10/lib/python3.10/site-packages (from jsonschema>=3.2.0->dlhub-sdk>=1.0.0->foundry_ml) (0.20.0)\n",
      "Requirement already satisfied: six>=1.5 in /Library/Frameworks/Python.framework/Versions/3.10/lib/python3.10/site-packages (from python-dateutil>=2.8.1->pandas>=0.23.4->foundry_ml) (1.16.0)\n",
      "Requirement already satisfied: charset-normalizer<4,>=2 in /Library/Frameworks/Python.framework/Versions/3.10/lib/python3.10/site-packages (from requests>=2.24.0->dlhub-sdk>=1.0.0->foundry_ml) (3.3.2)\n",
      "Requirement already satisfied: idna<4,>=2.5 in /Library/Frameworks/Python.framework/Versions/3.10/lib/python3.10/site-packages (from requests>=2.24.0->dlhub-sdk>=1.0.0->foundry_ml) (3.6)\n",
      "Requirement already satisfied: urllib3<3,>=1.21.1 in /Library/Frameworks/Python.framework/Versions/3.10/lib/python3.10/site-packages (from requests>=2.24.0->dlhub-sdk>=1.0.0->foundry_ml) (2.1.0)\n",
      "Requirement already satisfied: certifi>=2017.4.17 in /Library/Frameworks/Python.framework/Versions/3.10/lib/python3.10/site-packages (from requests>=2.24.0->dlhub-sdk>=1.0.0->foundry_ml) (2023.7.22)\n",
      "Requirement already satisfied: pynacl>=1.4.0 in /Library/Frameworks/Python.framework/Versions/3.10/lib/python3.10/site-packages (from PyGithub->dlhub-sdk>=1.0.0->foundry_ml) (1.5.0)\n",
      "Requirement already satisfied: Deprecated in /Library/Frameworks/Python.framework/Versions/3.10/lib/python3.10/site-packages (from PyGithub->dlhub-sdk>=1.0.0->foundry_ml) (1.2.14)\n",
      "Requirement already satisfied: pycparser in /Library/Frameworks/Python.framework/Versions/3.10/lib/python3.10/site-packages (from cffi>=1.12->cryptography!=3.4.0,>=3.3.1->globus-sdk<4,>=3->foundry_ml) (2.21)\n"
     ]
    },
    {
     "name": "stdout",
     "output_type": "stream",
     "text": [
      "Requirement already satisfied: wrapt<2,>=1.10 in /Library/Frameworks/Python.framework/Versions/3.10/lib/python3.10/site-packages (from Deprecated->PyGithub->dlhub-sdk>=1.0.0->foundry_ml) (1.14.1)\n",
      "Downloading foundry_ml-0.7.1-py3-none-any.whl (26 kB)\n",
      "Installing collected packages: jsonschema, foundry_ml\n",
      "  Attempting uninstall: jsonschema\n",
      "    Found existing installation: jsonschema 4.20.0\n",
      "    Uninstalling jsonschema-4.20.0:\n",
      "      Successfully uninstalled jsonschema-4.20.0\n",
      "\u001b[31mERROR: pip's dependency resolver does not currently take into account all the packages that are installed. This behaviour is the source of the following dependency conflicts.\n",
      "jupyter-events 0.9.0 requires jsonschema[format-nongpl]>=4.18.0, but you have jsonschema 4.3.0 which is incompatible.\n",
      "jupyterlab-server 2.25.2 requires jsonschema>=4.18.0, but you have jsonschema 4.3.0 which is incompatible.\u001b[0m\u001b[31m\n",
      "\u001b[0mSuccessfully installed foundry_ml-0.7.1 jsonschema-4.3.0\n"
     ]
    }
   ],
   "source": [
    "!pip install foundry_ml"
   ]
  },
  {
   "cell_type": "markdown",
   "metadata": {
    "id": "nMLwFc2N_WzH"
   },
   "source": [
    "# Importing and Instantiating Foundry\n",
    "Now we can import Foundry!"
   ]
  },
  {
   "cell_type": "code",
   "execution_count": null,
   "metadata": {
    "id": "VbPzqDbjgdfe"
   },
   "outputs": [],
   "source": [
    "from foundry import Foundry"
   ]
  },
  {
   "cell_type": "markdown",
   "metadata": {
    "id": "alWGfDPO_b_P"
   },
   "source": [
    "We'll also need to instantiate it. To do so, you'll need a [Globus](https://www.globus.org) account. Once you have your account, you can instantiate Foundry using the code below. When you instantiate Foundry locally, be sure to have your Globus endpoint turned on (you can do that with [Globus Connect Personal](https://www.globus.org/globus-connect-personal)). When you instantiate Foundry on Google Colab, you'll be given a link in the cell's output and asked to enter the provided auth code."
   ]
  },
  {
   "cell_type": "code",
   "execution_count": 2,
   "metadata": {
    "id": "lknToTpPgdff"
   },
   "outputs": [],
   "source": [
    "f = Foundry()"
   ]
  },
  {
   "cell_type": "markdown",
   "metadata": {
    "id": "MjilgCtD_i7R"
   },
   "source": [
    "# Loading the Data\n",
    "We can load the data using `f.load()` and use `f.load_data()` to load the data into the client."
   ]
  },
  {
   "cell_type": "code",
   "execution_count": 3,
   "metadata": {
    "id": "jdyok1vMgdff",
    "outputId": "de9f015c-3466-4d88-b5fb-41228c650eac"
   },
   "outputs": [],
   "source": [
    "datasets = f.search('foundry_oqmd_band_gaps_v1.1')"
   ]
  },
  {
   "cell_type": "code",
   "execution_count": 4,
   "metadata": {},
   "outputs": [],
   "source": [
    "dataset = datasets.get_dataset_by_name('foundry_oqmd_band_gaps_v1.1')"
   ]
  },
  {
   "cell_type": "code",
   "execution_count": 5,
   "metadata": {
    "id": "29ugxpQlsSsY",
    "outputId": "a1f61919-e3c3-41a3-9e3f-ed2500b5e805"
   },
   "outputs": [
    {
     "name": "stderr",
     "output_type": "stream",
     "text": [
      "Processing records: 100%|███████████████████████████████████████████████████████████████████████████████████████████████████████████| 1/1 [00:00<00:00, 1608.25it/s]\n",
      "Transferring data:   0%|                                                                                                                      | 0/1 [00:03<?, ?it/s]\n"
     ]
    },
    {
     "ename": "TransferAPIError",
     "evalue": "('POST', 'https://transfer.api.globus.org/v0.10/transfer', 'Bearer', 409, 'Conflict', 'A transfer with identical paths has not yet completed', 'rp2Yi07PQ')",
     "output_type": "error",
     "traceback": [
      "\u001b[0;31m---------------------------------------------------------------------------\u001b[0m",
      "\u001b[0;31mTransferAPIError\u001b[0m                          Traceback (most recent call last)",
      "Cell \u001b[0;32mIn[5], line 1\u001b[0m\n\u001b[0;32m----> 1\u001b[0m X,y \u001b[38;5;241m=\u001b[39m \u001b[43mdataset\u001b[49m\u001b[38;5;241;43m.\u001b[39;49m\u001b[43mget_as_dict\u001b[49m\u001b[43m(\u001b[49m\u001b[43m)\u001b[49m[\u001b[38;5;124m\"\u001b[39m\u001b[38;5;124mtrain\u001b[39m\u001b[38;5;124m\"\u001b[39m]\n",
      "File \u001b[0;32m~/projects/materials_science/foundry/foundry/foundry_dataset.py:73\u001b[0m, in \u001b[0;36mFoundryDataset.get_as_dict\u001b[0;34m(self, split)\u001b[0m\n\u001b[1;32m     63\u001b[0m \u001b[38;5;28;01mdef\u001b[39;00m \u001b[38;5;21mget_as_dict\u001b[39m(\u001b[38;5;28mself\u001b[39m, split: \u001b[38;5;28mstr\u001b[39m\u001b[38;5;241m=\u001b[39m\u001b[38;5;28;01mNone\u001b[39;00m):\n\u001b[1;32m     64\u001b[0m \u001b[38;5;250m    \u001b[39m\u001b[38;5;124;03m\"\"\"Convert FoundryDatset to a Pandas Dataframe object\u001b[39;00m\n\u001b[1;32m     65\u001b[0m \n\u001b[1;32m     66\u001b[0m \u001b[38;5;124;03m    Arguments:\u001b[39;00m\n\u001b[0;32m   (...)\u001b[0m\n\u001b[1;32m     71\u001b[0m \n\u001b[1;32m     72\u001b[0m \u001b[38;5;124;03m    \"\"\"\u001b[39;00m\n\u001b[0;32m---> 73\u001b[0m     \u001b[38;5;28;43mself\u001b[39;49m\u001b[38;5;241;43m.\u001b[39;49m\u001b[43mdownload_if_not_downloaded\u001b[49m\u001b[43m(\u001b[49m\u001b[43m)\u001b[49m\n\u001b[1;32m     74\u001b[0m     \u001b[38;5;28;01mreturn\u001b[39;00m \u001b[38;5;28mself\u001b[39m\u001b[38;5;241m.\u001b[39m_foundry_cache\u001b[38;5;241m.\u001b[39mload_as_dict(\u001b[38;5;28mself\u001b[39m\u001b[38;5;241m.\u001b[39mdataset_name,\n\u001b[1;32m     75\u001b[0m                                             \u001b[38;5;28mself\u001b[39m\u001b[38;5;241m.\u001b[39mfoundry_schema,\n\u001b[1;32m     76\u001b[0m                                             \u001b[38;5;28mself\u001b[39m\u001b[38;5;241m.\u001b[39mglobus)\n",
      "File \u001b[0;32m~/projects/materials_science/foundry/foundry/foundry_dataset.py:126\u001b[0m, in \u001b[0;36mFoundryDataset.download_if_not_downloaded\u001b[0;34m(self)\u001b[0m\n\u001b[1;32m    125\u001b[0m \u001b[38;5;28;01mdef\u001b[39;00m \u001b[38;5;21mdownload_if_not_downloaded\u001b[39m(\u001b[38;5;28mself\u001b[39m):\n\u001b[0;32m--> 126\u001b[0m     \u001b[38;5;28;43mself\u001b[39;49m\u001b[38;5;241;43m.\u001b[39;49m\u001b[43m_foundry_cache\u001b[49m\u001b[38;5;241;43m.\u001b[39;49m\u001b[43mdownload_to_cache\u001b[49m\u001b[43m(\u001b[49m\u001b[38;5;28;43mself\u001b[39;49m\u001b[38;5;241;43m.\u001b[39;49m\u001b[43mdataset_name\u001b[49m\u001b[43m,\u001b[49m\u001b[43m \u001b[49m\n\u001b[1;32m    127\u001b[0m \u001b[43m                                          \u001b[49m\u001b[38;5;28;43mself\u001b[39;49m\u001b[38;5;241;43m.\u001b[39;49m\u001b[43mfoundry_schema\u001b[49m\u001b[38;5;241;43m.\u001b[39;49m\u001b[43msplits\u001b[49m\u001b[43m,\u001b[49m\u001b[43m \u001b[49m\n\u001b[1;32m    128\u001b[0m \u001b[43m                                          \u001b[49m\u001b[38;5;28;43mself\u001b[39;49m\u001b[38;5;241;43m.\u001b[39;49m\u001b[43mglobus\u001b[49m\u001b[43m,\u001b[49m\u001b[43m \u001b[49m\n\u001b[1;32m    129\u001b[0m \u001b[43m                                          \u001b[49m\u001b[38;5;28;43mself\u001b[39;49m\u001b[38;5;241;43m.\u001b[39;49m\u001b[43minterval\u001b[49m\u001b[43m,\u001b[49m\u001b[43m \u001b[49m\n\u001b[1;32m    130\u001b[0m \u001b[43m                                          \u001b[49m\u001b[38;5;28;43mself\u001b[39;49m\u001b[38;5;241;43m.\u001b[39;49m\u001b[43mparallel_https\u001b[49m\u001b[43m,\u001b[49m\u001b[43m \u001b[49m\n\u001b[1;32m    131\u001b[0m \u001b[43m                                          \u001b[49m\u001b[38;5;28;43mself\u001b[39;49m\u001b[38;5;241;43m.\u001b[39;49m\u001b[43mverbose\u001b[49m\u001b[43m,\u001b[49m\n\u001b[1;32m    132\u001b[0m \u001b[43m                                          \u001b[49m\u001b[38;5;28;43mself\u001b[39;49m\u001b[38;5;241;43m.\u001b[39;49m\u001b[43mtransfer_client\u001b[49m\u001b[43m)\u001b[49m\n",
      "File \u001b[0;32m~/projects/materials_science/foundry/foundry/foundry_cache.py:62\u001b[0m, in \u001b[0;36mFoundryCache.download_to_cache\u001b[0;34m(self, dataset_name, splits, globus, interval, parallel_https, verbose, transfer_client)\u001b[0m\n\u001b[1;32m     60\u001b[0m \u001b[38;5;28;01mif\u001b[39;00m \u001b[38;5;129;01mnot\u001b[39;00m \u001b[38;5;28mself\u001b[39m\u001b[38;5;241m.\u001b[39mvalidate_local_dataset_storage(dataset_name, splits):\n\u001b[1;32m     61\u001b[0m     \u001b[38;5;28;01mif\u001b[39;00m globus:\n\u001b[0;32m---> 62\u001b[0m         \u001b[38;5;28;43mself\u001b[39;49m\u001b[38;5;241;43m.\u001b[39;49m\u001b[43mdownload_via_globus\u001b[49m\u001b[43m(\u001b[49m\u001b[43mdataset_name\u001b[49m\u001b[43m,\u001b[49m\u001b[43m \u001b[49m\u001b[43minterval\u001b[49m\u001b[43m)\u001b[49m\n\u001b[1;32m     63\u001b[0m     \u001b[38;5;28;01melse\u001b[39;00m:\n\u001b[1;32m     64\u001b[0m         \u001b[38;5;28mself\u001b[39m\u001b[38;5;241m.\u001b[39mdownload_via_http(dataset_name, parallel_https, verbose, \u001b[38;5;28mself\u001b[39m\u001b[38;5;241m.\u001b[39mtransfer_client)\n",
      "File \u001b[0;32m~/projects/materials_science/foundry/foundry/foundry_cache.py:85\u001b[0m, in \u001b[0;36mFoundryCache.download_via_globus\u001b[0;34m(self, dataset_name, interval)\u001b[0m\n\u001b[1;32m     80\u001b[0m \u001b[38;5;66;03m# query for mdf data representation\u001b[39;00m\n\u001b[1;32m     81\u001b[0m res \u001b[38;5;241m=\u001b[39m \u001b[38;5;28mself\u001b[39m\u001b[38;5;241m.\u001b[39mforge_client\u001b[38;5;241m.\u001b[39msearch(\n\u001b[1;32m     82\u001b[0m     \u001b[38;5;124mf\u001b[39m\u001b[38;5;124m\"\u001b[39m\u001b[38;5;124mmdf.source_id:\u001b[39m\u001b[38;5;132;01m{\u001b[39;00mdataset_name\u001b[38;5;132;01m}\u001b[39;00m\u001b[38;5;124m\"\u001b[39m, advanced\u001b[38;5;241m=\u001b[39m\u001b[38;5;28;01mTrue\u001b[39;00m\n\u001b[1;32m     83\u001b[0m )\n\u001b[0;32m---> 85\u001b[0m \u001b[38;5;28;43mself\u001b[39;49m\u001b[38;5;241;43m.\u001b[39;49m\u001b[43mforge_client\u001b[49m\u001b[38;5;241;43m.\u001b[39;49m\u001b[43mglobus_download\u001b[49m\u001b[43m(\u001b[49m\n\u001b[1;32m     86\u001b[0m \u001b[43m    \u001b[49m\u001b[43mres\u001b[49m\u001b[43m,\u001b[49m\n\u001b[1;32m     87\u001b[0m \u001b[43m    \u001b[49m\u001b[43mdest\u001b[49m\u001b[38;5;241;43m=\u001b[39;49m\u001b[38;5;28;43mself\u001b[39;49m\u001b[38;5;241;43m.\u001b[39;49m\u001b[43mlocal_cache_dir\u001b[49m\u001b[43m,\u001b[49m\n\u001b[1;32m     88\u001b[0m \u001b[43m    \u001b[49m\u001b[43minterval\u001b[49m\u001b[38;5;241;43m=\u001b[39;49m\u001b[43minterval\u001b[49m\u001b[43m,\u001b[49m\n\u001b[1;32m     89\u001b[0m \u001b[43m    \u001b[49m\u001b[43mdownload_datasets\u001b[49m\u001b[38;5;241;43m=\u001b[39;49m\u001b[38;5;28;43;01mTrue\u001b[39;49;00m\u001b[43m,\u001b[49m\n\u001b[1;32m     90\u001b[0m \u001b[43m\u001b[49m\u001b[43m)\u001b[49m\n",
      "File \u001b[0;32m/Library/Frameworks/Python.framework/Versions/3.10/lib/python3.10/site-packages/mdf_forge/forge.py:798\u001b[0m, in \u001b[0;36mForge.globus_download\u001b[0;34m(self, results, dest, dest_ep, preserve_dir, download_datasets, verbose, **kwargs)\u001b[0m\n\u001b[1;32m    796\u001b[0m cont \u001b[38;5;241m=\u001b[39m \u001b[38;5;28;01mTrue\u001b[39;00m\n\u001b[1;32m    797\u001b[0m \u001b[38;5;66;03m# Prime loop\u001b[39;00m\n\u001b[0;32m--> 798\u001b[0m event \u001b[38;5;241m=\u001b[39m \u001b[38;5;28;43mnext\u001b[39;49m\u001b[43m(\u001b[49m\u001b[43mtransfer\u001b[49m\u001b[43m)\u001b[49m\n\u001b[1;32m    799\u001b[0m \u001b[38;5;28;01mtry\u001b[39;00m:\n\u001b[1;32m    800\u001b[0m     \u001b[38;5;66;03m# Loop ends on StopIteration from generator exhaustion\u001b[39;00m\n\u001b[1;32m    801\u001b[0m     \u001b[38;5;28;01mwhile\u001b[39;00m \u001b[38;5;28;01mTrue\u001b[39;00m:\n",
      "File \u001b[0;32m/Library/Frameworks/Python.framework/Versions/3.10/lib/python3.10/site-packages/mdf_toolbox/globus_transfer.py:93\u001b[0m, in \u001b[0;36mcustom_transfer\u001b[0;34m(transfer_client, source_ep, dest_ep, path_list, interval, inactivity_time)\u001b[0m\n\u001b[1;32m     88\u001b[0m     \u001b[38;5;66;03m# Malformed - Cannot transfer dir into non-dir\u001b[39;00m\n\u001b[1;32m     89\u001b[0m     \u001b[38;5;28;01melse\u001b[39;00m:\n\u001b[1;32m     90\u001b[0m         \u001b[38;5;28;01mraise\u001b[39;00m globus_sdk\u001b[38;5;241m.\u001b[39mGlobusError(\u001b[38;5;124m\"\u001b[39m\u001b[38;5;124mCannot transfer a directory into a file: \u001b[39m\u001b[38;5;124m\"\u001b[39m\n\u001b[1;32m     91\u001b[0m                                      \u001b[38;5;241m+\u001b[39m \u001b[38;5;28mstr\u001b[39m(item))\n\u001b[0;32m---> 93\u001b[0m res \u001b[38;5;241m=\u001b[39m \u001b[43mtransfer_client\u001b[49m\u001b[38;5;241;43m.\u001b[39;49m\u001b[43msubmit_transfer\u001b[49m\u001b[43m(\u001b[49m\u001b[43mtdata\u001b[49m\u001b[43m)\u001b[49m\n\u001b[1;32m     94\u001b[0m \u001b[38;5;28;01mif\u001b[39;00m res[\u001b[38;5;124m\"\u001b[39m\u001b[38;5;124mcode\u001b[39m\u001b[38;5;124m\"\u001b[39m] \u001b[38;5;241m!=\u001b[39m \u001b[38;5;124m\"\u001b[39m\u001b[38;5;124mAccepted\u001b[39m\u001b[38;5;124m\"\u001b[39m:\n\u001b[1;32m     95\u001b[0m     \u001b[38;5;28;01mraise\u001b[39;00m globus_sdk\u001b[38;5;241m.\u001b[39mGlobusError(\u001b[38;5;124m\"\u001b[39m\u001b[38;5;124mFailed to transfer files: Transfer \u001b[39m\u001b[38;5;124m\"\u001b[39m \u001b[38;5;241m+\u001b[39m res[\u001b[38;5;124m\"\u001b[39m\u001b[38;5;124mcode\u001b[39m\u001b[38;5;124m\"\u001b[39m])\n",
      "File \u001b[0;32m/Library/Frameworks/Python.framework/Versions/3.10/lib/python3.10/site-packages/globus_sdk/services/transfer/client.py:1562\u001b[0m, in \u001b[0;36mTransferClient.submit_transfer\u001b[0;34m(self, data)\u001b[0m\n\u001b[1;32m   1560\u001b[0m     log\u001b[38;5;241m.\u001b[39mdebug(\u001b[38;5;124m\"\u001b[39m\u001b[38;5;124msubmit_transfer autofetching submission_id\u001b[39m\u001b[38;5;124m\"\u001b[39m)\n\u001b[1;32m   1561\u001b[0m     data[\u001b[38;5;124m\"\u001b[39m\u001b[38;5;124msubmission_id\u001b[39m\u001b[38;5;124m\"\u001b[39m] \u001b[38;5;241m=\u001b[39m \u001b[38;5;28mself\u001b[39m\u001b[38;5;241m.\u001b[39mget_submission_id()[\u001b[38;5;124m\"\u001b[39m\u001b[38;5;124mvalue\u001b[39m\u001b[38;5;124m\"\u001b[39m]\n\u001b[0;32m-> 1562\u001b[0m \u001b[38;5;28;01mreturn\u001b[39;00m \u001b[38;5;28;43mself\u001b[39;49m\u001b[38;5;241;43m.\u001b[39;49m\u001b[43mpost\u001b[49m\u001b[43m(\u001b[49m\u001b[38;5;124;43m\"\u001b[39;49m\u001b[38;5;124;43m/transfer\u001b[39;49m\u001b[38;5;124;43m\"\u001b[39;49m\u001b[43m,\u001b[49m\u001b[43m \u001b[49m\u001b[43mdata\u001b[49m\u001b[38;5;241;43m=\u001b[39;49m\u001b[43mdata\u001b[49m\u001b[43m)\u001b[49m\n",
      "File \u001b[0;32m/Library/Frameworks/Python.framework/Versions/3.10/lib/python3.10/site-packages/globus_sdk/client.py:166\u001b[0m, in \u001b[0;36mBaseClient.post\u001b[0;34m(self, path, query_params, data, headers, encoding)\u001b[0m\n\u001b[1;32m    157\u001b[0m \u001b[38;5;250m\u001b[39m\u001b[38;5;124;03m\"\"\"\u001b[39;00m\n\u001b[1;32m    158\u001b[0m \u001b[38;5;124;03mMake a POST request to the specified path.\u001b[39;00m\n\u001b[1;32m    159\u001b[0m \n\u001b[0;32m   (...)\u001b[0m\n\u001b[1;32m    163\u001b[0m \u001b[38;5;124;03m<globus_sdk.response.GlobusHTTPResponse>` object\u001b[39;00m\n\u001b[1;32m    164\u001b[0m \u001b[38;5;124;03m\"\"\"\u001b[39;00m\n\u001b[1;32m    165\u001b[0m log\u001b[38;5;241m.\u001b[39mdebug(\u001b[38;5;124mf\u001b[39m\u001b[38;5;124m\"\u001b[39m\u001b[38;5;124mPOST to \u001b[39m\u001b[38;5;132;01m{\u001b[39;00mpath\u001b[38;5;132;01m}\u001b[39;00m\u001b[38;5;124m with query_params \u001b[39m\u001b[38;5;132;01m{\u001b[39;00mquery_params\u001b[38;5;132;01m}\u001b[39;00m\u001b[38;5;124m\"\u001b[39m)\n\u001b[0;32m--> 166\u001b[0m \u001b[38;5;28;01mreturn\u001b[39;00m \u001b[38;5;28;43mself\u001b[39;49m\u001b[38;5;241;43m.\u001b[39;49m\u001b[43mrequest\u001b[49m\u001b[43m(\u001b[49m\n\u001b[1;32m    167\u001b[0m \u001b[43m    \u001b[49m\u001b[38;5;124;43m\"\u001b[39;49m\u001b[38;5;124;43mPOST\u001b[39;49m\u001b[38;5;124;43m\"\u001b[39;49m\u001b[43m,\u001b[49m\n\u001b[1;32m    168\u001b[0m \u001b[43m    \u001b[49m\u001b[43mpath\u001b[49m\u001b[43m,\u001b[49m\n\u001b[1;32m    169\u001b[0m \u001b[43m    \u001b[49m\u001b[43mquery_params\u001b[49m\u001b[38;5;241;43m=\u001b[39;49m\u001b[43mquery_params\u001b[49m\u001b[43m,\u001b[49m\n\u001b[1;32m    170\u001b[0m \u001b[43m    \u001b[49m\u001b[43mdata\u001b[49m\u001b[38;5;241;43m=\u001b[39;49m\u001b[43mdata\u001b[49m\u001b[43m,\u001b[49m\n\u001b[1;32m    171\u001b[0m \u001b[43m    \u001b[49m\u001b[43mheaders\u001b[49m\u001b[38;5;241;43m=\u001b[39;49m\u001b[43mheaders\u001b[49m\u001b[43m,\u001b[49m\n\u001b[1;32m    172\u001b[0m \u001b[43m    \u001b[49m\u001b[43mencoding\u001b[49m\u001b[38;5;241;43m=\u001b[39;49m\u001b[43mencoding\u001b[49m\u001b[43m,\u001b[49m\n\u001b[1;32m    173\u001b[0m \u001b[43m\u001b[49m\u001b[43m)\u001b[49m\n",
      "File \u001b[0;32m/Library/Frameworks/Python.framework/Versions/3.10/lib/python3.10/site-packages/globus_sdk/client.py:321\u001b[0m, in \u001b[0;36mBaseClient.request\u001b[0;34m(self, method, path, query_params, data, headers, encoding, allow_redirects, stream)\u001b[0m\n\u001b[1;32m    318\u001b[0m     \u001b[38;5;28;01mreturn\u001b[39;00m GlobusHTTPResponse(r, \u001b[38;5;28mself\u001b[39m)\n\u001b[1;32m    320\u001b[0m log\u001b[38;5;241m.\u001b[39mdebug(\u001b[38;5;124mf\u001b[39m\u001b[38;5;124m\"\u001b[39m\u001b[38;5;124mrequest completed with (error) response code: \u001b[39m\u001b[38;5;132;01m{\u001b[39;00mr\u001b[38;5;241m.\u001b[39mstatus_code\u001b[38;5;132;01m}\u001b[39;00m\u001b[38;5;124m\"\u001b[39m)\n\u001b[0;32m--> 321\u001b[0m \u001b[38;5;28;01mraise\u001b[39;00m \u001b[38;5;28mself\u001b[39m\u001b[38;5;241m.\u001b[39merror_class(r)\n",
      "\u001b[0;31mTransferAPIError\u001b[0m: ('POST', 'https://transfer.api.globus.org/v0.10/transfer', 'Bearer', 409, 'Conflict', 'A transfer with identical paths has not yet completed', 'rp2Yi07PQ')"
     ]
    }
   ],
   "source": [
    "X,y = dataset.get_as_dict()[\"train\"]"
   ]
  },
  {
   "cell_type": "code",
   "execution_count": null,
   "metadata": {
    "colab": {
     "base_uri": "https://localhost:8080/",
     "height": 224
    },
    "id": "sxZ4sgjRgdff",
    "outputId": "56df4b20-ce86-4853-a1b1-b9c35223e686"
   },
   "outputs": [],
   "source": [
    "X.head()"
   ]
  }
 ],
 "metadata": {
  "colab": {
   "collapsed_sections": [],
   "name": "oqmd.ipynb",
   "provenance": []
  },
  "kernelspec": {
   "display_name": "Python 3 (ipykernel)",
   "language": "python",
   "name": "python3"
  },
  "language_info": {
   "codemirror_mode": {
    "name": "ipython",
    "version": 3
   },
   "file_extension": ".py",
   "mimetype": "text/x-python",
   "name": "python",
   "nbconvert_exporter": "python",
   "pygments_lexer": "ipython3",
   "version": "3.10.0"
  }
 },
 "nbformat": 4,
 "nbformat_minor": 4
}
