{
 "cells": [
  {
   "cell_type": "markdown",
   "metadata": {
    "id": "4OS5glXenibP"
   },
   "source": [
    "<img src=\"https://raw.githubusercontent.com/MLMI2-CSSI/foundry/main/assets/foundry-black.png\" width=450>"
   ]
  },
  {
   "cell_type": "markdown",
   "metadata": {
    "id": "Qkly-tmRgdfZ"
   },
   "source": [
    "# Foundry OQMD Tutorial for Beginners"
   ]
  },
  {
   "cell_type": "markdown",
   "metadata": {},
   "source": [
    "[![Open In Colab](https://colab.research.google.com/assets/colab-badge.svg)](https://colab.research.google.com/github/MLMI2-CSSI/foundry/blob/main/examples/oqmd/oqmd.ipynb)"
   ]
  },
  {
   "cell_type": "markdown",
   "metadata": {},
   "source": [
    "This introduction uses Foundry to:\n",
    "\n",
    "\n",
    "1.   Load a large dataset from Foundry\n",
    "\n",
    "\n",
    "This notebook is set up to run as a [Google Colaboratory](https://colab.research.google.com/notebooks/intro.ipynb#scrollTo=5fCEDCU_qrC0) notebook, which allows you to run python code in the browser, or as a [Jupyter](https://jupyter.org/) notebook, which runs locally on your machine.\n",
    "\n",
    "**Unless you have Google Colab Pro, there will be insufficient RAM and the notebook may crash; we strongly recommend running this notebook locally instead.**\n",
    "\n",
    "The code in the next cell will detect your environment to make sure that only cells that match your environment will run."
   ]
  },
  {
   "cell_type": "code",
   "execution_count": 2,
   "metadata": {
    "id": "uqLL5o6Ir3b8"
   },
   "outputs": [],
   "source": [
    "try:\n",
    "    import google.colab\n",
    "    no_local_server=True\n",
    "    no_browser=True\n",
    "    use_globus=False\n",
    "except: # when not in google colab\n",
    "    no_local_server=False\n",
    "    no_browser=False\n",
    "    use_globus=False"
   ]
  },
  {
   "cell_type": "markdown",
   "metadata": {
    "id": "r194Bg-n_H7a"
   },
   "source": [
    "# Installing Foundry\n",
    "First we'll need to install Foundry. If you're using Google Colab, this code block will install this package into the Colab environment.\n",
    "\n",
    "\n",
    "If you are running locally, it will install this module onto your machine if you do not already have it. We also have a [requirements file](https://github.com/MLMI2-CSSI/foundry/tree/main/examples/oqmd) included with this notebook. You can run `pip install -r requirements.txt` in your terminal to set up your environment locally."
   ]
  },
  {
   "cell_type": "code",
   "execution_count": null,
   "metadata": {
    "id": "0OZafN2AFzTE"
   },
   "outputs": [],
   "source": [
    "!pip install foundry_ml"
   ]
  },
  {
   "cell_type": "markdown",
   "metadata": {
    "id": "nMLwFc2N_WzH"
   },
   "source": [
    "# Importing and Instantiating Foundry\n",
    "Now we can import Foundry!"
   ]
  },
  {
   "cell_type": "code",
   "execution_count": 4,
   "metadata": {
    "id": "VbPzqDbjgdfe"
   },
   "outputs": [],
   "source": [
    "from foundry import Foundry"
   ]
  },
  {
   "cell_type": "markdown",
   "metadata": {
    "id": "alWGfDPO_b_P"
   },
   "source": [
    "We'll also need to instantiate it. To do so, you'll need a [Globus](https://www.globus.org) account. Once you have your account, you can instantiate Foundry using the code below. When you instantiate Foundry locally, be sure to have your Globus endpoint turned on (you can do that with [Globus Connect Personal](https://www.globus.org/globus-connect-personal)). When you instantiate Foundry on Google Colab, you'll be given a link in the cell's output and asked to enter the provided auth code."
   ]
  },
  {
   "cell_type": "code",
   "execution_count": 5,
   "metadata": {
    "id": "lknToTpPgdff"
   },
   "outputs": [],
   "source": [
    "f = Foundry(no_local_server=no_local_server, \n",
    "            no_browser=no_browser, \n",
    "            use_globus=use_globus)"
   ]
  },
  {
   "cell_type": "markdown",
   "metadata": {
    "id": "MjilgCtD_i7R"
   },
   "source": [
    "# Loading the Data"
   ]
  },
  {
   "cell_type": "code",
   "execution_count": 6,
   "metadata": {
    "id": "jdyok1vMgdff",
    "outputId": "de9f015c-3466-4d88-b5fb-41228c650eac"
   },
   "outputs": [
    {
     "name": "stdout",
     "output_type": "stream",
     "text": [
      "Starting Download of: https://data.materialsdatafacility.org/foundry/foundry_oqmd_band_gaps_v1.1/OQMD_PBE_new.json\n",
      "Downloading... 727.44 MB"
     ]
    }
   ],
   "source": [
    "oqmd_bg_doi = \"10.18126/w1ey-9y8b\"\n",
    "ds = f.get_dataset(oqmd_bg_doi)\n",
    "X,y = ds.get_as_dict()[\"train\"]"
   ]
  },
  {
   "cell_type": "code",
   "execution_count": 9,
   "metadata": {},
   "outputs": [
    {
     "data": {
      "text/html": [
       "<h2>Graph Network Based Deep Learning of Band Gaps - OQMD PBE Band Gaps</h2>Li, Xiang-Guo; Blaiszik, Ben; Schwarting, Marcus; Jacobs, Ryan; Scourtas, Aristana; Schmidt, KJ; Voyles, Paul; Morgan, Dane<p>DOI: 10.18126/w1ey-9y8b</p><h3>Dataset</h3><table><tr><th>short_name</th><td>oqmd_band_gaps</td></tr><tr><th>data_type</th><td>tabular</td></tr><tr><th>task_type</th><td><ul><li>supervised</li></ul></td></tr><tr><th>domain</th><td><ul><li>materials science</li></ul></td></tr><tr><th>n_items</th><td>635519.0</td></tr><tr><th>splits</th><td><ul><li><table><tr><th>type</th><td>train</td></tr><tr><th>path</th><td>OQMD_PBE_new.json</td></tr><tr><th>label</th><td>train</td></tr></table></li></ul></td></tr><tr><th>keys</th><td><table><tr><th>key</th><th>type</th><th>filter</th><th>description</th><th>units</th><th>classes</th></tr><tr><td><ul><li>reference</li></ul></td><td>input</td><td></td><td>source publication of the band gap value</td><td></td><td></td></tr><tr><td><ul><li>icsd_id</li></ul></td><td>input</td><td></td><td>corresponding id in ICSD of this compound</td><td></td><td></td></tr><tr><td><ul><li>structure</li></ul></td><td>input</td><td></td><td>the structure of this compound</td><td></td><td></td></tr><tr><td><ul><li>composition</li></ul></td><td>input</td><td></td><td>reduced composition of this compound</td><td></td><td></td></tr><tr><td><ul><li>comments</li></ul></td><td>input</td><td></td><td>Additional information about this bandgap measurement</td><td></td><td></td></tr><tr><td><ul><li>bandgap type</li></ul></td><td>input</td><td></td><td>the type of the band gap, e.g., direct or indirect</td><td></td><td></td></tr><tr><td><ul><li>comp method</li></ul></td><td>input</td><td></td><td>functional used to calculate the band gap</td><td></td><td></td></tr><tr><td><ul><li>space group</li></ul></td><td>input</td><td></td><td>the space group of this compound</td><td></td><td></td></tr><tr><td><ul><li>bandgap value (eV)</li></ul></td><td>target</td><td></td><td>value of the band gap</td><td>eV</td><td></td></tr></table></td></tr></table>"
      ],
      "text/plain": [
       "<foundry.foundry_dataset.FoundryDataset at 0x1087c73b0>"
      ]
     },
     "execution_count": 9,
     "metadata": {},
     "output_type": "execute_result"
    }
   ],
   "source": [
    "ds"
   ]
  },
  {
   "cell_type": "code",
   "execution_count": 7,
   "metadata": {
    "colab": {
     "base_uri": "https://localhost:8080/",
     "height": 224
    },
    "id": "sxZ4sgjRgdff",
    "outputId": "56df4b20-ce86-4853-a1b1-b9c35223e686"
   },
   "outputs": [
    {
     "data": {
      "text/html": [
       "<div>\n",
       "<style scoped>\n",
       "    .dataframe tbody tr th:only-of-type {\n",
       "        vertical-align: middle;\n",
       "    }\n",
       "\n",
       "    .dataframe tbody tr th {\n",
       "        vertical-align: top;\n",
       "    }\n",
       "\n",
       "    .dataframe thead th {\n",
       "        text-align: right;\n",
       "    }\n",
       "</style>\n",
       "<table border=\"1\" class=\"dataframe\">\n",
       "  <thead>\n",
       "    <tr style=\"text-align: right;\">\n",
       "      <th></th>\n",
       "      <th>reference</th>\n",
       "      <th>icsd_id</th>\n",
       "      <th>structure</th>\n",
       "      <th>composition</th>\n",
       "      <th>comments</th>\n",
       "      <th>bandgap type</th>\n",
       "      <th>comp method</th>\n",
       "      <th>space group</th>\n",
       "    </tr>\n",
       "  </thead>\n",
       "  <tbody>\n",
       "    <tr>\n",
       "      <th>0</th>\n",
       "      <td>OQMD</td>\n",
       "      <td>NaN</td>\n",
       "      <td>{'@module': 'pymatgen.core.structure', '@class...</td>\n",
       "      <td>ScCoCuSb</td>\n",
       "      <td>OQMD PBE</td>\n",
       "      <td></td>\n",
       "      <td>PBE</td>\n",
       "      <td>F-43m</td>\n",
       "    </tr>\n",
       "    <tr>\n",
       "      <th>1</th>\n",
       "      <td>OQMD</td>\n",
       "      <td>NaN</td>\n",
       "      <td>{'@module': 'pymatgen.core.structure', '@class...</td>\n",
       "      <td>ScCoCuSb</td>\n",
       "      <td>OQMD PBE</td>\n",
       "      <td></td>\n",
       "      <td>PBE</td>\n",
       "      <td>F-43m</td>\n",
       "    </tr>\n",
       "    <tr>\n",
       "      <th>2</th>\n",
       "      <td>OQMD</td>\n",
       "      <td>NaN</td>\n",
       "      <td>{'@module': 'pymatgen.core.structure', '@class...</td>\n",
       "      <td>GaCoCuSb</td>\n",
       "      <td>OQMD PBE</td>\n",
       "      <td></td>\n",
       "      <td>PBE</td>\n",
       "      <td>F-43m</td>\n",
       "    </tr>\n",
       "  </tbody>\n",
       "</table>\n",
       "</div>"
      ],
      "text/plain": [
       "  reference  icsd_id                                          structure  \\\n",
       "0      OQMD      NaN  {'@module': 'pymatgen.core.structure', '@class...   \n",
       "1      OQMD      NaN  {'@module': 'pymatgen.core.structure', '@class...   \n",
       "2      OQMD      NaN  {'@module': 'pymatgen.core.structure', '@class...   \n",
       "\n",
       "  composition  comments bandgap type comp method space group  \n",
       "0    ScCoCuSb  OQMD PBE                      PBE       F-43m  \n",
       "1    ScCoCuSb  OQMD PBE                      PBE       F-43m  \n",
       "2    GaCoCuSb  OQMD PBE                      PBE       F-43m  "
      ]
     },
     "execution_count": 7,
     "metadata": {},
     "output_type": "execute_result"
    }
   ],
   "source": [
    "X.head(3)"
   ]
  },
  {
   "cell_type": "code",
   "execution_count": 8,
   "metadata": {},
   "outputs": [
    {
     "data": {
      "text/html": [
       "<div>\n",
       "<style scoped>\n",
       "    .dataframe tbody tr th:only-of-type {\n",
       "        vertical-align: middle;\n",
       "    }\n",
       "\n",
       "    .dataframe tbody tr th {\n",
       "        vertical-align: top;\n",
       "    }\n",
       "\n",
       "    .dataframe thead th {\n",
       "        text-align: right;\n",
       "    }\n",
       "</style>\n",
       "<table border=\"1\" class=\"dataframe\">\n",
       "  <thead>\n",
       "    <tr style=\"text-align: right;\">\n",
       "      <th></th>\n",
       "      <th>bandgap value (eV)</th>\n",
       "    </tr>\n",
       "  </thead>\n",
       "  <tbody>\n",
       "    <tr>\n",
       "      <th>0</th>\n",
       "      <td>0.0</td>\n",
       "    </tr>\n",
       "    <tr>\n",
       "      <th>1</th>\n",
       "      <td>0.0</td>\n",
       "    </tr>\n",
       "    <tr>\n",
       "      <th>2</th>\n",
       "      <td>0.0</td>\n",
       "    </tr>\n",
       "  </tbody>\n",
       "</table>\n",
       "</div>"
      ],
      "text/plain": [
       "   bandgap value (eV)\n",
       "0                 0.0\n",
       "1                 0.0\n",
       "2                 0.0"
      ]
     },
     "execution_count": 8,
     "metadata": {},
     "output_type": "execute_result"
    }
   ],
   "source": [
    "y.head(3)"
   ]
  },
  {
   "cell_type": "code",
   "execution_count": null,
   "metadata": {},
   "outputs": [],
   "source": []
  }
 ],
 "metadata": {
  "colab": {
   "collapsed_sections": [],
   "name": "oqmd.ipynb",
   "provenance": []
  },
  "kernelspec": {
   "display_name": "Python 3 (ipykernel)",
   "language": "python",
   "name": "python3"
  },
  "language_info": {
   "codemirror_mode": {
    "name": "ipython",
    "version": 3
   },
   "file_extension": ".py",
   "mimetype": "text/x-python",
   "name": "python",
   "nbconvert_exporter": "python",
   "pygments_lexer": "ipython3",
   "version": "3.12.1"
  }
 },
 "nbformat": 4,
 "nbformat_minor": 4
}
