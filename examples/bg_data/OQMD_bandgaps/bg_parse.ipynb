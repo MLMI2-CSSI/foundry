{
 "cells": [
  {
   "cell_type": "code",
   "execution_count": 1,
   "metadata": {},
   "outputs": [],
   "source": [
    "from foundry.foundry import Foundry"
   ]
  },
  {
   "cell_type": "code",
   "execution_count": 2,
   "metadata": {},
   "outputs": [],
   "source": [
    "#need Globus to pull data\n",
    "f = Foundry().load('_test_foundry_oqmd_band_gaps_v1.1')\n",
    "X,y = f.load_data()"
   ]
  },
  {
   "cell_type": "code",
   "execution_count": 3,
   "metadata": {},
   "outputs": [
    {
     "data": {
      "text/html": [
       "<div>\n",
       "<style scoped>\n",
       "    .dataframe tbody tr th:only-of-type {\n",
       "        vertical-align: middle;\n",
       "    }\n",
       "\n",
       "    .dataframe tbody tr th {\n",
       "        vertical-align: top;\n",
       "    }\n",
       "\n",
       "    .dataframe thead th {\n",
       "        text-align: right;\n",
       "    }\n",
       "</style>\n",
       "<table border=\"1\" class=\"dataframe\">\n",
       "  <thead>\n",
       "    <tr style=\"text-align: right;\">\n",
       "      <th></th>\n",
       "      <th>composition</th>\n",
       "      <th>method</th>\n",
       "    </tr>\n",
       "  </thead>\n",
       "  <tbody>\n",
       "    <tr>\n",
       "      <th>0</th>\n",
       "      <td>He1</td>\n",
       "      <td>PBE</td>\n",
       "    </tr>\n",
       "    <tr>\n",
       "      <th>1</th>\n",
       "      <td>He1</td>\n",
       "      <td>PBE</td>\n",
       "    </tr>\n",
       "    <tr>\n",
       "      <th>2</th>\n",
       "      <td>He1</td>\n",
       "      <td>PBE</td>\n",
       "    </tr>\n",
       "    <tr>\n",
       "      <th>3</th>\n",
       "      <td>He1</td>\n",
       "      <td>PBE</td>\n",
       "    </tr>\n",
       "    <tr>\n",
       "      <th>4</th>\n",
       "      <td>He1</td>\n",
       "      <td>PBE</td>\n",
       "    </tr>\n",
       "  </tbody>\n",
       "</table>\n",
       "</div>"
      ],
      "text/plain": [
       "  composition method\n",
       "0         He1    PBE\n",
       "1         He1    PBE\n",
       "2         He1    PBE\n",
       "3         He1    PBE\n",
       "4         He1    PBE"
      ]
     },
     "execution_count": 3,
     "metadata": {},
     "output_type": "execute_result"
    }
   ],
   "source": [
    "X.head()"
   ]
  },
  {
   "cell_type": "code",
   "execution_count": 4,
   "metadata": {},
   "outputs": [
    {
     "data": {
      "text/html": [
       "<div>\n",
       "<style scoped>\n",
       "    .dataframe tbody tr th:only-of-type {\n",
       "        vertical-align: middle;\n",
       "    }\n",
       "\n",
       "    .dataframe tbody tr th {\n",
       "        vertical-align: top;\n",
       "    }\n",
       "\n",
       "    .dataframe thead th {\n",
       "        text-align: right;\n",
       "    }\n",
       "</style>\n",
       "<table border=\"1\" class=\"dataframe\">\n",
       "  <thead>\n",
       "    <tr style=\"text-align: right;\">\n",
       "      <th></th>\n",
       "      <th>band_gap</th>\n",
       "    </tr>\n",
       "  </thead>\n",
       "  <tbody>\n",
       "    <tr>\n",
       "      <th>0</th>\n",
       "      <td>18.437</td>\n",
       "    </tr>\n",
       "    <tr>\n",
       "      <th>1</th>\n",
       "      <td>18.407</td>\n",
       "    </tr>\n",
       "    <tr>\n",
       "      <th>2</th>\n",
       "      <td>18.390</td>\n",
       "    </tr>\n",
       "    <tr>\n",
       "      <th>3</th>\n",
       "      <td>18.278</td>\n",
       "    </tr>\n",
       "    <tr>\n",
       "      <th>4</th>\n",
       "      <td>18.259</td>\n",
       "    </tr>\n",
       "  </tbody>\n",
       "</table>\n",
       "</div>"
      ],
      "text/plain": [
       "   band_gap\n",
       "0    18.437\n",
       "1    18.407\n",
       "2    18.390\n",
       "3    18.278\n",
       "4    18.259"
      ]
     },
     "execution_count": 4,
     "metadata": {},
     "output_type": "execute_result"
    }
   ],
   "source": [
    "y.head()"
   ]
  },
  {
   "cell_type": "code",
   "execution_count": 5,
   "metadata": {},
   "outputs": [
    {
     "name": "stdout",
     "output_type": "stream",
     "text": [
      "DC:{'creators': [{'affiliations': ['Northwestern University'], 'creatorName': 'Saal, James', 'familyName': 'Saal', 'givenName': 'James'}, {'affiliations': ['Northwestern University'], 'creatorName': 'Kirklin, Scott', 'familyName': 'Kirklin', 'givenName': 'Scott'}, {'affiliations': ['Northwestern University'], 'creatorName': 'Aykol, Muratahan', 'familyName': 'Aykol', 'givenName': 'Muratahan'}, {'affiliations': ['Northwestern University'], 'creatorName': 'Meredig, Bryce', 'familyName': 'Meredig', 'givenName': 'Bryce'}, {'affiliations': ['Northwestern University'], 'creatorName': 'Wolverton, Chris', 'familyName': 'Wolverton', 'givenName': 'Chris'}], 'dates': [{'date': '2013-09-23', 'dateType': 'Accepted'}, {'date': '2020-02-16', 'dateType': 'Accepted'}], 'identifier': {'identifier': '10.23677/87mu-76af', 'identifierType': 'DOI'}, 'publicationYear': 2020, 'publisher': 'Materials Data Facility', 'resourceType': {'resourceType': 'Dataset', 'resourceTypeGeneral': 'Dataset'}, 'subjects': [{'subject': 'machine learning'}, {'subject': 'DFT'}, {'subject': 'simulation'}, {'subject': 'foundry'}], 'titles': [{'title': 'Open Quantum Materials Database (OQMD)'}]}\n",
      "Dataset:{\"inputs\": [\"composition\", \"method\"], \"outputs\": [\"band_gap\"], \"input_descriptions\": [], \"output_descriptions\": [], \"type\": \"tabular\", \"version\": \"\", \"short_name\": \"zhuo-band-gap\"}\n"
     ]
    }
   ],
   "source": [
    "f.describe()"
   ]
  },
  {
   "cell_type": "markdown",
   "metadata": {},
   "source": [
    "# Only Run To Create Directory Contents"
   ]
  },
  {
   "cell_type": "code",
   "execution_count": 4,
   "metadata": {},
   "outputs": [
    {
     "data": {
      "text/html": [
       "<div>\n",
       "<style scoped>\n",
       "    .dataframe tbody tr th:only-of-type {\n",
       "        vertical-align: middle;\n",
       "    }\n",
       "\n",
       "    .dataframe tbody tr th {\n",
       "        vertical-align: top;\n",
       "    }\n",
       "\n",
       "    .dataframe thead th {\n",
       "        text-align: right;\n",
       "    }\n",
       "</style>\n",
       "<table border=\"1\" class=\"dataframe\">\n",
       "  <thead>\n",
       "    <tr style=\"text-align: right;\">\n",
       "      <th></th>\n",
       "      <th>composition</th>\n",
       "      <th>band_gap</th>\n",
       "      <th>method</th>\n",
       "    </tr>\n",
       "  </thead>\n",
       "  <tbody>\n",
       "    <tr>\n",
       "      <th>0</th>\n",
       "      <td>He1</td>\n",
       "      <td>18.437</td>\n",
       "      <td>PBE</td>\n",
       "    </tr>\n",
       "    <tr>\n",
       "      <th>1</th>\n",
       "      <td>He1</td>\n",
       "      <td>18.407</td>\n",
       "      <td>PBE</td>\n",
       "    </tr>\n",
       "    <tr>\n",
       "      <th>2</th>\n",
       "      <td>He1</td>\n",
       "      <td>18.390</td>\n",
       "      <td>PBE</td>\n",
       "    </tr>\n",
       "    <tr>\n",
       "      <th>3</th>\n",
       "      <td>He1</td>\n",
       "      <td>18.278</td>\n",
       "      <td>PBE</td>\n",
       "    </tr>\n",
       "    <tr>\n",
       "      <th>4</th>\n",
       "      <td>He1</td>\n",
       "      <td>18.259</td>\n",
       "      <td>PBE</td>\n",
       "    </tr>\n",
       "  </tbody>\n",
       "</table>\n",
       "</div>"
      ],
      "text/plain": [
       "  composition  band_gap method\n",
       "0         He1    18.437    PBE\n",
       "1         He1    18.407    PBE\n",
       "2         He1    18.390    PBE\n",
       "3         He1    18.278    PBE\n",
       "4         He1    18.259    PBE"
      ]
     },
     "execution_count": 4,
     "metadata": {},
     "output_type": "execute_result"
    }
   ],
   "source": [
    "from sklearn import datasets\n",
    "import pandas as pd\n",
    "df = pd.read_csv('oqmd.csv')\n",
    "\n",
    "bgs = df['band_gap (eV)'].values\n",
    "composition = df['composition'].values\n",
    "df = pd.DataFrame({'composition':composition,'band_gap':bgs,'method':['PBE']*len(bgs)})\n",
    "df.to_json(\"foundry_dataframe.json\")\n",
    "df.head()"
   ]
  },
  {
   "cell_type": "code",
   "execution_count": 6,
   "metadata": {},
   "outputs": [],
   "source": [
    "t = {\"dc\": {\"creators\": [{\"affiliations\":[\"Northwestern University\"],\n",
    "                      \"creatorName\":\"Saal, James\",\n",
    "                      \"familyName\":\"Saal\",\\\n",
    "                      \"givenName\":\"James\"},\n",
    "                      {\"affiliations\":[\"Northwestern University\"],\n",
    "                       \"creatorName\":\"Kirklin, Scott\",\n",
    "                       \"familyName\":\"Kirklin\",\\\n",
    "                       \"givenName\":\"Scott\"},\\\n",
    "                      {\"affiliations\":[\"Northwestern University\"],\n",
    "                       \"creatorName\":\"Aykol, Muratahan\",\n",
    "                       \"familyName\":\"Aykol\",\\\n",
    "                       \"givenName\":\"Muratahan\"},\\\n",
    "                      {\"affiliations\":[\"Northwestern University\"],\n",
    "                       \"creatorName\":\"Meredig, Bryce\",\n",
    "                       \"familyName\":\"Meredig\",\\\n",
    "                       \"givenName\":\"Bryce\"},\\\n",
    "                      {\"affiliations\":[\"Northwestern University\"],\n",
    "                       \"creatorName\":\"Wolverton, Chris\",\n",
    "                       \"familyName\":\"Wolverton\",\\\n",
    "                       \"givenName\":\"Chris\"}],\n",
    "        \"dates\":[{\"date\":\"2013-09-23\",\"dateType\":\"Accepted\"}],\n",
    "        \"identifier\":{\"identifier\":\"10.1007/s11837-013-0755-4\",\"identifierType\":\"DOI\"},\n",
    "        \"publicationYear\":2013,\n",
    "        \"resourceType\":{\"resourceType\":\"Dataset\",\"resourceTypeGeneral\":\"Dataset\"},\n",
    "        \"subjects\":[{\"subject\":\"machine learning\"},{\"subject\":\"DFT\"},{\"subject\":\"simulation\"}],\n",
    "        \"titles\":[{\"title\":\"Open Quantum Materials Database (OQMD)\"}]\n",
    "                                          },\n",
    "\"mdf\": {\"source_id\":\"_test_foundry_oqmd_band_gaps_v1.1\"}, \"dataset\": {\"inputs\": [\"composition\", \"method\"],\n",
    "                                  \"outputs\": [\"band_gap\"],\n",
    "                                  \"type\": \"tabular\"},\n",
    " \"sources\":[{\"url\":\"http://oqmd.org/\"}]\n",
    "}"
   ]
  },
  {
   "cell_type": "code",
   "execution_count": 7,
   "metadata": {},
   "outputs": [],
   "source": [
    "import json\n",
    "with open('foundry_metadata.json', 'w') as f:\n",
    "    json.dump(t, f)"
   ]
  },
  {
   "cell_type": "code",
   "execution_count": null,
   "metadata": {},
   "outputs": [],
   "source": []
  }
 ],
 "metadata": {
  "kernelspec": {
   "display_name": "Python 3",
   "language": "python",
   "name": "python3"
  },
  "language_info": {
   "codemirror_mode": {
    "name": "ipython",
    "version": 3
   },
   "file_extension": ".py",
   "mimetype": "text/x-python",
   "name": "python",
   "nbconvert_exporter": "python",
   "pygments_lexer": "ipython3",
   "version": "3.8.3"
  }
 },
 "nbformat": 4,
 "nbformat_minor": 4
}
