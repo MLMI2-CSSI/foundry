{
 "cells": [
  {
   "cell_type": "code",
   "execution_count": 7,
   "metadata": {},
   "outputs": [],
   "source": [
    "from foundry.foundry import Foundry"
   ]
  },
  {
   "cell_type": "code",
   "execution_count": 8,
   "metadata": {},
   "outputs": [
    {
     "ename": "KeyError",
     "evalue": "'source_id'",
     "output_type": "error",
     "traceback": [
      "\u001b[0;31m---------------------------------------------------------------------------\u001b[0m",
      "\u001b[0;31mKeyError\u001b[0m                                  Traceback (most recent call last)",
      "\u001b[0;32m<ipython-input-8-bc4c4c84668d>\u001b[0m in \u001b[0;36m<module>\u001b[0;34m\u001b[0m\n\u001b[1;32m      1\u001b[0m \u001b[0mf\u001b[0m \u001b[0;34m=\u001b[0m \u001b[0mFoundry\u001b[0m\u001b[0;34m(\u001b[0m\u001b[0;34m)\u001b[0m\u001b[0;34m.\u001b[0m\u001b[0mfrom_file\u001b[0m\u001b[0;34m(\u001b[0m\u001b[0;34m)\u001b[0m\u001b[0;34m\u001b[0m\u001b[0;34m\u001b[0m\u001b[0m\n\u001b[0;32m----> 2\u001b[0;31m \u001b[0mX\u001b[0m\u001b[0;34m,\u001b[0m\u001b[0my\u001b[0m \u001b[0;34m=\u001b[0m \u001b[0mf\u001b[0m\u001b[0;34m.\u001b[0m\u001b[0mload_data\u001b[0m\u001b[0;34m(\u001b[0m\u001b[0;34m)\u001b[0m\u001b[0;34m\u001b[0m\u001b[0;34m\u001b[0m\u001b[0m\n\u001b[0m",
      "\u001b[0;32m~/anaconda2/envs/jcesr_ml/lib/python3.7/site-packages/foundry/foundry.py\u001b[0m in \u001b[0;36mload_data\u001b[0;34m(self, source_id)\u001b[0m\n\u001b[1;32m    137\u001b[0m             \u001b[0mpath\u001b[0m \u001b[0;34m=\u001b[0m \u001b[0mos\u001b[0m\u001b[0;34m.\u001b[0m\u001b[0mpath\u001b[0m\u001b[0;34m.\u001b[0m\u001b[0mjoin\u001b[0m\u001b[0;34m(\u001b[0m\u001b[0mself\u001b[0m\u001b[0;34m.\u001b[0m\u001b[0mconfig\u001b[0m\u001b[0;34m.\u001b[0m\u001b[0mlocal_cache_dir\u001b[0m\u001b[0;34m,\u001b[0m \u001b[0msource_id\u001b[0m\u001b[0;34m)\u001b[0m\u001b[0;34m\u001b[0m\u001b[0;34m\u001b[0m\u001b[0m\n\u001b[1;32m    138\u001b[0m         \u001b[0;32melse\u001b[0m\u001b[0;34m:\u001b[0m\u001b[0;34m\u001b[0m\u001b[0;34m\u001b[0m\u001b[0m\n\u001b[0;32m--> 139\u001b[0;31m             \u001b[0mpath\u001b[0m \u001b[0;34m=\u001b[0m \u001b[0mos\u001b[0m\u001b[0;34m.\u001b[0m\u001b[0mpath\u001b[0m\u001b[0;34m.\u001b[0m\u001b[0mjoin\u001b[0m\u001b[0;34m(\u001b[0m\u001b[0mself\u001b[0m\u001b[0;34m.\u001b[0m\u001b[0mconfig\u001b[0m\u001b[0;34m.\u001b[0m\u001b[0mlocal_cache_dir\u001b[0m\u001b[0;34m,\u001b[0m \u001b[0mself\u001b[0m\u001b[0;34m.\u001b[0m\u001b[0mmdf\u001b[0m\u001b[0;34m[\u001b[0m\u001b[0;34m'source_id'\u001b[0m\u001b[0;34m]\u001b[0m\u001b[0;34m)\u001b[0m\u001b[0;34m\u001b[0m\u001b[0;34m\u001b[0m\u001b[0m\n\u001b[0m\u001b[1;32m    140\u001b[0m         \u001b[0;31m# Handle Foundry-defined types.\u001b[0m\u001b[0;34m\u001b[0m\u001b[0;34m\u001b[0m\u001b[0;34m\u001b[0m\u001b[0m\n\u001b[1;32m    141\u001b[0m         \u001b[0;32mif\u001b[0m \u001b[0mself\u001b[0m\u001b[0;34m.\u001b[0m\u001b[0mdataset\u001b[0m\u001b[0;34m.\u001b[0m\u001b[0mtype\u001b[0m\u001b[0;34m.\u001b[0m\u001b[0mvalue\u001b[0m \u001b[0;34m==\u001b[0m \u001b[0;34m\"tabular\"\u001b[0m\u001b[0;34m:\u001b[0m\u001b[0;34m\u001b[0m\u001b[0;34m\u001b[0m\u001b[0m\n",
      "\u001b[0;31mKeyError\u001b[0m: 'source_id'"
     ]
    }
   ],
   "source": [
    "f = Foundry().from_file()\n",
    "X,y = f.load_data()"
   ]
  },
  {
   "cell_type": "code",
   "execution_count": 25,
   "metadata": {},
   "outputs": [
    {
     "data": {
      "text/html": [
       "<div>\n",
       "<style scoped>\n",
       "    .dataframe tbody tr th:only-of-type {\n",
       "        vertical-align: middle;\n",
       "    }\n",
       "\n",
       "    .dataframe tbody tr th {\n",
       "        vertical-align: top;\n",
       "    }\n",
       "\n",
       "    .dataframe thead th {\n",
       "        text-align: right;\n",
       "    }\n",
       "</style>\n",
       "<table border=\"1\" class=\"dataframe\">\n",
       "  <thead>\n",
       "    <tr style=\"text-align: right;\">\n",
       "      <th></th>\n",
       "      <th>composition</th>\n",
       "      <th>method</th>\n",
       "    </tr>\n",
       "  </thead>\n",
       "  <tbody>\n",
       "    <tr>\n",
       "      <th>0</th>\n",
       "      <td>Ag2 O</td>\n",
       "      <td>GWVD</td>\n",
       "    </tr>\n",
       "    <tr>\n",
       "      <th>1</th>\n",
       "      <td>Ag2 S4 Sn Zn</td>\n",
       "      <td>GWVD</td>\n",
       "    </tr>\n",
       "    <tr>\n",
       "      <th>10</th>\n",
       "      <td>Al2 O4 Zn</td>\n",
       "      <td>GWVD</td>\n",
       "    </tr>\n",
       "    <tr>\n",
       "      <th>100</th>\n",
       "      <td>Co2 Cu O4</td>\n",
       "      <td>GWVD</td>\n",
       "    </tr>\n",
       "    <tr>\n",
       "      <th>101</th>\n",
       "      <td>Co2 Mg O4</td>\n",
       "      <td>GWVD</td>\n",
       "    </tr>\n",
       "  </tbody>\n",
       "</table>\n",
       "</div>"
      ],
      "text/plain": [
       "      composition method\n",
       "0           Ag2 O   GWVD\n",
       "1    Ag2 S4 Sn Zn   GWVD\n",
       "10      Al2 O4 Zn   GWVD\n",
       "100     Co2 Cu O4   GWVD\n",
       "101     Co2 Mg O4   GWVD"
      ]
     },
     "execution_count": 25,
     "metadata": {},
     "output_type": "execute_result"
    }
   ],
   "source": [
    "X.head()"
   ]
  },
  {
   "cell_type": "code",
   "execution_count": 26,
   "metadata": {},
   "outputs": [
    {
     "data": {
      "text/html": [
       "<div>\n",
       "<style scoped>\n",
       "    .dataframe tbody tr th:only-of-type {\n",
       "        vertical-align: middle;\n",
       "    }\n",
       "\n",
       "    .dataframe tbody tr th {\n",
       "        vertical-align: top;\n",
       "    }\n",
       "\n",
       "    .dataframe thead th {\n",
       "        text-align: right;\n",
       "    }\n",
       "</style>\n",
       "<table border=\"1\" class=\"dataframe\">\n",
       "  <thead>\n",
       "    <tr style=\"text-align: right;\">\n",
       "      <th></th>\n",
       "      <th>band_gap</th>\n",
       "    </tr>\n",
       "  </thead>\n",
       "  <tbody>\n",
       "    <tr>\n",
       "      <th>0</th>\n",
       "      <td>1.5542</td>\n",
       "    </tr>\n",
       "    <tr>\n",
       "      <th>1</th>\n",
       "      <td>2.3475</td>\n",
       "    </tr>\n",
       "    <tr>\n",
       "      <th>10</th>\n",
       "      <td>7.5541</td>\n",
       "    </tr>\n",
       "    <tr>\n",
       "      <th>100</th>\n",
       "      <td>0.8068</td>\n",
       "    </tr>\n",
       "    <tr>\n",
       "      <th>101</th>\n",
       "      <td>2.6806</td>\n",
       "    </tr>\n",
       "  </tbody>\n",
       "</table>\n",
       "</div>"
      ],
      "text/plain": [
       "     band_gap\n",
       "0      1.5542\n",
       "1      2.3475\n",
       "10     7.5541\n",
       "100    0.8068\n",
       "101    2.6806"
      ]
     },
     "execution_count": 26,
     "metadata": {},
     "output_type": "execute_result"
    }
   ],
   "source": [
    "y.head()"
   ]
  },
  {
   "cell_type": "code",
   "execution_count": 27,
   "metadata": {},
   "outputs": [
    {
     "name": "stdout",
     "output_type": "stream",
     "text": [
      "DC:{'creators': [{'affiliations': ['National Renewable Energy Laboratory'], 'creatorName': 'Lany, Stefan', 'familyName': 'Lany', 'givenName': 'Stefan'}, {'affiliations': ['Colorado School of Mines'], 'creatorName': 'Stevanovic, Vladan', 'familyName': 'Stevanovic', 'givenName': 'Vladan'}], 'dates': [{'date': '2013-01-01', 'dateType': 'Accepted'}], 'identifier': {'identifier': '10.1103/PhysRevB.87.085112', 'identifierType': 'DOI'}, 'publicationYear': 2013, 'resourceType': {'resourceType': 'Dataset', 'resourceTypeGeneral': 'Dataset'}, 'subjects': [{'subject': 'machine learning'}, {'subject': 'DFT'}, {'subject': 'simulation'}], 'titles': [{'title': 'NREL MatDB GWVD Dataset'}]}\n",
      "Dataset:{\"inputs\": [\"composition\", \"method\"], \"outputs\": [\"band_gap\"], \"input_descriptions\": [], \"output_descriptions\": [], \"type\": \"tabular\", \"hash\": [], \"version\": \"\", \"references\": [], \"sources\": []}\n"
     ]
    }
   ],
   "source": [
    "f.describe()"
   ]
  },
  {
   "cell_type": "markdown",
   "metadata": {},
   "source": [
    "# Only Run To Create Directory Contents"
   ]
  },
  {
   "cell_type": "code",
   "execution_count": 4,
   "metadata": {},
   "outputs": [
    {
     "data": {
      "text/html": [
       "<div>\n",
       "<style scoped>\n",
       "    .dataframe tbody tr th:only-of-type {\n",
       "        vertical-align: middle;\n",
       "    }\n",
       "\n",
       "    .dataframe tbody tr th {\n",
       "        vertical-align: top;\n",
       "    }\n",
       "\n",
       "    .dataframe thead th {\n",
       "        text-align: right;\n",
       "    }\n",
       "</style>\n",
       "<table border=\"1\" class=\"dataframe\">\n",
       "  <thead>\n",
       "    <tr style=\"text-align: right;\">\n",
       "      <th></th>\n",
       "      <th>composition</th>\n",
       "      <th>band_gap</th>\n",
       "      <th>method</th>\n",
       "    </tr>\n",
       "  </thead>\n",
       "  <tbody>\n",
       "    <tr>\n",
       "      <th>0</th>\n",
       "      <td>He1</td>\n",
       "      <td>18.437</td>\n",
       "      <td>PBE</td>\n",
       "    </tr>\n",
       "    <tr>\n",
       "      <th>1</th>\n",
       "      <td>He1</td>\n",
       "      <td>18.407</td>\n",
       "      <td>PBE</td>\n",
       "    </tr>\n",
       "    <tr>\n",
       "      <th>2</th>\n",
       "      <td>He1</td>\n",
       "      <td>18.390</td>\n",
       "      <td>PBE</td>\n",
       "    </tr>\n",
       "    <tr>\n",
       "      <th>3</th>\n",
       "      <td>He1</td>\n",
       "      <td>18.278</td>\n",
       "      <td>PBE</td>\n",
       "    </tr>\n",
       "    <tr>\n",
       "      <th>4</th>\n",
       "      <td>He1</td>\n",
       "      <td>18.259</td>\n",
       "      <td>PBE</td>\n",
       "    </tr>\n",
       "  </tbody>\n",
       "</table>\n",
       "</div>"
      ],
      "text/plain": [
       "  composition  band_gap method\n",
       "0         He1    18.437    PBE\n",
       "1         He1    18.407    PBE\n",
       "2         He1    18.390    PBE\n",
       "3         He1    18.278    PBE\n",
       "4         He1    18.259    PBE"
      ]
     },
     "execution_count": 4,
     "metadata": {},
     "output_type": "execute_result"
    }
   ],
   "source": [
    "from sklearn import datasets\n",
    "import pandas as pd\n",
    "df = pd.read_csv('oqmd.csv')\n",
    "\n",
    "bgs = df['band_gap (eV)'].values\n",
    "composition = df['composition'].values\n",
    "df = pd.DataFrame({'composition':composition,'band_gap':bgs,'method':['PBE']*len(bgs)})\n",
    "df.to_json(\"foundry_dataframe.json\")\n",
    "df.head()\n",
    "# bg_dict = {\n",
    "#     \"dc\":{},\n",
    "#     \"mdf\":{},\n",
    "#     \"foundry\":{\n",
    "#         \"inputs\":['composition',\n",
    "#                  'method'],\n",
    "#         \"outputs\":['band_gap'],\n",
    "#         \"type\":\"tabular\"\n",
    "#     }\n",
    "# }\n",
    "\n",
    "#f = Foundry().from_dict(iris_dict)\n",
    "#f.to_file()"
   ]
  },
  {
   "cell_type": "code",
   "execution_count": 5,
   "metadata": {},
   "outputs": [],
   "source": [
    "t = {\"dc\": {\"creators\": [{\"affiliations\":[\"Northwestern University\"],\n",
    "                      \"creatorName\":\"Saal, James\",\n",
    "                      \"familyName\":\"Saal\",\\\n",
    "                      \"givenName\":\"James\"},\n",
    "                      {\"affiliations\":[\"Northwestern University\"],\n",
    "                       \"creatorName\":\"Kirklin, Scott\",\n",
    "                       \"familyName\":\"Kirklin\",\\\n",
    "                       \"givenName\":\"Scott\"},\\\n",
    "                      {\"affiliations\":[\"Northwestern University\"],\n",
    "                       \"creatorName\":\"Aykol, Muratahan\",\n",
    "                       \"familyName\":\"Aykol\",\\\n",
    "                       \"givenName\":\"Muratahan\"},\\\n",
    "                      {\"affiliations\":[\"Northwestern University\"],\n",
    "                       \"creatorName\":\"Meredig, Bryce\",\n",
    "                       \"familyName\":\"Meredig\",\\\n",
    "                       \"givenName\":\"Bryce\"},\\\n",
    "                      {\"affiliations\":[\"Northwestern University\"],\n",
    "                       \"creatorName\":\"Wolverton, Chris\",\n",
    "                       \"familyName\":\"Wolverton\",\\\n",
    "                       \"givenName\":\"Chris\"}],\n",
    "        \"dates\":[{\"date\":\"2013-09-23\",\"dateType\":\"Accepted\"}],\n",
    "        \"identifier\":{\"identifier\":\"10.1007/s11837-013-0755-4\",\"identifierType\":\"DOI\"},\n",
    "        \"publicationYear\":2013,\n",
    "        \"resourceType\":{\"resourceType\":\"Dataset\",\"resourceTypeGeneral\":\"Dataset\"},\n",
    "        \"subjects\":[{\"subject\":\"machine learning\"},{\"subject\":\"DFT\"},{\"subject\":\"simulation\"}],\n",
    "        \"titles\":[{\"title\":\"Open Quantum Materials Database (OQMD)\"}]\n",
    "                                          },\n",
    "\"mdf\": {}, \"dataset\": {\"inputs\": [\"composition\", \"method\"],\n",
    "                                  \"outputs\": [\"band_gap\"],\n",
    "                                  \"package_type\": \"tabular\"},\n",
    " \"sources\":[{\"url\":\"http://oqmd.org/\"}]\n",
    "}"
   ]
  },
  {
   "cell_type": "code",
   "execution_count": 6,
   "metadata": {},
   "outputs": [],
   "source": [
    "import json\n",
    "with open('foundry_metadata.json', 'w') as f:\n",
    "    json.dump(t, f)"
   ]
  },
  {
   "cell_type": "code",
   "execution_count": null,
   "metadata": {},
   "outputs": [],
   "source": []
  }
 ],
 "metadata": {
  "kernelspec": {
   "display_name": "Python 3",
   "language": "python",
   "name": "python3"
  },
  "language_info": {
   "codemirror_mode": {
    "name": "ipython",
    "version": 3
   },
   "file_extension": ".py",
   "mimetype": "text/x-python",
   "name": "python",
   "nbconvert_exporter": "python",
   "pygments_lexer": "ipython3",
   "version": "3.7.2"
  }
 },
 "nbformat": 4,
 "nbformat_minor": 4
}
