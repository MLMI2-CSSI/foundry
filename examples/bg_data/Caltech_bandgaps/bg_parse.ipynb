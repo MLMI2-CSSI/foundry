{
 "cells": [
  {
   "cell_type": "code",
   "execution_count": 1,
   "metadata": {},
   "outputs": [],
   "source": [
    "from foundry.foundry import Foundry"
   ]
  },
  {
   "cell_type": "code",
   "execution_count": 2,
   "metadata": {},
   "outputs": [],
   "source": [
    "#need Globus to pull data\n",
    "f = Foundry().load('_test_foundry_stein_v1.1')\n",
    "X,y = f.load_data()"
   ]
  },
  {
   "cell_type": "code",
   "execution_count": 3,
   "metadata": {},
   "outputs": [
    {
     "data": {
      "text/html": [
       "<div>\n",
       "<style scoped>\n",
       "    .dataframe tbody tr th:only-of-type {\n",
       "        vertical-align: middle;\n",
       "    }\n",
       "\n",
       "    .dataframe tbody tr th {\n",
       "        vertical-align: top;\n",
       "    }\n",
       "\n",
       "    .dataframe thead th {\n",
       "        text-align: right;\n",
       "    }\n",
       "</style>\n",
       "<table border=\"1\" class=\"dataframe\">\n",
       "  <thead>\n",
       "    <tr style=\"text-align: right;\">\n",
       "      <th></th>\n",
       "      <th>composition</th>\n",
       "      <th>method</th>\n",
       "    </tr>\n",
       "  </thead>\n",
       "  <tbody>\n",
       "    <tr>\n",
       "      <th>0</th>\n",
       "      <td>V0.65W0.25La0.1</td>\n",
       "      <td>experimental</td>\n",
       "    </tr>\n",
       "    <tr>\n",
       "      <th>1</th>\n",
       "      <td>Bi0.1V0.1Mn0.15La0.65</td>\n",
       "      <td>experimental</td>\n",
       "    </tr>\n",
       "    <tr>\n",
       "      <th>2</th>\n",
       "      <td>Co0.4Bi0.25Mn0.15Pr0.2</td>\n",
       "      <td>experimental</td>\n",
       "    </tr>\n",
       "    <tr>\n",
       "      <th>3</th>\n",
       "      <td>Mn1.0</td>\n",
       "      <td>experimental</td>\n",
       "    </tr>\n",
       "    <tr>\n",
       "      <th>4</th>\n",
       "      <td>V0.05Mn0.75W0.05La0.15</td>\n",
       "      <td>experimental</td>\n",
       "    </tr>\n",
       "  </tbody>\n",
       "</table>\n",
       "</div>"
      ],
      "text/plain": [
       "              composition        method\n",
       "0         V0.65W0.25La0.1  experimental\n",
       "1   Bi0.1V0.1Mn0.15La0.65  experimental\n",
       "2  Co0.4Bi0.25Mn0.15Pr0.2  experimental\n",
       "3                   Mn1.0  experimental\n",
       "4  V0.05Mn0.75W0.05La0.15  experimental"
      ]
     },
     "execution_count": 3,
     "metadata": {},
     "output_type": "execute_result"
    }
   ],
   "source": [
    "X.head()"
   ]
  },
  {
   "cell_type": "code",
   "execution_count": 4,
   "metadata": {},
   "outputs": [
    {
     "data": {
      "text/html": [
       "<div>\n",
       "<style scoped>\n",
       "    .dataframe tbody tr th:only-of-type {\n",
       "        vertical-align: middle;\n",
       "    }\n",
       "\n",
       "    .dataframe tbody tr th {\n",
       "        vertical-align: top;\n",
       "    }\n",
       "\n",
       "    .dataframe thead th {\n",
       "        text-align: right;\n",
       "    }\n",
       "</style>\n",
       "<table border=\"1\" class=\"dataframe\">\n",
       "  <thead>\n",
       "    <tr style=\"text-align: right;\">\n",
       "      <th></th>\n",
       "      <th>band_gap</th>\n",
       "    </tr>\n",
       "  </thead>\n",
       "  <tbody>\n",
       "    <tr>\n",
       "      <th>0</th>\n",
       "      <td>1.33273</td>\n",
       "    </tr>\n",
       "    <tr>\n",
       "      <th>1</th>\n",
       "      <td>2.49130</td>\n",
       "    </tr>\n",
       "    <tr>\n",
       "      <th>2</th>\n",
       "      <td>1.33025</td>\n",
       "    </tr>\n",
       "    <tr>\n",
       "      <th>3</th>\n",
       "      <td>1.24882</td>\n",
       "    </tr>\n",
       "    <tr>\n",
       "      <th>4</th>\n",
       "      <td>0.93378</td>\n",
       "    </tr>\n",
       "  </tbody>\n",
       "</table>\n",
       "</div>"
      ],
      "text/plain": [
       "   band_gap\n",
       "0   1.33273\n",
       "1   2.49130\n",
       "2   1.33025\n",
       "3   1.24882\n",
       "4   0.93378"
      ]
     },
     "execution_count": 4,
     "metadata": {},
     "output_type": "execute_result"
    }
   ],
   "source": [
    "y.head()"
   ]
  },
  {
   "cell_type": "code",
   "execution_count": 5,
   "metadata": {},
   "outputs": [
    {
     "name": "stdout",
     "output_type": "stream",
     "text": [
      "DC:{'creators': [{'affiliations': ['California Institute of Technology'], 'creatorName': 'Gregoire, John', 'familyName': 'Gregoire', 'givenName': 'John'}, {'affiliations': ['California Institute of Technology'], 'creatorName': 'Stein, Helge', 'familyName': 'Stein', 'givenName': 'Helge'}, {'affiliations': ['California Institute of Technology'], 'creatorName': 'Soedarmadji, Edwin', 'familyName': 'Soedarmadji', 'givenName': 'Edwin'}, {'affiliations': ['California Institute of Technology'], 'creatorName': 'Newhouse, Paul', 'familyName': 'Newhouse', 'givenName': 'Paul'}, {'affiliations': ['California Institute of Technology'], 'creatorName': 'Guevarra, Dan', 'familyName': 'Guevarra', 'givenName': 'Dan'}], 'dates': [{'date': '2018-10-29', 'dateType': 'Accepted'}, {'date': '2020-02-11', 'dateType': 'Accepted'}], 'identifier': {'identifier': '10.23677/i4vc-5mwp', 'identifierType': 'DOI'}, 'publicationYear': 2020, 'publisher': 'Materials Data Facility', 'resourceType': {'resourceType': 'Dataset', 'resourceTypeGeneral': 'Dataset'}, 'subjects': [{'subject': 'machine learning'}, {'subject': 'experiment'}, {'subject': 'foundry'}], 'titles': [{'title': 'JCAP images and absorption spectra for 179072 metal oxides'}]}\n",
      "Dataset:{\"inputs\": [\"composition\", \"method\"], \"outputs\": [\"band_gap\"], \"input_descriptions\": [], \"output_descriptions\": [], \"type\": \"tabular\", \"version\": \"\", \"short_name\": \"stein-band-gap\"}\n"
     ]
    }
   ],
   "source": [
    "f.describe()"
   ]
  },
  {
   "cell_type": "markdown",
   "metadata": {},
   "source": [
    "# Only Run To Create Directory Contents"
   ]
  },
  {
   "cell_type": "code",
   "execution_count": 11,
   "metadata": {},
   "outputs": [],
   "source": [
    "from sklearn import datasets\n",
    "import pandas as pd\n",
    "stein_df = pd.read_csv('Stein_BG_data.csv',index_col=0)\n",
    "df = stein_df.drop(columns=['Unnamed: 0'])\n",
    "df.head()\n",
    "df.to_json(\"foundry_dataframe.json\")"
   ]
  },
  {
   "cell_type": "code",
   "execution_count": 6,
   "metadata": {},
   "outputs": [],
   "source": [
    "metadata = {\"dc\": {\"creators\": [{\"affiliations\":[\"California Institute of Technology\"],\n",
    "                      \"creatorName\":\"Gregoire, John\",\n",
    "                      \"familyName\":\"Gregoire\",\\\n",
    "                      \"givenName\":\"John\"},\n",
    "                                {\"affiliations\":[\"California Institute of Technology\"],\n",
    "                       \"creatorName\":\"Stein, Helge\",\n",
    "                       \"familyName\":\"Stein\",\\\n",
    "                       \"givenName\":\"Helge\"},\n",
    "                                {\"affiliations\":[\"California Institute of Technology\"],\n",
    "                      \"creatorName\":\"Soedarmadji, Edwin\",\n",
    "                      \"familyName\":\"Soedarmadji\",\\\n",
    "                      \"givenName\":\"Edwin\"},\n",
    "                                {\"affiliations\":[\"California Institute of Technology\"],\n",
    "                      \"creatorName\":\"Newhouse, Paul\",\n",
    "                      \"familyName\":\"Newhouse\",\\\n",
    "                      \"givenName\":\"Paul\"},\n",
    "                                {\"affiliations\":[\"California Institute of Technology\"],\n",
    "                      \"creatorName\":\"Guevarra, Dan\",\n",
    "                      \"familyName\":\"Guevarra\",\\\n",
    "                      \"givenName\":\"Dan\"},\n",
    "                                ],\n",
    "        \"dates\":[{\"date\":\"2018-10-29\",\"dateType\":\"Accepted\"}],\n",
    "        \"identifier\":{\"identifier\":\"10.22002/D1.1103\",\"identifierType\":\"DOI\"},\n",
    "        \"publicationYear\":2013,\n",
    "        \"resourceType\":{\"resourceType\":\"Dataset\",\"resourceTypeGeneral\":\"Dataset\"},\n",
    "        \"subjects\":[{\"subject\":\"machine learning\"},{\"subject\":\"experiment\"}],\n",
    "        \"titles\":[{\"title\":\"JCAP images and absorption spectra for 179072 metal oxides\"}]\n",
    "                                          },\n",
    "\"mdf\": {\"source_id\":\"_test_foundry_stein_v1.1\"}, \"dataset\": {\"inputs\": [\"composition\", \"method\"],\n",
    "                                  \"outputs\": [\"band_gap\"],\n",
    "                                  \"type\": \"tabular\"},\n",
    " \"sources\":[{\"url\":\"https://www.osti.gov/dataexplorer/biblio/1479489\"}]\n",
    "}"
   ]
  },
  {
   "cell_type": "code",
   "execution_count": 7,
   "metadata": {},
   "outputs": [],
   "source": [
    "import json\n",
    "with open('foundry_metadata.json', 'w') as f:\n",
    "    json.dump(metadata, f)"
   ]
  },
  {
   "cell_type": "code",
   "execution_count": null,
   "metadata": {},
   "outputs": [],
   "source": []
  }
 ],
 "metadata": {
  "kernelspec": {
   "display_name": "Python 3",
   "language": "python",
   "name": "python3"
  },
  "language_info": {
   "codemirror_mode": {
    "name": "ipython",
    "version": 3
   },
   "file_extension": ".py",
   "mimetype": "text/x-python",
   "name": "python",
   "nbconvert_exporter": "python",
   "pygments_lexer": "ipython3",
   "version": "3.8.3"
  }
 },
 "nbformat": 4,
 "nbformat_minor": 4
}
