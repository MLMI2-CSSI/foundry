{
 "cells": [
  {
   "cell_type": "code",
   "execution_count": 1,
   "metadata": {},
   "outputs": [],
   "source": [
    "from foundry.foundry import Foundry"
   ]
  },
  {
   "cell_type": "code",
   "execution_count": 3,
   "metadata": {},
   "outputs": [
    {
     "data": {
      "text/plain": [
       "['foundry_metadata.json',\n",
       " 'bg_parse.ipynb',\n",
       " '.ipynb_checkpoints',\n",
       " 'foundry_dataframe.json']"
      ]
     },
     "execution_count": 3,
     "metadata": {},
     "output_type": "execute_result"
    }
   ],
   "source": [
    "import os\n",
    "os.listdir()"
   ]
  },
  {
   "cell_type": "code",
   "execution_count": 4,
   "metadata": {},
   "outputs": [
    {
     "data": {
      "text/plain": [
       "Foundry(dc={'creators': [{'affiliations': ['University of Houston'], 'creatorName': 'Zhuo, Ya', 'familyName': 'Zhuo', 'givenName': 'Ya'}, {'affiliations': ['University of Houston'], 'creatorName': 'Tehrani, Aria', 'familyName': 'Tehrani', 'givenName': 'Aria'}, {'affiliations': ['University of Houston'], 'creatorName': 'Brgoch, Jakoah', 'familyName': 'Brgoch', 'givenName': 'Jakoah'}], 'dates': [{'date': '2018-03-13', 'dateType': 'Accepted'}], 'identifier': {'identifier': '10.1021/acs.jpclett.8b00124', 'identifierType': 'DOI'}, 'publicationYear': 2020, 'resourceType': {'resourceType': 'Dataset', 'resourceTypeGeneral': 'Dataset'}, 'subjects': [{'subject': 'machine learning'}, {'subject': 'experimental'}, {'subject': 'band gap'}, {'subject': 'foundry'}], 'titles': [{'title': 'Predicting the Band Gaps of Inorganic Solids by Machine Learning'}]}, mdf={}, dataset=FoundryDataset(inputs=['composition', 'method'], outputs=['band_gap'], input_descriptions=[], output_descriptions=[], type=None, version='', short_name='', dataframe=None), config=FoundryConfig(dataframe_file='foundry_dataframe.json', metadata_file='foundry_metadata.json', destination_endpoint=None, local=False, local_cache_dir='./data'), dlhub_client=<dlhub_sdk.client.DLHubClient object at 0x10ef2ec18>, forge_client=<mdf_forge.forge.Forge object at 0x10ef35ef0>, transfer_client=<globus_sdk.transfer.client.TransferClient object at 0x10ef439b0>, connect_client=<mdf_connect_client.mdfcc.MDFConnectClient object at 0x10ef4c668>)"
      ]
     },
     "execution_count": 4,
     "metadata": {},
     "output_type": "execute_result"
    }
   ],
   "source": [
    "f = Foundry().from_file()\n",
    "f\n",
    "#X,y = f.load_data()"
   ]
  },
  {
   "cell_type": "code",
   "execution_count": null,
   "metadata": {},
   "outputs": [],
   "source": [
    "X.head()"
   ]
  },
  {
   "cell_type": "code",
   "execution_count": null,
   "metadata": {},
   "outputs": [],
   "source": [
    "y.head()"
   ]
  },
  {
   "cell_type": "code",
   "execution_count": null,
   "metadata": {},
   "outputs": [],
   "source": [
    "f.describe()"
   ]
  },
  {
   "cell_type": "code",
   "execution_count": 10,
   "metadata": {},
   "outputs": [
    {
     "data": {
      "text/html": [
       "<div>\n",
       "<style scoped>\n",
       "    .dataframe tbody tr th:only-of-type {\n",
       "        vertical-align: middle;\n",
       "    }\n",
       "\n",
       "    .dataframe tbody tr th {\n",
       "        vertical-align: top;\n",
       "    }\n",
       "\n",
       "    .dataframe thead th {\n",
       "        text-align: right;\n",
       "    }\n",
       "</style>\n",
       "<table border=\"1\" class=\"dataframe\">\n",
       "  <thead>\n",
       "    <tr style=\"text-align: right;\">\n",
       "      <th></th>\n",
       "      <th>composition</th>\n",
       "      <th>band_gap</th>\n",
       "      <th>method</th>\n",
       "    </tr>\n",
       "  </thead>\n",
       "  <tbody>\n",
       "    <tr>\n",
       "      <th>0</th>\n",
       "      <td>Hg0.7Cd0.3Te</td>\n",
       "      <td>0.35</td>\n",
       "      <td>experimental</td>\n",
       "    </tr>\n",
       "    <tr>\n",
       "      <th>1</th>\n",
       "      <td>CuBr</td>\n",
       "      <td>3.08</td>\n",
       "      <td>experimental</td>\n",
       "    </tr>\n",
       "    <tr>\n",
       "      <th>2</th>\n",
       "      <td>LuP</td>\n",
       "      <td>1.30</td>\n",
       "      <td>experimental</td>\n",
       "    </tr>\n",
       "    <tr>\n",
       "      <th>3</th>\n",
       "      <td>Cu3SbSe4</td>\n",
       "      <td>0.40</td>\n",
       "      <td>experimental</td>\n",
       "    </tr>\n",
       "    <tr>\n",
       "      <th>4</th>\n",
       "      <td>ZnO</td>\n",
       "      <td>3.44</td>\n",
       "      <td>experimental</td>\n",
       "    </tr>\n",
       "  </tbody>\n",
       "</table>\n",
       "</div>"
      ],
      "text/plain": [
       "    composition  band_gap        method\n",
       "0  Hg0.7Cd0.3Te      0.35  experimental\n",
       "1          CuBr      3.08  experimental\n",
       "2           LuP      1.30  experimental\n",
       "3      Cu3SbSe4      0.40  experimental\n",
       "4           ZnO      3.44  experimental"
      ]
     },
     "execution_count": 10,
     "metadata": {},
     "output_type": "execute_result"
    }
   ],
   "source": [
    "#import matminer\n",
    "import pandas as pd\n",
    "#import numpy as np\n",
    "\n",
    "from matminer.datasets import convenience_loaders\n",
    "df = convenience_loaders.load_expt_gap()\n",
    "df = df.rename(columns={\"formula\": \"composition\", \"gap expt\": \"band_gap\"})\n",
    "df['method'] = ['experimental']*len(df.composition.tolist())\n",
    "df.to_json(\"foundry_dataframe.json\")\n",
    "df.head()"
   ]
  },
  {
   "cell_type": "code",
   "execution_count": 11,
   "metadata": {},
   "outputs": [],
   "source": [
    "t = {\"dc\": {\"creators\": [{\"affiliations\":[\"University of Houston\"],\n",
    "                      \"creatorName\":\"Zhuo, Ya\",\n",
    "                      \"familyName\":\"Zhuo\",\\\n",
    "                      \"givenName\":\"Ya\"},\n",
    "                      {\"affiliations\":[\"University of Houston\"],\n",
    "                       \"creatorName\":\"Tehrani, Aria\",\n",
    "                       \"familyName\":\"Tehrani\",\\\n",
    "                       \"givenName\":\"Aria\"},\\\n",
    "                      {\"affiliations\":[\"University of Houston\"],\n",
    "                       \"creatorName\":\"Brgoch, Jakoah\",\n",
    "                       \"familyName\":\"Brgoch\",\\\n",
    "                       \"givenName\":\"Jakoah\"}],\n",
    "        \"dates\":[{\"date\":\"2018-03-13\",\"dateType\":\"Accepted\"}],\n",
    "        \"identifier\":{\"identifier\":\"10.1021/acs.jpclett.8b00124\",\"identifierType\":\"DOI\"},\n",
    "        \"publicationYear\":2020,\n",
    "        \"resourceType\":{\"resourceType\":\"Dataset\",\"resourceTypeGeneral\":\"Dataset\"},\n",
    "        \"subjects\":[{\"subject\":\"machine learning\"},{\"subject\":\"experimental\"},\\\n",
    "                    {\"subject\":\"band gap\"},{\"subject\":\"foundry\"}],\n",
    "        \"titles\":[{\"title\":\"Predicting the Band Gaps of Inorganic Solids by Machine Learning\"}]\n",
    "                                          },\n",
    "\"mdf\": {}, \"dataset\": {\"inputs\": [\"composition\", \"method\"],\n",
    "                                  \"outputs\": [\"band_gap\"],\n",
    "                                  \"package_type\": \"tabular\"},\n",
    " \"sources\":[{\"url\":\"https://pubs.acs.org/doi/suppl/10.1021/acs.jpclett.8b00124\"}]\n",
    "}"
   ]
  },
  {
   "cell_type": "code",
   "execution_count": 14,
   "metadata": {},
   "outputs": [],
   "source": [
    "import json\n",
    "with open('foundry_metadata.json', 'w') as f:\n",
    "    json.dump(t, f)"
   ]
  },
  {
   "cell_type": "code",
   "execution_count": null,
   "metadata": {},
   "outputs": [],
   "source": []
  }
 ],
 "metadata": {
  "kernelspec": {
   "display_name": "Python 3",
   "language": "python",
   "name": "python3"
  },
  "language_info": {
   "codemirror_mode": {
    "name": "ipython",
    "version": 3
   },
   "file_extension": ".py",
   "mimetype": "text/x-python",
   "name": "python",
   "nbconvert_exporter": "python",
   "pygments_lexer": "ipython3",
   "version": "3.7.2"
  }
 },
 "nbformat": 4,
 "nbformat_minor": 2
}
