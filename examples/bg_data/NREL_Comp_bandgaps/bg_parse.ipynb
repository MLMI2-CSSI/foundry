{
 "cells": [
  {
   "cell_type": "code",
   "execution_count": 23,
   "metadata": {},
   "outputs": [],
   "source": [
    "from foundry.foundry import Foundry"
   ]
  },
  {
   "cell_type": "code",
   "execution_count": 24,
   "metadata": {},
   "outputs": [],
   "source": [
    "f = Foundry().from_file()\n",
    "X,y = f.load_data()"
   ]
  },
  {
   "cell_type": "code",
   "execution_count": 25,
   "metadata": {},
   "outputs": [
    {
     "data": {
      "text/html": [
       "<div>\n",
       "<style scoped>\n",
       "    .dataframe tbody tr th:only-of-type {\n",
       "        vertical-align: middle;\n",
       "    }\n",
       "\n",
       "    .dataframe tbody tr th {\n",
       "        vertical-align: top;\n",
       "    }\n",
       "\n",
       "    .dataframe thead th {\n",
       "        text-align: right;\n",
       "    }\n",
       "</style>\n",
       "<table border=\"1\" class=\"dataframe\">\n",
       "  <thead>\n",
       "    <tr style=\"text-align: right;\">\n",
       "      <th></th>\n",
       "      <th>composition</th>\n",
       "      <th>method</th>\n",
       "    </tr>\n",
       "  </thead>\n",
       "  <tbody>\n",
       "    <tr>\n",
       "      <th>0</th>\n",
       "      <td>Ag2 O</td>\n",
       "      <td>GWVD</td>\n",
       "    </tr>\n",
       "    <tr>\n",
       "      <th>1</th>\n",
       "      <td>Ag2 S4 Sn Zn</td>\n",
       "      <td>GWVD</td>\n",
       "    </tr>\n",
       "    <tr>\n",
       "      <th>10</th>\n",
       "      <td>Al2 O4 Zn</td>\n",
       "      <td>GWVD</td>\n",
       "    </tr>\n",
       "    <tr>\n",
       "      <th>100</th>\n",
       "      <td>Co2 Cu O4</td>\n",
       "      <td>GWVD</td>\n",
       "    </tr>\n",
       "    <tr>\n",
       "      <th>101</th>\n",
       "      <td>Co2 Mg O4</td>\n",
       "      <td>GWVD</td>\n",
       "    </tr>\n",
       "  </tbody>\n",
       "</table>\n",
       "</div>"
      ],
      "text/plain": [
       "      composition method\n",
       "0           Ag2 O   GWVD\n",
       "1    Ag2 S4 Sn Zn   GWVD\n",
       "10      Al2 O4 Zn   GWVD\n",
       "100     Co2 Cu O4   GWVD\n",
       "101     Co2 Mg O4   GWVD"
      ]
     },
     "execution_count": 25,
     "metadata": {},
     "output_type": "execute_result"
    }
   ],
   "source": [
    "X.head()"
   ]
  },
  {
   "cell_type": "code",
   "execution_count": 26,
   "metadata": {},
   "outputs": [
    {
     "data": {
      "text/html": [
       "<div>\n",
       "<style scoped>\n",
       "    .dataframe tbody tr th:only-of-type {\n",
       "        vertical-align: middle;\n",
       "    }\n",
       "\n",
       "    .dataframe tbody tr th {\n",
       "        vertical-align: top;\n",
       "    }\n",
       "\n",
       "    .dataframe thead th {\n",
       "        text-align: right;\n",
       "    }\n",
       "</style>\n",
       "<table border=\"1\" class=\"dataframe\">\n",
       "  <thead>\n",
       "    <tr style=\"text-align: right;\">\n",
       "      <th></th>\n",
       "      <th>band_gap</th>\n",
       "    </tr>\n",
       "  </thead>\n",
       "  <tbody>\n",
       "    <tr>\n",
       "      <th>0</th>\n",
       "      <td>1.5542</td>\n",
       "    </tr>\n",
       "    <tr>\n",
       "      <th>1</th>\n",
       "      <td>2.3475</td>\n",
       "    </tr>\n",
       "    <tr>\n",
       "      <th>10</th>\n",
       "      <td>7.5541</td>\n",
       "    </tr>\n",
       "    <tr>\n",
       "      <th>100</th>\n",
       "      <td>0.8068</td>\n",
       "    </tr>\n",
       "    <tr>\n",
       "      <th>101</th>\n",
       "      <td>2.6806</td>\n",
       "    </tr>\n",
       "  </tbody>\n",
       "</table>\n",
       "</div>"
      ],
      "text/plain": [
       "     band_gap\n",
       "0      1.5542\n",
       "1      2.3475\n",
       "10     7.5541\n",
       "100    0.8068\n",
       "101    2.6806"
      ]
     },
     "execution_count": 26,
     "metadata": {},
     "output_type": "execute_result"
    }
   ],
   "source": [
    "y.head()"
   ]
  },
  {
   "cell_type": "code",
   "execution_count": 27,
   "metadata": {},
   "outputs": [
    {
     "name": "stdout",
     "output_type": "stream",
     "text": [
      "DC:{'creators': [{'affiliations': ['National Renewable Energy Laboratory'], 'creatorName': 'Lany, Stefan', 'familyName': 'Lany', 'givenName': 'Stefan'}, {'affiliations': ['Colorado School of Mines'], 'creatorName': 'Stevanovic, Vladan', 'familyName': 'Stevanovic', 'givenName': 'Vladan'}], 'dates': [{'date': '2013-01-01', 'dateType': 'Accepted'}], 'identifier': {'identifier': '10.1103/PhysRevB.87.085112', 'identifierType': 'DOI'}, 'publicationYear': 2013, 'resourceType': {'resourceType': 'Dataset', 'resourceTypeGeneral': 'Dataset'}, 'subjects': [{'subject': 'machine learning'}, {'subject': 'DFT'}, {'subject': 'simulation'}], 'titles': [{'title': 'NREL MatDB GWVD Dataset'}]}\n",
      "Dataset:{\"inputs\": [\"composition\", \"method\"], \"outputs\": [\"band_gap\"], \"input_descriptions\": [], \"output_descriptions\": [], \"type\": \"tabular\", \"hash\": [], \"version\": \"\", \"references\": [], \"sources\": []}\n"
     ]
    }
   ],
   "source": [
    "f.describe()"
   ]
  },
  {
   "cell_type": "markdown",
   "metadata": {},
   "source": [
    "# Only Run To Create Directory Contents"
   ]
  },
  {
   "cell_type": "code",
   "execution_count": 7,
   "metadata": {},
   "outputs": [
    {
     "data": {
      "text/html": [
       "<div>\n",
       "<style scoped>\n",
       "    .dataframe tbody tr th:only-of-type {\n",
       "        vertical-align: middle;\n",
       "    }\n",
       "\n",
       "    .dataframe tbody tr th {\n",
       "        vertical-align: top;\n",
       "    }\n",
       "\n",
       "    .dataframe thead th {\n",
       "        text-align: right;\n",
       "    }\n",
       "</style>\n",
       "<table border=\"1\" class=\"dataframe\">\n",
       "  <thead>\n",
       "    <tr style=\"text-align: right;\">\n",
       "      <th></th>\n",
       "      <th>composition</th>\n",
       "      <th>band_gap</th>\n",
       "      <th>method</th>\n",
       "    </tr>\n",
       "  </thead>\n",
       "  <tbody>\n",
       "    <tr>\n",
       "      <th>0</th>\n",
       "      <td>Ag2 O</td>\n",
       "      <td>1.5542</td>\n",
       "      <td>GWVD</td>\n",
       "    </tr>\n",
       "    <tr>\n",
       "      <th>1</th>\n",
       "      <td>Ag2 S4 Sn Zn</td>\n",
       "      <td>2.3475</td>\n",
       "      <td>GWVD</td>\n",
       "    </tr>\n",
       "    <tr>\n",
       "      <th>2</th>\n",
       "      <td>Ag2 Se4 Sn Zn</td>\n",
       "      <td>1.5400</td>\n",
       "      <td>GWVD</td>\n",
       "    </tr>\n",
       "    <tr>\n",
       "      <th>3</th>\n",
       "      <td>Al2 Cd O4</td>\n",
       "      <td>5.7163</td>\n",
       "      <td>GWVD</td>\n",
       "    </tr>\n",
       "    <tr>\n",
       "      <th>4</th>\n",
       "      <td>Al2 Co O4</td>\n",
       "      <td>6.3337</td>\n",
       "      <td>GWVD</td>\n",
       "    </tr>\n",
       "  </tbody>\n",
       "</table>\n",
       "</div>"
      ],
      "text/plain": [
       "     composition  band_gap method\n",
       "0          Ag2 O    1.5542   GWVD\n",
       "1   Ag2 S4 Sn Zn    2.3475   GWVD\n",
       "2  Ag2 Se4 Sn Zn    1.5400   GWVD\n",
       "3      Al2 Cd O4    5.7163   GWVD\n",
       "4      Al2 Co O4    6.3337   GWVD"
      ]
     },
     "execution_count": 7,
     "metadata": {},
     "output_type": "execute_result"
    }
   ],
   "source": [
    "from sklearn import datasets\n",
    "import pandas as pd\n",
    "gw_df = pd.read_csv('GWVD_Standards.csv')\n",
    "\n",
    "bgs = gw_df['E<sub>g,d</sub> (eV)'].values\n",
    "composition = gw_df['sorted formula'].values\n",
    "df = pd.DataFrame({'composition':composition,'band_gap':bgs,'method':['GWVD']*len(bgs)})\n",
    "df.to_json(\"foundry_dataframe.json\")\n",
    "df.head()\n",
    "# bg_dict = {\n",
    "#     \"dc\":{},\n",
    "#     \"mdf\":{},\n",
    "#     \"foundry\":{\n",
    "#         \"inputs\":['composition',\n",
    "#                  'method'],\n",
    "#         \"outputs\":['band_gap'],\n",
    "#         \"type\":\"tabular\"\n",
    "#     }\n",
    "# }\n",
    "\n",
    "#f = Foundry().from_dict(iris_dict)\n",
    "#f.to_file()"
   ]
  },
  {
   "cell_type": "code",
   "execution_count": 18,
   "metadata": {},
   "outputs": [],
   "source": [
    "t = {\"dc\": {\"creators\": [{\"affiliations\":[\"National Renewable Energy Laboratory\"],\n",
    "                      \"creatorName\":\"Lany, Stefan\",\n",
    "                      \"familyName\":\"Lany\",\\\n",
    "                      \"givenName\":\"Stefan\"},\n",
    "                      {\"affiliations\":[\"Colorado School of Mines\"],\n",
    "                       \"creatorName\":\"Stevanovic, Vladan\",\n",
    "                       \"familyName\":\"Stevanovic\",\\\n",
    "                       \"givenName\":\"Vladan\"}],\n",
    "        \"dates\":[{\"date\":\"2013-01-01\",\"dateType\":\"Accepted\"}],\n",
    "        \"identifier\":{\"identifier\":\"10.1103/PhysRevB.87.085112\",\"identifierType\":\"DOI\"},\n",
    "        \"publicationYear\":2013,\n",
    "        \"resourceType\":{\"resourceType\":\"Dataset\",\"resourceTypeGeneral\":\"Dataset\"},\n",
    "        \"subjects\":[{\"subject\":\"machine learning\"},{\"subject\":\"DFT\"},{\"subject\":\"simulation\"}],\n",
    "        \"titles\":[{\"title\":\"NREL MatDB GWVD Dataset\"}]\n",
    "                                          },\n",
    "\"mdf\": {}, \"dataset\": {\"inputs\": [\"composition\", \"method\"],\n",
    "                                  \"outputs\": [\"band_gap\"],\n",
    "                                  \"package_type\": \"tabular\"},\n",
    " \"sources\":[{\"url\":\"https://materials.nrel.gov/\"}]\n",
    "}"
   ]
  },
  {
   "cell_type": "code",
   "execution_count": 22,
   "metadata": {},
   "outputs": [],
   "source": [
    "import json\n",
    "with open('foundry_metadata.json', 'w') as f:\n",
    "    json.dump(t, f)"
   ]
  },
  {
   "cell_type": "code",
   "execution_count": null,
   "metadata": {},
   "outputs": [],
   "source": []
  }
 ],
 "metadata": {
  "kernelspec": {
   "display_name": "Python 3",
   "language": "python",
   "name": "python3"
  },
  "language_info": {
   "codemirror_mode": {
    "name": "ipython",
    "version": 3
   },
   "file_extension": ".py",
   "mimetype": "text/x-python",
   "name": "python",
   "nbconvert_exporter": "python",
   "pygments_lexer": "ipython3",
   "version": "3.7.2"
  }
 },
 "nbformat": 4,
 "nbformat_minor": 4
}
