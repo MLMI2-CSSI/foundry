{
  "nbformat": 4,
  "nbformat_minor": 0,
  "metadata": {
    "colab": {
      "name": "foundry_publication_example.ipynb",
      "provenance": [],
      "collapsed_sections": []
    },
    "kernelspec": {
      "name": "python3",
      "display_name": "Python 3"
    }
  },
  "cells": [
    {
      "cell_type": "markdown",
      "metadata": {
        "id": "wuztXoDvqUPg"
      },
      "source": [
        "# Publishing datasets to Foundry\n",
        "3/17/21\n",
        "\n",
        "This notebook serves as a quick walkthrough for publishing datasets via Foundry.\n",
        "\n",
        "This code requires the newest version of Foundry (v0.0.7), if you're running locally, be sure you've updated the `foundry_ml` package\n"
      ]
    },
    {
      "cell_type": "code",
      "metadata": {
        "colab": {
          "base_uri": "https://localhost:8080/"
        },
        "id": "A3DpF2Nzqko5",
        "outputId": "32e1e5f9-4507-4d79-af54-bc565b6548a7"
      },
      "source": [
        "!pip install foundry_ml --upgrade\n",
        "!pip install mdf_connect_client"
      ],
      "execution_count": 5,
      "outputs": [
        {
          "output_type": "stream",
          "text": [
            "Requirement already up-to-date: foundry_ml in /usr/local/lib/python3.7/dist-packages (0.0.7)\n",
            "Requirement already satisfied, skipping upgrade: dlhub-client in /usr/local/lib/python3.7/dist-packages (from foundry_ml) (0.0.1)\n",
            "Requirement already satisfied, skipping upgrade: dlhub-sdk>=0.8.4 in /usr/local/lib/python3.7/dist-packages (from foundry_ml) (0.9.4)\n",
            "Requirement already satisfied, skipping upgrade: pydantic>=1.4 in /usr/local/lib/python3.7/dist-packages (from foundry_ml) (1.8.1)\n",
            "Requirement already satisfied, skipping upgrade: pandas>=0.23.4 in /usr/local/lib/python3.7/dist-packages (from foundry_ml) (1.1.5)\n",
            "Requirement already satisfied, skipping upgrade: numpy>=1.15.4 in /usr/local/lib/python3.7/dist-packages (from foundry_ml) (1.19.5)\n",
            "Requirement already satisfied, skipping upgrade: mdf-forge>=0.7.6 in /usr/local/lib/python3.7/dist-packages (from foundry_ml) (0.7.6)\n",
            "Requirement already satisfied, skipping upgrade: ipywidgets in /usr/local/lib/python3.7/dist-packages (from dlhub-client->foundry_ml) (7.6.3)\n",
            "Requirement already satisfied, skipping upgrade: requests>=2.18.4 in /usr/local/lib/python3.7/dist-packages (from dlhub-client->foundry_ml) (2.25.1)\n",
            "Requirement already satisfied, skipping upgrade: funcx>=0.0.5 in /usr/local/lib/python3.7/dist-packages (from dlhub-sdk>=0.8.4->foundry_ml) (0.0.5)\n",
            "Requirement already satisfied, skipping upgrade: mdf-toolbox>=0.5.4 in /usr/local/lib/python3.7/dist-packages (from dlhub-sdk>=0.8.4->foundry_ml) (0.5.7)\n",
            "Requirement already satisfied, skipping upgrade: globus-sdk>=1.9.0 in /usr/local/lib/python3.7/dist-packages (from dlhub-sdk>=0.8.4->foundry_ml) (2.0.1)\n",
            "Requirement already satisfied, skipping upgrade: jsonschema>=3.2.0 in /usr/local/lib/python3.7/dist-packages (from dlhub-sdk>=0.8.4->foundry_ml) (3.2.0)\n",
            "Requirement already satisfied, skipping upgrade: typing-extensions>=3.7.4.3 in /usr/local/lib/python3.7/dist-packages (from pydantic>=1.4->foundry_ml) (3.7.4.3)\n",
            "Requirement already satisfied, skipping upgrade: python-dateutil>=2.7.3 in /usr/local/lib/python3.7/dist-packages (from pandas>=0.23.4->foundry_ml) (2.8.1)\n",
            "Requirement already satisfied, skipping upgrade: pytz>=2017.2 in /usr/local/lib/python3.7/dist-packages (from pandas>=0.23.4->foundry_ml) (2018.9)\n",
            "Requirement already satisfied, skipping upgrade: tqdm>=4.19.4 in /usr/local/lib/python3.7/dist-packages (from mdf-forge>=0.7.6->foundry_ml) (4.41.1)\n",
            "Requirement already satisfied, skipping upgrade: ipython>=4.0.0; python_version >= \"3.3\" in /usr/local/lib/python3.7/dist-packages (from ipywidgets->dlhub-client->foundry_ml) (5.5.0)\n",
            "Requirement already satisfied, skipping upgrade: widgetsnbextension~=3.5.0 in /usr/local/lib/python3.7/dist-packages (from ipywidgets->dlhub-client->foundry_ml) (3.5.1)\n",
            "Requirement already satisfied, skipping upgrade: ipykernel>=4.5.1 in /usr/local/lib/python3.7/dist-packages (from ipywidgets->dlhub-client->foundry_ml) (4.10.1)\n",
            "Requirement already satisfied, skipping upgrade: jupyterlab-widgets>=1.0.0; python_version >= \"3.6\" in /usr/local/lib/python3.7/dist-packages (from ipywidgets->dlhub-client->foundry_ml) (1.0.0)\n",
            "Requirement already satisfied, skipping upgrade: nbformat>=4.2.0 in /usr/local/lib/python3.7/dist-packages (from ipywidgets->dlhub-client->foundry_ml) (5.1.2)\n",
            "Requirement already satisfied, skipping upgrade: traitlets>=4.3.1 in /usr/local/lib/python3.7/dist-packages (from ipywidgets->dlhub-client->foundry_ml) (5.0.5)\n",
            "Requirement already satisfied, skipping upgrade: chardet<5,>=3.0.2 in /usr/local/lib/python3.7/dist-packages (from requests>=2.18.4->dlhub-client->foundry_ml) (3.0.4)\n",
            "Requirement already satisfied, skipping upgrade: urllib3<1.27,>=1.21.1 in /usr/local/lib/python3.7/dist-packages (from requests>=2.18.4->dlhub-client->foundry_ml) (1.24.3)\n",
            "Requirement already satisfied, skipping upgrade: certifi>=2017.4.17 in /usr/local/lib/python3.7/dist-packages (from requests>=2.18.4->dlhub-client->foundry_ml) (2020.12.5)\n",
            "Requirement already satisfied, skipping upgrade: idna<3,>=2.5 in /usr/local/lib/python3.7/dist-packages (from requests>=2.18.4->dlhub-client->foundry_ml) (2.10)\n",
            "Requirement already satisfied, skipping upgrade: parsl==0.9.0 in /usr/local/lib/python3.7/dist-packages (from funcx>=0.0.5->dlhub-sdk>=0.8.4->foundry_ml) (0.9.0)\n",
            "Requirement already satisfied, skipping upgrade: nbsphinx in /usr/local/lib/python3.7/dist-packages (from funcx>=0.0.5->dlhub-sdk>=0.8.4->foundry_ml) (0.8.2)\n",
            "Requirement already satisfied, skipping upgrade: python-daemon in /usr/local/lib/python3.7/dist-packages (from funcx>=0.0.5->dlhub-sdk>=0.8.4->foundry_ml) (2.3.0)\n",
            "Requirement already satisfied, skipping upgrade: texttable in /usr/local/lib/python3.7/dist-packages (from funcx>=0.0.5->dlhub-sdk>=0.8.4->foundry_ml) (1.6.3)\n",
            "Requirement already satisfied, skipping upgrade: configobj in /usr/local/lib/python3.7/dist-packages (from funcx>=0.0.5->dlhub-sdk>=0.8.4->foundry_ml) (5.0.6)\n",
            "Requirement already satisfied, skipping upgrade: fair-research-login in /usr/local/lib/python3.7/dist-packages (from funcx>=0.0.5->dlhub-sdk>=0.8.4->foundry_ml) (0.2.0)\n",
            "Requirement already satisfied, skipping upgrade: sphinx-rtd-theme in /usr/local/lib/python3.7/dist-packages (from funcx>=0.0.5->dlhub-sdk>=0.8.4->foundry_ml) (0.5.1)\n",
            "Requirement already satisfied, skipping upgrade: typer>=0.3.0 in /usr/local/lib/python3.7/dist-packages (from funcx>=0.0.5->dlhub-sdk>=0.8.4->foundry_ml) (0.3.2)\n",
            "Requirement already satisfied, skipping upgrade: dill>=0.3 in /usr/local/lib/python3.7/dist-packages (from funcx>=0.0.5->dlhub-sdk>=0.8.4->foundry_ml) (0.3.3)\n",
            "Requirement already satisfied, skipping upgrade: globus-nexus-client>=0.2.8 in /usr/local/lib/python3.7/dist-packages (from mdf-toolbox>=0.5.4->dlhub-sdk>=0.8.4->foundry_ml) (0.3.0)\n",
            "Requirement already satisfied, skipping upgrade: pyjwt[crypto]<2.0.0,>=1.5.3 in /usr/local/lib/python3.7/dist-packages (from globus-sdk>=1.9.0->dlhub-sdk>=0.8.4->foundry_ml) (1.7.1)\n",
            "Requirement already satisfied, skipping upgrade: pyrsistent>=0.14.0 in /usr/local/lib/python3.7/dist-packages (from jsonschema>=3.2.0->dlhub-sdk>=0.8.4->foundry_ml) (0.17.3)\n",
            "Requirement already satisfied, skipping upgrade: attrs>=17.4.0 in /usr/local/lib/python3.7/dist-packages (from jsonschema>=3.2.0->dlhub-sdk>=0.8.4->foundry_ml) (20.3.0)\n",
            "Requirement already satisfied, skipping upgrade: setuptools in /usr/local/lib/python3.7/dist-packages (from jsonschema>=3.2.0->dlhub-sdk>=0.8.4->foundry_ml) (54.0.0)\n",
            "Requirement already satisfied, skipping upgrade: six>=1.11.0 in /usr/local/lib/python3.7/dist-packages (from jsonschema>=3.2.0->dlhub-sdk>=0.8.4->foundry_ml) (1.15.0)\n",
            "Requirement already satisfied, skipping upgrade: importlib-metadata; python_version < \"3.8\" in /usr/local/lib/python3.7/dist-packages (from jsonschema>=3.2.0->dlhub-sdk>=0.8.4->foundry_ml) (3.7.2)\n",
            "Requirement already satisfied, skipping upgrade: decorator in /usr/local/lib/python3.7/dist-packages (from ipython>=4.0.0; python_version >= \"3.3\"->ipywidgets->dlhub-client->foundry_ml) (4.4.2)\n",
            "Requirement already satisfied, skipping upgrade: simplegeneric>0.8 in /usr/local/lib/python3.7/dist-packages (from ipython>=4.0.0; python_version >= \"3.3\"->ipywidgets->dlhub-client->foundry_ml) (0.8.1)\n",
            "Requirement already satisfied, skipping upgrade: pygments in /usr/local/lib/python3.7/dist-packages (from ipython>=4.0.0; python_version >= \"3.3\"->ipywidgets->dlhub-client->foundry_ml) (2.6.1)\n",
            "Requirement already satisfied, skipping upgrade: pexpect; sys_platform != \"win32\" in /usr/local/lib/python3.7/dist-packages (from ipython>=4.0.0; python_version >= \"3.3\"->ipywidgets->dlhub-client->foundry_ml) (4.8.0)\n",
            "Requirement already satisfied, skipping upgrade: pickleshare in /usr/local/lib/python3.7/dist-packages (from ipython>=4.0.0; python_version >= \"3.3\"->ipywidgets->dlhub-client->foundry_ml) (0.7.5)\n",
            "Requirement already satisfied, skipping upgrade: prompt-toolkit<2.0.0,>=1.0.4 in /usr/local/lib/python3.7/dist-packages (from ipython>=4.0.0; python_version >= \"3.3\"->ipywidgets->dlhub-client->foundry_ml) (1.0.18)\n",
            "Requirement already satisfied, skipping upgrade: notebook>=4.4.1 in /usr/local/lib/python3.7/dist-packages (from widgetsnbextension~=3.5.0->ipywidgets->dlhub-client->foundry_ml) (5.3.1)\n",
            "Requirement already satisfied, skipping upgrade: tornado>=4.0 in /usr/local/lib/python3.7/dist-packages (from ipykernel>=4.5.1->ipywidgets->dlhub-client->foundry_ml) (5.1.1)\n",
            "Requirement already satisfied, skipping upgrade: jupyter-client in /usr/local/lib/python3.7/dist-packages (from ipykernel>=4.5.1->ipywidgets->dlhub-client->foundry_ml) (5.3.5)\n",
            "Requirement already satisfied, skipping upgrade: ipython-genutils in /usr/local/lib/python3.7/dist-packages (from nbformat>=4.2.0->ipywidgets->dlhub-client->foundry_ml) (0.2.0)\n",
            "Requirement already satisfied, skipping upgrade: jupyter-core in /usr/local/lib/python3.7/dist-packages (from nbformat>=4.2.0->ipywidgets->dlhub-client->foundry_ml) (4.7.1)\n",
            "Requirement already satisfied, skipping upgrade: typeguard in /usr/local/lib/python3.7/dist-packages (from parsl==0.9.0->funcx>=0.0.5->dlhub-sdk>=0.8.4->foundry_ml) (2.7.1)\n",
            "Requirement already satisfied, skipping upgrade: ipyparallel in /usr/local/lib/python3.7/dist-packages (from parsl==0.9.0->funcx>=0.0.5->dlhub-sdk>=0.8.4->foundry_ml) (6.3.0)\n",
            "Requirement already satisfied, skipping upgrade: tblib in /usr/local/lib/python3.7/dist-packages (from parsl==0.9.0->funcx>=0.0.5->dlhub-sdk>=0.8.4->foundry_ml) (1.7.0)\n",
            "Requirement already satisfied, skipping upgrade: paramiko in /usr/local/lib/python3.7/dist-packages (from parsl==0.9.0->funcx>=0.0.5->dlhub-sdk>=0.8.4->foundry_ml) (2.7.2)\n",
            "Requirement already satisfied, skipping upgrade: pyzmq>=17.1.2 in /usr/local/lib/python3.7/dist-packages (from parsl==0.9.0->funcx>=0.0.5->dlhub-sdk>=0.8.4->foundry_ml) (22.0.3)\n",
            "Requirement already satisfied, skipping upgrade: psutil>=5.5.1 in /usr/local/lib/python3.7/dist-packages (from parsl==0.9.0->funcx>=0.0.5->dlhub-sdk>=0.8.4->foundry_ml) (5.8.0)\n",
            "Requirement already satisfied, skipping upgrade: nbconvert!=5.4 in /usr/local/lib/python3.7/dist-packages (from nbsphinx->funcx>=0.0.5->dlhub-sdk>=0.8.4->foundry_ml) (5.6.1)\n",
            "Requirement already satisfied, skipping upgrade: sphinx>=1.8 in /usr/local/lib/python3.7/dist-packages (from nbsphinx->funcx>=0.0.5->dlhub-sdk>=0.8.4->foundry_ml) (1.8.5)\n",
            "Requirement already satisfied, skipping upgrade: docutils in /usr/local/lib/python3.7/dist-packages (from nbsphinx->funcx>=0.0.5->dlhub-sdk>=0.8.4->foundry_ml) (0.16)\n",
            "Requirement already satisfied, skipping upgrade: jinja2 in /usr/local/lib/python3.7/dist-packages (from nbsphinx->funcx>=0.0.5->dlhub-sdk>=0.8.4->foundry_ml) (2.11.3)\n",
            "Requirement already satisfied, skipping upgrade: lockfile>=0.10 in /usr/local/lib/python3.7/dist-packages (from python-daemon->funcx>=0.0.5->dlhub-sdk>=0.8.4->foundry_ml) (0.12.2)\n",
            "Requirement already satisfied, skipping upgrade: click<7.2.0,>=7.1.1 in /usr/local/lib/python3.7/dist-packages (from typer>=0.3.0->funcx>=0.0.5->dlhub-sdk>=0.8.4->foundry_ml) (7.1.2)\n",
            "Requirement already satisfied, skipping upgrade: cryptography>=1.4; extra == \"crypto\" in /usr/local/lib/python3.7/dist-packages (from pyjwt[crypto]<2.0.0,>=1.5.3->globus-sdk>=1.9.0->dlhub-sdk>=0.8.4->foundry_ml) (3.4.6)\n",
            "Requirement already satisfied, skipping upgrade: zipp>=0.5 in /usr/local/lib/python3.7/dist-packages (from importlib-metadata; python_version < \"3.8\"->jsonschema>=3.2.0->dlhub-sdk>=0.8.4->foundry_ml) (3.4.1)\n",
            "Requirement already satisfied, skipping upgrade: ptyprocess>=0.5 in /usr/local/lib/python3.7/dist-packages (from pexpect; sys_platform != \"win32\"->ipython>=4.0.0; python_version >= \"3.3\"->ipywidgets->dlhub-client->foundry_ml) (0.7.0)\n",
            "Requirement already satisfied, skipping upgrade: wcwidth in /usr/local/lib/python3.7/dist-packages (from prompt-toolkit<2.0.0,>=1.0.4->ipython>=4.0.0; python_version >= \"3.3\"->ipywidgets->dlhub-client->foundry_ml) (0.2.5)\n",
            "Requirement already satisfied, skipping upgrade: terminado>=0.8.1 in /usr/local/lib/python3.7/dist-packages (from notebook>=4.4.1->widgetsnbextension~=3.5.0->ipywidgets->dlhub-client->foundry_ml) (0.9.2)\n",
            "Requirement already satisfied, skipping upgrade: Send2Trash in /usr/local/lib/python3.7/dist-packages (from notebook>=4.4.1->widgetsnbextension~=3.5.0->ipywidgets->dlhub-client->foundry_ml) (1.5.0)\n",
            "Requirement already satisfied, skipping upgrade: bcrypt>=3.1.3 in /usr/local/lib/python3.7/dist-packages (from paramiko->parsl==0.9.0->funcx>=0.0.5->dlhub-sdk>=0.8.4->foundry_ml) (3.2.0)\n",
            "Requirement already satisfied, skipping upgrade: pynacl>=1.0.1 in /usr/local/lib/python3.7/dist-packages (from paramiko->parsl==0.9.0->funcx>=0.0.5->dlhub-sdk>=0.8.4->foundry_ml) (1.4.0)\n",
            "Requirement already satisfied, skipping upgrade: testpath in /usr/local/lib/python3.7/dist-packages (from nbconvert!=5.4->nbsphinx->funcx>=0.0.5->dlhub-sdk>=0.8.4->foundry_ml) (0.4.4)\n",
            "Requirement already satisfied, skipping upgrade: pandocfilters>=1.4.1 in /usr/local/lib/python3.7/dist-packages (from nbconvert!=5.4->nbsphinx->funcx>=0.0.5->dlhub-sdk>=0.8.4->foundry_ml) (1.4.3)\n",
            "Requirement already satisfied, skipping upgrade: defusedxml in /usr/local/lib/python3.7/dist-packages (from nbconvert!=5.4->nbsphinx->funcx>=0.0.5->dlhub-sdk>=0.8.4->foundry_ml) (0.7.1)\n",
            "Requirement already satisfied, skipping upgrade: mistune<2,>=0.8.1 in /usr/local/lib/python3.7/dist-packages (from nbconvert!=5.4->nbsphinx->funcx>=0.0.5->dlhub-sdk>=0.8.4->foundry_ml) (0.8.4)\n",
            "Requirement already satisfied, skipping upgrade: bleach in /usr/local/lib/python3.7/dist-packages (from nbconvert!=5.4->nbsphinx->funcx>=0.0.5->dlhub-sdk>=0.8.4->foundry_ml) (3.3.0)\n",
            "Requirement already satisfied, skipping upgrade: entrypoints>=0.2.2 in /usr/local/lib/python3.7/dist-packages (from nbconvert!=5.4->nbsphinx->funcx>=0.0.5->dlhub-sdk>=0.8.4->foundry_ml) (0.3)\n",
            "Requirement already satisfied, skipping upgrade: packaging in /usr/local/lib/python3.7/dist-packages (from sphinx>=1.8->nbsphinx->funcx>=0.0.5->dlhub-sdk>=0.8.4->foundry_ml) (20.9)\n",
            "Requirement already satisfied, skipping upgrade: sphinxcontrib-websupport in /usr/local/lib/python3.7/dist-packages (from sphinx>=1.8->nbsphinx->funcx>=0.0.5->dlhub-sdk>=0.8.4->foundry_ml) (1.2.4)\n",
            "Requirement already satisfied, skipping upgrade: snowballstemmer>=1.1 in /usr/local/lib/python3.7/dist-packages (from sphinx>=1.8->nbsphinx->funcx>=0.0.5->dlhub-sdk>=0.8.4->foundry_ml) (2.1.0)\n",
            "Requirement already satisfied, skipping upgrade: imagesize in /usr/local/lib/python3.7/dist-packages (from sphinx>=1.8->nbsphinx->funcx>=0.0.5->dlhub-sdk>=0.8.4->foundry_ml) (1.2.0)\n",
            "Requirement already satisfied, skipping upgrade: babel!=2.0,>=1.3 in /usr/local/lib/python3.7/dist-packages (from sphinx>=1.8->nbsphinx->funcx>=0.0.5->dlhub-sdk>=0.8.4->foundry_ml) (2.9.0)\n",
            "Requirement already satisfied, skipping upgrade: alabaster<0.8,>=0.7 in /usr/local/lib/python3.7/dist-packages (from sphinx>=1.8->nbsphinx->funcx>=0.0.5->dlhub-sdk>=0.8.4->foundry_ml) (0.7.12)\n",
            "Requirement already satisfied, skipping upgrade: MarkupSafe>=0.23 in /usr/local/lib/python3.7/dist-packages (from jinja2->nbsphinx->funcx>=0.0.5->dlhub-sdk>=0.8.4->foundry_ml) (1.1.1)\n",
            "Requirement already satisfied, skipping upgrade: cffi>=1.12 in /usr/local/lib/python3.7/dist-packages (from cryptography>=1.4; extra == \"crypto\"->pyjwt[crypto]<2.0.0,>=1.5.3->globus-sdk>=1.9.0->dlhub-sdk>=0.8.4->foundry_ml) (1.14.5)\n",
            "Requirement already satisfied, skipping upgrade: webencodings in /usr/local/lib/python3.7/dist-packages (from bleach->nbconvert!=5.4->nbsphinx->funcx>=0.0.5->dlhub-sdk>=0.8.4->foundry_ml) (0.5.1)\n",
            "Requirement already satisfied, skipping upgrade: pyparsing>=2.0.2 in /usr/local/lib/python3.7/dist-packages (from packaging->sphinx>=1.8->nbsphinx->funcx>=0.0.5->dlhub-sdk>=0.8.4->foundry_ml) (2.4.7)\n",
            "Requirement already satisfied, skipping upgrade: sphinxcontrib-serializinghtml in /usr/local/lib/python3.7/dist-packages (from sphinxcontrib-websupport->sphinx>=1.8->nbsphinx->funcx>=0.0.5->dlhub-sdk>=0.8.4->foundry_ml) (1.1.4)\n",
            "Requirement already satisfied, skipping upgrade: pycparser in /usr/local/lib/python3.7/dist-packages (from cffi>=1.12->cryptography>=1.4; extra == \"crypto\"->pyjwt[crypto]<2.0.0,>=1.5.3->globus-sdk>=1.9.0->dlhub-sdk>=0.8.4->foundry_ml) (2.20)\n",
            "Collecting mdf_connect_client\n",
            "  Downloading https://files.pythonhosted.org/packages/4c/4f/829a0a1b59a5c97e263c144525391ceee5824927a998569bee6727beca02/mdf_connect_client-0.3.8-py2.py3-none-any.whl\n",
            "Requirement already satisfied: mdf-toolbox>=0.5.0 in /usr/local/lib/python3.7/dist-packages (from mdf_connect_client) (0.5.7)\n",
            "Collecting nameparser>=1.0.4\n",
            "  Downloading https://files.pythonhosted.org/packages/3d/70/8cc66ac7d01118aa7a2ca938915ce4d622c5d73bb9f08058c7dce4ea9853/nameparser-1.0.6-py2.py3-none-any.whl\n",
            "Requirement already satisfied: requests>=2.18.4 in /usr/local/lib/python3.7/dist-packages (from mdf_connect_client) (2.25.1)\n",
            "Requirement already satisfied: globus-sdk>=1.7.0 in /usr/local/lib/python3.7/dist-packages (from mdf-toolbox>=0.5.0->mdf_connect_client) (2.0.1)\n",
            "Requirement already satisfied: globus-nexus-client>=0.2.8 in /usr/local/lib/python3.7/dist-packages (from mdf-toolbox>=0.5.0->mdf_connect_client) (0.3.0)\n",
            "Requirement already satisfied: fair-research-login>=0.1.5 in /usr/local/lib/python3.7/dist-packages (from mdf-toolbox>=0.5.0->mdf_connect_client) (0.2.0)\n",
            "Requirement already satisfied: certifi>=2017.4.17 in /usr/local/lib/python3.7/dist-packages (from requests>=2.18.4->mdf_connect_client) (2020.12.5)\n",
            "Requirement already satisfied: urllib3<1.27,>=1.21.1 in /usr/local/lib/python3.7/dist-packages (from requests>=2.18.4->mdf_connect_client) (1.24.3)\n",
            "Requirement already satisfied: idna<3,>=2.5 in /usr/local/lib/python3.7/dist-packages (from requests>=2.18.4->mdf_connect_client) (2.10)\n",
            "Requirement already satisfied: chardet<5,>=3.0.2 in /usr/local/lib/python3.7/dist-packages (from requests>=2.18.4->mdf_connect_client) (3.0.4)\n",
            "Requirement already satisfied: pyjwt[crypto]<2.0.0,>=1.5.3 in /usr/local/lib/python3.7/dist-packages (from globus-sdk>=1.7.0->mdf-toolbox>=0.5.0->mdf_connect_client) (1.7.1)\n",
            "Requirement already satisfied: cryptography>=1.4; extra == \"crypto\" in /usr/local/lib/python3.7/dist-packages (from pyjwt[crypto]<2.0.0,>=1.5.3->globus-sdk>=1.7.0->mdf-toolbox>=0.5.0->mdf_connect_client) (3.4.6)\n",
            "Requirement already satisfied: cffi>=1.12 in /usr/local/lib/python3.7/dist-packages (from cryptography>=1.4; extra == \"crypto\"->pyjwt[crypto]<2.0.0,>=1.5.3->globus-sdk>=1.7.0->mdf-toolbox>=0.5.0->mdf_connect_client) (1.14.5)\n",
            "Requirement already satisfied: pycparser in /usr/local/lib/python3.7/dist-packages (from cffi>=1.12->cryptography>=1.4; extra == \"crypto\"->pyjwt[crypto]<2.0.0,>=1.5.3->globus-sdk>=1.7.0->mdf-toolbox>=0.5.0->mdf_connect_client) (2.20)\n",
            "Installing collected packages: nameparser, mdf-connect-client\n",
            "Successfully installed mdf-connect-client-0.3.8 nameparser-1.0.6\n"
          ],
          "name": "stdout"
        }
      ]
    },
    {
      "cell_type": "code",
      "metadata": {
        "id": "gFzxj676r_dk"
      },
      "source": [
        "from foundry import Foundry\n",
        "import mdf_connect_client\n",
        "\n",
        "f = Foundry(no_browser=True, no_local_server=True)\n"
      ],
      "execution_count": 39,
      "outputs": []
    },
    {
      "cell_type": "markdown",
      "metadata": {
        "id": "eA1nPvoZe68H"
      },
      "source": [
        "The following cell contains variables for all of the possible arguments you could pass to `f.publish()`, for illustrative purposes."
      ]
    },
    {
      "cell_type": "code",
      "metadata": {
        "id": "Ggt3OyvtvYdI"
      },
      "source": [
        "# load your metadata that describes your dataset. Could be manual dict like this, \n",
        "#   could be loaded from a file, etc.\n",
        "example_iris_metadata = {\n",
        "    \"inputs\":[\"sepal length (cm)\", \"sepal width (cm)\", \"petal length (cm)\", \"petal width (cm)\"],\n",
        "    \"input_descriptions\":[\"sepal length in unit(cm)\", \"sepal width in unit(cm)\", \"petal length in unit(cm)\", \"petal width in unit(cm)\"],\n",
        "    \"input_units\":[\"cm\",\"cm\",\"cm\",\"cm\"],\n",
        "    \"outputs\":[\"y\"],\n",
        "    \"output_descriptions\":[\"flower type\"],\n",
        "    \"output_units\":[],\n",
        "    \"output_labels\":[\"setosa\",\"versicolor\", \"virginica\"],\n",
        "    \"short_name\":\"iris_example\",\n",
        "    \"package_type\":\"tabular\"\n",
        "}\n",
        "\n",
        "# this should be a Globus endpoint. In this example, I use a dataset on our temp\n",
        "#   server. You can also make your local machine a Globus endpoint\n",
        "data_source = \"https://app.globus.org/file-manager?origin_id=e38ee745-6d04-11e5-ba46-22000b92c6ec&origin_path=%2Ffoundry%2F_test_blaiszik_foundry_iris_v1.2%2F\"\n",
        "\n",
        "# full title\n",
        "title = \"scourtas_colab_example_iris_publish\"\n",
        "\n",
        "# authors to list \n",
        "authors = [\"A Scourtas\", \"B Blaiszik\"]\n",
        "\n",
        "# shorthand title (optional)\n",
        "short_name = \"colab_example_AS_iris\"\n",
        "\n",
        "# affiliations of authors (optional)\n",
        "# In the same order as authors list. If a different number of affiliations are \n",
        "#   given, all affiliations will be applied to all authors.\n",
        "affiliations = [\"Globus Labs, UChicago\"]\n",
        "\n",
        "# publisher of the data (optional)\n",
        "# The default is MDF\n",
        "publisher = \"Materials Data Facility\"\n",
        "\n",
        "# publication year (optional)\n",
        "# The default is the current calendar year\n",
        "publication_year = 2021"
      ],
      "execution_count": 40,
      "outputs": []
    },
    {
      "cell_type": "markdown",
      "metadata": {
        "id": "3YNK1e5UfTaN"
      },
      "source": [
        "We won't use all of these variables in our call to `f.publish()`, because many of the default values for the parameters (such as \"MDF\" for `publisher`) work well for our use case. \n",
        "\n",
        "However, the metadata, data source, title, and authors are all required."
      ]
    },
    {
      "cell_type": "code",
      "metadata": {
        "id": "iSxfIFmxdBjS"
      },
      "source": [
        "# publish to Foundry! returns a result object we can inspect\n",
        "res = f.publish(example_iris_metadata, data_source, title, authors, short_name=short_name)"
      ],
      "execution_count": 41,
      "outputs": []
    },
    {
      "cell_type": "code",
      "metadata": {
        "colab": {
          "base_uri": "https://localhost:8080/"
        },
        "id": "DuVk0r14dLEv",
        "outputId": "4ed4947c-ec62-4991-8335-b093d6fa80e4"
      },
      "source": [
        "# check if publication request was valid\n",
        "res['success']"
      ],
      "execution_count": 42,
      "outputs": [
        {
          "output_type": "execute_result",
          "data": {
            "text/plain": [
              "True"
            ]
          },
          "metadata": {
            "tags": []
          },
          "execution_count": 42
        }
      ]
    },
    {
      "cell_type": "code",
      "metadata": {
        "colab": {
          "base_uri": "https://localhost:8080/"
        },
        "id": "aKytr62niHr9",
        "outputId": "12d9a43c-71a6-4fb4-cfdd-54ebe9a38984"
      },
      "source": [
        "res"
      ],
      "execution_count": 43,
      "outputs": [
        {
          "output_type": "execute_result",
          "data": {
            "text/plain": [
              "{'error': None,\n",
              " 'source_id': '_test_colab_example_iris_v1.1',\n",
              " 'status_code': 202,\n",
              " 'success': True}"
            ]
          },
          "metadata": {
            "tags": []
          },
          "execution_count": 43
        }
      ]
    },
    {
      "cell_type": "markdown",
      "metadata": {
        "id": "DTWO8fXPiISE"
      },
      "source": [
        "We we can use the `source_id` of the `res` result to check the status of our submission. Ths `source_id` is a unique identifier based on the title and version of your dataset."
      ]
    },
    {
      "cell_type": "code",
      "metadata": {
        "colab": {
          "base_uri": "https://localhost:8080/"
        },
        "id": "szJeFakShpUC",
        "outputId": "65f9c38a-c143-48bb-ed99-5a41c481aedd"
      },
      "source": [
        "source_id = res['source_id']\n",
        "\n",
        "# check_status() \n",
        "f.check_status(source_id=source_id)"
      ],
      "execution_count": 45,
      "outputs": [
        {
          "output_type": "stream",
          "text": [
            "\n",
            "Status of TEST submission _test_colab_example_iris_v1.1 (scourtas_colab_example_iris_publish)\n",
            "Submitted by Aristana Scourtas at 2021-03-17T19:41:51.869694Z\n",
            "\n",
            "Submission initialization has not started yet.\n",
            "Cancellation of previous submissions has not started yet.\n",
            "Connect data download has not started yet.\n",
            "Data transfer to primary destination has not started yet.\n",
            "Metadata extraction has not started yet.\n",
            "Dataset curation has not started yet.\n",
            "MDF Search ingestion has not started yet.\n",
            "Data transfer to secondary destinations has not started yet.\n",
            "MDF Publish publication has not started yet.\n",
            "Citrine upload has not started yet.\n",
            "Materials Resource Registration has not started yet.\n",
            "Post-processing cleanup has not started yet.\n",
            "\n",
            "This submission is still processing.\n",
            "\n"
          ],
          "name": "stdout"
        }
      ]
    },
    {
      "cell_type": "markdown",
      "metadata": {
        "id": "jPuGg6-PvryW"
      },
      "source": [
        "Success! The dataset is now in the curation phase, and needs to be approved by an admin/curator before publishing. You can check back in on the status using hte `check_status()` function at any time."
      ]
    },
    {
      "cell_type": "markdown",
      "metadata": {
        "id": "e0KlbpE3ilT5"
      },
      "source": [
        "You can pass `short=True` to `check_status()` to print a short finished/processing message, which can beuseful for checking many datasets' status at once. Pass `raw=True` to get raw, full status result (default `False` is recommended)."
      ]
    },
    {
      "cell_type": "markdown",
      "metadata": {
        "id": "V8fH8sSit36H"
      },
      "source": [
        "To re-publish a dataset, pass `update=True` to `f.publish()`"
      ]
    },
    {
      "cell_type": "code",
      "metadata": {
        "colab": {
          "base_uri": "https://localhost:8080/"
        },
        "id": "FunR1N5wt976",
        "outputId": "1e775461-31e8-470a-8a88-8ef17df8f9a2"
      },
      "source": [
        "# republishing same dataset -- note the version increments automatically\n",
        "res = f.publish(example_iris_metadata, data_source, title, authors, short_name=short_name, update=True)\n",
        "res"
      ],
      "execution_count": 48,
      "outputs": [
        {
          "output_type": "execute_result",
          "data": {
            "text/plain": [
              "{'error': None,\n",
              " 'source_id': '_test_colab_example_iris_v1.3',\n",
              " 'status_code': 202,\n",
              " 'success': True}"
            ]
          },
          "metadata": {
            "tags": []
          },
          "execution_count": 48
        }
      ]
    },
    {
      "cell_type": "markdown",
      "metadata": {
        "id": "kHHVp3R8uyud"
      },
      "source": [
        "If you have any questions, please reach out to Aristana Scourtas (aristana [at] uchicago.edu), Ben Blaiszik (blaiszik [at] uchicago.edu), or KJ Schmidt (kjschmidt [at] uchicago.edu)"
      ]
    }
  ]
}