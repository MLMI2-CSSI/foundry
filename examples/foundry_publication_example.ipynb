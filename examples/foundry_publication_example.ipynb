{
  "nbformat": 4,
  "nbformat_minor": 0,
  "metadata": {
    "colab": {
      "name": "foundry_publication_example.ipynb",
      "provenance": [],
      "collapsed_sections": []
    },
    "kernelspec": {
      "name": "python3",
      "display_name": "Python 3"
    }
  },
  "cells": [
    {
      "cell_type": "markdown",
      "metadata": {
        "id": "wuztXoDvqUPg"
      },
      "source": [
        "# Publishing datasets to Foundry\n",
        "3/17/21\n",
        "\n",
        "This notebook serves as a quick walkthrough for publishing datasets via Foundry.\n",
        "\n",
        "This code requires the newest version of Foundry (v0.0.7), if you're running locally, be sure you've updated the `foundry_ml` package\n"
      ]
    },
    {
      "cell_type": "code",
      "metadata": {
        "id": "A3DpF2Nzqko5"
      },
      "source": [
        "!pip install foundry_ml --upgrade\n",
        "!pip install mdf_connect_client"
      ],
      "execution_count": null,
      "outputs": []
    },
    {
      "cell_type": "code",
      "metadata": {
        "id": "gFzxj676r_dk"
      },
      "source": [
        "from foundry import Foundry\n",
        "\n",
        "f = Foundry(no_browser=True, no_local_server=True)"
      ],
      "execution_count": 49,
      "outputs": []
    },
    {
      "cell_type": "markdown",
      "metadata": {
        "id": "eA1nPvoZe68H"
      },
      "source": [
        "The following cell contains variables for all of the possible arguments you could pass to `f.publish()`, for illustrative purposes."
      ]
    },
    {
      "cell_type": "code",
      "metadata": {
        "id": "Ggt3OyvtvYdI"
      },
      "source": [
        "# load your metadata that describes your dataset. Could be manual dict like this, \n",
        "#   could be loaded from a file, etc.\n",
        "example_iris_metadata = {\n",
        "    \"inputs\":[\"sepal length (cm)\", \"sepal width (cm)\", \"petal length (cm)\", \"petal width (cm)\"],\n",
        "    \"input_descriptions\":[\"sepal length in unit(cm)\", \"sepal width in unit(cm)\", \"petal length in unit(cm)\", \"petal width in unit(cm)\"],\n",
        "    \"input_units\":[\"cm\",\"cm\",\"cm\",\"cm\"],\n",
        "    \"outputs\":[\"y\"],\n",
        "    \"output_descriptions\":[\"flower type\"],\n",
        "    \"output_units\":[],\n",
        "    \"output_labels\":[\"setosa\",\"versicolor\", \"virginica\"],\n",
        "    \"short_name\":\"iris_example\",\n",
        "    \"package_type\":\"tabular\"\n",
        "}\n",
        "\n",
        "# this should be a Globus endpoint. In this example, I use a dataset on our temp\n",
        "#   server. You can also make your local machine a Globus endpoint\n",
        "data_source = \"https://app.globus.org/file-manager?origin_id=e38ee745-6d04-11e5-ba46-22000b92c6ec&origin_path=%2Ffoundry%2F_test_blaiszik_foundry_iris_v1.2%2F\"\n",
        "\n",
        "# full title\n",
        "title = \"Scourtas example iris dataset\"\n",
        "\n",
        "# authors to list \n",
        "authors = [\"A Scourtas\", \"B Blaiszik\"]\n",
        "\n",
        "# shorthand title (optional)\n",
        "short_name = \"colab_example_AS_iris\"\n",
        "\n",
        "# affiliations of authors (optional)\n",
        "# In the same order as authors list. If a different number of affiliations are \n",
        "#   given, all affiliations will be applied to all authors.\n",
        "affiliations = [\"Globus Labs, UChicago\"]\n",
        "\n",
        "# publisher of the data (optional)\n",
        "# The default is MDF\n",
        "publisher = \"Materials Data Facility\"\n",
        "\n",
        "# publication year (optional)\n",
        "# The default is the current calendar year\n",
        "publication_year = 2021"
      ],
      "execution_count": 40,
      "outputs": []
    },
    {
      "cell_type": "markdown",
      "metadata": {
        "id": "3YNK1e5UfTaN"
      },
      "source": [
        "We won't use all of these variables in our call to `f.publish()`, because many of the default values for the parameters (such as \"MDF\" for `publisher`) work well for our use case. \n",
        "\n",
        "However, the metadata, data source, title, and authors are all required.\n",
        "\n",
        "Before we publish, you first need to join a Globus group! You can [join this group](https://app.globus.org/groups/cc192dca-3751-11e8-90c1-0a7c735d220a/about) to get started."
      ]
    },
    {
      "cell_type": "code",
      "metadata": {
        "id": "iSxfIFmxdBjS"
      },
      "source": [
        "# publish to Foundry! returns a result object we can inspect\n",
        "res = f.publish(example_iris_metadata, data_source, title, authors, short_name=short_name)"
      ],
      "execution_count": 41,
      "outputs": []
    },
    {
      "cell_type": "code",
      "metadata": {
        "colab": {
          "base_uri": "https://localhost:8080/"
        },
        "id": "DuVk0r14dLEv",
        "outputId": "4ed4947c-ec62-4991-8335-b093d6fa80e4"
      },
      "source": [
        "# check if publication request was valid\n",
        "res['success']"
      ],
      "execution_count": 42,
      "outputs": [
        {
          "output_type": "execute_result",
          "data": {
            "text/plain": [
              "True"
            ]
          },
          "metadata": {
            "tags": []
          },
          "execution_count": 42
        }
      ]
    },
    {
      "cell_type": "code",
      "metadata": {
        "colab": {
          "base_uri": "https://localhost:8080/"
        },
        "id": "aKytr62niHr9",
        "outputId": "12d9a43c-71a6-4fb4-cfdd-54ebe9a38984"
      },
      "source": [
        "res"
      ],
      "execution_count": 43,
      "outputs": [
        {
          "output_type": "execute_result",
          "data": {
            "text/plain": [
              "{'error': None,\n",
              " 'source_id': '_test_colab_example_iris_v1.1',\n",
              " 'status_code': 202,\n",
              " 'success': True}"
            ]
          },
          "metadata": {
            "tags": []
          },
          "execution_count": 43
        }
      ]
    },
    {
      "cell_type": "markdown",
      "metadata": {
        "id": "DTWO8fXPiISE"
      },
      "source": [
        "We we can use the `source_id` of the `res` result to check the status of our submission. Ths `source_id` is a unique identifier based on the title and version of your dataset."
      ]
    },
    {
      "cell_type": "code",
      "metadata": {
        "colab": {
          "base_uri": "https://localhost:8080/"
        },
        "id": "szJeFakShpUC",
        "outputId": "65f9c38a-c143-48bb-ed99-5a41c481aedd"
      },
      "source": [
        "source_id = res['source_id']\n",
        "\n",
        "# check_status() \n",
        "f.check_status(source_id=source_id)"
      ],
      "execution_count": 45,
      "outputs": [
        {
          "output_type": "stream",
          "text": [
            "\n",
            "Status of TEST submission _test_colab_example_iris_v1.1 (scourtas_colab_example_iris_publish)\n",
            "Submitted by Aristana Scourtas at 2021-03-17T19:41:51.869694Z\n",
            "\n",
            "Submission initialization has not started yet.\n",
            "Cancellation of previous submissions has not started yet.\n",
            "Connect data download has not started yet.\n",
            "Data transfer to primary destination has not started yet.\n",
            "Metadata extraction has not started yet.\n",
            "Dataset curation has not started yet.\n",
            "MDF Search ingestion has not started yet.\n",
            "Data transfer to secondary destinations has not started yet.\n",
            "MDF Publish publication has not started yet.\n",
            "Citrine upload has not started yet.\n",
            "Materials Resource Registration has not started yet.\n",
            "Post-processing cleanup has not started yet.\n",
            "\n",
            "This submission is still processing.\n",
            "\n"
          ],
          "name": "stdout"
        }
      ]
    },
    {
      "cell_type": "markdown",
      "metadata": {
        "id": "jPuGg6-PvryW"
      },
      "source": [
        "Success! The dataset is now in the curation phase, and needs to be approved by an admin/curator before publishing. You can check back in on the status using hte `check_status()` function at any time."
      ]
    },
    {
      "cell_type": "markdown",
      "metadata": {
        "id": "e0KlbpE3ilT5"
      },
      "source": [
        "You can pass `short=True` to `check_status()` to print a short finished/processing message, which can beuseful for checking many datasets' status at once. Pass `raw=True` to get raw, full status result (default `False` is recommended)."
      ]
    },
    {
      "cell_type": "markdown",
      "metadata": {
        "id": "V8fH8sSit36H"
      },
      "source": [
        "To re-publish a dataset, pass `update=True` to `f.publish()`"
      ]
    },
    {
      "cell_type": "code",
      "metadata": {
        "colab": {
          "base_uri": "https://localhost:8080/"
        },
        "id": "FunR1N5wt976",
        "outputId": "1e775461-31e8-470a-8a88-8ef17df8f9a2"
      },
      "source": [
        "# republishing same dataset -- note the version increments automatically\n",
        "res = f.publish(example_iris_metadata, data_source, title, authors, short_name=short_name, update=True)\n",
        "res"
      ],
      "execution_count": 48,
      "outputs": [
        {
          "output_type": "execute_result",
          "data": {
            "text/plain": [
              "{'error': None,\n",
              " 'source_id': '_test_colab_example_iris_v1.3',\n",
              " 'status_code': 202,\n",
              " 'success': True}"
            ]
          },
          "metadata": {
            "tags": []
          },
          "execution_count": 48
        }
      ]
    },
    {
      "cell_type": "markdown",
      "metadata": {
        "id": "kHHVp3R8uyud"
      },
      "source": [
        "If you have any questions, please reach out to Aristana Scourtas (aristana [at] uchicago.edu), Ben Blaiszik (blaiszik [at] uchicago.edu), or KJ Schmidt (kjschmidt [at] uchicago.edu)"
      ]
    }
  ]
}