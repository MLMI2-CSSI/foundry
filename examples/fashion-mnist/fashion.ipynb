{
  "nbformat": 4,
  "nbformat_minor": 0,
  "metadata": {
    "kernelspec": {
      "display_name": "Python 3",
      "language": "python",
      "name": "python3"
    },
    "language_info": {
      "codemirror_mode": {
        "name": "ipython",
        "version": 3
      },
      "file_extension": ".py",
      "mimetype": "text/x-python",
      "name": "python",
      "nbconvert_exporter": "python",
      "pygments_lexer": "ipython3",
      "version": "3.8.3"
    },
    "colab": {
      "name": "fashion.ipynb",
      "provenance": [],
      "collapsed_sections": []
    }
  },
  "cells": [
    {
      "cell_type": "markdown",
      "metadata": {
        "id": "N0-aQ4ASncAt"
      },
      "source": [
        "![foundry.png](data:image/png;base64,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)\n"
      ]
    },
    {
      "cell_type": "markdown",
      "metadata": {
        "id": "C678trr1p6LM"
      },
      "source": [
        "# Foundry Fashion MNIST Tutorial for Beginners\n",
        "This introduction uses Foundry to:\n",
        "\n",
        "\n",
        "1.   Load hdf5 image data from Foundry\n",
        "2.   View the images\n",
        "\n",
        "You can learn about the Fashion MNIST dataset here: https://github.com/zalandoresearch/fashion-mnist\n",
        "\n",
        "This notebook is set up to run as a [Google Colaboratory](https://colab.research.google.com/notebooks/intro.ipynb#scrollTo=5fCEDCU_qrC0) notebook, which allows you to run python code in the browser, or as a [Jupyter](https://jupyter.org/) notebook, which runs locally on your machine.\n",
        "\n",
        "The code in the next cell will detect your environment to make sure that only cells that match your environment will run.\n"
      ]
    },
    {
      "cell_type": "code",
      "metadata": {
        "id": "YBVMVHA-no2T"
      },
      "source": [
        "try:\n",
        "  import google.colab\n",
        "  IN_COLAB = True\n",
        "except:\n",
        "  IN_COLAB = False"
      ],
      "execution_count": null,
      "outputs": []
    },
    {
      "cell_type": "markdown",
      "metadata": {
        "id": "HlO4Up9ngS7O"
      },
      "source": [
        "# Installing Foundry\n",
        "First we'll need to install Foundry and [MDF](https://materialsdatafacility.org/). If you're running the notebook locally, just make sure that Foundry and MDF are installed in your local environment.\n",
        "\n",
        "If you're using Google Colab, run the code below to install.\n",
        "\n",
        "*Due to a recent FuncX update, we need to install FuncX 0.0.5 (FuncX is included in the Foundry install). This install is a temporary fix that makes sure we have the version we need."
      ]
    },
    {
      "cell_type": "code",
      "metadata": {
        "id": "70zkvVAmrA3Z"
      },
      "source": [
        "if IN_COLAB:\n",
        "  !pip install foundry_ml\n",
        "  !pip install mdf_connect_client\n",
        "  !pip install funcx==0.0.5"
      ],
      "execution_count": null,
      "outputs": []
    },
    {
      "cell_type": "markdown",
      "metadata": {
        "id": "8Xa5Lh3ryq24"
      },
      "source": [
        "# Importing Packages\n",
        "Now we can import Foundry, which will allow us to load the data. We'll also be importing [Matplotlib](https://matplotlib.org/) for our visualizations."
      ]
    },
    {
      "cell_type": "code",
      "metadata": {
        "id": "pLWTj0oigS7R"
      },
      "source": [
        "from foundry import Foundry\n",
        "import matplotlib.pyplot as plt"
      ],
      "execution_count": null,
      "outputs": []
    },
    {
      "cell_type": "markdown",
      "metadata": {
        "id": "PNxXxAHwy-LE"
      },
      "source": [
        "# Instantiating Foundry\n",
        "To instantiate Foundry, you'll need a [Globus](https://www.globus.org) account. Once you have your account, you can instantiate Foundry using the code below. When you instantiate Foundry locally, be sure to have your Globus endpoint turned on (you can do that with [Globus Connect Personal](https://www.globus.org/globus-connect-personal)). When you instantiate Foundry on Google Colab, you'll be given a link in the cell's output and asked to enter the provided auth code.\n"
      ]
    },
    {
      "cell_type": "code",
      "metadata": {
        "id": "WemqzWLJzrrr"
      },
      "source": [
        "if IN_COLAB:\n",
        "  f = Foundry(no_local_server=True, no_browser=True) #instantiating in colab\n",
        "else:\n",
        "  f = Foundry() #instantiating locally\n"
      ],
      "execution_count": null,
      "outputs": []
    },
    {
      "cell_type": "markdown",
      "metadata": {
        "id": "5XMzExyhzuVA"
      },
      "source": [
        "# Loading the Data\n",
        "Now we can use our instance of Foundry to load the data using `f.load()`. Once the data is loaded and accessible, we load the data into the client using `f.load_data()`.\n",
        "\n"
      ]
    },
    {
      "cell_type": "code",
      "metadata": {
        "id": "Qd4wP7vwgS7R",
        "colab": {
          "base_uri": "https://localhost:8080/"
        },
        "outputId": "5c06f64e-90fc-4219-81bf-df7ffd0d093e"
      },
      "source": [
        "if IN_COLAB:\n",
        "  f = f.load(\"_test_foundry_fashion_mnist_v1.1\", globus=False) #loading data in colab\n",
        "else:\n",
        "  f = f.load(\"_test_foundry_fashion_mnist_v1.1\") #loading data locally"
      ],
      "execution_count": null,
      "outputs": [
        {
          "output_type": "stream",
          "text": [
            "Done curling.\n",
            "[{'/foundry/_test_foundry_fashion_mnist_v1.1/foundry.hdf5 status': True}]\n"
          ],
          "name": "stdout"
        }
      ]
    },
    {
      "cell_type": "code",
      "metadata": {
        "id": "K0LGYtRtpBx1"
      },
      "source": [
        "X,y = f.load_data()"
      ],
      "execution_count": null,
      "outputs": []
    },
    {
      "cell_type": "markdown",
      "metadata": {
        "id": "UEbq-_C30hGJ"
      },
      "source": [
        "# Visualizing the Data with Matplotlib\n",
        "\n",
        "Now that we've loaded the data, let's see it!"
      ]
    },
    {
      "cell_type": "code",
      "metadata": {
        "id": "FEEARwnt0Uzr"
      },
      "source": [
        "X,y = X[0], y[0]  # Select the first item in each returned data list"
      ],
      "execution_count": null,
      "outputs": []
    },
    {
      "cell_type": "code",
      "metadata": {
        "id": "9ym-sgnfgS7S",
        "colab": {
          "base_uri": "https://localhost:8080/",
          "height": 99
        },
        "outputId": "8ae667ce-a8f0-49fb-a259-9d6b7b1e6888"
      },
      "source": [
        "n_cols = 6\n",
        "display_shape = (28,28)\n",
        "fig, ax = plt.subplots(1,n_cols)\n",
        "\n",
        "for i in range(0, n_cols):\n",
        "    ax[i].imshow(X[i].reshape(display_shape), cmap='gray')"
      ],
      "execution_count": null,
      "outputs": [
        {
          "output_type": "display_data",
          "data": {
            "image/png": "[encoded data removed]",
            "text/plain": [
              "<Figure size 432x288 with 6 Axes>"
            ]
          },
          "metadata": {
            "tags": [],
            "needs_background": "light"
          }
        }
      ]
    }
  ]
}