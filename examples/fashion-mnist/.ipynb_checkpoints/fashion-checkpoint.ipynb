{
 "cells": [
  {
   "cell_type": "code",
   "execution_count": 1,
   "metadata": {},
   "outputs": [
    {
     "name": "stderr",
     "output_type": "stream",
     "text": [
      "Using TensorFlow backend.\n"
     ]
    }
   ],
   "source": [
    "import os,gzip\n",
    "from keras.utils import get_file\n",
    "import numpy as np\n",
    "import matplotlib.pyplot as plt\n",
    "\n",
    "from foundry import Foundry\n",
    "\n",
    "class FashionMNIST(Foundry):\n",
    "    def load_data(self):\n",
    "        \"\"\"\n",
    "        # Loads the Fashion-MNIST dataset.\n",
    "        # Returns: Tuple of Numpy arrays: `(x_train, y_train), (x_test, y_test)`.\n",
    "        # Example ported from keras.datasets. \n",
    "        # https://github.com/keras-team/keras/tree/master/keras/datasets\n",
    "        \"\"\"\n",
    "        dirname = os.path.join('datasets', 'fashion-mnist')\n",
    "        \n",
    "        base = 'https://data.materialsdatafacility.org/foundry/fashion-mnist/'\n",
    "        files = ['train-labels-idx1-ubyte.gz', 'train-images-idx3-ubyte.gz',\n",
    "                 't10k-labels-idx1-ubyte.gz', 't10k-images-idx3-ubyte.gz']\n",
    "\n",
    "        paths = []\n",
    "        for fname in files:\n",
    "            paths.append(get_file(fname,\n",
    "                                  origin=base + fname))\n",
    "\n",
    "        with gzip.open(paths[0], 'rb') as lbpath:\n",
    "            y_train = np.frombuffer(lbpath.read(), np.uint8, offset=8)\n",
    "\n",
    "        with gzip.open(paths[1], 'rb') as imgpath:\n",
    "            x_train = np.frombuffer(imgpath.read(), np.uint8,\n",
    "                                    offset=16).reshape(len(y_train), 28, 28)\n",
    "\n",
    "        with gzip.open(paths[2], 'rb') as lbpath:\n",
    "            y_test = np.frombuffer(lbpath.read(), np.uint8, offset=8)\n",
    "\n",
    "        with gzip.open(paths[3], 'rb') as imgpath:\n",
    "            x_test = np.frombuffer(imgpath.read(), np.uint8,\n",
    "                                   offset=16).reshape(len(y_test), 28, 28)\n",
    "\n",
    "        return (x_train, y_train)"
   ]
  },
  {
   "cell_type": "code",
   "execution_count": 2,
   "metadata": {},
   "outputs": [],
   "source": [
    "f = FashionMNIST()\n",
    "X, y = f.load_data()"
   ]
  },
  {
   "cell_type": "code",
   "execution_count": 4,
   "metadata": {},
   "outputs": [
    {
     "name": "stdout",
     "output_type": "stream",
     "text": [
      "DC:{'title': [{'title': 'Fashion MNIST'}]}\n",
      "Inputs:['28x28 greyscale image']\n",
      "Outputs:['T-shirt/top', 'Trouser', 'Pullover', 'Dress', 'Coat', 'Sandal', 'Shirt', 'Sneaker', 'Bag', 'Ankle boot']\n",
      "['T-shirt/top', 'Trouser', 'Pullover', 'Dress', 'Coat', 'Sandal', 'Shirt', 'Sneaker', 'Bag', 'Ankle boot']\n"
     ]
    }
   ],
   "source": [
    "f.describe()"
   ]
  },
  {
   "cell_type": "code",
   "execution_count": 3,
   "metadata": {},
   "outputs": [
    {
     "data": {
      "image/png": "[encoded data removed]",
      "text/plain": [
       "<Figure size 432x288 with 6 Axes>"
      ]
     },
     "metadata": {
      "needs_background": "light"
     },
     "output_type": "display_data"
    }
   ],
   "source": [
    "n_cols = 6\n",
    "fig, ax = plt.subplots(1,n_cols)\n",
    "\n",
    "for i in range(0, n_cols):\n",
    "    ax[i].imshow(X[i], cmap='gray')"
   ]
  },
  {
   "cell_type": "markdown",
   "metadata": {},
   "source": [
    "# Run First Time\n"
   ]
  },
  {
   "cell_type": "code",
   "execution_count": 9,
   "metadata": {},
   "outputs": [],
   "source": [
    "# from foundry import Foundry\n",
    "# fashion_dict = {\n",
    "#     \"dc\":{\"title\":[{\"title\":\"Fashion MNIST\"}]},\n",
    "#     \"foundry\":{\n",
    "#         \"inputs\":[],\n",
    "#         \"input_descriptions\":[\"28x28 greyscale image\"],\n",
    "#         \"outputs\":[\"label\"],\n",
    "#         \"output_descriptions\":[\"T-shirt/top\",\n",
    "#                               \"Trouser\",\n",
    "#                               \"Pullover\",\n",
    "#                               \"Dress\",\n",
    "#                               \"Coat\",\n",
    "#                               \"Sandal\",\n",
    "#                               \"Shirt\",\n",
    "#                               \"Sneaker\",\n",
    "#                               \"Bag\",\n",
    "#                               \"Ankle boot\"],\n",
    "#         \"type\":\"class\"\n",
    "#     }\n",
    "# }\n",
    "# f = Foundry().from_dict(fashion_dict)\n",
    "# f.to_file()"
   ]
  },
  {
   "cell_type": "code",
   "execution_count": null,
   "metadata": {},
   "outputs": [],
   "source": []
  }
 ],
 "metadata": {
  "kernelspec": {
   "display_name": "Python 3",
   "language": "python",
   "name": "python3"
  },
  "language_info": {
   "codemirror_mode": {
    "name": "ipython",
    "version": 3
   },
   "file_extension": ".py",
   "mimetype": "text/x-python",
   "name": "python",
   "nbconvert_exporter": "python",
   "pygments_lexer": "ipython3",
   "version": "3.7.3"
  }
 },
 "nbformat": 4,
 "nbformat_minor": 4
}
