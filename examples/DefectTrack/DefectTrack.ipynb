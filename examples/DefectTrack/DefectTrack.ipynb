{
  "cells": [
    {
      "cell_type": "markdown",
      "metadata": {
        "id": "7F9DUCDjnUjf"
      },
      "source": [
        "<img src=\"https://raw.githubusercontent.com/MLMI2-CSSI/foundry/main/assets/foundry-black.png\" width=450>"
      ]
    },
    {
      "cell_type": "markdown",
      "metadata": {
        "id": "5LSG4dPXnopg"
      },
      "source": [
        "# Foundry DefectTrack Tutorial for Beginners\n",
        "\n",
        "Sainju R, Chen WY, Schaefer S, Yang Q, Ding C, Li M, Zhu Y. DefectTrack: a deep learning-based multi-object tracking algorithm for quantitative defect analysis of in-situ TEM videos in real-time. Sci Rep. 2022 Sep 20;12(1):15705. doi: 10.1038/s41598-022-19697-1. PMID: 36127375; PMCID: PMC9489724."
      ]
    },
    {
      "cell_type": "markdown",
      "metadata": {
        "id": "9Ypm4X52r5qj"
      },
      "source": [
        "This introduction uses Foundry to:\n",
        "\n",
        "\n",
        "1. Load a predictive model from Foundry\n",
        "2. track cascade-induced defect clusters in in-situ TEM videos using the model\n",
        "\n",
        "This notebook is set up to run as a [Google Colaboratory](https://colab.research.google.com/notebooks/intro.ipynb#scrollTo=5fCEDCU_qrC0) notebook, which allows you to run python code in the browser, or as a [Jupyter](https://jupyter.org/) notebook, which runs locally on your machine.\n",
        "\n",
        "The code in the next cell will detect your environment to make sure that only cells that match your environment will run."
      ]
    },
    {
      "cell_type": "markdown",
      "metadata": {
        "id": "GDeq-ISXD0Hk"
      },
      "source": [
        "<a target=\"_blank\" href=\"https://colab.research.google.com/github/MLMI2-CSSI/foundry/blob/main/examples/DefectTrack/DefectTrack.ipynb\">\n",
        "  <img src=\"https://colab.research.google.com/assets/colab-badge.svg\" alt=\"Open In Colab\"/>\n",
        "</a>"
      ]
    },
    {
      "cell_type": "code",
      "execution_count": null,
      "metadata": {
        "id": "uqzPXhJZ-mjy"
      },
      "outputs": [],
      "source": [
        "try:\n",
        "    import google.colab\n",
        "    no_local_server=True\n",
        "    no_browser=True\n",
        "    globus=False\n",
        "except: # when not in google colab\n",
        "    no_local_server=False\n",
        "    no_browser=False\n",
        "    globus=True"
      ]
    },
    {
      "cell_type": "markdown",
      "metadata": {
        "id": "3Dx-9FiK-qXF"
      },
      "source": [
        "# Installing Foundry\n"
      ]
    },
    {
      "cell_type": "code",
      "execution_count": null,
      "metadata": {
        "id": "0bJUs5pJHsc4"
      },
      "outputs": [],
      "source": [
        "!pip install foundry_ml"
      ]
    },
    {
      "cell_type": "code",
      "execution_count": null,
      "metadata": {
        "id": "hWjnG87hgMyz"
      },
      "outputs": [],
      "source": [
        "from foundry import Foundry"
      ]
    },
    {
      "cell_type": "markdown",
      "metadata": {
        "id": "nJu1C60hA0js"
      },
      "source": [
        "# Instantiating Foundry\n",
        "To instantiate Foundry, you'll need a [Globus](https://www.globus.org) account. Once you have your account, you can instantiate Foundry using the code below. When you instantiate Foundry locally, be sure to have your Globus endpoint turned on (you can do that with [Globus Connect Personal](https://www.globus.org/globus-connect-personal)). When you instantiate Foundry on Google Colab, you'll be given a link in the cell's output and asked to enter the provided auth code.\n"
      ]
    },
    {
      "cell_type": "code",
      "execution_count": null,
      "metadata": {
        "colab": {
          "base_uri": "https://localhost:8080/"
        },
        "id": "cmqehQpfA7VB",
        "outputId": "fefcc136-bfaf-4dd4-f66e-c38e93402443"
      },
      "outputs": [
        {
          "name": "stdout",
          "output_type": "stream",
          "text": [
            "Please paste the following URL in a browser:\n",
            "https://auth.globus.org/v2/oauth2/authorize?client_id=984464e2-90ab-433d-8145-ac0215d26c8e&redirect_uri=https%3A%2F%2Fauth.globus.org%2Fv2%2Fweb%2Fauth-code&scope=urn%3Aglobus%3Aauth%3Ascope%3Adata.materialsdatafacility.org%3Aall+https%3A%2F%2Fauth.globus.org%2Fscopes%2Fc17f27bb-f200-486a-b785-2a25e82af505%2Fconnect+urn%3Aglobus%3Aauth%3Ascope%3Asearch.api.globus.org%3Asearch+https%3A%2F%2Fauth.globus.org%2Fscopes%2F56ceac29-e98a-440a-a594-b41e7a084b62%2Fall+urn%3Aglobus%3Aauth%3Ascope%3Atransfer.api.globus.org%3Aall+https%3A%2F%2Fauth.globus.org%2Fscopes%2F81fc4156-a623-47f2-93ad-7184118226ba%2Fauth+openid+https%3A%2F%2Fauth.globus.org%2Fscopes%2Ffacd7ccc-c5f4-42aa-916b-a0e270e2c2a9%2Fall+https%3A%2F%2Fauth.globus.org%2Fscopes%2Ff10a69a9-338c-4e5b-baa1-0dc92359ab47%2Fhttps+https%3A%2F%2Fauth.globus.org%2Fscopes%2F82f1b5c6-6e9b-11e5-ba47-22000b92c6ec%2Fhttps+https%3A%2F%2Fauth.globus.org%2Fscopes%2Fd31d4f5d-be37-4adc-a761-2f716b7af105%2Faction_all&state=_default&response_type=code&code_challenge=BZyqpMFqjMVsZrnyMtm5xO3JjUdl_1SbSjG8H3REk8I&code_challenge_method=S256&access_type=offline&prefill_named_grant=Foundry+Login\n",
            "Please Paste your Auth Code Below: \n",
            "GZjmmAJhOPFzACq5pyjvcUAtHnxyEJ\n"
          ]
        }
      ],
      "source": [
        "f = Foundry(index=\"mdf\", no_local_server=no_local_server, no_browser=no_browser)"
      ]
    },
    {
      "cell_type": "markdown",
      "metadata": {
        "id": "8a-4_w3ygMy_"
      },
      "source": [
        "# Run prediction"
      ]
    },
    {
      "cell_type": "code",
      "source": [
        "# Download the example sequence of images from github repo\n",
        "!wget https://github.com/wdwzyyg/foundry/raw/example_notebooks/examples/DefectTrack/000001.png\n",
        "!wget https://github.com/wdwzyyg/foundry/raw/example_notebooks/examples/DefectTrack/000002.png\n",
        "!wget https://github.com/wdwzyyg/foundry/raw/example_notebooks/examples/DefectTrack/000003.png\n",
        "!wget https://github.com/wdwzyyg/foundry/raw/example_notebooks/examples/DefectTrack/000004.png"
      ],
      "metadata": {
        "colab": {
          "base_uri": "https://localhost:8080/"
        },
        "id": "MC0ssXo4Ct3y",
        "outputId": "cf600e70-8f1a-43e6-a9db-d5acc3ae979d"
      },
      "execution_count": 10,
      "outputs": [
        {
          "output_type": "stream",
          "name": "stdout",
          "text": [
            "--2023-05-28 20:50:20--  https://github.com/wdwzyyg/foundry/raw/example_notebooks/examples/DefectTrack/000001.png\n",
            "Resolving github.com (github.com)... 192.30.255.112\n",
            "Connecting to github.com (github.com)|192.30.255.112|:443... connected.\n",
            "HTTP request sent, awaiting response... 302 Found\n",
            "Location: https://raw.githubusercontent.com/wdwzyyg/foundry/example_notebooks/examples/DefectTrack/000001.png [following]\n",
            "--2023-05-28 20:50:20--  https://raw.githubusercontent.com/wdwzyyg/foundry/example_notebooks/examples/DefectTrack/000001.png\n",
            "Resolving raw.githubusercontent.com (raw.githubusercontent.com)... 185.199.108.133, 185.199.109.133, 185.199.110.133, ...\n",
            "Connecting to raw.githubusercontent.com (raw.githubusercontent.com)|185.199.108.133|:443... connected.\n",
            "HTTP request sent, awaiting response... 200 OK\n",
            "Length: 461676 (451K) [image/png]\n",
            "Saving to: ‘000001.png.1’\n",
            "\n",
            "\r000001.png.1          0%[                    ]       0  --.-KB/s               \r000001.png.1        100%[===================>] 450.86K  --.-KB/s    in 0.02s   \n",
            "\n",
            "2023-05-28 20:50:20 (19.6 MB/s) - ‘000001.png.1’ saved [461676/461676]\n",
            "\n",
            "--2023-05-28 20:50:20--  https://github.com/wdwzyyg/foundry/raw/example_notebooks/examples/DefectTrack/000002.png\n",
            "Resolving github.com (github.com)... 192.30.255.113\n",
            "Connecting to github.com (github.com)|192.30.255.113|:443... connected.\n",
            "HTTP request sent, awaiting response... 302 Found\n",
            "Location: https://raw.githubusercontent.com/wdwzyyg/foundry/example_notebooks/examples/DefectTrack/000002.png [following]\n",
            "--2023-05-28 20:50:21--  https://raw.githubusercontent.com/wdwzyyg/foundry/example_notebooks/examples/DefectTrack/000002.png\n",
            "Resolving raw.githubusercontent.com (raw.githubusercontent.com)... 185.199.108.133, 185.199.109.133, 185.199.110.133, ...\n",
            "Connecting to raw.githubusercontent.com (raw.githubusercontent.com)|185.199.108.133|:443... connected.\n",
            "HTTP request sent, awaiting response... 200 OK\n",
            "Length: 461962 (451K) [image/png]\n",
            "Saving to: ‘000002.png’\n",
            "\n",
            "000002.png          100%[===================>] 451.13K  --.-KB/s    in 0.02s   \n",
            "\n",
            "2023-05-28 20:50:21 (19.2 MB/s) - ‘000002.png’ saved [461962/461962]\n",
            "\n",
            "--2023-05-28 20:50:21--  https://github.com/wdwzyyg/foundry/raw/example_notebooks/examples/DefectTrack/000003.png\n",
            "Resolving github.com (github.com)... 192.30.255.113\n",
            "Connecting to github.com (github.com)|192.30.255.113|:443... connected.\n",
            "HTTP request sent, awaiting response... 302 Found\n",
            "Location: https://raw.githubusercontent.com/wdwzyyg/foundry/example_notebooks/examples/DefectTrack/000003.png [following]\n",
            "--2023-05-28 20:50:21--  https://raw.githubusercontent.com/wdwzyyg/foundry/example_notebooks/examples/DefectTrack/000003.png\n",
            "Resolving raw.githubusercontent.com (raw.githubusercontent.com)... 185.199.108.133, 185.199.109.133, 185.199.110.133, ...\n",
            "Connecting to raw.githubusercontent.com (raw.githubusercontent.com)|185.199.108.133|:443... connected.\n",
            "HTTP request sent, awaiting response... 200 OK\n",
            "Length: 462087 (451K) [image/png]\n",
            "Saving to: ‘000003.png’\n",
            "\n",
            "000003.png          100%[===================>] 451.26K  --.-KB/s    in 0.02s   \n",
            "\n",
            "2023-05-28 20:50:21 (21.6 MB/s) - ‘000003.png’ saved [462087/462087]\n",
            "\n",
            "--2023-05-28 20:50:22--  https://github.com/wdwzyyg/foundry/raw/example_notebooks/examples/DefectTrack/000004.png\n",
            "Resolving github.com (github.com)... 192.30.255.113\n",
            "Connecting to github.com (github.com)|192.30.255.113|:443... connected.\n",
            "HTTP request sent, awaiting response... 302 Found\n",
            "Location: https://raw.githubusercontent.com/wdwzyyg/foundry/example_notebooks/examples/DefectTrack/000004.png [following]\n",
            "--2023-05-28 20:50:22--  https://raw.githubusercontent.com/wdwzyyg/foundry/example_notebooks/examples/DefectTrack/000004.png\n",
            "Resolving raw.githubusercontent.com (raw.githubusercontent.com)... 185.199.108.133, 185.199.109.133, 185.199.110.133, ...\n",
            "Connecting to raw.githubusercontent.com (raw.githubusercontent.com)|185.199.108.133|:443... connected.\n",
            "HTTP request sent, awaiting response... 200 OK\n",
            "Length: 461845 (451K) [image/png]\n",
            "Saving to: ‘000004.png’\n",
            "\n",
            "000004.png          100%[===================>] 451.02K  --.-KB/s    in 0.03s   \n",
            "\n",
            "2023-05-28 20:50:22 (15.4 MB/s) - ‘000004.png’ saved [461845/461845]\n",
            "\n"
          ]
        }
      ]
    },
    {
      "cell_type": "code",
      "execution_count": 11,
      "metadata": {
        "id": "v3NeOg6T77PR"
      },
      "outputs": [],
      "source": [
        "import glob, cv2, os\n",
        "imgs_original = []\n",
        "root = os.getcwd()\n",
        "files = ['/000001.png', '/000002.png', '/000003.png', '/000004.png']\n",
        "for img_path in files:\n",
        "  img0 = cv2.imread(root + img_path)\n",
        "  imgs_original.append(img0)"
      ]
    },
    {
      "cell_type": "code",
      "execution_count": null,
      "metadata": {
        "id": "J_Midz8Y9c3i"
      },
      "outputs": [],
      "source": [
        "result = f.run(\"jwei74_wisc/DefectTrack_in_situ_TEM_videos\", {'images':imgs_original})"
      ]
    },
    {
      "cell_type": "markdown",
      "metadata": {
        "id": "jZ70e8SPgMy_"
      },
      "source": [
        "# Check the results"
      ]
    },
    {
      "cell_type": "code",
      "execution_count": null,
      "metadata": {
        "colab": {
          "base_uri": "https://localhost:8080/",
          "height": 708
        },
        "id": "heE7dKgOBAZ4",
        "outputId": "d19cf0a8-21f7-4ab6-8ca0-45ad994c949c"
      },
      "outputs": [
        {
          "output_type": "execute_result",
          "data": {
            "text/plain": [
              "    frame  track_id         top        left      width     height     score\n",
              "0     1.0       1.0  661.063110  156.298843  18.297241  18.550873  0.494249\n",
              "1     1.0       2.0  956.360474  335.631195  20.067993  20.143494  0.444370\n",
              "2     1.0       3.0  848.138672  468.027771  19.093506  19.178101  0.398316\n",
              "3     1.0       4.0  792.298035  488.698730  19.792114  19.626038  0.382772\n",
              "4     1.0       5.0   36.172516  356.104492  19.663483  19.569336  0.369688\n",
              "5     1.0       6.0  536.739807  164.975037  18.479980  18.405182  0.319377\n",
              "6     2.0       1.0  661.146510  156.423177  18.142836  18.390788  0.496295\n",
              "7     2.0       2.0  956.294232  335.542745  19.584606  19.657281  0.469715\n",
              "8     2.0       3.0  845.516117  468.751079  18.539968  18.620174  0.353427\n",
              "9     2.0       6.0  536.712592  164.783425  18.022456  17.951436  0.421088\n",
              "10    3.0       1.0  664.076381  153.493132  17.857116  18.092621  0.535027\n",
              "11    3.0       2.0  956.134989  338.532062  19.794954  19.876106  0.433559\n",
              "12    3.0       3.0  848.209862  465.947678  18.737602  18.812547  0.365346\n",
              "13    3.0       6.0  533.858335  164.893376  18.116560  18.045028  0.332590\n",
              "14    4.0       1.0  665.208331  152.945770  17.749861  17.970868  0.547925\n",
              "15    4.0       2.0  956.308022  337.106743  19.769958  19.849879  0.490271\n",
              "16    4.0       3.0  848.953040  467.522542  18.671393  18.750091  0.447206\n",
              "17    4.0       9.0  855.816668  216.296774  18.880701  18.856384  0.461045\n",
              "18    4.0      10.0  417.263078  488.328577  17.945706  17.988232  0.347902\n",
              "19    4.0       4.0  796.194189  488.532404  18.924452  18.768412  0.382772\n",
              "20    4.0       5.0   36.388443  359.888017  19.185326  19.096523  0.369688"
            ],
            "text/html": [
              "\n",
              "  <div id=\"df-b3b88e8a-81ac-4070-9e6e-a1de27ec3d9b\">\n",
              "    <div class=\"colab-df-container\">\n",
              "      <div>\n",
              "<style scoped>\n",
              "    .dataframe tbody tr th:only-of-type {\n",
              "        vertical-align: middle;\n",
              "    }\n",
              "\n",
              "    .dataframe tbody tr th {\n",
              "        vertical-align: top;\n",
              "    }\n",
              "\n",
              "    .dataframe thead th {\n",
              "        text-align: right;\n",
              "    }\n",
              "</style>\n",
              "<table border=\"1\" class=\"dataframe\">\n",
              "  <thead>\n",
              "    <tr style=\"text-align: right;\">\n",
              "      <th></th>\n",
              "      <th>frame</th>\n",
              "      <th>track_id</th>\n",
              "      <th>top</th>\n",
              "      <th>left</th>\n",
              "      <th>width</th>\n",
              "      <th>height</th>\n",
              "      <th>score</th>\n",
              "    </tr>\n",
              "  </thead>\n",
              "  <tbody>\n",
              "    <tr>\n",
              "      <th>0</th>\n",
              "      <td>1.0</td>\n",
              "      <td>1.0</td>\n",
              "      <td>661.063110</td>\n",
              "      <td>156.298843</td>\n",
              "      <td>18.297241</td>\n",
              "      <td>18.550873</td>\n",
              "      <td>0.494249</td>\n",
              "    </tr>\n",
              "    <tr>\n",
              "      <th>1</th>\n",
              "      <td>1.0</td>\n",
              "      <td>2.0</td>\n",
              "      <td>956.360474</td>\n",
              "      <td>335.631195</td>\n",
              "      <td>20.067993</td>\n",
              "      <td>20.143494</td>\n",
              "      <td>0.444370</td>\n",
              "    </tr>\n",
              "    <tr>\n",
              "      <th>2</th>\n",
              "      <td>1.0</td>\n",
              "      <td>3.0</td>\n",
              "      <td>848.138672</td>\n",
              "      <td>468.027771</td>\n",
              "      <td>19.093506</td>\n",
              "      <td>19.178101</td>\n",
              "      <td>0.398316</td>\n",
              "    </tr>\n",
              "    <tr>\n",
              "      <th>3</th>\n",
              "      <td>1.0</td>\n",
              "      <td>4.0</td>\n",
              "      <td>792.298035</td>\n",
              "      <td>488.698730</td>\n",
              "      <td>19.792114</td>\n",
              "      <td>19.626038</td>\n",
              "      <td>0.382772</td>\n",
              "    </tr>\n",
              "    <tr>\n",
              "      <th>4</th>\n",
              "      <td>1.0</td>\n",
              "      <td>5.0</td>\n",
              "      <td>36.172516</td>\n",
              "      <td>356.104492</td>\n",
              "      <td>19.663483</td>\n",
              "      <td>19.569336</td>\n",
              "      <td>0.369688</td>\n",
              "    </tr>\n",
              "    <tr>\n",
              "      <th>5</th>\n",
              "      <td>1.0</td>\n",
              "      <td>6.0</td>\n",
              "      <td>536.739807</td>\n",
              "      <td>164.975037</td>\n",
              "      <td>18.479980</td>\n",
              "      <td>18.405182</td>\n",
              "      <td>0.319377</td>\n",
              "    </tr>\n",
              "    <tr>\n",
              "      <th>6</th>\n",
              "      <td>2.0</td>\n",
              "      <td>1.0</td>\n",
              "      <td>661.146510</td>\n",
              "      <td>156.423177</td>\n",
              "      <td>18.142836</td>\n",
              "      <td>18.390788</td>\n",
              "      <td>0.496295</td>\n",
              "    </tr>\n",
              "    <tr>\n",
              "      <th>7</th>\n",
              "      <td>2.0</td>\n",
              "      <td>2.0</td>\n",
              "      <td>956.294232</td>\n",
              "      <td>335.542745</td>\n",
              "      <td>19.584606</td>\n",
              "      <td>19.657281</td>\n",
              "      <td>0.469715</td>\n",
              "    </tr>\n",
              "    <tr>\n",
              "      <th>8</th>\n",
              "      <td>2.0</td>\n",
              "      <td>3.0</td>\n",
              "      <td>845.516117</td>\n",
              "      <td>468.751079</td>\n",
              "      <td>18.539968</td>\n",
              "      <td>18.620174</td>\n",
              "      <td>0.353427</td>\n",
              "    </tr>\n",
              "    <tr>\n",
              "      <th>9</th>\n",
              "      <td>2.0</td>\n",
              "      <td>6.0</td>\n",
              "      <td>536.712592</td>\n",
              "      <td>164.783425</td>\n",
              "      <td>18.022456</td>\n",
              "      <td>17.951436</td>\n",
              "      <td>0.421088</td>\n",
              "    </tr>\n",
              "    <tr>\n",
              "      <th>10</th>\n",
              "      <td>3.0</td>\n",
              "      <td>1.0</td>\n",
              "      <td>664.076381</td>\n",
              "      <td>153.493132</td>\n",
              "      <td>17.857116</td>\n",
              "      <td>18.092621</td>\n",
              "      <td>0.535027</td>\n",
              "    </tr>\n",
              "    <tr>\n",
              "      <th>11</th>\n",
              "      <td>3.0</td>\n",
              "      <td>2.0</td>\n",
              "      <td>956.134989</td>\n",
              "      <td>338.532062</td>\n",
              "      <td>19.794954</td>\n",
              "      <td>19.876106</td>\n",
              "      <td>0.433559</td>\n",
              "    </tr>\n",
              "    <tr>\n",
              "      <th>12</th>\n",
              "      <td>3.0</td>\n",
              "      <td>3.0</td>\n",
              "      <td>848.209862</td>\n",
              "      <td>465.947678</td>\n",
              "      <td>18.737602</td>\n",
              "      <td>18.812547</td>\n",
              "      <td>0.365346</td>\n",
              "    </tr>\n",
              "    <tr>\n",
              "      <th>13</th>\n",
              "      <td>3.0</td>\n",
              "      <td>6.0</td>\n",
              "      <td>533.858335</td>\n",
              "      <td>164.893376</td>\n",
              "      <td>18.116560</td>\n",
              "      <td>18.045028</td>\n",
              "      <td>0.332590</td>\n",
              "    </tr>\n",
              "    <tr>\n",
              "      <th>14</th>\n",
              "      <td>4.0</td>\n",
              "      <td>1.0</td>\n",
              "      <td>665.208331</td>\n",
              "      <td>152.945770</td>\n",
              "      <td>17.749861</td>\n",
              "      <td>17.970868</td>\n",
              "      <td>0.547925</td>\n",
              "    </tr>\n",
              "    <tr>\n",
              "      <th>15</th>\n",
              "      <td>4.0</td>\n",
              "      <td>2.0</td>\n",
              "      <td>956.308022</td>\n",
              "      <td>337.106743</td>\n",
              "      <td>19.769958</td>\n",
              "      <td>19.849879</td>\n",
              "      <td>0.490271</td>\n",
              "    </tr>\n",
              "    <tr>\n",
              "      <th>16</th>\n",
              "      <td>4.0</td>\n",
              "      <td>3.0</td>\n",
              "      <td>848.953040</td>\n",
              "      <td>467.522542</td>\n",
              "      <td>18.671393</td>\n",
              "      <td>18.750091</td>\n",
              "      <td>0.447206</td>\n",
              "    </tr>\n",
              "    <tr>\n",
              "      <th>17</th>\n",
              "      <td>4.0</td>\n",
              "      <td>9.0</td>\n",
              "      <td>855.816668</td>\n",
              "      <td>216.296774</td>\n",
              "      <td>18.880701</td>\n",
              "      <td>18.856384</td>\n",
              "      <td>0.461045</td>\n",
              "    </tr>\n",
              "    <tr>\n",
              "      <th>18</th>\n",
              "      <td>4.0</td>\n",
              "      <td>10.0</td>\n",
              "      <td>417.263078</td>\n",
              "      <td>488.328577</td>\n",
              "      <td>17.945706</td>\n",
              "      <td>17.988232</td>\n",
              "      <td>0.347902</td>\n",
              "    </tr>\n",
              "    <tr>\n",
              "      <th>19</th>\n",
              "      <td>4.0</td>\n",
              "      <td>4.0</td>\n",
              "      <td>796.194189</td>\n",
              "      <td>488.532404</td>\n",
              "      <td>18.924452</td>\n",
              "      <td>18.768412</td>\n",
              "      <td>0.382772</td>\n",
              "    </tr>\n",
              "    <tr>\n",
              "      <th>20</th>\n",
              "      <td>4.0</td>\n",
              "      <td>5.0</td>\n",
              "      <td>36.388443</td>\n",
              "      <td>359.888017</td>\n",
              "      <td>19.185326</td>\n",
              "      <td>19.096523</td>\n",
              "      <td>0.369688</td>\n",
              "    </tr>\n",
              "  </tbody>\n",
              "</table>\n",
              "</div>\n",
              "      <button class=\"colab-df-convert\" onclick=\"convertToInteractive('df-b3b88e8a-81ac-4070-9e6e-a1de27ec3d9b')\"\n",
              "              title=\"Convert this dataframe to an interactive table.\"\n",
              "              style=\"display:none;\">\n",
              "        \n",
              "  <svg xmlns=\"http://www.w3.org/2000/svg\" height=\"24px\"viewBox=\"0 0 24 24\"\n",
              "       width=\"24px\">\n",
              "    <path d=\"M0 0h24v24H0V0z\" fill=\"none\"/>\n",
              "    <path d=\"M18.56 5.44l.94 2.06.94-2.06 2.06-.94-2.06-.94-.94-2.06-.94 2.06-2.06.94zm-11 1L8.5 8.5l.94-2.06 2.06-.94-2.06-.94L8.5 2.5l-.94 2.06-2.06.94zm10 10l.94 2.06.94-2.06 2.06-.94-2.06-.94-.94-2.06-.94 2.06-2.06.94z\"/><path d=\"M17.41 7.96l-1.37-1.37c-.4-.4-.92-.59-1.43-.59-.52 0-1.04.2-1.43.59L10.3 9.45l-7.72 7.72c-.78.78-.78 2.05 0 2.83L4 21.41c.39.39.9.59 1.41.59.51 0 1.02-.2 1.41-.59l7.78-7.78 2.81-2.81c.8-.78.8-2.07 0-2.86zM5.41 20L4 18.59l7.72-7.72 1.47 1.35L5.41 20z\"/>\n",
              "  </svg>\n",
              "      </button>\n",
              "      \n",
              "  <style>\n",
              "    .colab-df-container {\n",
              "      display:flex;\n",
              "      flex-wrap:wrap;\n",
              "      gap: 12px;\n",
              "    }\n",
              "\n",
              "    .colab-df-convert {\n",
              "      background-color: #E8F0FE;\n",
              "      border: none;\n",
              "      border-radius: 50%;\n",
              "      cursor: pointer;\n",
              "      display: none;\n",
              "      fill: #1967D2;\n",
              "      height: 32px;\n",
              "      padding: 0 0 0 0;\n",
              "      width: 32px;\n",
              "    }\n",
              "\n",
              "    .colab-df-convert:hover {\n",
              "      background-color: #E2EBFA;\n",
              "      box-shadow: 0px 1px 2px rgba(60, 64, 67, 0.3), 0px 1px 3px 1px rgba(60, 64, 67, 0.15);\n",
              "      fill: #174EA6;\n",
              "    }\n",
              "\n",
              "    [theme=dark] .colab-df-convert {\n",
              "      background-color: #3B4455;\n",
              "      fill: #D2E3FC;\n",
              "    }\n",
              "\n",
              "    [theme=dark] .colab-df-convert:hover {\n",
              "      background-color: #434B5C;\n",
              "      box-shadow: 0px 1px 3px 1px rgba(0, 0, 0, 0.15);\n",
              "      filter: drop-shadow(0px 1px 2px rgba(0, 0, 0, 0.3));\n",
              "      fill: #FFFFFF;\n",
              "    }\n",
              "  </style>\n",
              "\n",
              "      <script>\n",
              "        const buttonEl =\n",
              "          document.querySelector('#df-b3b88e8a-81ac-4070-9e6e-a1de27ec3d9b button.colab-df-convert');\n",
              "        buttonEl.style.display =\n",
              "          google.colab.kernel.accessAllowed ? 'block' : 'none';\n",
              "\n",
              "        async function convertToInteractive(key) {\n",
              "          const element = document.querySelector('#df-b3b88e8a-81ac-4070-9e6e-a1de27ec3d9b');\n",
              "          const dataTable =\n",
              "            await google.colab.kernel.invokeFunction('convertToInteractive',\n",
              "                                                     [key], {});\n",
              "          if (!dataTable) return;\n",
              "\n",
              "          const docLinkHtml = 'Like what you see? Visit the ' +\n",
              "            '<a target=\"_blank\" href=https://colab.research.google.com/notebooks/data_table.ipynb>data table notebook</a>'\n",
              "            + ' to learn more about interactive tables.';\n",
              "          element.innerHTML = '';\n",
              "          dataTable['output_type'] = 'display_data';\n",
              "          await google.colab.output.renderOutput(dataTable, element);\n",
              "          const docLink = document.createElement('div');\n",
              "          docLink.innerHTML = docLinkHtml;\n",
              "          element.appendChild(docLink);\n",
              "        }\n",
              "      </script>\n",
              "    </div>\n",
              "  </div>\n",
              "  "
            ]
          },
          "metadata": {},
          "execution_count": 11
        }
      ],
      "source": [
        "result"
      ]
    }
  ],
  "metadata": {
    "colab": {
      "provenance": []
    },
    "kernelspec": {
      "display_name": "Python 3 (ipykernel)",
      "language": "python",
      "name": "python3"
    },
    "language_info": {
      "codemirror_mode": {
        "name": "ipython",
        "version": 3
      },
      "file_extension": ".py",
      "mimetype": "text/x-python",
      "name": "python",
      "nbconvert_exporter": "python",
      "pygments_lexer": "ipython3",
      "version": "3.9.7"
    }
  },
  "nbformat": 4,
  "nbformat_minor": 0
}