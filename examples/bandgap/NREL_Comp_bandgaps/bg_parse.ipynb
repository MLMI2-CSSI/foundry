{
 "cells": [
  {
   "cell_type": "code",
   "execution_count": 1,
   "metadata": {},
   "outputs": [],
   "source": [
    "from foundry.foundry import Foundry"
   ]
  },
  {
   "cell_type": "code",
   "execution_count": 2,
   "metadata": {},
   "outputs": [],
   "source": [
    "#need Globus to pull data\n",
    "f = Foundry().load('_test_foundry_nrel_htem_v1.1')\n",
    "X,y = f.load_data()"
   ]
  },
  {
   "cell_type": "code",
   "execution_count": 3,
   "metadata": {},
   "outputs": [
    {
     "data": {
      "text/html": [
       "<div>\n",
       "<style scoped>\n",
       "    .dataframe tbody tr th:only-of-type {\n",
       "        vertical-align: middle;\n",
       "    }\n",
       "\n",
       "    .dataframe tbody tr th {\n",
       "        vertical-align: top;\n",
       "    }\n",
       "\n",
       "    .dataframe thead th {\n",
       "        text-align: right;\n",
       "    }\n",
       "</style>\n",
       "<table border=\"1\" class=\"dataframe\">\n",
       "  <thead>\n",
       "    <tr style=\"text-align: right;\">\n",
       "      <th></th>\n",
       "      <th>composition</th>\n",
       "      <th>method</th>\n",
       "    </tr>\n",
       "  </thead>\n",
       "  <tbody>\n",
       "    <tr>\n",
       "      <th>0</th>\n",
       "      <td>Ag2 O</td>\n",
       "      <td>GWVD</td>\n",
       "    </tr>\n",
       "    <tr>\n",
       "      <th>1</th>\n",
       "      <td>Ag2 S4 Sn Zn</td>\n",
       "      <td>GWVD</td>\n",
       "    </tr>\n",
       "    <tr>\n",
       "      <th>2</th>\n",
       "      <td>Ag2 Se4 Sn Zn</td>\n",
       "      <td>GWVD</td>\n",
       "    </tr>\n",
       "    <tr>\n",
       "      <th>3</th>\n",
       "      <td>Al2 Cd O4</td>\n",
       "      <td>GWVD</td>\n",
       "    </tr>\n",
       "    <tr>\n",
       "      <th>4</th>\n",
       "      <td>Al2 Co O4</td>\n",
       "      <td>GWVD</td>\n",
       "    </tr>\n",
       "  </tbody>\n",
       "</table>\n",
       "</div>"
      ],
      "text/plain": [
       "     composition method\n",
       "0          Ag2 O   GWVD\n",
       "1   Ag2 S4 Sn Zn   GWVD\n",
       "2  Ag2 Se4 Sn Zn   GWVD\n",
       "3      Al2 Cd O4   GWVD\n",
       "4      Al2 Co O4   GWVD"
      ]
     },
     "execution_count": 3,
     "metadata": {},
     "output_type": "execute_result"
    }
   ],
   "source": [
    "X.head()"
   ]
  },
  {
   "cell_type": "code",
   "execution_count": 4,
   "metadata": {},
   "outputs": [
    {
     "data": {
      "text/html": [
       "<div>\n",
       "<style scoped>\n",
       "    .dataframe tbody tr th:only-of-type {\n",
       "        vertical-align: middle;\n",
       "    }\n",
       "\n",
       "    .dataframe tbody tr th {\n",
       "        vertical-align: top;\n",
       "    }\n",
       "\n",
       "    .dataframe thead th {\n",
       "        text-align: right;\n",
       "    }\n",
       "</style>\n",
       "<table border=\"1\" class=\"dataframe\">\n",
       "  <thead>\n",
       "    <tr style=\"text-align: right;\">\n",
       "      <th></th>\n",
       "      <th>band_gap</th>\n",
       "    </tr>\n",
       "  </thead>\n",
       "  <tbody>\n",
       "    <tr>\n",
       "      <th>0</th>\n",
       "      <td>1.5542</td>\n",
       "    </tr>\n",
       "    <tr>\n",
       "      <th>1</th>\n",
       "      <td>2.3475</td>\n",
       "    </tr>\n",
       "    <tr>\n",
       "      <th>2</th>\n",
       "      <td>1.5400</td>\n",
       "    </tr>\n",
       "    <tr>\n",
       "      <th>3</th>\n",
       "      <td>5.7163</td>\n",
       "    </tr>\n",
       "    <tr>\n",
       "      <th>4</th>\n",
       "      <td>6.3337</td>\n",
       "    </tr>\n",
       "  </tbody>\n",
       "</table>\n",
       "</div>"
      ],
      "text/plain": [
       "   band_gap\n",
       "0    1.5542\n",
       "1    2.3475\n",
       "2    1.5400\n",
       "3    5.7163\n",
       "4    6.3337"
      ]
     },
     "execution_count": 4,
     "metadata": {},
     "output_type": "execute_result"
    }
   ],
   "source": [
    "y.head()"
   ]
  },
  {
   "cell_type": "code",
   "execution_count": 5,
   "metadata": {},
   "outputs": [
    {
     "name": "stdout",
     "output_type": "stream",
     "text": [
      "DC:{'creators': [{'affiliations': ['National Renewable Energy Laboratory'], 'creatorName': 'Lany, Stefan', 'familyName': 'Lany', 'givenName': 'Stefan'}, {'affiliations': ['Colorado School of Mines'], 'creatorName': 'Stevanovic, Vladan', 'familyName': 'Stevanovic', 'givenName': 'Vladan'}], 'dates': [{'date': '2013-01-01', 'dateType': 'Accepted'}, {'date': '2020-02-11', 'dateType': 'Accepted'}], 'identifier': {'identifier': '10.23677/86mw-pp1o', 'identifierType': 'DOI'}, 'publicationYear': 2020, 'publisher': 'Materials Data Facility', 'resourceType': {'resourceType': 'Dataset', 'resourceTypeGeneral': 'Dataset'}, 'subjects': [{'subject': 'machine learning'}, {'subject': 'DFT'}, {'subject': 'simulation'}], 'titles': [{'title': 'NREL MatDB GWVD Dataset'}]}\n",
      "Dataset:{\"inputs\": [\"composition\", \"method\"], \"outputs\": [\"band_gap\"], \"input_descriptions\": [], \"output_descriptions\": [], \"type\": \"tabular\", \"version\": \"\", \"short_name\": \"nrel-matdb-band-gap\"}\n"
     ]
    }
   ],
   "source": [
    "f.describe()"
   ]
  },
  {
   "cell_type": "markdown",
   "metadata": {},
   "source": [
    "# Only Run To Create Directory Contents"
   ]
  },
  {
   "cell_type": "code",
   "execution_count": 7,
   "metadata": {},
   "outputs": [
    {
     "data": {
      "text/html": [
       "<div>\n",
       "<style scoped>\n",
       "    .dataframe tbody tr th:only-of-type {\n",
       "        vertical-align: middle;\n",
       "    }\n",
       "\n",
       "    .dataframe tbody tr th {\n",
       "        vertical-align: top;\n",
       "    }\n",
       "\n",
       "    .dataframe thead th {\n",
       "        text-align: right;\n",
       "    }\n",
       "</style>\n",
       "<table border=\"1\" class=\"dataframe\">\n",
       "  <thead>\n",
       "    <tr style=\"text-align: right;\">\n",
       "      <th></th>\n",
       "      <th>composition</th>\n",
       "      <th>band_gap</th>\n",
       "      <th>method</th>\n",
       "    </tr>\n",
       "  </thead>\n",
       "  <tbody>\n",
       "    <tr>\n",
       "      <th>0</th>\n",
       "      <td>Ag2 O</td>\n",
       "      <td>1.5542</td>\n",
       "      <td>GWVD</td>\n",
       "    </tr>\n",
       "    <tr>\n",
       "      <th>1</th>\n",
       "      <td>Ag2 S4 Sn Zn</td>\n",
       "      <td>2.3475</td>\n",
       "      <td>GWVD</td>\n",
       "    </tr>\n",
       "    <tr>\n",
       "      <th>2</th>\n",
       "      <td>Ag2 Se4 Sn Zn</td>\n",
       "      <td>1.5400</td>\n",
       "      <td>GWVD</td>\n",
       "    </tr>\n",
       "    <tr>\n",
       "      <th>3</th>\n",
       "      <td>Al2 Cd O4</td>\n",
       "      <td>5.7163</td>\n",
       "      <td>GWVD</td>\n",
       "    </tr>\n",
       "    <tr>\n",
       "      <th>4</th>\n",
       "      <td>Al2 Co O4</td>\n",
       "      <td>6.3337</td>\n",
       "      <td>GWVD</td>\n",
       "    </tr>\n",
       "  </tbody>\n",
       "</table>\n",
       "</div>"
      ],
      "text/plain": [
       "     composition  band_gap method\n",
       "0          Ag2 O    1.5542   GWVD\n",
       "1   Ag2 S4 Sn Zn    2.3475   GWVD\n",
       "2  Ag2 Se4 Sn Zn    1.5400   GWVD\n",
       "3      Al2 Cd O4    5.7163   GWVD\n",
       "4      Al2 Co O4    6.3337   GWVD"
      ]
     },
     "execution_count": 7,
     "metadata": {},
     "output_type": "execute_result"
    }
   ],
   "source": [
    "from sklearn import datasets\n",
    "import pandas as pd\n",
    "gw_df = pd.read_csv('GWVD_Standards.csv')\n",
    "\n",
    "bgs = gw_df['E<sub>g,d</sub> (eV)'].values\n",
    "composition = gw_df['sorted formula'].values\n",
    "df = pd.DataFrame({'composition':composition,'band_gap':bgs,'method':['GWVD']*len(bgs)})\n",
    "df.to_json(\"foundry_dataframe.json\")\n",
    "df.head()"
   ]
  },
  {
   "cell_type": "code",
   "execution_count": 6,
   "metadata": {},
   "outputs": [],
   "source": [
    "t = {\"dc\": {\"creators\": [{\"affiliations\":[\"National Renewable Energy Laboratory\"],\n",
    "                      \"creatorName\":\"Lany, Stefan\",\n",
    "                      \"familyName\":\"Lany\",\\\n",
    "                      \"givenName\":\"Stefan\"},\n",
    "                      {\"affiliations\":[\"Colorado School of Mines\"],\n",
    "                       \"creatorName\":\"Stevanovic, Vladan\",\n",
    "                       \"familyName\":\"Stevanovic\",\\\n",
    "                       \"givenName\":\"Vladan\"}],\n",
    "        \"dates\":[{\"date\":\"2013-01-01\",\"dateType\":\"Accepted\"}],\n",
    "        \"identifier\":{\"identifier\":\"10.1103/PhysRevB.87.085112\",\"identifierType\":\"DOI\"},\n",
    "        \"publicationYear\":2013,\n",
    "        \"resourceType\":{\"resourceType\":\"Dataset\",\"resourceTypeGeneral\":\"Dataset\"},\n",
    "        \"subjects\":[{\"subject\":\"machine learning\"},{\"subject\":\"DFT\"},{\"subject\":\"simulation\"}],\n",
    "        \"titles\":[{\"title\":\"NREL MatDB GWVD Dataset\"}]\n",
    "                                          },\n",
    "\"mdf\": {\"source_id\":\"_test_foundry_nrel_htem_v1.1\"}, \"dataset\": {\"inputs\": [\"composition\", \"method\"],\n",
    "                                  \"outputs\": [\"band_gap\"],\n",
    "                                  \"type\": \"tabular\"},\n",
    " \"sources\":[{\"url\":\"https://materials.nrel.gov/\"}]\n",
    "}"
   ]
  },
  {
   "cell_type": "code",
   "execution_count": 7,
   "metadata": {},
   "outputs": [],
   "source": [
    "import json\n",
    "with open('foundry_metadata.json', 'w') as f:\n",
    "    json.dump(t, f)"
   ]
  },
  {
   "cell_type": "code",
   "execution_count": null,
   "metadata": {},
   "outputs": [],
   "source": []
  }
 ],
 "metadata": {
  "kernelspec": {
   "display_name": "Python 3",
   "language": "python",
   "name": "python3"
  },
  "language_info": {
   "codemirror_mode": {
    "name": "ipython",
    "version": 3
   },
   "file_extension": ".py",
   "mimetype": "text/x-python",
   "name": "python",
   "nbconvert_exporter": "python",
   "pygments_lexer": "ipython3",
   "version": "3.8.3"
  }
 },
 "nbformat": 4,
 "nbformat_minor": 4
}
