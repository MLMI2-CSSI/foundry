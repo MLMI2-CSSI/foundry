{
 "cells": [
  {
   "cell_type": "markdown",
   "metadata": {
    "id": "0zkFRiei8D8v"
   },
   "source": [
    "![foundry.png](data:image/png;base64,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)"
   ]
  },
  {
   "cell_type": "markdown",
   "metadata": {
    "id": "tEtYQFz4bRvT"
   },
   "source": [
    "# Foundry Bandgap Data Quickstart for Beginners\n",
    "This introduction uses Foundry to:\n",
    "\n",
    "\n",
    "1.   Instantiate and authenticate a Foundry client locally or in the cloud\n",
    "2.   Aggregate data from the collected datasets\n",
    "3. Build a simple predictive model\n",
    "\n"
   ]
  },
  {
   "cell_type": "markdown",
   "metadata": {
    "id": "cx371--JfT3a"
   },
   "source": [
    "This notebook is set up to run as a [Google Colaboratory](https://colab.research.google.com/notebooks/intro.ipynb#scrollTo=5fCEDCU_qrC0) notebook, which allows you to run python code in the browser, or as a [Jupyter](https://jupyter.org/) notebook, which runs locally on your machine.\n",
    "\n",
    "The code in the next cell will detect your environment to make sure that only cells that match your environment will run.\n"
   ]
  },
  {
   "cell_type": "code",
   "execution_count": 1,
   "metadata": {
    "id": "DebmB3w4stXZ"
   },
   "outputs": [],
   "source": [
    "try:\n",
    "  import google.colab\n",
    "  no_local_server = True\n",
    "  no_browser = True\n",
    "  globus = False\n",
    "except: # when not in google colab\n",
    "  no_local_server = False\n",
    "  no_browser = False\n",
    "  globus = True"
   ]
  },
  {
   "cell_type": "markdown",
   "metadata": {
    "id": "n_I9I-MTdnde"
   },
   "source": [
    "# Environment Set Up\n",
    "First we need to install and import all the packages we'll be using in this tutorial. Make sure you have [MDF](https://materialsdatafacility.org/) and Foundry installed in your local environment if running on your machine. We'll be using [Matminer](https://github.com/hackingmaterials/matminer) to featurize our data, so we'll need to install that too. If you're running this notebook in Google Colab, just run the cell below to install.\n"
   ]
  },
  {
   "cell_type": "code",
   "execution_count": 2,
   "metadata": {
    "id": "yuu3w2FgZM-U"
   },
   "outputs": [
    {
     "name": "stdout",
     "output_type": "stream",
     "text": [
      "Requirement already satisfied: pymatgen in /Users/zoa/opt/anaconda3/lib/python3.8/site-packages (from -r requirements.txt (line 1)) (2022.0.8)\n",
      "Requirement already satisfied: matminer in /Users/zoa/opt/anaconda3/lib/python3.8/site-packages (from -r requirements.txt (line 2)) (0.7.3)\n",
      "Requirement already satisfied: pandas in /Users/zoa/opt/anaconda3/lib/python3.8/site-packages (from -r requirements.txt (line 3)) (1.0.5)\n",
      "Requirement already satisfied: matplotlib in /Users/zoa/opt/anaconda3/lib/python3.8/site-packages (from -r requirements.txt (line 4)) (3.3.2)\n",
      "Requirement already satisfied: scikit-learn in /Users/zoa/opt/anaconda3/lib/python3.8/site-packages (from -r requirements.txt (line 5)) (0.24.2)\n",
      "Requirement already satisfied: numpy in /Users/zoa/opt/anaconda3/lib/python3.8/site-packages (from -r requirements.txt (line 6)) (1.19.5)\n",
      "Requirement already satisfied: foundry_ml in /Users/zoa/opt/anaconda3/lib/python3.8/site-packages (from -r requirements.txt (line 7)) (0.0.12)\n",
      "Requirement already satisfied: mdf_connect_client in /Users/zoa/opt/anaconda3/lib/python3.8/site-packages (from -r requirements.txt (line 8)) (0.3.8)\n",
      "Requirement already satisfied: funcx==0.0.5 in /Users/zoa/opt/anaconda3/lib/python3.8/site-packages (from -r requirements.txt (line 9)) (0.0.5)\n",
      "Requirement already satisfied: plotly>=4.5.0 in /Users/zoa/opt/anaconda3/lib/python3.8/site-packages (from pymatgen->-r requirements.txt (line 1)) (4.14.3)\n",
      "Requirement already satisfied: ruamel.yaml>=0.15.6 in /Users/zoa/opt/anaconda3/lib/python3.8/site-packages (from pymatgen->-r requirements.txt (line 1)) (0.17.9)\n",
      "Requirement already satisfied: palettable>=3.1.1 in /Users/zoa/opt/anaconda3/lib/python3.8/site-packages (from pymatgen->-r requirements.txt (line 1)) (3.3.0)\n",
      "Requirement already satisfied: networkx>=2.2 in /Users/zoa/opt/anaconda3/lib/python3.8/site-packages (from pymatgen->-r requirements.txt (line 1)) (2.4)\n",
      "Requirement already satisfied: scipy>=1.5.0 in /Users/zoa/opt/anaconda3/lib/python3.8/site-packages (from pymatgen->-r requirements.txt (line 1)) (1.5.0)\n",
      "Requirement already satisfied: spglib>=1.9.9.44 in /Users/zoa/opt/anaconda3/lib/python3.8/site-packages (from pymatgen->-r requirements.txt (line 1)) (1.16.1)\n",
      "Requirement already satisfied: sympy in /Users/zoa/opt/anaconda3/lib/python3.8/site-packages (from pymatgen->-r requirements.txt (line 1)) (1.6.1)\n",
      "Requirement already satisfied: uncertainties>=3.1.4 in /Users/zoa/opt/anaconda3/lib/python3.8/site-packages (from pymatgen->-r requirements.txt (line 1)) (3.1.5)\n",
      "Requirement already satisfied: requests in /Users/zoa/opt/anaconda3/lib/python3.8/site-packages (from pymatgen->-r requirements.txt (line 1)) (2.24.0)\n",
      "Requirement already satisfied: tabulate in /Users/zoa/opt/anaconda3/lib/python3.8/site-packages (from pymatgen->-r requirements.txt (line 1)) (0.8.9)\n",
      "Requirement already satisfied: monty>=3.0.2 in /Users/zoa/opt/anaconda3/lib/python3.8/site-packages (from pymatgen->-r requirements.txt (line 1)) (2021.6.10)\n",
      "Requirement already satisfied: future>=0.18.2 in /Users/zoa/opt/anaconda3/lib/python3.8/site-packages (from matminer->-r requirements.txt (line 2)) (0.18.2)\n",
      "Requirement already satisfied: pymongo>=3.11.4 in /Users/zoa/opt/anaconda3/lib/python3.8/site-packages (from matminer->-r requirements.txt (line 2)) (3.12.0)\n",
      "Requirement already satisfied: six>=1.16.0 in /Users/zoa/opt/anaconda3/lib/python3.8/site-packages (from matminer->-r requirements.txt (line 2)) (1.16.0)\n",
      "Requirement already satisfied: tqdm>=4.61.1 in /Users/zoa/opt/anaconda3/lib/python3.8/site-packages (from matminer->-r requirements.txt (line 2)) (4.61.2)\n",
      "Requirement already satisfied: jsonschema>=3.2.0 in /Users/zoa/opt/anaconda3/lib/python3.8/site-packages (from matminer->-r requirements.txt (line 2)) (3.2.0)\n",
      "Requirement already satisfied: pint>=0.17 in /Users/zoa/opt/anaconda3/lib/python3.8/site-packages (from matminer->-r requirements.txt (line 2)) (0.17)\n",
      "Requirement already satisfied: python-dateutil>=2.6.1 in /Users/zoa/opt/anaconda3/lib/python3.8/site-packages (from pandas->-r requirements.txt (line 3)) (2.8.1)\n",
      "Requirement already satisfied: pytz>=2017.2 in /Users/zoa/opt/anaconda3/lib/python3.8/site-packages (from pandas->-r requirements.txt (line 3)) (2020.1)\n",
      "Requirement already satisfied: cycler>=0.10 in /Users/zoa/opt/anaconda3/lib/python3.8/site-packages (from matplotlib->-r requirements.txt (line 4)) (0.10.0)\n",
      "Requirement already satisfied: certifi>=2020.06.20 in /Users/zoa/opt/anaconda3/lib/python3.8/site-packages (from matplotlib->-r requirements.txt (line 4)) (2020.6.20)\n",
      "Requirement already satisfied: kiwisolver>=1.0.1 in /Users/zoa/opt/anaconda3/lib/python3.8/site-packages (from matplotlib->-r requirements.txt (line 4)) (1.2.0)\n",
      "Requirement already satisfied: pillow>=6.2.0 in /Users/zoa/opt/anaconda3/lib/python3.8/site-packages (from matplotlib->-r requirements.txt (line 4)) (7.2.0)\n",
      "Requirement already satisfied: pyparsing!=2.0.4,!=2.1.2,!=2.1.6,>=2.0.3 in /Users/zoa/opt/anaconda3/lib/python3.8/site-packages (from matplotlib->-r requirements.txt (line 4)) (2.4.7)\n",
      "Requirement already satisfied: threadpoolctl>=2.0.0 in /Users/zoa/opt/anaconda3/lib/python3.8/site-packages (from scikit-learn->-r requirements.txt (line 5)) (2.1.0)\n",
      "Requirement already satisfied: joblib>=0.11 in /Users/zoa/opt/anaconda3/lib/python3.8/site-packages (from scikit-learn->-r requirements.txt (line 5)) (0.16.0)\n",
      "Requirement already satisfied: dlhub-sdk>=0.9.4 in /Users/zoa/opt/anaconda3/lib/python3.8/site-packages (from foundry_ml->-r requirements.txt (line 7)) (0.9.5)\n",
      "Requirement already satisfied: dlhub-client in /Users/zoa/opt/anaconda3/lib/python3.8/site-packages (from foundry_ml->-r requirements.txt (line 7)) (0.0.1)\n",
      "Requirement already satisfied: pydantic>=1.4 in /Users/zoa/opt/anaconda3/lib/python3.8/site-packages (from foundry_ml->-r requirements.txt (line 7)) (1.8.2)\n",
      "Requirement already satisfied: h5py>=3.2.1 in /Users/zoa/opt/anaconda3/lib/python3.8/site-packages (from foundry_ml->-r requirements.txt (line 7)) (3.3.0)\n",
      "Requirement already satisfied: json2table in /Users/zoa/opt/anaconda3/lib/python3.8/site-packages (from foundry_ml->-r requirements.txt (line 7)) (1.1.5)\n",
      "Requirement already satisfied: mdf-forge>=0.7.6 in /Users/zoa/opt/anaconda3/lib/python3.8/site-packages (from foundry_ml->-r requirements.txt (line 7)) (0.7.6)\n",
      "Requirement already satisfied: nameparser>=1.0.4 in /Users/zoa/opt/anaconda3/lib/python3.8/site-packages (from mdf_connect_client->-r requirements.txt (line 8)) (1.0.6)\n",
      "Requirement already satisfied: mdf-toolbox>=0.5.0 in /Users/zoa/opt/anaconda3/lib/python3.8/site-packages (from mdf_connect_client->-r requirements.txt (line 8)) (0.5.7)\n",
      "Requirement already satisfied: sphinx-rtd-theme in /Users/zoa/opt/anaconda3/lib/python3.8/site-packages (from funcx==0.0.5->-r requirements.txt (line 9)) (0.5.0)\n",
      "Requirement already satisfied: typer>=0.3.0 in /Users/zoa/opt/anaconda3/lib/python3.8/site-packages (from funcx==0.0.5->-r requirements.txt (line 9)) (0.3.2)\n",
      "Requirement already satisfied: configobj in /Users/zoa/.local/lib/python3.8/site-packages (from funcx==0.0.5->-r requirements.txt (line 9)) (5.0.6)\n",
      "Requirement already satisfied: dill>=0.3 in /Users/zoa/opt/anaconda3/lib/python3.8/site-packages (from funcx==0.0.5->-r requirements.txt (line 9)) (0.3.3)\n",
      "Requirement already satisfied: parsl==0.9.0 in /Users/zoa/opt/anaconda3/lib/python3.8/site-packages (from funcx==0.0.5->-r requirements.txt (line 9)) (0.9.0)\n",
      "Requirement already satisfied: texttable in /Users/zoa/opt/anaconda3/lib/python3.8/site-packages (from funcx==0.0.5->-r requirements.txt (line 9)) (1.6.3)\n",
      "Requirement already satisfied: nbsphinx in /Users/zoa/opt/anaconda3/lib/python3.8/site-packages (from funcx==0.0.5->-r requirements.txt (line 9)) (0.8.0)\n",
      "Requirement already satisfied: fair-research-login in /Users/zoa/opt/anaconda3/lib/python3.8/site-packages (from funcx==0.0.5->-r requirements.txt (line 9)) (0.1.5)\n",
      "Requirement already satisfied: python-daemon in /Users/zoa/opt/anaconda3/lib/python3.8/site-packages (from funcx==0.0.5->-r requirements.txt (line 9)) (2.2.4)\n",
      "Requirement already satisfied: retrying>=1.3.3 in /Users/zoa/opt/anaconda3/lib/python3.8/site-packages (from plotly>=4.5.0->pymatgen->-r requirements.txt (line 1)) (1.3.3)\n",
      "Requirement already satisfied: ruamel.yaml.clib>=0.1.2; platform_python_implementation == \"CPython\" and python_version < \"3.10\" in /Users/zoa/opt/anaconda3/lib/python3.8/site-packages (from ruamel.yaml>=0.15.6->pymatgen->-r requirements.txt (line 1)) (0.2.2)\n",
      "Requirement already satisfied: decorator>=4.3.0 in /Users/zoa/opt/anaconda3/lib/python3.8/site-packages (from networkx>=2.2->pymatgen->-r requirements.txt (line 1)) (4.4.2)\n",
      "Requirement already satisfied: mpmath>=0.19 in /Users/zoa/opt/anaconda3/lib/python3.8/site-packages (from sympy->pymatgen->-r requirements.txt (line 1)) (1.1.0)\n",
      "Requirement already satisfied: urllib3!=1.25.0,!=1.25.1,<1.26,>=1.21.1 in /Users/zoa/opt/anaconda3/lib/python3.8/site-packages (from requests->pymatgen->-r requirements.txt (line 1)) (1.25.9)\n",
      "Requirement already satisfied: chardet<4,>=3.0.2 in /Users/zoa/opt/anaconda3/lib/python3.8/site-packages (from requests->pymatgen->-r requirements.txt (line 1)) (3.0.4)\n",
      "Requirement already satisfied: idna<3,>=2.5 in /Users/zoa/opt/anaconda3/lib/python3.8/site-packages (from requests->pymatgen->-r requirements.txt (line 1)) (2.10)\n",
      "Requirement already satisfied: setuptools in /Users/zoa/opt/anaconda3/lib/python3.8/site-packages (from jsonschema>=3.2.0->matminer->-r requirements.txt (line 2)) (49.2.0.post20200714)\n",
      "Requirement already satisfied: attrs>=17.4.0 in /Users/zoa/opt/anaconda3/lib/python3.8/site-packages (from jsonschema>=3.2.0->matminer->-r requirements.txt (line 2)) (19.3.0)\n",
      "Requirement already satisfied: pyrsistent>=0.14.0 in /Users/zoa/opt/anaconda3/lib/python3.8/site-packages (from jsonschema>=3.2.0->matminer->-r requirements.txt (line 2)) (0.16.0)\n",
      "Requirement already satisfied: packaging in /Users/zoa/opt/anaconda3/lib/python3.8/site-packages (from pint>=0.17->matminer->-r requirements.txt (line 2)) (20.4)\n",
      "Requirement already satisfied: globus-sdk>=1.9.0 in /Users/zoa/opt/anaconda3/lib/python3.8/site-packages (from dlhub-sdk>=0.9.4->foundry_ml->-r requirements.txt (line 7)) (1.9.1)\n"
     ]
    },
    {
     "name": "stdout",
     "output_type": "stream",
     "text": [
      "Requirement already satisfied: ipywidgets in /Users/zoa/opt/anaconda3/lib/python3.8/site-packages (from dlhub-client->foundry_ml->-r requirements.txt (line 7)) (7.5.1)\n",
      "Requirement already satisfied: typing-extensions>=3.7.4.3 in /Users/zoa/opt/anaconda3/lib/python3.8/site-packages (from pydantic>=1.4->foundry_ml->-r requirements.txt (line 7)) (3.7.4.3)\n",
      "Requirement already satisfied: globus-nexus-client>=0.2.8 in /Users/zoa/opt/anaconda3/lib/python3.8/site-packages (from mdf-toolbox>=0.5.0->mdf_connect_client->-r requirements.txt (line 8)) (0.3.0)\n",
      "Requirement already satisfied: sphinx in /Users/zoa/opt/anaconda3/lib/python3.8/site-packages (from sphinx-rtd-theme->funcx==0.0.5->-r requirements.txt (line 9)) (3.1.2)\n",
      "Requirement already satisfied: click<7.2.0,>=7.1.1 in /Users/zoa/opt/anaconda3/lib/python3.8/site-packages (from typer>=0.3.0->funcx==0.0.5->-r requirements.txt (line 9)) (7.1.2)\n",
      "Requirement already satisfied: ipykernel in /Users/zoa/opt/anaconda3/lib/python3.8/site-packages (from parsl==0.9.0->funcx==0.0.5->-r requirements.txt (line 9)) (5.3.2)\n",
      "Requirement already satisfied: ipyparallel in /Users/zoa/opt/anaconda3/lib/python3.8/site-packages (from parsl==0.9.0->funcx==0.0.5->-r requirements.txt (line 9)) (6.3.0)\n",
      "Requirement already satisfied: typeguard in /Users/zoa/opt/anaconda3/lib/python3.8/site-packages (from parsl==0.9.0->funcx==0.0.5->-r requirements.txt (line 9)) (2.10.0)\n",
      "Requirement already satisfied: paramiko in /Users/zoa/opt/anaconda3/lib/python3.8/site-packages (from parsl==0.9.0->funcx==0.0.5->-r requirements.txt (line 9)) (2.7.2)\n",
      "Requirement already satisfied: pyzmq>=17.1.2 in /Users/zoa/opt/anaconda3/lib/python3.8/site-packages (from parsl==0.9.0->funcx==0.0.5->-r requirements.txt (line 9)) (19.0.1)\n",
      "Requirement already satisfied: psutil>=5.5.1 in /Users/zoa/opt/anaconda3/lib/python3.8/site-packages (from parsl==0.9.0->funcx==0.0.5->-r requirements.txt (line 9)) (5.7.0)\n",
      "Requirement already satisfied: tblib in /Users/zoa/opt/anaconda3/lib/python3.8/site-packages (from parsl==0.9.0->funcx==0.0.5->-r requirements.txt (line 9)) (1.6.0)\n",
      "Requirement already satisfied: nbconvert!=5.4 in /Users/zoa/opt/anaconda3/lib/python3.8/site-packages (from nbsphinx->funcx==0.0.5->-r requirements.txt (line 9)) (5.6.1)\n",
      "Requirement already satisfied: docutils in /Users/zoa/opt/anaconda3/lib/python3.8/site-packages (from nbsphinx->funcx==0.0.5->-r requirements.txt (line 9)) (0.16)\n",
      "Requirement already satisfied: nbformat in /Users/zoa/opt/anaconda3/lib/python3.8/site-packages (from nbsphinx->funcx==0.0.5->-r requirements.txt (line 9)) (5.0.7)\n",
      "Requirement already satisfied: jinja2 in /Users/zoa/opt/anaconda3/lib/python3.8/site-packages (from nbsphinx->funcx==0.0.5->-r requirements.txt (line 9)) (2.11.2)\n",
      "Requirement already satisfied: traitlets in /Users/zoa/opt/anaconda3/lib/python3.8/site-packages (from nbsphinx->funcx==0.0.5->-r requirements.txt (line 9)) (4.3.3)\n",
      "Requirement already satisfied: lockfile>=0.10 in /Users/zoa/opt/anaconda3/lib/python3.8/site-packages (from python-daemon->funcx==0.0.5->-r requirements.txt (line 9)) (0.12.2)\n",
      "Requirement already satisfied: pyjwt[crypto]<2.0.0,>=1.5.3 in /Users/zoa/opt/anaconda3/lib/python3.8/site-packages (from globus-sdk>=1.9.0->dlhub-sdk>=0.9.4->foundry_ml->-r requirements.txt (line 7)) (1.7.1)\n",
      "Requirement already satisfied: ipython>=4.0.0; python_version >= \"3.3\" in /Users/zoa/opt/anaconda3/lib/python3.8/site-packages (from ipywidgets->dlhub-client->foundry_ml->-r requirements.txt (line 7)) (7.16.1)\n",
      "Requirement already satisfied: widgetsnbextension~=3.5.0 in /Users/zoa/opt/anaconda3/lib/python3.8/site-packages (from ipywidgets->dlhub-client->foundry_ml->-r requirements.txt (line 7)) (3.5.1)\n",
      "Requirement already satisfied: sphinxcontrib-htmlhelp in /Users/zoa/opt/anaconda3/lib/python3.8/site-packages (from sphinx->sphinx-rtd-theme->funcx==0.0.5->-r requirements.txt (line 9)) (1.0.3)\n",
      "Requirement already satisfied: sphinxcontrib-jsmath in /Users/zoa/opt/anaconda3/lib/python3.8/site-packages (from sphinx->sphinx-rtd-theme->funcx==0.0.5->-r requirements.txt (line 9)) (1.0.1)\n",
      "Requirement already satisfied: sphinxcontrib-applehelp in /Users/zoa/opt/anaconda3/lib/python3.8/site-packages (from sphinx->sphinx-rtd-theme->funcx==0.0.5->-r requirements.txt (line 9)) (1.0.2)\n",
      "Requirement already satisfied: sphinxcontrib-serializinghtml in /Users/zoa/opt/anaconda3/lib/python3.8/site-packages (from sphinx->sphinx-rtd-theme->funcx==0.0.5->-r requirements.txt (line 9)) (1.1.4)\n",
      "Requirement already satisfied: babel>=1.3 in /Users/zoa/opt/anaconda3/lib/python3.8/site-packages (from sphinx->sphinx-rtd-theme->funcx==0.0.5->-r requirements.txt (line 9)) (2.8.0)\n",
      "Requirement already satisfied: alabaster<0.8,>=0.7 in /Users/zoa/opt/anaconda3/lib/python3.8/site-packages (from sphinx->sphinx-rtd-theme->funcx==0.0.5->-r requirements.txt (line 9)) (0.7.12)\n",
      "Requirement already satisfied: Pygments>=2.0 in /Users/zoa/opt/anaconda3/lib/python3.8/site-packages (from sphinx->sphinx-rtd-theme->funcx==0.0.5->-r requirements.txt (line 9)) (2.6.1)\n",
      "Requirement already satisfied: sphinxcontrib-devhelp in /Users/zoa/opt/anaconda3/lib/python3.8/site-packages (from sphinx->sphinx-rtd-theme->funcx==0.0.5->-r requirements.txt (line 9)) (1.0.2)\n",
      "Requirement already satisfied: snowballstemmer>=1.1 in /Users/zoa/opt/anaconda3/lib/python3.8/site-packages (from sphinx->sphinx-rtd-theme->funcx==0.0.5->-r requirements.txt (line 9)) (2.0.0)\n",
      "Requirement already satisfied: sphinxcontrib-qthelp in /Users/zoa/opt/anaconda3/lib/python3.8/site-packages (from sphinx->sphinx-rtd-theme->funcx==0.0.5->-r requirements.txt (line 9)) (1.0.3)\n",
      "Requirement already satisfied: imagesize in /Users/zoa/opt/anaconda3/lib/python3.8/site-packages (from sphinx->sphinx-rtd-theme->funcx==0.0.5->-r requirements.txt (line 9)) (1.2.0)\n",
      "Requirement already satisfied: appnope; platform_system == \"Darwin\" in /Users/zoa/opt/anaconda3/lib/python3.8/site-packages (from ipykernel->parsl==0.9.0->funcx==0.0.5->-r requirements.txt (line 9)) (0.1.0)\n",
      "Requirement already satisfied: tornado>=4.2 in /Users/zoa/opt/anaconda3/lib/python3.8/site-packages (from ipykernel->parsl==0.9.0->funcx==0.0.5->-r requirements.txt (line 9)) (6.0.4)\n",
      "Requirement already satisfied: jupyter-client in /Users/zoa/opt/anaconda3/lib/python3.8/site-packages (from ipykernel->parsl==0.9.0->funcx==0.0.5->-r requirements.txt (line 9)) (6.1.6)\n",
      "Requirement already satisfied: ipython-genutils in /Users/zoa/opt/anaconda3/lib/python3.8/site-packages (from ipyparallel->parsl==0.9.0->funcx==0.0.5->-r requirements.txt (line 9)) (0.2.0)\n",
      "Requirement already satisfied: bcrypt>=3.1.3 in /Users/zoa/opt/anaconda3/lib/python3.8/site-packages (from paramiko->parsl==0.9.0->funcx==0.0.5->-r requirements.txt (line 9)) (3.2.0)\n",
      "Requirement already satisfied: pynacl>=1.0.1 in /Users/zoa/opt/anaconda3/lib/python3.8/site-packages (from paramiko->parsl==0.9.0->funcx==0.0.5->-r requirements.txt (line 9)) (1.4.0)\n",
      "Requirement already satisfied: cryptography>=2.5 in /Users/zoa/opt/anaconda3/lib/python3.8/site-packages (from paramiko->parsl==0.9.0->funcx==0.0.5->-r requirements.txt (line 9)) (2.9.2)\n",
      "Requirement already satisfied: jupyter-core in /Users/zoa/opt/anaconda3/lib/python3.8/site-packages (from nbconvert!=5.4->nbsphinx->funcx==0.0.5->-r requirements.txt (line 9)) (4.6.3)\n",
      "Requirement already satisfied: pandocfilters>=1.4.1 in /Users/zoa/opt/anaconda3/lib/python3.8/site-packages (from nbconvert!=5.4->nbsphinx->funcx==0.0.5->-r requirements.txt (line 9)) (1.4.2)\n",
      "Requirement already satisfied: testpath in /Users/zoa/opt/anaconda3/lib/python3.8/site-packages (from nbconvert!=5.4->nbsphinx->funcx==0.0.5->-r requirements.txt (line 9)) (0.4.4)\n",
      "Requirement already satisfied: defusedxml in /Users/zoa/opt/anaconda3/lib/python3.8/site-packages (from nbconvert!=5.4->nbsphinx->funcx==0.0.5->-r requirements.txt (line 9)) (0.6.0)\n",
      "Requirement already satisfied: entrypoints>=0.2.2 in /Users/zoa/opt/anaconda3/lib/python3.8/site-packages (from nbconvert!=5.4->nbsphinx->funcx==0.0.5->-r requirements.txt (line 9)) (0.3)\n",
      "Requirement already satisfied: bleach in /Users/zoa/opt/anaconda3/lib/python3.8/site-packages (from nbconvert!=5.4->nbsphinx->funcx==0.0.5->-r requirements.txt (line 9)) (3.1.5)\n",
      "Requirement already satisfied: mistune<2,>=0.8.1 in /Users/zoa/opt/anaconda3/lib/python3.8/site-packages (from nbconvert!=5.4->nbsphinx->funcx==0.0.5->-r requirements.txt (line 9)) (0.8.4)\n",
      "Requirement already satisfied: MarkupSafe>=0.23 in /Users/zoa/opt/anaconda3/lib/python3.8/site-packages (from jinja2->nbsphinx->funcx==0.0.5->-r requirements.txt (line 9)) (1.1.1)\n",
      "Requirement already satisfied: prompt-toolkit!=3.0.0,!=3.0.1,<3.1.0,>=2.0.0 in /Users/zoa/opt/anaconda3/lib/python3.8/site-packages (from ipython>=4.0.0; python_version >= \"3.3\"->ipywidgets->dlhub-client->foundry_ml->-r requirements.txt (line 7)) (3.0.5)\n",
      "Requirement already satisfied: jedi>=0.10 in /Users/zoa/opt/anaconda3/lib/python3.8/site-packages (from ipython>=4.0.0; python_version >= \"3.3\"->ipywidgets->dlhub-client->foundry_ml->-r requirements.txt (line 7)) (0.17.1)\n",
      "Requirement already satisfied: pexpect; sys_platform != \"win32\" in /Users/zoa/opt/anaconda3/lib/python3.8/site-packages (from ipython>=4.0.0; python_version >= \"3.3\"->ipywidgets->dlhub-client->foundry_ml->-r requirements.txt (line 7)) (4.8.0)\n",
      "Requirement already satisfied: pickleshare in /Users/zoa/opt/anaconda3/lib/python3.8/site-packages (from ipython>=4.0.0; python_version >= \"3.3\"->ipywidgets->dlhub-client->foundry_ml->-r requirements.txt (line 7)) (0.7.5)\n",
      "Requirement already satisfied: backcall in /Users/zoa/opt/anaconda3/lib/python3.8/site-packages (from ipython>=4.0.0; python_version >= \"3.3\"->ipywidgets->dlhub-client->foundry_ml->-r requirements.txt (line 7)) (0.2.0)\n",
      "Requirement already satisfied: notebook>=4.4.1 in /Users/zoa/opt/anaconda3/lib/python3.8/site-packages (from widgetsnbextension~=3.5.0->ipywidgets->dlhub-client->foundry_ml->-r requirements.txt (line 7)) (6.0.3)\n"
     ]
    },
    {
     "name": "stdout",
     "output_type": "stream",
     "text": [
      "Requirement already satisfied: cffi>=1.1 in /Users/zoa/opt/anaconda3/lib/python3.8/site-packages (from bcrypt>=3.1.3->paramiko->parsl==0.9.0->funcx==0.0.5->-r requirements.txt (line 9)) (1.14.0)\r\n",
      "Requirement already satisfied: webencodings in /Users/zoa/opt/anaconda3/lib/python3.8/site-packages (from bleach->nbconvert!=5.4->nbsphinx->funcx==0.0.5->-r requirements.txt (line 9)) (0.5.1)\r\n",
      "Requirement already satisfied: wcwidth in /Users/zoa/opt/anaconda3/lib/python3.8/site-packages (from prompt-toolkit!=3.0.0,!=3.0.1,<3.1.0,>=2.0.0->ipython>=4.0.0; python_version >= \"3.3\"->ipywidgets->dlhub-client->foundry_ml->-r requirements.txt (line 7)) (0.2.5)\r\n",
      "Requirement already satisfied: parso<0.8.0,>=0.7.0 in /Users/zoa/opt/anaconda3/lib/python3.8/site-packages (from jedi>=0.10->ipython>=4.0.0; python_version >= \"3.3\"->ipywidgets->dlhub-client->foundry_ml->-r requirements.txt (line 7)) (0.7.0)\r\n",
      "Requirement already satisfied: ptyprocess>=0.5 in /Users/zoa/opt/anaconda3/lib/python3.8/site-packages (from pexpect; sys_platform != \"win32\"->ipython>=4.0.0; python_version >= \"3.3\"->ipywidgets->dlhub-client->foundry_ml->-r requirements.txt (line 7)) (0.6.0)\r\n",
      "Requirement already satisfied: terminado>=0.8.1 in /Users/zoa/opt/anaconda3/lib/python3.8/site-packages (from notebook>=4.4.1->widgetsnbextension~=3.5.0->ipywidgets->dlhub-client->foundry_ml->-r requirements.txt (line 7)) (0.8.3)\r\n",
      "Requirement already satisfied: prometheus-client in /Users/zoa/opt/anaconda3/lib/python3.8/site-packages (from notebook>=4.4.1->widgetsnbextension~=3.5.0->ipywidgets->dlhub-client->foundry_ml->-r requirements.txt (line 7)) (0.8.0)\r\n",
      "Requirement already satisfied: Send2Trash in /Users/zoa/opt/anaconda3/lib/python3.8/site-packages (from notebook>=4.4.1->widgetsnbextension~=3.5.0->ipywidgets->dlhub-client->foundry_ml->-r requirements.txt (line 7)) (1.5.0)\r\n",
      "Requirement already satisfied: pycparser in /Users/zoa/opt/anaconda3/lib/python3.8/site-packages (from cffi>=1.1->bcrypt>=3.1.3->paramiko->parsl==0.9.0->funcx==0.0.5->-r requirements.txt (line 9)) (2.20)\r\n"
     ]
    }
   ],
   "source": [
    "!pip install -r requirements.txt"
   ]
  },
  {
   "cell_type": "markdown",
   "metadata": {
    "id": "XoQ7aGbyDl9T"
   },
   "source": [
    "We need to import a few packages. We'll be using [Matplotlib](https://matplotlib.org/) to make visualizations of our data, [scikit-learn](https://scikit-learn.org/stable/) to create our model, and [pandas](https://pandas.pydata.org/) and [NumPy ](https://numpy.org/)to work with our data."
   ]
  },
  {
   "cell_type": "code",
   "execution_count": 3,
   "metadata": {
    "id": "dZpA3t1_zi4B"
   },
   "outputs": [
    {
     "ename": "ValueError",
     "evalue": "numpy.ndarray size changed, may indicate binary incompatibility. Expected 88 from C header, got 80 from PyObject",
     "output_type": "error",
     "traceback": [
      "\u001b[0;31m---------------------------------------------------------------------------\u001b[0m",
      "\u001b[0;31mValueError\u001b[0m                                Traceback (most recent call last)",
      "\u001b[0;32m<ipython-input-3-0d7425de2f36>\u001b[0m in \u001b[0;36m<module>\u001b[0;34m\u001b[0m\n\u001b[1;32m      7\u001b[0m \u001b[0;32mimport\u001b[0m \u001b[0mwarnings\u001b[0m\u001b[0;34m\u001b[0m\u001b[0;34m\u001b[0m\u001b[0m\n\u001b[1;32m      8\u001b[0m \u001b[0;32mimport\u001b[0m \u001b[0mglob\u001b[0m\u001b[0;34m\u001b[0m\u001b[0;34m\u001b[0m\u001b[0m\n\u001b[0;32m----> 9\u001b[0;31m \u001b[0;32mfrom\u001b[0m \u001b[0mmatminer\u001b[0m\u001b[0;34m.\u001b[0m\u001b[0mfeaturizers\u001b[0m\u001b[0;34m.\u001b[0m\u001b[0mconversions\u001b[0m \u001b[0;32mimport\u001b[0m \u001b[0mStrToComposition\u001b[0m\u001b[0;34m\u001b[0m\u001b[0;34m\u001b[0m\u001b[0m\n\u001b[0m\u001b[1;32m     10\u001b[0m \u001b[0;32mfrom\u001b[0m \u001b[0mmatminer\u001b[0m\u001b[0;34m.\u001b[0m\u001b[0mfeaturizers\u001b[0m\u001b[0;34m.\u001b[0m\u001b[0mbase\u001b[0m \u001b[0;32mimport\u001b[0m \u001b[0mMultipleFeaturizer\u001b[0m\u001b[0;34m\u001b[0m\u001b[0;34m\u001b[0m\u001b[0m\n\u001b[1;32m     11\u001b[0m \u001b[0;32mfrom\u001b[0m \u001b[0mmatminer\u001b[0m\u001b[0;34m.\u001b[0m\u001b[0mfeaturizers\u001b[0m \u001b[0;32mimport\u001b[0m \u001b[0mcomposition\u001b[0m \u001b[0;32mas\u001b[0m \u001b[0mcf\u001b[0m\u001b[0;34m\u001b[0m\u001b[0;34m\u001b[0m\u001b[0m\n",
      "\u001b[0;32m~/opt/anaconda3/lib/python3.8/site-packages/matminer/featurizers/conversions.py\u001b[0m in \u001b[0;36m<module>\u001b[0;34m\u001b[0m\n\u001b[1;32m     12\u001b[0m \u001b[0;32mfrom\u001b[0m \u001b[0mmonty\u001b[0m\u001b[0;34m.\u001b[0m\u001b[0mjson\u001b[0m \u001b[0;32mimport\u001b[0m \u001b[0mMontyDecoder\u001b[0m\u001b[0;34m\u001b[0m\u001b[0;34m\u001b[0m\u001b[0m\n\u001b[1;32m     13\u001b[0m \u001b[0;34m\u001b[0m\u001b[0m\n\u001b[0;32m---> 14\u001b[0;31m \u001b[0;32mfrom\u001b[0m \u001b[0mpymatgen\u001b[0m\u001b[0;34m.\u001b[0m\u001b[0mext\u001b[0m\u001b[0;34m.\u001b[0m\u001b[0mmatproj\u001b[0m \u001b[0;32mimport\u001b[0m \u001b[0mMPRester\u001b[0m\u001b[0;34m\u001b[0m\u001b[0;34m\u001b[0m\u001b[0m\n\u001b[0m\u001b[1;32m     15\u001b[0m \u001b[0;32mfrom\u001b[0m \u001b[0mpymatgen\u001b[0m\u001b[0;34m.\u001b[0m\u001b[0mcore\u001b[0m\u001b[0;34m.\u001b[0m\u001b[0mstructure\u001b[0m \u001b[0;32mimport\u001b[0m \u001b[0mIStructure\u001b[0m\u001b[0;34m\u001b[0m\u001b[0;34m\u001b[0m\u001b[0m\n\u001b[1;32m     16\u001b[0m \u001b[0;32mfrom\u001b[0m \u001b[0mpymatgen\u001b[0m\u001b[0;34m.\u001b[0m\u001b[0mcore\u001b[0m\u001b[0;34m.\u001b[0m\u001b[0mcomposition\u001b[0m \u001b[0;32mimport\u001b[0m \u001b[0mComposition\u001b[0m\u001b[0;34m\u001b[0m\u001b[0;34m\u001b[0m\u001b[0m\n",
      "\u001b[0;32m~/opt/anaconda3/lib/python3.8/site-packages/pymatgen/ext/matproj.py\u001b[0m in \u001b[0;36m<module>\u001b[0;34m\u001b[0m\n\u001b[1;32m     35\u001b[0m \u001b[0;32mfrom\u001b[0m \u001b[0mmonty\u001b[0m\u001b[0;34m.\u001b[0m\u001b[0mserialization\u001b[0m \u001b[0;32mimport\u001b[0m \u001b[0mdumpfn\u001b[0m\u001b[0;34m\u001b[0m\u001b[0;34m\u001b[0m\u001b[0m\n\u001b[1;32m     36\u001b[0m \u001b[0;34m\u001b[0m\u001b[0m\n\u001b[0;32m---> 37\u001b[0;31m \u001b[0;32mfrom\u001b[0m \u001b[0mpymatgen\u001b[0m\u001b[0;34m.\u001b[0m\u001b[0mcore\u001b[0m \u001b[0;32mimport\u001b[0m \u001b[0mSETTINGS\u001b[0m\u001b[0;34m,\u001b[0m \u001b[0mSETTINGS_FILE\u001b[0m\u001b[0;34m\u001b[0m\u001b[0;34m\u001b[0m\u001b[0m\n\u001b[0m\u001b[1;32m     38\u001b[0m \u001b[0;32mfrom\u001b[0m \u001b[0mpymatgen\u001b[0m\u001b[0;34m.\u001b[0m\u001b[0mcore\u001b[0m\u001b[0;34m.\u001b[0m\u001b[0mcomposition\u001b[0m \u001b[0;32mimport\u001b[0m \u001b[0mComposition\u001b[0m\u001b[0;34m\u001b[0m\u001b[0;34m\u001b[0m\u001b[0m\n\u001b[1;32m     39\u001b[0m \u001b[0;32mfrom\u001b[0m \u001b[0mpymatgen\u001b[0m\u001b[0;34m.\u001b[0m\u001b[0mcore\u001b[0m\u001b[0;34m.\u001b[0m\u001b[0mperiodic_table\u001b[0m \u001b[0;32mimport\u001b[0m \u001b[0mElement\u001b[0m\u001b[0;34m\u001b[0m\u001b[0;34m\u001b[0m\u001b[0m\n",
      "\u001b[0;32m~/opt/anaconda3/lib/python3.8/site-packages/pymatgen/core/__init__.py\u001b[0m in \u001b[0;36m<module>\u001b[0;34m\u001b[0m\n\u001b[1;32m     19\u001b[0m \u001b[0;34m\u001b[0m\u001b[0m\n\u001b[1;32m     20\u001b[0m \u001b[0;32mfrom\u001b[0m \u001b[0;34m.\u001b[0m\u001b[0mcomposition\u001b[0m \u001b[0;32mimport\u001b[0m \u001b[0mComposition\u001b[0m  \u001b[0;31m# noqa\u001b[0m\u001b[0;34m\u001b[0m\u001b[0;34m\u001b[0m\u001b[0m\n\u001b[0;32m---> 21\u001b[0;31m \u001b[0;32mfrom\u001b[0m \u001b[0;34m.\u001b[0m\u001b[0mlattice\u001b[0m \u001b[0;32mimport\u001b[0m \u001b[0mLattice\u001b[0m  \u001b[0;31m# noqa\u001b[0m\u001b[0;34m\u001b[0m\u001b[0;34m\u001b[0m\u001b[0m\n\u001b[0m\u001b[1;32m     22\u001b[0m \u001b[0;32mfrom\u001b[0m \u001b[0;34m.\u001b[0m\u001b[0moperations\u001b[0m \u001b[0;32mimport\u001b[0m \u001b[0mSymmOp\u001b[0m  \u001b[0;31m# noqa\u001b[0m\u001b[0;34m\u001b[0m\u001b[0;34m\u001b[0m\u001b[0m\n\u001b[1;32m     23\u001b[0m \u001b[0;32mfrom\u001b[0m \u001b[0;34m.\u001b[0m\u001b[0mperiodic_table\u001b[0m \u001b[0;32mimport\u001b[0m \u001b[0mDummySpecies\u001b[0m\u001b[0;34m,\u001b[0m \u001b[0mElement\u001b[0m\u001b[0;34m,\u001b[0m \u001b[0mSpecies\u001b[0m  \u001b[0;31m# noqa\u001b[0m\u001b[0;34m\u001b[0m\u001b[0;34m\u001b[0m\u001b[0m\n",
      "\u001b[0;32m~/opt/anaconda3/lib/python3.8/site-packages/pymatgen/core/lattice.py\u001b[0m in \u001b[0;36m<module>\u001b[0;34m\u001b[0m\n\u001b[1;32m     21\u001b[0m \u001b[0;32mfrom\u001b[0m \u001b[0mnumpy\u001b[0m\u001b[0;34m.\u001b[0m\u001b[0mlinalg\u001b[0m \u001b[0;32mimport\u001b[0m \u001b[0minv\u001b[0m\u001b[0;34m\u001b[0m\u001b[0;34m\u001b[0m\u001b[0m\n\u001b[1;32m     22\u001b[0m \u001b[0;34m\u001b[0m\u001b[0m\n\u001b[0;32m---> 23\u001b[0;31m \u001b[0;32mfrom\u001b[0m \u001b[0mpymatgen\u001b[0m\u001b[0;34m.\u001b[0m\u001b[0mutil\u001b[0m\u001b[0;34m.\u001b[0m\u001b[0mcoord\u001b[0m \u001b[0;32mimport\u001b[0m \u001b[0mpbc_shortest_vectors\u001b[0m\u001b[0;34m\u001b[0m\u001b[0;34m\u001b[0m\u001b[0m\n\u001b[0m\u001b[1;32m     24\u001b[0m \u001b[0;32mfrom\u001b[0m \u001b[0mpymatgen\u001b[0m\u001b[0;34m.\u001b[0m\u001b[0mutil\u001b[0m\u001b[0;34m.\u001b[0m\u001b[0mnum\u001b[0m \u001b[0;32mimport\u001b[0m \u001b[0mabs_cap\u001b[0m\u001b[0;34m\u001b[0m\u001b[0;34m\u001b[0m\u001b[0m\n\u001b[1;32m     25\u001b[0m \u001b[0;32mfrom\u001b[0m \u001b[0mpymatgen\u001b[0m\u001b[0;34m.\u001b[0m\u001b[0mutil\u001b[0m\u001b[0;34m.\u001b[0m\u001b[0mtyping\u001b[0m \u001b[0;32mimport\u001b[0m \u001b[0mArrayLike\u001b[0m\u001b[0;34m\u001b[0m\u001b[0;34m\u001b[0m\u001b[0m\n",
      "\u001b[0;32m~/opt/anaconda3/lib/python3.8/site-packages/pymatgen/util/coord.py\u001b[0m in \u001b[0;36m<module>\u001b[0;34m\u001b[0m\n\u001b[1;32m     15\u001b[0m \u001b[0;32mimport\u001b[0m \u001b[0mnumpy\u001b[0m \u001b[0;32mas\u001b[0m \u001b[0mnp\u001b[0m\u001b[0;34m\u001b[0m\u001b[0;34m\u001b[0m\u001b[0m\n\u001b[1;32m     16\u001b[0m \u001b[0;34m\u001b[0m\u001b[0m\n\u001b[0;32m---> 17\u001b[0;31m \u001b[0;32mfrom\u001b[0m \u001b[0;34m.\u001b[0m \u001b[0;32mimport\u001b[0m \u001b[0mcoord_cython\u001b[0m \u001b[0;32mas\u001b[0m \u001b[0mcuc\u001b[0m\u001b[0;34m\u001b[0m\u001b[0;34m\u001b[0m\u001b[0m\n\u001b[0m\u001b[1;32m     18\u001b[0m \u001b[0;34m\u001b[0m\u001b[0m\n\u001b[1;32m     19\u001b[0m \u001b[0;31m# array size threshold for looping instead of broadcasting\u001b[0m\u001b[0;34m\u001b[0m\u001b[0;34m\u001b[0m\u001b[0;34m\u001b[0m\u001b[0m\n",
      "\u001b[0;32mpymatgen/util/coord_cython.pyx\u001b[0m in \u001b[0;36minit pymatgen.util.coord_cython\u001b[0;34m()\u001b[0m\n",
      "\u001b[0;31mValueError\u001b[0m: numpy.ndarray size changed, may indicate binary incompatibility. Expected 88 from C header, got 80 from PyObject"
     ]
    }
   ],
   "source": [
    "%matplotlib inline\n",
    "\n",
    "from matplotlib.colors import LogNorm\n",
    "from matplotlib import pyplot as plt\n",
    "import pandas as pd\n",
    "import numpy as np\n",
    "import warnings\n",
    "import glob\n",
    "from matminer.featurizers.conversions import StrToComposition\n",
    "from matminer.featurizers.base import MultipleFeaturizer\n",
    "from matminer.featurizers import composition as cf\n",
    "from sklearn.model_selection import cross_val_score, cross_val_predict, GridSearchCV, ShuffleSplit, KFold\n",
    "from sklearn.ensemble import RandomForestRegressor\n",
    "from sklearn import metrics\n",
    "\n",
    "\n",
    "warnings.filterwarnings('ignore')"
   ]
  },
  {
   "cell_type": "markdown",
   "metadata": {
    "id": "WmO4-_tcZM-V"
   },
   "source": [
    "# Instantiate and Authenticate Foundry\n",
    "Once the installations are complete, we can import Foundry."
   ]
  },
  {
   "cell_type": "code",
   "execution_count": 4,
   "metadata": {
    "id": "Fpnj3s6be0XQ"
   },
   "outputs": [],
   "source": [
    "from foundry import Foundry"
   ]
  },
  {
   "cell_type": "markdown",
   "metadata": {
    "id": "I8Aty7_Vetxp"
   },
   "source": [
    "We'll also need to instantiate it. To do so, you'll need a [Globus](https://www.globus.org) account. Once you have your account, you can instantiate Foundry using the code below. When you instantiate Foundry locally, be sure to have your Globus endpoint turned on (you can do that with [Globus Connect Personal](https://www.globus.org/globus-connect-personal)). When you instantiate Foundry on Google Colab, you'll be given a link in the cell's output and asked to enter the provided auth code."
   ]
  },
  {
   "cell_type": "code",
   "execution_count": 7,
   "metadata": {
    "id": "Di-9CIOUZM-V"
   },
   "outputs": [
    {
     "data": {
      "text/plain": [
       "<bound method Foundry.list of Foundry(dc={}, mdf={}, dataset={}, config=FoundryConfig(dataframe_file='foundry_dataframe.json', data_file='foundry.hdf5', metadata_file='foundry_metadata.json', destination_endpoint=None, local=False, metadata_key='foundry', organization='foundry', local_cache_dir='./data'), dlhub_client=<dlhub_sdk.client.DLHubClient object at 0x7fe4eb9117f0>, forge_client=<mdf_forge.forge.Forge object at 0x7fe4db75f7f0>, connect_client=<mdf_connect_client.mdfcc.MDFConnectClient object at 0x7fe4eb911430>, xtract_tokens={'auth_token': 'AgwJBgv5q8yv8logGVxnBOQgyzkz40KYqkvNE2OOgBB2BYDKExilCNqVlX9G4Q0xQG41Qy2v2WDmPes27OE7DHoq2n', 'transfer_token': 'Agn2Dgngge62YYK6mzMzzKW8rMYMgD3k59n0g044p8KM6VlW5aH9CP8vle5vdJg7l1bWk9zkrNe93Vf0GwOG2TyNmq', 'funcx_token': 'Ag5N2BavMxMqDK0jldGnrWnjkpJr0xjnBvXn2Va7rlJ6pnKBeetnCw13xKJvwkBKN8zxljN3jGzMWYhKMaEMKU7J82'})>"
      ]
     },
     "execution_count": 7,
     "metadata": {},
     "output_type": "execute_result"
    }
   ],
   "source": [
    "f = Foundry(no_local_server=no_local_server, no_browser=no_browser)"
   ]
  },
  {
   "cell_type": "markdown",
   "metadata": {
    "id": "YYxzFXa2ZM-V"
   },
   "source": [
    "# Loading the Band Gap Data\n",
    "Now that we've installed and imported everything we'll need, it's time to load the data. We'll be loading 2 datasets from Foundry using `f.load` to load the data and then `f.load_data` to load the data into the client. Then we'll concatenate them using pandas."
   ]
  },
  {
   "cell_type": "code",
   "execution_count": 10,
   "metadata": {
    "id": "IMlyJyaTZM-V"
   },
   "outputs": [
    {
     "ename": "IndexError",
     "evalue": "list index out of range",
     "output_type": "error",
     "traceback": [
      "\u001b[0;31m---------------------------------------------------------------------------\u001b[0m",
      "\u001b[0;31mIndexError\u001b[0m                                Traceback (most recent call last)",
      "\u001b[0;32m<ipython-input-10-176b65a72b8d>\u001b[0m in \u001b[0;36m<module>\u001b[0;34m\u001b[0m\n\u001b[0;32m----> 1\u001b[0;31m \u001b[0mf\u001b[0m \u001b[0;34m=\u001b[0m \u001b[0mf\u001b[0m\u001b[0;34m.\u001b[0m\u001b[0mload\u001b[0m\u001b[0;34m(\u001b[0m\u001b[0;34m\"test_double_perovskites_gap_v5.1\"\u001b[0m\u001b[0;34m,\u001b[0m \u001b[0mglobus\u001b[0m\u001b[0;34m=\u001b[0m\u001b[0mglobus\u001b[0m\u001b[0;34m)\u001b[0m\u001b[0;34m\u001b[0m\u001b[0;34m\u001b[0m\u001b[0m\n\u001b[0m\u001b[1;32m      2\u001b[0m \u001b[0;34m\u001b[0m\u001b[0m\n\u001b[1;32m      3\u001b[0m \u001b[0mX_mp\u001b[0m\u001b[0;34m,\u001b[0m\u001b[0my_mp\u001b[0m \u001b[0;34m=\u001b[0m \u001b[0mf\u001b[0m\u001b[0;34m.\u001b[0m\u001b[0mload_data\u001b[0m\u001b[0;34m(\u001b[0m\u001b[0;34m)\u001b[0m\u001b[0;34m\u001b[0m\u001b[0;34m\u001b[0m\u001b[0m\n",
      "\u001b[0;32m~/opt/anaconda3/lib/python3.8/site-packages/foundry/foundry.py\u001b[0m in \u001b[0;36mload\u001b[0;34m(self, name, download, globus, verbose, metadata, **kwargs)\u001b[0m\n\u001b[1;32m    124\u001b[0m \u001b[0;34m\u001b[0m\u001b[0m\n\u001b[1;32m    125\u001b[0m         \u001b[0;31m# TODO: if object empty, handle\u001b[0m\u001b[0;34m\u001b[0m\u001b[0;34m\u001b[0m\u001b[0;34m\u001b[0m\u001b[0m\n\u001b[0;32m--> 126\u001b[0;31m         \u001b[0mres\u001b[0m \u001b[0;34m=\u001b[0m \u001b[0mres\u001b[0m\u001b[0;34m[\u001b[0m\u001b[0;36m0\u001b[0m\u001b[0;34m]\u001b[0m\u001b[0;34m\u001b[0m\u001b[0;34m\u001b[0m\u001b[0m\n\u001b[0m\u001b[1;32m    127\u001b[0m         \u001b[0mres\u001b[0m\u001b[0;34m[\u001b[0m\u001b[0;34m\"dataset\"\u001b[0m\u001b[0;34m]\u001b[0m \u001b[0;34m=\u001b[0m \u001b[0mres\u001b[0m\u001b[0;34m[\u001b[0m\u001b[0;34m\"projects\"\u001b[0m\u001b[0;34m]\u001b[0m\u001b[0;34m[\u001b[0m\u001b[0mself\u001b[0m\u001b[0;34m.\u001b[0m\u001b[0mconfig\u001b[0m\u001b[0;34m.\u001b[0m\u001b[0mmetadata_key\u001b[0m\u001b[0;34m]\u001b[0m\u001b[0;34m\u001b[0m\u001b[0;34m\u001b[0m\u001b[0m\n\u001b[1;32m    128\u001b[0m         \u001b[0mres\u001b[0m\u001b[0;34m[\u001b[0m\u001b[0;34m\"dataset\"\u001b[0m\u001b[0;34m]\u001b[0m\u001b[0;34m[\u001b[0m\u001b[0;34m\"type\"\u001b[0m\u001b[0;34m]\u001b[0m \u001b[0;34m=\u001b[0m \u001b[0mres\u001b[0m\u001b[0;34m[\u001b[0m\u001b[0;34m\"dataset\"\u001b[0m\u001b[0;34m]\u001b[0m\u001b[0;34m[\u001b[0m\u001b[0;34m\"data_type\"\u001b[0m\u001b[0;34m]\u001b[0m\u001b[0;34m\u001b[0m\u001b[0;34m\u001b[0m\u001b[0m\n",
      "\u001b[0;31mIndexError\u001b[0m: list index out of range"
     ]
    }
   ],
   "source": [
    "f = f.load(\"test_double_perovskites_gap_v5.1\", globus=globus)\n",
    "\n",
    "X_mp,y_mp = f.load_data()"
   ]
  },
  {
   "cell_type": "code",
   "execution_count": null,
   "metadata": {
    "id": "5OqI01yZZM-W"
   },
   "outputs": [],
   "source": [
    "f = f.load(\"_test_foundry_mp_bandgap_v1.1\", globus=globus)\n",
    "\n",
    "X_assorted,y_assorted = f.load_data()"
   ]
  },
  {
   "cell_type": "code",
   "execution_count": null,
   "metadata": {
    "id": "a7I07XwOZM-W"
   },
   "outputs": [],
   "source": [
    "X, y = pd.concat([X_oqmd, X_mp, X_assorted]), pd.concat([y_oqmd, y_mp, y_assorted])"
   ]
  },
  {
   "cell_type": "markdown",
   "metadata": {
    "id": "A4GHtDdvE4kG"
   },
   "source": [
    "Let's see the data!"
   ]
  },
  {
   "cell_type": "code",
   "execution_count": null,
   "metadata": {
    "id": "N5qlR4OuZM-W",
    "outputId": "61ee4788-31bb-4316-971b-41e67bf52588"
   },
   "outputs": [
    {
     "data": {
      "text/html": [
       "<div>\n",
       "<style scoped>\n",
       "    .dataframe tbody tr th:only-of-type {\n",
       "        vertical-align: middle;\n",
       "    }\n",
       "\n",
       "    .dataframe tbody tr th {\n",
       "        vertical-align: top;\n",
       "    }\n",
       "\n",
       "    .dataframe thead th {\n",
       "        text-align: right;\n",
       "    }\n",
       "</style>\n",
       "<table border=\"1\" class=\"dataframe\">\n",
       "  <thead>\n",
       "    <tr style=\"text-align: right;\">\n",
       "      <th></th>\n",
       "      <th>reference</th>\n",
       "      <th>icsd_id</th>\n",
       "      <th>structure</th>\n",
       "      <th>composition</th>\n",
       "      <th>comments</th>\n",
       "      <th>BG type</th>\n",
       "      <th>comp method</th>\n",
       "      <th>space group</th>\n",
       "    </tr>\n",
       "  </thead>\n",
       "  <tbody>\n",
       "    <tr>\n",
       "      <th>0</th>\n",
       "      <td>OQMD</td>\n",
       "      <td>NaN</td>\n",
       "      <td>{'@module': 'pymatgen.core.structure', '@class...</td>\n",
       "      <td>ScCoCuSb</td>\n",
       "      <td>OQMD PBE</td>\n",
       "      <td></td>\n",
       "      <td>C-PBE</td>\n",
       "      <td>F-43m</td>\n",
       "    </tr>\n",
       "    <tr>\n",
       "      <th>1</th>\n",
       "      <td>OQMD</td>\n",
       "      <td>NaN</td>\n",
       "      <td>{'@module': 'pymatgen.core.structure', '@class...</td>\n",
       "      <td>ScCoCuSb</td>\n",
       "      <td>OQMD PBE</td>\n",
       "      <td></td>\n",
       "      <td>C-PBE</td>\n",
       "      <td>F-43m</td>\n",
       "    </tr>\n",
       "    <tr>\n",
       "      <th>2</th>\n",
       "      <td>OQMD</td>\n",
       "      <td>NaN</td>\n",
       "      <td>{'@module': 'pymatgen.core.structure', '@class...</td>\n",
       "      <td>GaCoCuSb</td>\n",
       "      <td>OQMD PBE</td>\n",
       "      <td></td>\n",
       "      <td>C-PBE</td>\n",
       "      <td>F-43m</td>\n",
       "    </tr>\n",
       "    <tr>\n",
       "      <th>3</th>\n",
       "      <td>OQMD</td>\n",
       "      <td>NaN</td>\n",
       "      <td>{'@module': 'pymatgen.core.structure', '@class...</td>\n",
       "      <td>GaCoCuSb</td>\n",
       "      <td>OQMD PBE</td>\n",
       "      <td></td>\n",
       "      <td>C-PBE</td>\n",
       "      <td>F-43m</td>\n",
       "    </tr>\n",
       "    <tr>\n",
       "      <th>4</th>\n",
       "      <td>OQMD</td>\n",
       "      <td>NaN</td>\n",
       "      <td>{'@module': 'pymatgen.core.structure', '@class...</td>\n",
       "      <td>GaCoCuSb</td>\n",
       "      <td>OQMD PBE</td>\n",
       "      <td></td>\n",
       "      <td>C-PBE</td>\n",
       "      <td>F-43m</td>\n",
       "    </tr>\n",
       "  </tbody>\n",
       "</table>\n",
       "</div>"
      ],
      "text/plain": [
       "  reference icsd_id                                          structure  \\\n",
       "0      OQMD     NaN  {'@module': 'pymatgen.core.structure', '@class...   \n",
       "1      OQMD     NaN  {'@module': 'pymatgen.core.structure', '@class...   \n",
       "2      OQMD     NaN  {'@module': 'pymatgen.core.structure', '@class...   \n",
       "3      OQMD     NaN  {'@module': 'pymatgen.core.structure', '@class...   \n",
       "4      OQMD     NaN  {'@module': 'pymatgen.core.structure', '@class...   \n",
       "\n",
       "  composition  comments BG type comp method space group  \n",
       "0    ScCoCuSb  OQMD PBE               C-PBE       F-43m  \n",
       "1    ScCoCuSb  OQMD PBE               C-PBE       F-43m  \n",
       "2    GaCoCuSb  OQMD PBE               C-PBE       F-43m  \n",
       "3    GaCoCuSb  OQMD PBE               C-PBE       F-43m  \n",
       "4    GaCoCuSb  OQMD PBE               C-PBE       F-43m  "
      ]
     },
     "execution_count": 36,
     "metadata": {
      "tags": []
     },
     "output_type": "execute_result"
    }
   ],
   "source": [
    "X.head()"
   ]
  },
  {
   "cell_type": "markdown",
   "metadata": {
    "id": "8iAXaspVZM-W"
   },
   "source": [
    "# Add Composition Features\n",
    "We need to pull out the composition data that will serve as our targets."
   ]
  },
  {
   "cell_type": "code",
   "execution_count": null,
   "metadata": {
    "colab": {
     "referenced_widgets": [
      "c9ecb0e79b4646b08b0ef9ecc8408b1e"
     ]
    },
    "id": "iQmYaZnVZM-W",
    "outputId": "f5d67aa7-280f-44b4-90b5-98098cbcd45b"
   },
   "outputs": [
    {
     "data": {
      "application/vnd.jupyter.widget-view+json": {
       "model_id": "c9ecb0e79b4646b08b0ef9ecc8408b1e",
       "version_major": 2,
       "version_minor": 0
      },
      "text/plain": [
       "StrToComposition:   0%|          | 0/100 [00:00<?, ?it/s]"
      ]
     },
     "metadata": {
      "tags": []
     },
     "output_type": "display_data"
    }
   ],
   "source": [
    "n_datapoints = 100\n",
    "data = StrToComposition(target_col_id='composition_obj')\n",
    "data = data.featurize_dataframe(X[0:n_datapoints], \n",
    "                                 'composition', \n",
    "                                 ignore_errors=True)\n",
    "y_subset = y[0:n_datapoints]['BG value (eV)']"
   ]
  },
  {
   "cell_type": "code",
   "execution_count": null,
   "metadata": {
    "id": "PocbHuZNZM-X"
   },
   "outputs": [],
   "source": [
    "assert(len(y_subset) == len(data))"
   ]
  },
  {
   "cell_type": "markdown",
   "metadata": {
    "id": "Td9Dzon8ZM-X"
   },
   "source": [
    "# Add Other Features\n",
    "Choose the features that we'll use in training."
   ]
  },
  {
   "cell_type": "code",
   "execution_count": null,
   "metadata": {
    "colab": {
     "referenced_widgets": [
      "65ac5dc1f5754d938fa1faad810289d7"
     ]
    },
    "id": "p-1kElteZM-X",
    "outputId": "60abb2f7-4572-481c-d95e-df067c53265f"
   },
   "outputs": [
    {
     "data": {
      "application/vnd.jupyter.widget-view+json": {
       "model_id": "65ac5dc1f5754d938fa1faad810289d7",
       "version_major": 2,
       "version_minor": 0
      },
      "text/plain": [
       "MultipleFeaturizer:   0%|          | 0/100 [00:00<?, ?it/s]"
      ]
     },
     "metadata": {
      "tags": []
     },
     "output_type": "display_data"
    }
   ],
   "source": [
    "feature_calculators = MultipleFeaturizer([cf.Stoichiometry(), \n",
    "                                          cf.ElementProperty.from_preset(\"magpie\"),\n",
    "                                          cf.ValenceOrbital(props=['avg']), \n",
    "                                          cf.IonProperty(fast=True)])\n",
    "feature_labels = feature_calculators.feature_labels()\n",
    "\n",
    "data = feature_calculators.featurize_dataframe(data, \n",
    "                                               col_id='composition_obj', \n",
    "                                               ignore_errors=False);"
   ]
  },
  {
   "cell_type": "markdown",
   "metadata": {
    "id": "HhL3kCtOZM-X"
   },
   "source": [
    "# Grid Search and Fit Model\n",
    "Set up the grid search model using a random forest regressor as our estimator. Then, fit the model!"
   ]
  },
  {
   "cell_type": "code",
   "execution_count": null,
   "metadata": {
    "id": "UvdzEj32ZM-X",
    "outputId": "aae67f57-c535-4ffd-9cad-d279cb0e2ae0"
   },
   "outputs": [
    {
     "data": {
      "text/plain": [
       "GridSearchCV(cv=ShuffleSplit(n_splits=1, random_state=None, test_size=0.1, train_size=None),\n",
       "             estimator=RandomForestRegressor(n_estimators=30, n_jobs=-1),\n",
       "             param_grid={'max_features': range(8, 15)},\n",
       "             scoring='neg_mean_squared_error')"
      ]
     },
     "execution_count": 55,
     "metadata": {
      "tags": []
     },
     "output_type": "execute_result"
    }
   ],
   "source": [
    "quick_demo=True\n",
    "est = RandomForestRegressor(n_estimators=30 if quick_demo else 150, n_jobs=-1)\n",
    "\n",
    "model = GridSearchCV(est,\n",
    "                     param_grid=dict(max_features=range(8,15)),\n",
    "                     scoring='neg_mean_squared_error',\n",
    "                     cv=ShuffleSplit(n_splits=1,\n",
    "                                     test_size=0.1))\n",
    "model.fit(data[feature_labels], y_subset)\n"
   ]
  },
  {
   "cell_type": "markdown",
   "metadata": {
    "id": "x3GlRhkLZM-Y"
   },
   "source": [
    "# Cross Validation and Scoring\n",
    "Perform cross validation to ensure our error values are below the desired thresholds."
   ]
  },
  {
   "cell_type": "code",
   "execution_count": null,
   "metadata": {
    "id": "Mtg83KlmZM-Y"
   },
   "outputs": [],
   "source": [
    "cv_prediction = cross_val_predict(model, \n",
    "                                  data[feature_labels],\n",
    "                                   y_subset, \n",
    "                                  cv=KFold(10, shuffle=True))"
   ]
  },
  {
   "cell_type": "code",
   "execution_count": null,
   "metadata": {
    "id": "r6W0oAjSZM-Y",
    "outputId": "f7424c16-d4c0-4095-84b3-649ba7a8ec30"
   },
   "outputs": [
    {
     "name": "stdout",
     "output_type": "stream",
     "text": [
      "r2_score -0.06776246639223693\n",
      "mean_absolute_error 0.01685663888888887\n",
      "mean_squared_error 0.004569519799379617\n"
     ]
    }
   ],
   "source": [
    "for scorer in ['r2_score', 'mean_absolute_error', 'mean_squared_error']:\n",
    "    score = getattr(metrics,scorer)( y_subset, cv_prediction)\n",
    "    print(scorer, score)"
   ]
  },
  {
   "cell_type": "markdown",
   "metadata": {
    "id": "goPSLdDUZM-Y"
   },
   "source": [
    "# Make Plots\n",
    "Plot the data for our bandgap analysis."
   ]
  },
  {
   "cell_type": "code",
   "execution_count": null,
   "metadata": {
    "id": "-B-nPxXbZM-Y",
    "outputId": "8cf7071c-dc1f-4c5b-ba98-923e4f8091e6"
   },
   "outputs": [
    {
     "data": {
      "image/png": "[encoded data removed]",
      "text/plain": [
       "<Figure size 360x360 with 1 Axes>"
      ]
     },
     "metadata": {
      "needs_background": "light",
      "tags": []
     },
     "output_type": "display_data"
    }
   ],
   "source": [
    "fig, ax = plt.subplots()\n",
    "\n",
    "ax.hist2d(pd.to_numeric( y_subset),\n",
    "          cv_prediction, \n",
    "          norm=LogNorm(), \n",
    "          bins=64, \n",
    "          cmap='Blues', \n",
    "          alpha=0.8)\n",
    "\n",
    "ax.set_xlim(ax.get_ylim())\n",
    "ax.set_ylim(ax.get_xlim())\n",
    "\n",
    "mae = metrics.mean_absolute_error( y_subset, \n",
    "                                  cv_prediction)\n",
    "r2 = metrics.r2_score( y_subset, \n",
    "                      cv_prediction)\n",
    "ax.text(0.5, 0.1, 'MAE: {:.2f} eV/atom\\n$R^2$:  {:.2f}'.format(mae, r2),\n",
    "        transform=ax.transAxes,\n",
    "        bbox={'facecolor': 'w', 'edgecolor': 'k'})\n",
    "\n",
    "ax.plot(ax.get_xlim(), ax.get_xlim(), 'k--')\n",
    "\n",
    "ax.set_xlabel('DFT $\\Delta H_f$ (eV/atom)')\n",
    "ax.set_ylabel('ML $\\Delta H_f$ (eV/atom)')\n",
    "\n",
    "fig.set_size_inches(5, 5)\n",
    "fig.tight_layout()\n",
    "fig.savefig('oqmd_cv.png', dpi=320)"
   ]
  }
 ],
 "metadata": {
  "colab": {
   "collapsed_sections": [],
   "name": "bandgap_demo.ipynb",
   "provenance": []
  },
  "kernelspec": {
   "display_name": "Python 3",
   "language": "python",
   "name": "python3"
  },
  "language_info": {
   "codemirror_mode": {
    "name": "ipython",
    "version": 3
   },
   "file_extension": ".py",
   "mimetype": "text/x-python",
   "name": "python",
   "nbconvert_exporter": "python",
   "pygments_lexer": "ipython3",
   "version": "3.8.3"
  }
 },
 "nbformat": 4,
 "nbformat_minor": 1
}
