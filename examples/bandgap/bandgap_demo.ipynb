{
 "cells": [
  {
   "cell_type": "code",
   "execution_count": 1,
   "metadata": {},
   "outputs": [],
   "source": [
    "%matplotlib inline\n",
    "\n",
    "from sklearn.model_selection import cross_val_score, cross_val_predict, GridSearchCV, ShuffleSplit, KFold\n",
    "from matminer.featurizers.conversions import StrToComposition\n",
    "from matminer.featurizers.base import MultipleFeaturizer\n",
    "from matminer.featurizers import composition as cf\n",
    "from sklearn.ensemble import RandomForestRegressor\n",
    "from matplotlib.colors import LogNorm\n",
    "from matplotlib import pyplot as plt\n",
    "from sklearn import metrics\n",
    "import pandas as pd\n",
    "import numpy as np\n",
    "import warnings\n",
    "import glob\n",
    "\n",
    "warnings.filterwarnings('ignore')"
   ]
  },
  {
   "cell_type": "markdown",
   "metadata": {},
   "source": [
    "## Notes\n",
    "\n",
    "* Add ability to reference datasets by DOI in package\n",
    "* Add function to return citations for current data cache (bibTex or string)\n",
    "* Add functionality similar to package with > ~ for package specification\n",
    "* inverse search would be helpful if we keep an index of Data packages\n",
    "* Package specification could live in an index\n",
    "* Interface to make it easy to discover which Foundry data packages, and models exist and how they are linked together\n"
   ]
  },
  {
   "cell_type": "code",
   "execution_count": 2,
   "metadata": {},
   "outputs": [],
   "source": [
    "from foundry import Foundry\n",
    "f = Foundry()"
   ]
  },
  {
   "cell_type": "code",
   "execution_count": 5,
   "metadata": {},
   "outputs": [],
   "source": [
    "requirements = {\n",
    "          \"name\": \"Band Gap Analysis\",\n",
    "          \"version\": \"1.0.0\",\n",
    "          \"description\": \"Datasets for band gap uber model generation\",\n",
    "          \"private\":True,\n",
    "          \"dependencies\":{\n",
    "            \"_test_foundry_experimental_bandgap_v1.1\": \"1.1\",\n",
    "            \"_test_foundry_mp_bandgap_v1.1\":\"1.1\",\n",
    "            \"_test_foundry_oqmd_bandgap_v1.1\":\"1.1\",\n",
    "            \"_test_foundry_assorted_computational_bandgap_v1.1\":\"1.1\"\n",
    "          }\n",
    "        }"
   ]
  },
  {
   "cell_type": "code",
   "execution_count": 6,
   "metadata": {},
   "outputs": [
    {
     "name": "stdout",
     "output_type": "stream",
     "text": [
      "Headers: {'Authorization': 'Agl8wGJBzyWQgwWqxKXKd4WBmEmWDkq9vE41kyar1enp6gkYywi8CYg3deNKxeblJrVDVbxEpnvB15IJwgXGVirYmB', 'Transfer': 'AgKBxGJWyaBnWJMbrV9GW8NjEP6G3oy0xYJXbDN5JvD309v5lgfeCJ5JomYOwal1aWkrlNO634XENrC15KqmEHzjjJ', 'FuncX': 'AgNyBa5On1qm07rB8YMz1aXN88e1GbK0zOjeEKelrJryOYNaPqSgCy4zQbdM5g5GWKvE9J8mbDxQj8ijyEg97Updxb', 'Petrel': 'Agl8wGJBzyWQgwWqxKXKd4WBmEmWDkq9vE41kyar1enp6gkYywi8CYg3deNKxeblJrVDVbxEpnvB15IJwgXGVirYmB'}\n",
      "Crawl URL is : http://xtract-crawler-4.eba-ghixpmdf.us-east-1.elasticbeanstalk.com/crawl\n",
      "Crawl response: <Response [200]>\n",
      "Crawl ID: 1bcb542b-e673-4d3b-a202-09ae14547df6\n",
      "<Response [200]>\n",
      "Crawl Status: {'crawl_id': '1bcb542b-e673-4d3b-a202-09ae14547df6', 'crawl_status': 'initializing'}\n",
      "Sleeping before re-polling...\n",
      "<Response [200]>\n",
      "Crawl Status: {'crawl_id': '1bcb542b-e673-4d3b-a202-09ae14547df6', 'crawl_status': 'initializing'}\n",
      "Sleeping before re-polling...\n",
      "<Response [200]>\n",
      "Crawl Status: {'crawl_id': '1bcb542b-e673-4d3b-a202-09ae14547df6', 'crawl_status': 'initializing'}\n",
      "Sleeping before re-polling...\n",
      "<Response [200]>\n",
      "Crawl Status: {'crawl_id': '1bcb542b-e673-4d3b-a202-09ae14547df6', 'crawl_status': 'initializing'}\n",
      "Sleeping before re-polling...\n",
      "<Response [200]>\n",
      "Crawl Status: {'crawl_id': '1bcb542b-e673-4d3b-a202-09ae14547df6', 'crawl_status': 'initializing'}\n",
      "Sleeping before re-polling...\n",
      "<Response [200]>\n",
      "Crawl Status: {'crawl_id': '1bcb542b-e673-4d3b-a202-09ae14547df6', 'crawl_status': 'initializing'}\n",
      "Sleeping before re-polling...\n",
      "<Response [200]>\n",
      "Crawl Status: {'crawl_id': '1bcb542b-e673-4d3b-a202-09ae14547df6', 'crawl_status': 'initializing'}\n",
      "Sleeping before re-polling...\n",
      "<Response [200]>\n",
      "Crawl Status: {'bytes_crawled': 0, 'crawl_id': '1bcb542b-e673-4d3b-a202-09ae14547df6', 'crawl_status': 'crawling', 'files_crawled': 0, 'groups_crawled': 0}\n",
      "Sleeping before re-polling...\n",
      "<Response [200]>\n",
      "Crawl Status: {'bytes_crawled': 0, 'crawl_id': '1bcb542b-e673-4d3b-a202-09ae14547df6', 'crawl_status': 'crawling', 'files_crawled': 0, 'groups_crawled': 0}\n",
      "Sleeping before re-polling...\n",
      "<Response [200]>\n",
      "Crawl Status: {'bytes_crawled': 0, 'crawl_id': '1bcb542b-e673-4d3b-a202-09ae14547df6', 'crawl_status': 'crawling', 'files_crawled': 0, 'groups_crawled': 0}\n",
      "Sleeping before re-polling...\n",
      "<Response [200]>\n",
      "Crawl Status: {'bytes_crawled': 16526280, 'crawl_id': '1bcb542b-e673-4d3b-a202-09ae14547df6', 'crawl_status': 'complete', 'files_crawled': 1, 'groups_crawled': 8}\n",
      "Our crawl has succeeded!\n",
      "Queue is empty! Continuing...\n",
      "Queue is empty! Continuing...\n",
      "Done curling.\n",
      "[{'/foundry/_test_foundry_experimental_bandgap_v1.1/foundry_dataframe.json status': True}]\n",
      "Headers: {'Authorization': 'Agl8wGJBzyWQgwWqxKXKd4WBmEmWDkq9vE41kyar1enp6gkYywi8CYg3deNKxeblJrVDVbxEpnvB15IJwgXGVirYmB', 'Transfer': 'AgKBxGJWyaBnWJMbrV9GW8NjEP6G3oy0xYJXbDN5JvD309v5lgfeCJ5JomYOwal1aWkrlNO634XENrC15KqmEHzjjJ', 'FuncX': 'AgNyBa5On1qm07rB8YMz1aXN88e1GbK0zOjeEKelrJryOYNaPqSgCy4zQbdM5g5GWKvE9J8mbDxQj8ijyEg97Updxb', 'Petrel': 'Agl8wGJBzyWQgwWqxKXKd4WBmEmWDkq9vE41kyar1enp6gkYywi8CYg3deNKxeblJrVDVbxEpnvB15IJwgXGVirYmB'}\n",
      "Crawl URL is : http://xtract-crawler-4.eba-ghixpmdf.us-east-1.elasticbeanstalk.com/crawl\n",
      "Crawl response: <Response [200]>\n",
      "Crawl ID: db861e6b-5aeb-4fba-beb5-bfc128aa3f60\n",
      "<Response [200]>\n",
      "Crawl Status: {'crawl_id': 'db861e6b-5aeb-4fba-beb5-bfc128aa3f60', 'crawl_status': 'initializing'}\n",
      "Sleeping before re-polling...\n",
      "<Response [200]>\n",
      "Crawl Status: {'crawl_id': 'db861e6b-5aeb-4fba-beb5-bfc128aa3f60', 'crawl_status': 'initializing'}\n",
      "Sleeping before re-polling...\n",
      "<Response [200]>\n",
      "Crawl Status: {'crawl_id': 'db861e6b-5aeb-4fba-beb5-bfc128aa3f60', 'crawl_status': 'initializing'}\n",
      "Sleeping before re-polling...\n",
      "<Response [200]>\n",
      "Crawl Status: {'crawl_id': 'db861e6b-5aeb-4fba-beb5-bfc128aa3f60', 'crawl_status': 'initializing'}\n",
      "Sleeping before re-polling...\n",
      "<Response [200]>\n",
      "Crawl Status: {'crawl_id': 'db861e6b-5aeb-4fba-beb5-bfc128aa3f60', 'crawl_status': 'initializing'}\n",
      "Sleeping before re-polling...\n",
      "<Response [200]>\n",
      "Crawl Status: {'crawl_id': 'db861e6b-5aeb-4fba-beb5-bfc128aa3f60', 'crawl_status': 'initializing'}\n",
      "Sleeping before re-polling...\n",
      "<Response [200]>\n",
      "Crawl Status: {'crawl_id': 'db861e6b-5aeb-4fba-beb5-bfc128aa3f60', 'crawl_status': 'initializing'}\n",
      "Sleeping before re-polling...\n",
      "<Response [200]>\n",
      "Crawl Status: {'crawl_id': 'db861e6b-5aeb-4fba-beb5-bfc128aa3f60', 'crawl_status': 'initializing'}\n",
      "Sleeping before re-polling...\n",
      "<Response [200]>\n",
      "Crawl Status: {'crawl_id': 'db861e6b-5aeb-4fba-beb5-bfc128aa3f60', 'crawl_status': 'initializing'}\n",
      "Sleeping before re-polling...\n",
      "<Response [200]>\n",
      "Crawl Status: {'crawl_id': 'db861e6b-5aeb-4fba-beb5-bfc128aa3f60', 'crawl_status': 'initializing'}\n",
      "Sleeping before re-polling...\n",
      "<Response [200]>\n",
      "Crawl Status: {'crawl_id': 'db861e6b-5aeb-4fba-beb5-bfc128aa3f60', 'crawl_status': 'initializing'}\n",
      "Sleeping before re-polling...\n",
      "<Response [200]>\n",
      "Crawl Status: {'crawl_id': 'db861e6b-5aeb-4fba-beb5-bfc128aa3f60', 'crawl_status': 'initializing'}\n",
      "Sleeping before re-polling...\n",
      "<Response [200]>\n",
      "Crawl Status: {'bytes_crawled': 0, 'crawl_id': 'db861e6b-5aeb-4fba-beb5-bfc128aa3f60', 'crawl_status': 'crawling', 'files_crawled': 0, 'groups_crawled': 0}\n",
      "Sleeping before re-polling...\n",
      "<Response [200]>\n",
      "Crawl Status: {'bytes_crawled': 0, 'crawl_id': 'db861e6b-5aeb-4fba-beb5-bfc128aa3f60', 'crawl_status': 'crawling', 'files_crawled': 0, 'groups_crawled': 0}\n",
      "Sleeping before re-polling...\n",
      "<Response [200]>\n",
      "Crawl Status: {'bytes_crawled': 0, 'crawl_id': 'db861e6b-5aeb-4fba-beb5-bfc128aa3f60', 'crawl_status': 'crawling', 'files_crawled': 0, 'groups_crawled': 0}\n",
      "Sleeping before re-polling...\n",
      "<Response [200]>\n",
      "Crawl Status: {'bytes_crawled': 356067513, 'crawl_id': 'db861e6b-5aeb-4fba-beb5-bfc128aa3f60', 'crawl_status': 'complete', 'files_crawled': 1, 'groups_crawled': 8}\n",
      "Our crawl has succeeded!\n",
      "Queue is empty! Continuing...\n",
      "Queue is empty! Continuing...\n",
      "Done curling.\n",
      "[{'/foundry/_test_foundry_mp_bandgap_v1.1/foundry_dataframe.json status': True}]\n",
      "Headers: {'Authorization': 'Agl8wGJBzyWQgwWqxKXKd4WBmEmWDkq9vE41kyar1enp6gkYywi8CYg3deNKxeblJrVDVbxEpnvB15IJwgXGVirYmB', 'Transfer': 'AgKBxGJWyaBnWJMbrV9GW8NjEP6G3oy0xYJXbDN5JvD309v5lgfeCJ5JomYOwal1aWkrlNO634XENrC15KqmEHzjjJ', 'FuncX': 'AgNyBa5On1qm07rB8YMz1aXN88e1GbK0zOjeEKelrJryOYNaPqSgCy4zQbdM5g5GWKvE9J8mbDxQj8ijyEg97Updxb', 'Petrel': 'Agl8wGJBzyWQgwWqxKXKd4WBmEmWDkq9vE41kyar1enp6gkYywi8CYg3deNKxeblJrVDVbxEpnvB15IJwgXGVirYmB'}\n",
      "Crawl URL is : http://xtract-crawler-4.eba-ghixpmdf.us-east-1.elasticbeanstalk.com/crawl\n",
      "Crawl response: <Response [200]>\n",
      "Crawl ID: 06413f40-70a6-4224-baca-03278d015a20\n",
      "<Response [200]>\n",
      "Crawl Status: {'crawl_id': '06413f40-70a6-4224-baca-03278d015a20', 'crawl_status': 'initializing'}\n",
      "Sleeping before re-polling...\n",
      "<Response [200]>\n",
      "Crawl Status: {'crawl_id': '06413f40-70a6-4224-baca-03278d015a20', 'crawl_status': 'initializing'}\n",
      "Sleeping before re-polling...\n",
      "<Response [200]>\n",
      "Crawl Status: {'crawl_id': '06413f40-70a6-4224-baca-03278d015a20', 'crawl_status': 'initializing'}\n",
      "Sleeping before re-polling...\n",
      "<Response [200]>\n",
      "Crawl Status: {'crawl_id': '06413f40-70a6-4224-baca-03278d015a20', 'crawl_status': 'initializing'}\n",
      "Sleeping before re-polling...\n",
      "<Response [200]>\n",
      "Crawl Status: {'bytes_crawled': 0, 'crawl_id': '06413f40-70a6-4224-baca-03278d015a20', 'crawl_status': 'crawling', 'files_crawled': 0, 'groups_crawled': 0}\n",
      "Sleeping before re-polling...\n",
      "<Response [200]>\n",
      "Crawl Status: {'bytes_crawled': 0, 'crawl_id': '06413f40-70a6-4224-baca-03278d015a20', 'crawl_status': 'crawling', 'files_crawled': 0, 'groups_crawled': 0}\n",
      "Sleeping before re-polling...\n",
      "<Response [200]>\n",
      "Crawl Status: {'bytes_crawled': 0, 'crawl_id': '06413f40-70a6-4224-baca-03278d015a20', 'crawl_status': 'crawling', 'files_crawled': 0, 'groups_crawled': 0}\n",
      "Sleeping before re-polling...\n",
      "<Response [200]>\n",
      "Crawl Status: {'bytes_crawled': 914666927, 'crawl_id': '06413f40-70a6-4224-baca-03278d015a20', 'crawl_status': 'complete', 'files_crawled': 1, 'groups_crawled': 8}\n",
      "Our crawl has succeeded!\n",
      "Queue is empty! Continuing...\n",
      "Queue is empty! Continuing...\n",
      "Done curling.\n",
      "[{'/foundry/_test_foundry_oqmd_bandgap_v1.1/foundry_dataframe.json status': True}]\n",
      "Headers: {'Authorization': 'Agl8wGJBzyWQgwWqxKXKd4WBmEmWDkq9vE41kyar1enp6gkYywi8CYg3deNKxeblJrVDVbxEpnvB15IJwgXGVirYmB', 'Transfer': 'AgKBxGJWyaBnWJMbrV9GW8NjEP6G3oy0xYJXbDN5JvD309v5lgfeCJ5JomYOwal1aWkrlNO634XENrC15KqmEHzjjJ', 'FuncX': 'AgNyBa5On1qm07rB8YMz1aXN88e1GbK0zOjeEKelrJryOYNaPqSgCy4zQbdM5g5GWKvE9J8mbDxQj8ijyEg97Updxb', 'Petrel': 'Agl8wGJBzyWQgwWqxKXKd4WBmEmWDkq9vE41kyar1enp6gkYywi8CYg3deNKxeblJrVDVbxEpnvB15IJwgXGVirYmB'}\n",
      "Crawl URL is : http://xtract-crawler-4.eba-ghixpmdf.us-east-1.elasticbeanstalk.com/crawl\n",
      "Crawl response: <Response [200]>\n",
      "Crawl ID: 3ea8da43-b07f-4fe9-ad2d-373a4417385e\n",
      "<Response [200]>\n",
      "Crawl Status: {'crawl_id': '3ea8da43-b07f-4fe9-ad2d-373a4417385e', 'crawl_status': 'initializing'}\n",
      "Sleeping before re-polling...\n",
      "<Response [200]>\n",
      "Crawl Status: {'crawl_id': '3ea8da43-b07f-4fe9-ad2d-373a4417385e', 'crawl_status': 'initializing'}\n",
      "Sleeping before re-polling...\n",
      "<Response [200]>\n",
      "Crawl Status: {'crawl_id': '3ea8da43-b07f-4fe9-ad2d-373a4417385e', 'crawl_status': 'initializing'}\n",
      "Sleeping before re-polling...\n",
      "<Response [200]>\n",
      "Crawl Status: {'crawl_id': '3ea8da43-b07f-4fe9-ad2d-373a4417385e', 'crawl_status': 'initializing'}\n",
      "Sleeping before re-polling...\n",
      "<Response [200]>\n",
      "Crawl Status: {'crawl_id': '3ea8da43-b07f-4fe9-ad2d-373a4417385e', 'crawl_status': 'initializing'}\n",
      "Sleeping before re-polling...\n",
      "<Response [200]>\n",
      "Crawl Status: {'bytes_crawled': 0, 'crawl_id': '3ea8da43-b07f-4fe9-ad2d-373a4417385e', 'crawl_status': 'crawling', 'files_crawled': 0, 'groups_crawled': 0}\n",
      "Sleeping before re-polling...\n",
      "<Response [200]>\n",
      "Crawl Status: {'bytes_crawled': 0, 'crawl_id': '3ea8da43-b07f-4fe9-ad2d-373a4417385e', 'crawl_status': 'crawling', 'files_crawled': 0, 'groups_crawled': 0}\n",
      "Sleeping before re-polling...\n",
      "<Response [200]>\n",
      "Crawl Status: {'bytes_crawled': 0, 'crawl_id': '3ea8da43-b07f-4fe9-ad2d-373a4417385e', 'crawl_status': 'crawling', 'files_crawled': 0, 'groups_crawled': 0}\n",
      "Sleeping before re-polling...\n",
      "<Response [200]>\n",
      "Crawl Status: {'bytes_crawled': 247427654, 'crawl_id': '3ea8da43-b07f-4fe9-ad2d-373a4417385e', 'crawl_status': 'complete', 'files_crawled': 1, 'groups_crawled': 8}\n",
      "Our crawl has succeeded!\n",
      "Queue is empty! Continuing...\n",
      "Queue is empty! Continuing...\n",
      "Done curling.\n",
      "[{'/foundry/_test_foundry_assorted_computational_bandgap_v1.1/foundry_dataframe.json status': True}]\n"
     ]
    }
   ],
   "source": [
    "for p in requirements['dependencies']:\n",
    "    f = f.load(p, globus=False, verbose=True)"
   ]
  },
  {
   "cell_type": "markdown",
   "metadata": {},
   "source": [
    "# Handle computational Band Gaps"
   ]
  },
  {
   "cell_type": "code",
   "execution_count": 24,
   "metadata": {},
   "outputs": [],
   "source": [
    "f = f.load(\"_test_foundry_mp_bandgap_v1.1\")\n",
    "X_mp,y_mp = f.load_data()"
   ]
  },
  {
   "cell_type": "code",
   "execution_count": 25,
   "metadata": {},
   "outputs": [],
   "source": [
    "f = f.load(\"_test_foundry_oqmd_bandgap_v1.1\")\n",
    "X_oqmd,y_oqmd = f.load_data()"
   ]
  },
  {
   "cell_type": "code",
   "execution_count": 26,
   "metadata": {},
   "outputs": [],
   "source": [
    "f = f.load(\"_test_foundry_assorted_computational_bandgap_v1.1\")\n",
    "X_assorted,y_assorted = f.load_data()"
   ]
  },
  {
   "cell_type": "code",
   "execution_count": 35,
   "metadata": {},
   "outputs": [],
   "source": [
    "X, y = pd.concat([X_oqmd, X_mp, X_assorted]), pd.concat([y_oqmd, y_mp, y_assorted])"
   ]
  },
  {
   "cell_type": "code",
   "execution_count": 36,
   "metadata": {},
   "outputs": [
    {
     "data": {
      "text/html": [
       "<div>\n",
       "<style scoped>\n",
       "    .dataframe tbody tr th:only-of-type {\n",
       "        vertical-align: middle;\n",
       "    }\n",
       "\n",
       "    .dataframe tbody tr th {\n",
       "        vertical-align: top;\n",
       "    }\n",
       "\n",
       "    .dataframe thead th {\n",
       "        text-align: right;\n",
       "    }\n",
       "</style>\n",
       "<table border=\"1\" class=\"dataframe\">\n",
       "  <thead>\n",
       "    <tr style=\"text-align: right;\">\n",
       "      <th></th>\n",
       "      <th>reference</th>\n",
       "      <th>icsd_id</th>\n",
       "      <th>structure</th>\n",
       "      <th>composition</th>\n",
       "      <th>comments</th>\n",
       "      <th>BG type</th>\n",
       "      <th>comp method</th>\n",
       "      <th>space group</th>\n",
       "    </tr>\n",
       "  </thead>\n",
       "  <tbody>\n",
       "    <tr>\n",
       "      <th>0</th>\n",
       "      <td>OQMD</td>\n",
       "      <td>NaN</td>\n",
       "      <td>{'@module': 'pymatgen.core.structure', '@class...</td>\n",
       "      <td>ScCoCuSb</td>\n",
       "      <td>OQMD PBE</td>\n",
       "      <td></td>\n",
       "      <td>C-PBE</td>\n",
       "      <td>F-43m</td>\n",
       "    </tr>\n",
       "    <tr>\n",
       "      <th>1</th>\n",
       "      <td>OQMD</td>\n",
       "      <td>NaN</td>\n",
       "      <td>{'@module': 'pymatgen.core.structure', '@class...</td>\n",
       "      <td>ScCoCuSb</td>\n",
       "      <td>OQMD PBE</td>\n",
       "      <td></td>\n",
       "      <td>C-PBE</td>\n",
       "      <td>F-43m</td>\n",
       "    </tr>\n",
       "    <tr>\n",
       "      <th>2</th>\n",
       "      <td>OQMD</td>\n",
       "      <td>NaN</td>\n",
       "      <td>{'@module': 'pymatgen.core.structure', '@class...</td>\n",
       "      <td>GaCoCuSb</td>\n",
       "      <td>OQMD PBE</td>\n",
       "      <td></td>\n",
       "      <td>C-PBE</td>\n",
       "      <td>F-43m</td>\n",
       "    </tr>\n",
       "    <tr>\n",
       "      <th>3</th>\n",
       "      <td>OQMD</td>\n",
       "      <td>NaN</td>\n",
       "      <td>{'@module': 'pymatgen.core.structure', '@class...</td>\n",
       "      <td>GaCoCuSb</td>\n",
       "      <td>OQMD PBE</td>\n",
       "      <td></td>\n",
       "      <td>C-PBE</td>\n",
       "      <td>F-43m</td>\n",
       "    </tr>\n",
       "    <tr>\n",
       "      <th>4</th>\n",
       "      <td>OQMD</td>\n",
       "      <td>NaN</td>\n",
       "      <td>{'@module': 'pymatgen.core.structure', '@class...</td>\n",
       "      <td>GaCoCuSb</td>\n",
       "      <td>OQMD PBE</td>\n",
       "      <td></td>\n",
       "      <td>C-PBE</td>\n",
       "      <td>F-43m</td>\n",
       "    </tr>\n",
       "  </tbody>\n",
       "</table>\n",
       "</div>"
      ],
      "text/plain": [
       "  reference icsd_id                                          structure  \\\n",
       "0      OQMD     NaN  {'@module': 'pymatgen.core.structure', '@class...   \n",
       "1      OQMD     NaN  {'@module': 'pymatgen.core.structure', '@class...   \n",
       "2      OQMD     NaN  {'@module': 'pymatgen.core.structure', '@class...   \n",
       "3      OQMD     NaN  {'@module': 'pymatgen.core.structure', '@class...   \n",
       "4      OQMD     NaN  {'@module': 'pymatgen.core.structure', '@class...   \n",
       "\n",
       "  composition  comments BG type comp method space group  \n",
       "0    ScCoCuSb  OQMD PBE               C-PBE       F-43m  \n",
       "1    ScCoCuSb  OQMD PBE               C-PBE       F-43m  \n",
       "2    GaCoCuSb  OQMD PBE               C-PBE       F-43m  \n",
       "3    GaCoCuSb  OQMD PBE               C-PBE       F-43m  \n",
       "4    GaCoCuSb  OQMD PBE               C-PBE       F-43m  "
      ]
     },
     "execution_count": 36,
     "metadata": {},
     "output_type": "execute_result"
    }
   ],
   "source": [
    "X.head()"
   ]
  },
  {
   "cell_type": "markdown",
   "metadata": {},
   "source": [
    "# Add Composition Features"
   ]
  },
  {
   "cell_type": "code",
   "execution_count": 52,
   "metadata": {},
   "outputs": [
    {
     "data": {
      "application/vnd.jupyter.widget-view+json": {
       "model_id": "c9ecb0e79b4646b08b0ef9ecc8408b1e",
       "version_major": 2,
       "version_minor": 0
      },
      "text/plain": [
       "StrToComposition:   0%|          | 0/100 [00:00<?, ?it/s]"
      ]
     },
     "metadata": {},
     "output_type": "display_data"
    }
   ],
   "source": [
    "n_datapoints = 100\n",
    "data = StrToComposition(target_col_id='composition_obj')\n",
    "data = data.featurize_dataframe(X[0:n_datapoints], \n",
    "                                 'composition', \n",
    "                                 ignore_errors=True)\n",
    "y_subset = y[0:n_datapoints]['BG value (eV)']"
   ]
  },
  {
   "cell_type": "code",
   "execution_count": 53,
   "metadata": {},
   "outputs": [],
   "source": [
    "assert(len(y_subset) == len(data))"
   ]
  },
  {
   "cell_type": "markdown",
   "metadata": {},
   "source": [
    "# Add Other Features"
   ]
  },
  {
   "cell_type": "code",
   "execution_count": 54,
   "metadata": {},
   "outputs": [
    {
     "data": {
      "application/vnd.jupyter.widget-view+json": {
       "model_id": "65ac5dc1f5754d938fa1faad810289d7",
       "version_major": 2,
       "version_minor": 0
      },
      "text/plain": [
       "MultipleFeaturizer:   0%|          | 0/100 [00:00<?, ?it/s]"
      ]
     },
     "metadata": {},
     "output_type": "display_data"
    }
   ],
   "source": [
    "feature_calculators = MultipleFeaturizer([cf.Stoichiometry(), \n",
    "                                          cf.ElementProperty.from_preset(\"magpie\"),\n",
    "                                          cf.ValenceOrbital(props=['avg']), \n",
    "                                          cf.IonProperty(fast=True)])\n",
    "feature_labels = feature_calculators.feature_labels()\n",
    "\n",
    "data = feature_calculators.featurize_dataframe(data, \n",
    "                                               col_id='composition_obj', \n",
    "                                               ignore_errors=False);\n",
    "#data = data.dropna() #TODO: Look into why there are NaN's here..."
   ]
  },
  {
   "cell_type": "markdown",
   "metadata": {},
   "source": [
    "# Grid Search and Fit Model"
   ]
  },
  {
   "cell_type": "code",
   "execution_count": 55,
   "metadata": {},
   "outputs": [
    {
     "data": {
      "text/plain": [
       "GridSearchCV(cv=ShuffleSplit(n_splits=1, random_state=None, test_size=0.1, train_size=None),\n",
       "             estimator=RandomForestRegressor(n_estimators=30, n_jobs=-1),\n",
       "             param_grid={'max_features': range(8, 15)},\n",
       "             scoring='neg_mean_squared_error')"
      ]
     },
     "execution_count": 55,
     "metadata": {},
     "output_type": "execute_result"
    }
   ],
   "source": [
    "quick_demo=True\n",
    "est = RandomForestRegressor(n_estimators=30 if quick_demo else 150, n_jobs=-1)\n",
    "\n",
    "model = GridSearchCV(est,\n",
    "                     param_grid=dict(max_features=range(8,15)),\n",
    "                     scoring='neg_mean_squared_error',\n",
    "                     cv=ShuffleSplit(n_splits=1,\n",
    "                                     test_size=0.1))\n",
    "model.fit(data[feature_labels], y_subset)\n"
   ]
  },
  {
   "cell_type": "markdown",
   "metadata": {},
   "source": [
    "# Cross Validation and Scoring"
   ]
  },
  {
   "cell_type": "code",
   "execution_count": 56,
   "metadata": {},
   "outputs": [],
   "source": [
    "cv_prediction = cross_val_predict(model, \n",
    "                                  data[feature_labels],\n",
    "                                   y_subset, \n",
    "                                  cv=KFold(10, shuffle=True))"
   ]
  },
  {
   "cell_type": "code",
   "execution_count": 57,
   "metadata": {},
   "outputs": [
    {
     "name": "stdout",
     "output_type": "stream",
     "text": [
      "r2_score -0.06776246639223693\n",
      "mean_absolute_error 0.01685663888888887\n",
      "mean_squared_error 0.004569519799379617\n"
     ]
    }
   ],
   "source": [
    "for scorer in ['r2_score', 'mean_absolute_error', 'mean_squared_error']:\n",
    "    score = getattr(metrics,scorer)( y_subset, cv_prediction)\n",
    "    print(scorer, score)"
   ]
  },
  {
   "cell_type": "markdown",
   "metadata": {},
   "source": [
    "# Make Plots"
   ]
  },
  {
   "cell_type": "code",
   "execution_count": 58,
   "metadata": {},
   "outputs": [
    {
     "data": {
      "image/png": "[encoded data removed]",
      "text/plain": [
       "<Figure size 360x360 with 1 Axes>"
      ]
     },
     "metadata": {
      "needs_background": "light"
     },
     "output_type": "display_data"
    }
   ],
   "source": [
    "fig, ax = plt.subplots()\n",
    "\n",
    "ax.hist2d(pd.to_numeric( y_subset),\n",
    "          cv_prediction, \n",
    "          norm=LogNorm(), \n",
    "          bins=64, \n",
    "          cmap='Blues', \n",
    "          alpha=0.8)\n",
    "\n",
    "ax.set_xlim(ax.get_ylim())\n",
    "ax.set_ylim(ax.get_xlim())\n",
    "\n",
    "mae = metrics.mean_absolute_error( y_subset, \n",
    "                                  cv_prediction)\n",
    "r2 = metrics.r2_score( y_subset, \n",
    "                      cv_prediction)\n",
    "ax.text(0.5, 0.1, 'MAE: {:.2f} eV/atom\\n$R^2$:  {:.2f}'.format(mae, r2),\n",
    "        transform=ax.transAxes,\n",
    "        bbox={'facecolor': 'w', 'edgecolor': 'k'})\n",
    "\n",
    "ax.plot(ax.get_xlim(), ax.get_xlim(), 'k--')\n",
    "\n",
    "ax.set_xlabel('DFT $\\Delta H_f$ (eV/atom)')\n",
    "ax.set_ylabel('ML $\\Delta H_f$ (eV/atom)')\n",
    "\n",
    "fig.set_size_inches(5, 5)\n",
    "fig.tight_layout()\n",
    "fig.savefig('oqmd_cv.png', dpi=320)"
   ]
  }
 ],
 "metadata": {
  "kernelspec": {
   "display_name": "Python 3",
   "language": "python",
   "name": "python3"
  },
  "language_info": {
   "codemirror_mode": {
    "name": "ipython",
    "version": 3
   },
   "file_extension": ".py",
   "mimetype": "text/x-python",
   "name": "python",
   "nbconvert_exporter": "python",
   "pygments_lexer": "ipython3",
   "version": "3.9.1"
  },
  "widgets": {
   "application/vnd.jupyter.widget-state+json": {
    "state": {
     "28b4a65367e34865b85e1d7ca9b7e06f": {
      "model_module": "@jupyter-widgets/controls",
      "model_module_version": "1.5.0",
      "model_name": "HBoxModel",
      "state": {
       "_dom_classes": [],
       "_model_module": "@jupyter-widgets/controls",
       "_model_module_version": "1.5.0",
       "_model_name": "HBoxModel",
       "_view_count": null,
       "_view_module": "@jupyter-widgets/controls",
       "_view_module_version": "1.5.0",
       "_view_name": "HBoxView",
       "box_style": "",
       "children": [
        "IPY_MODEL_d6979fb2d05c4f9c92f4571b34f7c2c6",
        "IPY_MODEL_d1872a90d4f546bfbab866d339f6065a"
       ],
       "layout": "IPY_MODEL_2fc05603a32c4c3e88b8a7b6ec3494d9"
      }
     },
     "2fc05603a32c4c3e88b8a7b6ec3494d9": {
      "model_module": "@jupyter-widgets/base",
      "model_module_version": "1.2.0",
      "model_name": "LayoutModel",
      "state": {
       "_model_module": "@jupyter-widgets/base",
       "_model_module_version": "1.2.0",
       "_model_name": "LayoutModel",
       "_view_count": null,
       "_view_module": "@jupyter-widgets/base",
       "_view_module_version": "1.2.0",
       "_view_name": "LayoutView",
       "align_content": null,
       "align_items": null,
       "align_self": null,
       "border": null,
       "bottom": null,
       "display": null,
       "flex": null,
       "flex_flow": null,
       "grid_area": null,
       "grid_auto_columns": null,
       "grid_auto_flow": null,
       "grid_auto_rows": null,
       "grid_column": null,
       "grid_gap": null,
       "grid_row": null,
       "grid_template_areas": null,
       "grid_template_columns": null,
       "grid_template_rows": null,
       "height": null,
       "justify_content": null,
       "justify_items": null,
       "left": null,
       "margin": null,
       "max_height": null,
       "max_width": null,
       "min_height": null,
       "min_width": null,
       "object_fit": null,
       "object_position": null,
       "order": null,
       "overflow": null,
       "overflow_x": null,
       "overflow_y": null,
       "padding": null,
       "right": null,
       "top": null,
       "visibility": null,
       "width": null
      }
     },
     "4043281a68ec4cc986dbab344b722c9f": {
      "model_module": "@jupyter-widgets/base",
      "model_module_version": "1.2.0",
      "model_name": "LayoutModel",
      "state": {
       "_model_module": "@jupyter-widgets/base",
       "_model_module_version": "1.2.0",
       "_model_name": "LayoutModel",
       "_view_count": null,
       "_view_module": "@jupyter-widgets/base",
       "_view_module_version": "1.2.0",
       "_view_name": "LayoutView",
       "align_content": null,
       "align_items": null,
       "align_self": null,
       "border": null,
       "bottom": null,
       "display": null,
       "flex": null,
       "flex_flow": null,
       "grid_area": null,
       "grid_auto_columns": null,
       "grid_auto_flow": null,
       "grid_auto_rows": null,
       "grid_column": null,
       "grid_gap": null,
       "grid_row": null,
       "grid_template_areas": null,
       "grid_template_columns": null,
       "grid_template_rows": null,
       "height": null,
       "justify_content": null,
       "justify_items": null,
       "left": null,
       "margin": null,
       "max_height": null,
       "max_width": null,
       "min_height": null,
       "min_width": null,
       "object_fit": null,
       "object_position": null,
       "order": null,
       "overflow": null,
       "overflow_x": null,
       "overflow_y": null,
       "padding": null,
       "right": null,
       "top": null,
       "visibility": null,
       "width": null
      }
     },
     "41baba13785b4f1ab4b861e55f0faab5": {
      "model_module": "@jupyter-widgets/controls",
      "model_module_version": "1.5.0",
      "model_name": "DescriptionStyleModel",
      "state": {
       "_model_module": "@jupyter-widgets/controls",
       "_model_module_version": "1.5.0",
       "_model_name": "DescriptionStyleModel",
       "_view_count": null,
       "_view_module": "@jupyter-widgets/base",
       "_view_module_version": "1.2.0",
       "_view_name": "StyleView",
       "description_width": ""
      }
     },
     "4c1b9b5762b3489dbf8e6df2eb30055a": {
      "model_module": "@jupyter-widgets/base",
      "model_module_version": "1.2.0",
      "model_name": "LayoutModel",
      "state": {
       "_model_module": "@jupyter-widgets/base",
       "_model_module_version": "1.2.0",
       "_model_name": "LayoutModel",
       "_view_count": null,
       "_view_module": "@jupyter-widgets/base",
       "_view_module_version": "1.2.0",
       "_view_name": "LayoutView",
       "align_content": null,
       "align_items": null,
       "align_self": null,
       "border": null,
       "bottom": null,
       "display": null,
       "flex": null,
       "flex_flow": null,
       "grid_area": null,
       "grid_auto_columns": null,
       "grid_auto_flow": null,
       "grid_auto_rows": null,
       "grid_column": null,
       "grid_gap": null,
       "grid_row": null,
       "grid_template_areas": null,
       "grid_template_columns": null,
       "grid_template_rows": null,
       "height": null,
       "justify_content": null,
       "justify_items": null,
       "left": null,
       "margin": null,
       "max_height": null,
       "max_width": null,
       "min_height": null,
       "min_width": null,
       "object_fit": null,
       "object_position": null,
       "order": null,
       "overflow": null,
       "overflow_x": null,
       "overflow_y": null,
       "padding": null,
       "right": null,
       "top": null,
       "visibility": null,
       "width": null
      }
     },
     "670e5580b5ed442bacea74ae9daf2e10": {
      "model_module": "@jupyter-widgets/base",
      "model_module_version": "1.2.0",
      "model_name": "LayoutModel",
      "state": {
       "_model_module": "@jupyter-widgets/base",
       "_model_module_version": "1.2.0",
       "_model_name": "LayoutModel",
       "_view_count": null,
       "_view_module": "@jupyter-widgets/base",
       "_view_module_version": "1.2.0",
       "_view_name": "LayoutView",
       "align_content": null,
       "align_items": null,
       "align_self": null,
       "border": null,
       "bottom": null,
       "display": null,
       "flex": null,
       "flex_flow": null,
       "grid_area": null,
       "grid_auto_columns": null,
       "grid_auto_flow": null,
       "grid_auto_rows": null,
       "grid_column": null,
       "grid_gap": null,
       "grid_row": null,
       "grid_template_areas": null,
       "grid_template_columns": null,
       "grid_template_rows": null,
       "height": null,
       "justify_content": null,
       "justify_items": null,
       "left": null,
       "margin": null,
       "max_height": null,
       "max_width": null,
       "min_height": null,
       "min_width": null,
       "object_fit": null,
       "object_position": null,
       "order": null,
       "overflow": null,
       "overflow_x": null,
       "overflow_y": null,
       "padding": null,
       "right": null,
       "top": null,
       "visibility": null,
       "width": null
      }
     },
     "6a5b310bf5da42b7aad029ea83e84169": {
      "model_module": "@jupyter-widgets/base",
      "model_module_version": "1.2.0",
      "model_name": "LayoutModel",
      "state": {
       "_model_module": "@jupyter-widgets/base",
       "_model_module_version": "1.2.0",
       "_model_name": "LayoutModel",
       "_view_count": null,
       "_view_module": "@jupyter-widgets/base",
       "_view_module_version": "1.2.0",
       "_view_name": "LayoutView",
       "align_content": null,
       "align_items": null,
       "align_self": null,
       "border": null,
       "bottom": null,
       "display": null,
       "flex": null,
       "flex_flow": null,
       "grid_area": null,
       "grid_auto_columns": null,
       "grid_auto_flow": null,
       "grid_auto_rows": null,
       "grid_column": null,
       "grid_gap": null,
       "grid_row": null,
       "grid_template_areas": null,
       "grid_template_columns": null,
       "grid_template_rows": null,
       "height": null,
       "justify_content": null,
       "justify_items": null,
       "left": null,
       "margin": null,
       "max_height": null,
       "max_width": null,
       "min_height": null,
       "min_width": null,
       "object_fit": null,
       "object_position": null,
       "order": null,
       "overflow": null,
       "overflow_x": null,
       "overflow_y": null,
       "padding": null,
       "right": null,
       "top": null,
       "visibility": null,
       "width": null
      }
     },
     "7112568163e747a585fcc151b888c379": {
      "model_module": "@jupyter-widgets/base",
      "model_module_version": "1.2.0",
      "model_name": "LayoutModel",
      "state": {
       "_model_module": "@jupyter-widgets/base",
       "_model_module_version": "1.2.0",
       "_model_name": "LayoutModel",
       "_view_count": null,
       "_view_module": "@jupyter-widgets/base",
       "_view_module_version": "1.2.0",
       "_view_name": "LayoutView",
       "align_content": null,
       "align_items": null,
       "align_self": null,
       "border": null,
       "bottom": null,
       "display": null,
       "flex": null,
       "flex_flow": null,
       "grid_area": null,
       "grid_auto_columns": null,
       "grid_auto_flow": null,
       "grid_auto_rows": null,
       "grid_column": null,
       "grid_gap": null,
       "grid_row": null,
       "grid_template_areas": null,
       "grid_template_columns": null,
       "grid_template_rows": null,
       "height": null,
       "justify_content": null,
       "justify_items": null,
       "left": null,
       "margin": null,
       "max_height": null,
       "max_width": null,
       "min_height": null,
       "min_width": null,
       "object_fit": null,
       "object_position": null,
       "order": null,
       "overflow": null,
       "overflow_x": null,
       "overflow_y": null,
       "padding": null,
       "right": null,
       "top": null,
       "visibility": null,
       "width": null
      }
     },
     "808afa85d382404890865aa484b09696": {
      "model_module": "@jupyter-widgets/controls",
      "model_module_version": "1.5.0",
      "model_name": "FloatProgressModel",
      "state": {
       "_dom_classes": [],
       "_model_module": "@jupyter-widgets/controls",
       "_model_module_version": "1.5.0",
       "_model_name": "FloatProgressModel",
       "_view_count": null,
       "_view_module": "@jupyter-widgets/controls",
       "_view_module_version": "1.5.0",
       "_view_name": "ProgressView",
       "bar_style": "success",
       "description": "StrToComposition: 100%",
       "description_tooltip": null,
       "layout": "IPY_MODEL_670e5580b5ed442bacea74ae9daf2e10",
       "max": 100,
       "min": 0,
       "orientation": "horizontal",
       "style": "IPY_MODEL_e9e790d48fc340d49f5cf9ae4cb158db",
       "value": 100
      }
     },
     "8c08d3ed231a471c92a28b6921e83923": {
      "model_module": "@jupyter-widgets/controls",
      "model_module_version": "1.5.0",
      "model_name": "DescriptionStyleModel",
      "state": {
       "_model_module": "@jupyter-widgets/controls",
       "_model_module_version": "1.5.0",
       "_model_name": "DescriptionStyleModel",
       "_view_count": null,
       "_view_module": "@jupyter-widgets/base",
       "_view_module_version": "1.2.0",
       "_view_name": "StyleView",
       "description_width": ""
      }
     },
     "8d1cfa6c3e1a40ea956e250256de850d": {
      "model_module": "@jupyter-widgets/controls",
      "model_module_version": "1.5.0",
      "model_name": "HTMLModel",
      "state": {
       "_dom_classes": [],
       "_model_module": "@jupyter-widgets/controls",
       "_model_module_version": "1.5.0",
       "_model_name": "HTMLModel",
       "_view_count": null,
       "_view_module": "@jupyter-widgets/controls",
       "_view_module_version": "1.5.0",
       "_view_name": "HTMLView",
       "description": "",
       "description_tooltip": null,
       "layout": "IPY_MODEL_6a5b310bf5da42b7aad029ea83e84169",
       "placeholder": "​",
       "style": "IPY_MODEL_41baba13785b4f1ab4b861e55f0faab5",
       "value": " 100/100 [00:11&lt;00:00,  8.97it/s]"
      }
     },
     "b2acd7a16543435eb21d1ef66e8595a3": {
      "model_module": "@jupyter-widgets/controls",
      "model_module_version": "1.5.0",
      "model_name": "HBoxModel",
      "state": {
       "_dom_classes": [],
       "_model_module": "@jupyter-widgets/controls",
       "_model_module_version": "1.5.0",
       "_model_name": "HBoxModel",
       "_view_count": null,
       "_view_module": "@jupyter-widgets/controls",
       "_view_module_version": "1.5.0",
       "_view_name": "HBoxView",
       "box_style": "",
       "children": [
        "IPY_MODEL_808afa85d382404890865aa484b09696",
        "IPY_MODEL_8d1cfa6c3e1a40ea956e250256de850d"
       ],
       "layout": "IPY_MODEL_4c1b9b5762b3489dbf8e6df2eb30055a"
      }
     },
     "bf9849daa93645969cf54d0ef1c3989c": {
      "model_module": "@jupyter-widgets/controls",
      "model_module_version": "1.5.0",
      "model_name": "ProgressStyleModel",
      "state": {
       "_model_module": "@jupyter-widgets/controls",
       "_model_module_version": "1.5.0",
       "_model_name": "ProgressStyleModel",
       "_view_count": null,
       "_view_module": "@jupyter-widgets/base",
       "_view_module_version": "1.2.0",
       "_view_name": "StyleView",
       "bar_color": null,
       "description_width": "initial"
      }
     },
     "d1872a90d4f546bfbab866d339f6065a": {
      "model_module": "@jupyter-widgets/controls",
      "model_module_version": "1.5.0",
      "model_name": "HTMLModel",
      "state": {
       "_dom_classes": [],
       "_model_module": "@jupyter-widgets/controls",
       "_model_module_version": "1.5.0",
       "_model_name": "HTMLModel",
       "_view_count": null,
       "_view_module": "@jupyter-widgets/controls",
       "_view_module_version": "1.5.0",
       "_view_name": "HTMLView",
       "description": "",
       "description_tooltip": null,
       "layout": "IPY_MODEL_4043281a68ec4cc986dbab344b722c9f",
       "placeholder": "​",
       "style": "IPY_MODEL_8c08d3ed231a471c92a28b6921e83923",
       "value": " 100/100 [00:10&lt;00:00,  9.19it/s]"
      }
     },
     "d6979fb2d05c4f9c92f4571b34f7c2c6": {
      "model_module": "@jupyter-widgets/controls",
      "model_module_version": "1.5.0",
      "model_name": "FloatProgressModel",
      "state": {
       "_dom_classes": [],
       "_model_module": "@jupyter-widgets/controls",
       "_model_module_version": "1.5.0",
       "_model_name": "FloatProgressModel",
       "_view_count": null,
       "_view_module": "@jupyter-widgets/controls",
       "_view_module_version": "1.5.0",
       "_view_name": "ProgressView",
       "bar_style": "success",
       "description": "MultipleFeaturizer: 100%",
       "description_tooltip": null,
       "layout": "IPY_MODEL_7112568163e747a585fcc151b888c379",
       "max": 100,
       "min": 0,
       "orientation": "horizontal",
       "style": "IPY_MODEL_bf9849daa93645969cf54d0ef1c3989c",
       "value": 100
      }
     },
     "e9e790d48fc340d49f5cf9ae4cb158db": {
      "model_module": "@jupyter-widgets/controls",
      "model_module_version": "1.5.0",
      "model_name": "ProgressStyleModel",
      "state": {
       "_model_module": "@jupyter-widgets/controls",
       "_model_module_version": "1.5.0",
       "_model_name": "ProgressStyleModel",
       "_view_count": null,
       "_view_module": "@jupyter-widgets/base",
       "_view_module_version": "1.2.0",
       "_view_name": "StyleView",
       "bar_color": null,
       "description_width": "initial"
      }
     }
    },
    "version_major": 2,
    "version_minor": 0
   }
  }
 },
 "nbformat": 4,
 "nbformat_minor": 4
}
