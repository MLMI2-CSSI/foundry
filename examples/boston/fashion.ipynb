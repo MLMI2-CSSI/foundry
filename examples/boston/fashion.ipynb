{
 "cells": [
  {
   "cell_type": "code",
   "execution_count": 1,
   "metadata": {},
   "outputs": [
    {
     "ename": "NameError",
     "evalue": "name 'Foundry' is not defined",
     "output_type": "error",
     "traceback": [
      "\u001b[0;31m---------------------------------------------------------------------------\u001b[0m",
      "\u001b[0;31mNameError\u001b[0m                                 Traceback (most recent call last)",
      "\u001b[0;32m<ipython-input-1-c75b8b369835>\u001b[0m in \u001b[0;36m<module>\u001b[0;34m\u001b[0m\n\u001b[0;32m----> 1\u001b[0;31m \u001b[0;32mclass\u001b[0m \u001b[0mFashionMNIST\u001b[0m\u001b[0;34m(\u001b[0m\u001b[0mFoundry\u001b[0m\u001b[0;34m)\u001b[0m\u001b[0;34m:\u001b[0m\u001b[0;34m\u001b[0m\u001b[0;34m\u001b[0m\u001b[0m\n\u001b[0m\u001b[1;32m      2\u001b[0m     \u001b[0;32mdef\u001b[0m \u001b[0mload_data\u001b[0m\u001b[0;34m(\u001b[0m\u001b[0mself\u001b[0m\u001b[0;34m)\u001b[0m\u001b[0;34m:\u001b[0m\u001b[0;34m\u001b[0m\u001b[0;34m\u001b[0m\u001b[0m\n\u001b[1;32m      3\u001b[0m         \"\"\"\n\u001b[1;32m      4\u001b[0m         \u001b[0;31m# Loads the Fashion-MNIST dataset.\u001b[0m\u001b[0;34m\u001b[0m\u001b[0;34m\u001b[0m\u001b[0;34m\u001b[0m\u001b[0m\n\u001b[1;32m      5\u001b[0m         \u001b[0;31m# Returns: Tuple of Numpy arrays: `(x_train, y_train), (x_test, y_test)`.\u001b[0m\u001b[0;34m\u001b[0m\u001b[0;34m\u001b[0m\u001b[0;34m\u001b[0m\u001b[0m\n",
      "\u001b[0;31mNameError\u001b[0m: name 'Foundry' is not defined"
     ]
    }
   ],
   "source": [
    "class FashionMNIST(Foundry):\n",
    "    def load_data(self):\n",
    "        \"\"\"\n",
    "        # Loads the Fashion-MNIST dataset.\n",
    "        # Returns: Tuple of Numpy arrays: `(x_train, y_train), (x_test, y_test)`.\n",
    "        # Example ported from keras.datasets. \n",
    "        # https://github.com/keras-team/keras/tree/master/keras/datasets\n",
    "        \"\"\"\n",
    "        dirname = os.path.join('datasets', 'fashion-mnist')\n",
    "        base = 'http://fashion-mnist.s3-website.eu-central-1.amazonaws.com/'\n",
    "        files = ['train-labels-idx1-ubyte.gz', 'train-images-idx3-ubyte.gz',\n",
    "                 't10k-labels-idx1-ubyte.gz', 't10k-images-idx3-ubyte.gz']\n",
    "\n",
    "        paths = []\n",
    "        for fname in files:\n",
    "            paths.append(get_file(fname,\n",
    "                                  origin=base + fname,\n",
    "                                  cache_subdir=dirname))\n",
    "\n",
    "        with gzip.open(paths[0], 'rb') as lbpath:\n",
    "            y_train = np.frombuffer(lbpath.read(), np.uint8, offset=8)\n",
    "\n",
    "        with gzip.open(paths[1], 'rb') as imgpath:\n",
    "            x_train = np.frombuffer(imgpath.read(), np.uint8,\n",
    "                                    offset=16).reshape(len(y_train), 28, 28)\n",
    "\n",
    "        with gzip.open(paths[2], 'rb') as lbpath:\n",
    "            y_test = np.frombuffer(lbpath.read(), np.uint8, offset=8)\n",
    "\n",
    "        with gzip.open(paths[3], 'rb') as imgpath:\n",
    "            x_test = np.frombuffer(imgpath.read(), np.uint8,\n",
    "                                   offset=16).reshape(len(y_test), 28, 28)\n",
    "\n",
    "        return (x_train, y_train)\n",
    "\n",
    "    \n",
    "class FashionMNIST(Foundry):\n",
    "    def load_data(self):\n",
    "        print(\"Loading Data\")\n",
    "        \"\"\"\n",
    "        # Loads the Fashion-MNIST dataset.\n",
    "        # Returns: Tuple of Numpy arrays: `(x_train, y_train), (x_test, y_test)`.\n",
    "        \"\"\"\n",
    "        dirname = os.path.join('datasets', 'fashion-mnist')\n",
    "        base = 'http://fashion-mnist.s3-website.eu-central-1.amazonaws.com/'\n",
    "        files = ['train-labels-idx1-ubyte.gz', 'train-images-idx3-ubyte.gz',\n",
    "                 't10k-labels-idx1-ubyte.gz', 't10k-images-idx3-ubyte.gz']\n",
    "\n",
    "        paths = []\n",
    "        for fname in files:\n",
    "            paths.append(get_file(fname,\n",
    "                                  origin=base + fname,\n",
    "                                  cache_subdir=dirname))\n",
    "\n",
    "        with gzip.open(paths[0], 'rb') as lbpath:\n",
    "            y_train = np.frombuffer(lbpath.read(), np.uint8, offset=8)\n",
    "\n",
    "        with gzip.open(paths[1], 'rb') as imgpath:\n",
    "            x_train = np.frombuffer(imgpath.read(), np.uint8,\n",
    "                                    offset=16).reshape(len(y_train), 28, 28)\n",
    "\n",
    "        with gzip.open(paths[2], 'rb') as lbpath:\n",
    "            y_test = np.frombuffer(lbpath.read(), np.uint8, offset=8)\n",
    "\n",
    "        with gzip.open(paths[3], 'rb') as imgpath:\n",
    "            x_test = np.frombuffer(imgpath.read(), np.uint8,\n",
    "                                   offset=16).reshape(len(y_test), 28, 28)\n",
    "\n",
    "        return (x_train, y_train)\n",
    "    "
   ]
  },
  {
   "cell_type": "code",
   "execution_count": null,
   "metadata": {},
   "outputs": [],
   "source": []
  }
 ],
 "metadata": {
  "kernelspec": {
   "display_name": "Python 3",
   "language": "python",
   "name": "python3"
  },
  "language_info": {
   "codemirror_mode": {
    "name": "ipython",
    "version": 3
   },
   "file_extension": ".py",
   "mimetype": "text/x-python",
   "name": "python",
   "nbconvert_exporter": "python",
   "pygments_lexer": "ipython3",
   "version": "3.7.3"
  }
 },
 "nbformat": 4,
 "nbformat_minor": 4
}
