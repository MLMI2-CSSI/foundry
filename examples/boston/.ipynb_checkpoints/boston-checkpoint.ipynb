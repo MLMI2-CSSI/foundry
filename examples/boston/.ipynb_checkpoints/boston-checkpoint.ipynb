{
 "cells": [
  {
   "cell_type": "code",
   "execution_count": 5,
   "metadata": {},
   "outputs": [],
   "source": [
    "from foundry import Foundry\n",
    "from keras.utils import get_file\n",
    "import os, gzip\n",
    "import numpy as np"
   ]
  },
  {
   "cell_type": "code",
   "execution_count": 18,
   "metadata": {},
   "outputs": [],
   "source": [
    "import pandas as pd\n",
    "df = pd.DataFrame(X.data, columns=X.feature_names)\n",
    "df['price'] = pd.DataFrame(X.target, columns=['price'])\n",
    "df.to_json(\"foundry_dataframe.json\")"
   ]
  },
  {
   "cell_type": "code",
   "execution_count": 48,
   "metadata": {},
   "outputs": [],
   "source": [
    "f = Foundry()\n",
    "f = f.from_file()\n",
    "X,y = f.load_data()"
   ]
  },
  {
   "cell_type": "code",
   "execution_count": 50,
   "metadata": {},
   "outputs": [
    {
     "data": {
      "text/html": [
       "<div>\n",
       "<style scoped>\n",
       "    .dataframe tbody tr th:only-of-type {\n",
       "        vertical-align: middle;\n",
       "    }\n",
       "\n",
       "    .dataframe tbody tr th {\n",
       "        vertical-align: top;\n",
       "    }\n",
       "\n",
       "    .dataframe thead th {\n",
       "        text-align: right;\n",
       "    }\n",
       "</style>\n",
       "<table border=\"1\" class=\"dataframe\">\n",
       "  <thead>\n",
       "    <tr style=\"text-align: right;\">\n",
       "      <th></th>\n",
       "      <th>price</th>\n",
       "    </tr>\n",
       "  </thead>\n",
       "  <tbody>\n",
       "    <tr>\n",
       "      <th>0</th>\n",
       "      <td>24.0</td>\n",
       "    </tr>\n",
       "    <tr>\n",
       "      <th>1</th>\n",
       "      <td>21.6</td>\n",
       "    </tr>\n",
       "    <tr>\n",
       "      <th>2</th>\n",
       "      <td>34.7</td>\n",
       "    </tr>\n",
       "    <tr>\n",
       "      <th>3</th>\n",
       "      <td>33.4</td>\n",
       "    </tr>\n",
       "    <tr>\n",
       "      <th>4</th>\n",
       "      <td>36.2</td>\n",
       "    </tr>\n",
       "    <tr>\n",
       "      <th>...</th>\n",
       "      <td>...</td>\n",
       "    </tr>\n",
       "    <tr>\n",
       "      <th>501</th>\n",
       "      <td>22.4</td>\n",
       "    </tr>\n",
       "    <tr>\n",
       "      <th>502</th>\n",
       "      <td>20.6</td>\n",
       "    </tr>\n",
       "    <tr>\n",
       "      <th>503</th>\n",
       "      <td>23.9</td>\n",
       "    </tr>\n",
       "    <tr>\n",
       "      <th>504</th>\n",
       "      <td>22.0</td>\n",
       "    </tr>\n",
       "    <tr>\n",
       "      <th>505</th>\n",
       "      <td>11.9</td>\n",
       "    </tr>\n",
       "  </tbody>\n",
       "</table>\n",
       "<p>506 rows × 1 columns</p>\n",
       "</div>"
      ],
      "text/plain": [
       "     price\n",
       "0     24.0\n",
       "1     21.6\n",
       "2     34.7\n",
       "3     33.4\n",
       "4     36.2\n",
       "..     ...\n",
       "501   22.4\n",
       "502   20.6\n",
       "503   23.9\n",
       "504   22.0\n",
       "505   11.9\n",
       "\n",
       "[506 rows x 1 columns]"
      ]
     },
     "execution_count": 50,
     "metadata": {},
     "output_type": "execute_result"
    }
   ],
   "source": [
    "y"
   ]
  },
  {
   "cell_type": "code",
   "execution_count": 47,
   "metadata": {},
   "outputs": [
    {
     "data": {
      "text/plain": [
       "['CRIM',\n",
       " 'ZN',\n",
       " 'INDUS',\n",
       " 'CHAS',\n",
       " 'NOX',\n",
       " 'RM',\n",
       " 'AGE',\n",
       " 'DIS',\n",
       " 'RAD',\n",
       " 'TAX',\n",
       " 'PTRATIO',\n",
       " 'B',\n",
       " 'LSTAT']"
      ]
     },
     "execution_count": 47,
     "metadata": {},
     "output_type": "execute_result"
    }
   ],
   "source": [
    "f.inputs"
   ]
  },
  {
   "cell_type": "code",
   "execution_count": 42,
   "metadata": {},
   "outputs": [],
   "source": [
    "f.outputs"
   ]
  },
  {
   "cell_type": "code",
   "execution_count": 27,
   "metadata": {},
   "outputs": [],
   "source": [
    "boston_dict = {\n",
    "    \"dc\":{\"title\":[{\"title\":\"Boston Housing Dataset\"}]},\n",
    "    \"foundry\":{\n",
    "        \"inputs\":['CRIM', 'ZN', 'INDUS', \n",
    "                  'CHAS', 'NOX', 'RM', \n",
    "                  'AGE', 'DIS', 'RAD',\n",
    "                  'TAX', 'PTRATIO', \n",
    "                  'B', 'LSTAT'],\n",
    "        \"outputs\":['price'],\n",
    "        \"type\":\"tabular\"\n",
    "    }\n",
    "}"
   ]
  },
  {
   "cell_type": "code",
   "execution_count": 31,
   "metadata": {},
   "outputs": [
    {
     "data": {
      "text/plain": [
       "\u001b[0;31mSignature:\u001b[0m \u001b[0mf\u001b[0m\u001b[0;34m.\u001b[0m\u001b[0mfrom_file\u001b[0m\u001b[0;34m(\u001b[0m\u001b[0;34m)\u001b[0m\u001b[0;34m\u001b[0m\u001b[0;34m\u001b[0m\u001b[0m\n",
       "\u001b[0;31mDocstring:\u001b[0m <no docstring>\n",
       "\u001b[0;31mFile:\u001b[0m      ~/Desktop/git/foundry/foundry/foundry.py\n",
       "\u001b[0;31mType:\u001b[0m      method\n"
      ]
     },
     "metadata": {},
     "output_type": "display_data"
    }
   ],
   "source": []
  },
  {
   "cell_type": "code",
   "execution_count": null,
   "metadata": {},
   "outputs": [],
   "source": [
    "?f.from_file"
   ]
  },
  {
   "cell_type": "code",
   "execution_count": 39,
   "metadata": {},
   "outputs": [],
   "source": [
    "f = f.from_dict(boston_dict)\n",
    "f.to_file()"
   ]
  },
  {
   "cell_type": "code",
   "execution_count": 33,
   "metadata": {},
   "outputs": [],
   "source": [
    "class FashionMNIST(Foundry):\n",
    "    def load_data(self):\n",
    "        \"\"\"\n",
    "        # Loads the Fashion-MNIST dataset.\n",
    "        # Returns: Tuple of Numpy arrays: `(x_train, y_train), (x_test, y_test)`.\n",
    "        # Example ported from keras.datasets. \n",
    "        # https://github.com/keras-team/keras/tree/master/keras/datasets\n",
    "        \"\"\"\n",
    "        dirname = os.path.join('datasets', 'fashion-mnist')\n",
    "        base = 'http://fashion-mnist.s3-website.eu-central-1.amazonaws.com/'\n",
    "        files = ['train-labels-idx1-ubyte.gz', 'train-images-idx3-ubyte.gz',\n",
    "                 't10k-labels-idx1-ubyte.gz', 't10k-images-idx3-ubyte.gz']\n",
    "\n",
    "        paths = []\n",
    "        for fname in files:\n",
    "            paths.append(get_file(fname,\n",
    "                                  origin=base + fname,\n",
    "                                  cache_subdir=dirname))\n",
    "\n",
    "        with gzip.open(paths[0], 'rb') as lbpath:\n",
    "            y_train = np.frombuffer(lbpath.read(), np.uint8, offset=8)\n",
    "\n",
    "        with gzip.open(paths[1], 'rb') as imgpath:\n",
    "            x_train = np.frombuffer(imgpath.read(), np.uint8,\n",
    "                                    offset=16).reshape(len(y_train), 28, 28)\n",
    "\n",
    "        with gzip.open(paths[2], 'rb') as lbpath:\n",
    "            y_test = np.frombuffer(lbpath.read(), np.uint8, offset=8)\n",
    "\n",
    "        with gzip.open(paths[3], 'rb') as imgpath:\n",
    "            x_test = np.frombuffer(imgpath.read(), np.uint8,\n",
    "                                   offset=16).reshape(len(y_test), 28, 28)\n",
    "\n",
    "        return (x_train, y_train)\n",
    "\n",
    "    \n",
    "class FashionMNIST(Foundry):\n",
    "    def load_data(self):\n",
    "        print(\"Loading Data\")\n",
    "        \"\"\"\n",
    "        # Loads the Fashion-MNIST dataset.\n",
    "        # Returns: Tuple of Numpy arrays: `(x_train, y_train), (x_test, y_test)`.\n",
    "        \"\"\"\n",
    "        dirname = os.path.join('datasets', 'fashion-mnist')\n",
    "        base = 'http://fashion-mnist.s3-website.eu-central-1.amazonaws.com/'\n",
    "        files = ['train-labels-idx1-ubyte.gz', 'train-images-idx3-ubyte.gz',\n",
    "                 't10k-labels-idx1-ubyte.gz', 't10k-images-idx3-ubyte.gz']\n",
    "\n",
    "        paths = []\n",
    "        for fname in files:\n",
    "            paths.append(get_file(fname,\n",
    "                                  origin=base + fname,\n",
    "                                  cache_subdir=dirname))\n",
    "\n",
    "        with gzip.open(paths[0], 'rb') as lbpath:\n",
    "            y_train = np.frombuffer(lbpath.read(), np.uint8, offset=8)\n",
    "\n",
    "        with gzip.open(paths[1], 'rb') as imgpath:\n",
    "            x_train = np.frombuffer(imgpath.read(), np.uint8,\n",
    "                                    offset=16).reshape(len(y_train), 28, 28)\n",
    "\n",
    "        with gzip.open(paths[2], 'rb') as lbpath:\n",
    "            y_test = np.frombuffer(lbpath.read(), np.uint8, offset=8)\n",
    "\n",
    "        with gzip.open(paths[3], 'rb') as imgpath:\n",
    "            x_test = np.frombuffer(imgpath.read(), np.uint8,\n",
    "                                   offset=16).reshape(len(y_test), 28, 28)\n",
    "\n",
    "        return (x_train, y_train)\n",
    "    "
   ]
  },
  {
   "cell_type": "code",
   "execution_count": 35,
   "metadata": {},
   "outputs": [],
   "source": [
    "c = FashionMNIST()"
   ]
  },
  {
   "cell_type": "code",
   "execution_count": 36,
   "metadata": {},
   "outputs": [
    {
     "name": "stdout",
     "output_type": "stream",
     "text": [
      "Loading Data\n"
     ]
    }
   ],
   "source": [
    "X,y = c.load_data()"
   ]
  },
  {
   "cell_type": "code",
   "execution_count": 32,
   "metadata": {},
   "outputs": [
    {
     "data": {
      "text/plain": [
       "(60000,)"
      ]
     },
     "execution_count": 32,
     "metadata": {},
     "output_type": "execute_result"
    }
   ],
   "source": [
    "y.shape"
   ]
  },
  {
   "cell_type": "code",
   "execution_count": null,
   "metadata": {},
   "outputs": [],
   "source": []
  }
 ],
 "metadata": {
  "kernelspec": {
   "display_name": "Python 3",
   "language": "python",
   "name": "python3"
  },
  "language_info": {
   "codemirror_mode": {
    "name": "ipython",
    "version": 3
   },
   "file_extension": ".py",
   "mimetype": "text/x-python",
   "name": "python",
   "nbconvert_exporter": "python",
   "pygments_lexer": "ipython3",
   "version": "3.7.3"
  }
 },
 "nbformat": 4,
 "nbformat_minor": 4
}
